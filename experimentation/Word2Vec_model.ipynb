{
 "cells": [
  {
   "cell_type": "code",
   "execution_count": 1,
   "id": "aace1751",
   "metadata": {},
   "outputs": [],
   "source": [
    "import pandas as pd\n",
    "import numpy as np\n",
    "import umap\n",
    "import matplotlib.pyplot as plt\n",
    "from gensim.models import Word2Vec\n",
    "df = pd.read_csv(r\"C:\\Users\\gabri\\Documents\\ULaval\\DESS - Intelligence artificielle\\Automne 2022\\GIF-7005 Introduction à l'apprentissage automatique\\Projet\\sigir_train_full.txt\", sep=\",\", header=0)"
   ]
  },
  {
   "cell_type": "code",
   "execution_count": 2,
   "id": "fa56af27",
   "metadata": {},
   "outputs": [],
   "source": [
    "def construct_session_sequences(df, sessionID, itemID):\n",
    "    \"\"\"\n",
    "    Fonction qui construit une liste de séquence d'items pour chacune \n",
    "    des sessions du jeu de données.\n",
    "\n",
    "    Args:\n",
    "        df: Un dataframe constitué des données déjà pré-traitées.\n",
    "        sessionID: Le ID d'une Session d'un utilisateur.\n",
    "        itemID: Le ID d'un item.\n",
    "\n",
    "    Returns:\n",
    "        Une liste contenant tous les items groupés par session. \n",
    "    \"\"\"\n",
    "    session_groups = df.groupby([sessionID])\n",
    "    session_seq = []\n",
    "    for name, group in session_groups:\n",
    "        session_seq.append(list(group[itemID].values))\n",
    "\n",
    "    return session_seq\n",
    "\n",
    "sessions = construct_session_sequences(df, 'SessionId', 'ItemId')"
   ]
  },
  {
   "cell_type": "code",
   "execution_count": 3,
   "id": "9509b02f",
   "metadata": {},
   "outputs": [
    {
     "data": {
      "image/png": "[encoded data removed]",
      "text/plain": [
       "<Figure size 432x288 with 1 Axes>"
      ]
     },
     "metadata": {
      "needs_background": "light"
     },
     "output_type": "display_data"
    }
   ],
   "source": [
    "# Histogramme des sessions\n",
    "# L’histogramme suivant illustre le nombre d’items par session.\n",
    "# On retrouve 801744 sessions. \n",
    "count_list_session = []\n",
    "for s in sessions:\n",
    "    count_list_session.append(len(s))\n",
    "    \n",
    "n, bins, patches = plt.hist(count_list_session, 25, facecolor='g', alpha=0.75)\n",
    "plt.xlabel(\"Nombre d'items\")\n",
    "plt.ylabel(\"Fréquence\")\n",
    "plt.title('Items par session')\n",
    "plt.xlim(2, 60)\n",
    "plt.grid(True)\n",
    "plt.show()"
   ]
  },
  {
   "cell_type": "code",
   "execution_count": 4,
   "id": "2bc2c255",
   "metadata": {},
   "outputs": [
    {
     "name": "stdout",
     "output_type": "stream",
     "text": [
      "Nombre moyen d'items par session: 5.265633419146261\n",
      "Nombre minimal d'items par session: 2\n",
      "Nombre maximal d'items par session: 101\n",
      "Nombre total de sessions: 801744\n"
     ]
    }
   ],
   "source": [
    "print(\"Nombre moyen d'items par session:\", np.mean(count_list_session))\n",
    "print(\"Nombre minimal d'items par session:\", np.min(count_list_session))\n",
    "print(\"Nombre maximal d'items par session:\", np.max(count_list_session))\n",
    "print(\"Nombre total de sessions:\", len(sessions))"
   ]
  },
  {
   "cell_type": "code",
   "execution_count": 5,
   "id": "c2bb0d29",
   "metadata": {},
   "outputs": [],
   "source": [
    "# Entraînement :\n",
    "# D’abord, on construit le fichier d’entraînement en ne préservant que les n-1 items \n",
    "# d’une séquence pour une session de n items. \n",
    "\n",
    "# Exemple: Pour la session 0, on a les items [1567, 26843, 11503].\n",
    "# Ainsi, pour cette même session, on aura dans le fichier d'entraînement les items [1567, 26843]\n",
    "train_X = []\n",
    "for s in sessions:\n",
    "    train_X.append(s[:-1])\n",
    "\n",
    "# Validation\n",
    "# Ensuite, on construit les fichiers de test et de validation comportant des séquences \n",
    "# constituées des items n-1 et n. Par la suite, on utilise l’item n-1 afin de générer \n",
    "# les prédictions du prochain item et ainsi vérifier si l’item n est inclus dans les prédictions. \n",
    "# Les données présentes dans le fichier de validation ne sont pas dans le fichier de test.\n",
    "\n",
    "# Exemple: Pour la session 0, on a les items [1567, 26843, 11503].\n",
    "# Ainsi, pour cette même session, on aura dans les fichiers de validation/test les items [26843, 11503]\n",
    "validation = []\n",
    "for s in sessions:\n",
    "    validation.append(s[-2:])\n",
    "    \n",
    "# On génère des indexs aléatoires en validation et test    \n",
    "size_vect = round(0.20 * len(sessions))\n",
    "index = np.random.choice(range(len(validation)), size_vect * 2, replace=False)    \n",
    "\n",
    "valid_X = np.array(validation)[index[:size_vect]].tolist()\n",
    "test_X = np.array(validation)[index[size_vect:]].tolist()"
   ]
  },
  {
   "cell_type": "code",
   "execution_count": 6,
   "id": "7876f2f7",
   "metadata": {},
   "outputs": [],
   "source": [
    "# Dictionnaire contenant les hyperparamètres choisis pour \n",
    "# entraîner le modèle Word2vec\n",
    "hyperparameters = {\"vector_size\" : 100, \n",
    "                   \"min_count\" : 1,\n",
    "                   \"epochs\" : 5,\n",
    "                   \"workers\" : 10,\n",
    "                   \"sg\" : 1\n",
    "                  }\n",
    "\n",
    "def training_model_word2vec(data, params : dict):\n",
    "    \"\"\"\n",
    "    Fonction entraînant un modèle Word2vec.\n",
    "    On peut imaginer une session comme une phrase et les items \n",
    "    comme les mots de cette phrase. On créé le vocabulaire (ensemble du corpus) \n",
    "    à partir de toutes les données d’entraînement. Le modèle Word2vec se sert \n",
    "    de ce corpus pour apprendre les relations entre les items d’une session.\n",
    "\n",
    "    Un modèle word2vec est un modèle de réseau de neurones simple comportant \n",
    "    qu’une seule couche cachée. À partir du fichier d’entraînement, on prend en \n",
    "    entrée un mot, et essaie de prédire le contexte des mots qui l’entourent \n",
    "    comme sortie. Dans notre cas, on utilise l’architecture CBOW \n",
    "    (Continuous Bag of Words)  pour construire notre modèle.\n",
    "\n",
    "    Args:\n",
    "        data: Une liste des sessions provenant du fichier d'entraînement.\n",
    "        params: Un dictionnaire constitué des hyperparamètres utilisés.\n",
    "\n",
    "    Returns:\n",
    "        Le modèle entraîné.\n",
    "    \"\"\"\n",
    "    model = Word2Vec(**params)\n",
    "    model.build_vocab(data)\n",
    "    model.train(data, \n",
    "                total_examples = model.corpus_count, \n",
    "                epochs = model.epochs, \n",
    "                compute_loss = True)\n",
    "    \n",
    "    return model\n",
    "\n",
    "model = training_model_word2vec(train_X, params = hyperparameters)"
   ]
  },
  {
   "cell_type": "code",
   "execution_count": 8,
   "id": "c1f65364",
   "metadata": {},
   "outputs": [],
   "source": [
    "def produce_list_topK(item, K):\n",
    "    \"\"\"\n",
    "    Fonction produisant une liste de top K de meilleurs items\n",
    "    suggérés. À partir de la méthode predict_output_word() appliquée \n",
    "    au modèle, on vient extraire les K meilleurs éléments. \n",
    "\n",
    "    Args:\n",
    "        item: Le n-1 item provenant du fichier de validation.\n",
    "        K: Nombre d'items suggérés\n",
    "\n",
    "    Returns:\n",
    "        Une liste constituée des K meilleurs items suggérés pour\n",
    "        le n-1-ème item du fichier de validation ou de test\n",
    "    \"\"\"\n",
    "    list_topK = []\n",
    "    for item in model.predict_output_word([item], topn=K):\n",
    "        list_topK.append(item[0])\n",
    "    return list_topK\n",
    "\n",
    "def calculing_mrr(dataset):\n",
    "    \"\"\"\n",
    "    Fonction mesurant la performance du modèle en calculant \n",
    "    le mean reciprocal rank (MRR). \n",
    "    \n",
    "    Exemple: \n",
    "    Supposons que l’on ait une session comportant les items \n",
    "    suivants : [???, 10255, 5104] \n",
    "    On aurait donc une séquence d’items dans le fichier d’entraînement \n",
    "    telle que : [???, 10255] \n",
    "    On aurait donc une séquence d’items dans le fichier de validation \n",
    "    telle que : [10255, 5104] \n",
    "\n",
    "    On détermine le top k des éléments suggérés en prenant l’item n-1 (10255) \n",
    "    du fichier de validation. Ensuite, on vérifie si le dernier item (5104) \n",
    "    est présent dans le top K.  S’il est présent, on note son rang. \n",
    "    Dans cet exemple, le top 5 est [10255, 5104, 11035, 11726, 26443].    \n",
    "    Puisque l’élément en question est en deuxième position, alors \n",
    "    on lui attribut un rang de 2. On procède de la sorte pour toutes les \n",
    "    sessions des fichiers de validation ou de test. \n",
    "    \n",
    "    Formule du MRR: MRR = 1/𝑄 ∑(𝑖 = 1 à 𝑄) 1/rangi où Q est le nombre total de\n",
    "    sessions.\n",
    "\n",
    "    Args:\n",
    "        dataset: Une liste de sessions des fichiers de validation et de test\n",
    "\n",
    "    Returns:\n",
    "        Un float. La mesure du mean reciprocal rank (MRR).\n",
    "    \"\"\"\n",
    "    sum_rank_5 = 0\n",
    "    sum_rank_10 = 0\n",
    "    sum_rank_20 = 0\n",
    "    for i in dataset:      \n",
    "        if i[1] in produce_list_topK(i[0], K=5):\n",
    "            sum_rank_5 += (1 / (produce_list_topK(i[0], K=5).index(i[1])+1)) \n",
    "        if i[1] in produce_list_topK(i[0], K=10):\n",
    "            sum_rank_10 += (1 / (produce_list_topK(i[0], K=10).index(i[1])+1)) \n",
    "        if i[1] in produce_list_topK(i[0], K=20):\n",
    "            sum_rank_20 += (1 / (produce_list_topK(i[0], K=20).index(i[1])+1)) \n",
    "            \n",
    "    MRR5 = sum_rank_5 / len(dataset)  \n",
    "    MRR10 = sum_rank_10 / len(dataset)   \n",
    "    MRR20 = sum_rank_20 / len(dataset) \n",
    "\n",
    "    return print('MRR K=5 :', MRR5, ' | ', 'MRR K=10 :', MRR10, ' | ', 'MRR K=20 :', MRR20)\n",
    "\n",
    "\n",
    "\n",
    "def calculing_HitRate(dataset):\n",
    "    \"\"\"\n",
    "    Fonction mesurant la performance du modèle en calculant \n",
    "    le taux de succès (hit rate). \n",
    "    \n",
    "    Exemple: \n",
    "    Supposons que l’on ait une session comportant les items \n",
    "    suivants : [???, 10255, 5104] \n",
    "    On aurait donc une séquence d’items dans le fichier d’entraînement \n",
    "    telle que : [???, 10255] \n",
    "    On aurait donc une séquence d’items dans le fichier de validation \n",
    "    telle que : [10255, 5104] \n",
    "\n",
    "    On détermine le top k des éléments suggérés en prenant l’item n-1 (10255) \n",
    "    du fichier de validation. Ensuite, on vérifie si le dernier item (5104) \n",
    "    est présent dans le top K.  S’il est présent, on attribut 1 à une variable\n",
    "    indicatrice et 0 sinon. Dans cet exemple, le top 5 est [10255, 5104, 11035, 11726, 26443].    \n",
    "    Puisque l’élément en question y est présent, alors on lui attribut la valeur de 1. \n",
    "    On procède de la sorte pour toutes les sessions des fichiers de validation et de test.  \n",
    "    \n",
    "    Formule du hit rate: HR = 1/Q ∑(𝑖 = 1 à k) (I(element i ∊ top k)) où Q est le nombre total \n",
    "    de sessions.\n",
    "\n",
    "    Args:\n",
    "        dataset: Une liste de sessions des fichiers de validation ou de test\n",
    "\n",
    "    Returns:\n",
    "        Un float. La mesure du taux de succès (hit rate).\n",
    "    \"\"\"\n",
    "    sum_hr_1 = 0\n",
    "    sum_hr_3 = 0\n",
    "    sum_hr_5 = 0\n",
    "    for i in dataset:      \n",
    "        if i[1] in produce_list_topK(i[0], K=1):\n",
    "            sum_hr_1 += 1 \n",
    "        if i[1] in produce_list_topK(i[0], K=3):\n",
    "            sum_hr_3 += 1\n",
    "        if i[1] in produce_list_topK(i[0], K=5):\n",
    "            sum_hr_5 += 1\n",
    "            \n",
    "    HR1 = sum_hr_1 / len(dataset)   \n",
    "    HR3 = sum_hr_3 / len(dataset) \n",
    "    HR5 = sum_hr_5 / len(dataset)\n",
    "\n",
    "    return print('Hit Rate K=1 :', HR1, ' | ', 'Hit Rate K=3 :', HR3, ' | ', 'Hit Rate K=5 :', HR5)"
   ]
  },
  {
   "cell_type": "code",
   "execution_count": 67,
   "id": "1c5567b5",
   "metadata": {},
   "outputs": [
    {
     "name": "stdout",
     "output_type": "stream",
     "text": [
      "MRR K=5 : 0.2689538652148372  |  MRR K=10 : 0.2798880086659946  |  MRR K=20 : 0.285067637537623\n"
     ]
    }
   ],
   "source": [
    "# Calcul du MRR top 10 et top 20 sur les données de validation\n",
    "calculing_mrr(valid_X)"
   ]
  },
  {
   "cell_type": "code",
   "execution_count": 68,
   "id": "f4baa084",
   "metadata": {},
   "outputs": [
    {
     "name": "stdout",
     "output_type": "stream",
     "text": [
      "MRR K=5 : 0.2684391545940453  |  MRR K=10 : 0.27932045695562474  |  MRR K=20 : 0.2845174074684096\n"
     ]
    }
   ],
   "source": [
    "# Calcul du MRR top 10 et top 20 sur les données de test\n",
    "calculing_mrr(test_X)"
   ]
  },
  {
   "cell_type": "code",
   "execution_count": 17,
   "id": "279178f2",
   "metadata": {},
   "outputs": [
    {
     "name": "stdout",
     "output_type": "stream",
     "text": [
      "Hit Rate K=1 : 0.1761158473080593  |  Hit Rate K=3 : 0.3455150951985981  |  Hit Rate K=5 : 0.42750500470847963\n"
     ]
    }
   ],
   "source": [
    "# Calcul du taux de succès (hit rate) top 1 et top 3 sur les données de validation\n",
    "calculing_HitRate(valid_X)"
   ]
  },
  {
   "cell_type": "code",
   "execution_count": 22,
   "id": "d3145cf7",
   "metadata": {},
   "outputs": [
    {
     "name": "stdout",
     "output_type": "stream",
     "text": [
      "Hit Rate K=1 : 0.1783983685585816  |  Hit Rate K=3 : 0.34666259222071855  |  Hit Rate K=5 : 0.4308664226156696\n"
     ]
    }
   ],
   "source": [
    "# Calcul du taux de succès (hit rate) top 1 et top 3 sur les données de test\n",
    "calculing_HitRate(test_X)"
   ]
  },
  {
   "cell_type": "code",
   "execution_count": 8,
   "id": "e3d31d01",
   "metadata": {},
   "outputs": [
    {
     "name": "stderr",
     "output_type": "stream",
     "text": [
      "C:\\Users\\gabri\\AppData\\Local\\Temp/ipykernel_812/2151413819.py:1: DeprecationWarning: Call to deprecated `init_sims` (Gensim 4.0.0 implemented internal optimizations that make calls to init_sims() unnecessary. init_sims() is now obsoleted and will be completely removed in future versions. See https://github.com/RaRe-Technologies/gensim/wiki/Migrating-from-Gensim-3.x-to-4).\n",
      "  model.init_sims(replace=True)\n"
     ]
    },
    {
     "data": {
      "text/plain": [
       "<matplotlib.collections.PathCollection at 0x188523a1400>"
      ]
     },
     "execution_count": 8,
     "metadata": {},
     "output_type": "execute_result"
    },
    {
     "data": {
      "image/png": "[encoded data removed]",
      "text/plain": [
       "<Figure size 720x648 with 1 Axes>"
      ]
     },
     "metadata": {
      "needs_background": "light"
     },
     "output_type": "display_data"
    }
   ],
   "source": [
    "model.init_sims(replace=True)\n",
    "X = model.wv[model.wv.key_to_index]\n",
    "cluster_embedding = umap.UMAP(n_neighbors=30, min_dist=0.0,\n",
    "                              n_components=2, random_state=42).fit_transform(X)\n",
    "\n",
    "plt.figure(figsize=(10,9))\n",
    "plt.scatter(cluster_embedding[:, 0], cluster_embedding[:, 1], s=3, cmap='Spectral')"
   ]
  },
  {
   "cell_type": "code",
   "execution_count": null,
   "id": "ee672a7d",
   "metadata": {},
   "outputs": [],
   "source": []
  },
  {
   "cell_type": "code",
   "execution_count": null,
   "id": "6181d432",
   "metadata": {},
   "outputs": [],
   "source": []
  },
  {
   "cell_type": "code",
   "execution_count": null,
   "id": "f2ff5fdc",
   "metadata": {},
   "outputs": [],
   "source": []
  },
  {
   "cell_type": "code",
   "execution_count": null,
   "id": "89c55c81",
   "metadata": {},
   "outputs": [],
   "source": []
  },
  {
   "cell_type": "code",
   "execution_count": null,
   "id": "01f4368e",
   "metadata": {},
   "outputs": [],
   "source": []
  },
  {
   "cell_type": "code",
   "execution_count": null,
   "id": "884e6dec",
   "metadata": {},
   "outputs": [],
   "source": []
  },
  {
   "cell_type": "code",
   "execution_count": null,
   "id": "5197de6f",
   "metadata": {},
   "outputs": [],
   "source": []
  },
  {
   "cell_type": "code",
   "execution_count": null,
   "id": "4528ec7a",
   "metadata": {},
   "outputs": [],
   "source": []
  },
  {
   "cell_type": "code",
   "execution_count": null,
   "id": "5da22f7b",
   "metadata": {},
   "outputs": [],
   "source": []
  }
 ],
 "metadata": {
  "kernelspec": {
   "display_name": "test_env",
   "language": "python",
   "name": "python3"
  },
  "language_info": {
   "codemirror_mode": {
    "name": "ipython",
    "version": 3
   },
   "file_extension": ".py",
   "mimetype": "text/x-python",
   "name": "python",
   "nbconvert_exporter": "python",
   "pygments_lexer": "ipython3",
   "version": "3.9.15 | packaged by conda-forge | (main, Nov 22 2022, 08:39:05) [MSC v.1929 64 bit (AMD64)]"
  },
  "vscode": {
   "interpreter": {
    "hash": "d6bace2615996ce0f9dd3fcc17ac4b8074ae39e72da190be0163d9cfbb115a62"
   }
  }
 },
 "nbformat": 4,
 "nbformat_minor": 5
}
