{
 "cells": [
  {
   "attachments": {},
   "cell_type": "markdown",
   "metadata": {},
   "source": [
    "# Experimentation of KNN"
   ]
  },
  {
   "cell_type": "code",
   "execution_count": 1,
   "metadata": {},
   "outputs": [
    {
     "name": "stdout",
     "output_type": "stream",
     "text": [
      "Requirement already satisfied: session_rec_introml in c:\\users\\david\\anaconda3\\envs\\test_env\\lib\\site-packages\\session_rec_introml-0.0.1-py3.9.egg (0.0.1)\n"
     ]
    }
   ],
   "source": [
    "!python -m pip install session_rec_introml"
   ]
  },
  {
   "cell_type": "code",
   "execution_count": 1,
   "metadata": {},
   "outputs": [],
   "source": [
    "import pandas as pd\n",
    "from sklearn.model_selection import train_test_split\n",
    "from matplotlib import pyplot\n",
    "import numpy as np\n",
    "from model import Knn, ItemKnn\n",
    "from data import DataManipulation\n",
    "from evaluation.EvaluationMetric import mean_reciprocal_rank, hit_rate\n",
    "import time\n",
    "from sklearn.model_selection import LeaveOneOut\n",
    "\n"
   ]
  },
  {
   "attachments": {},
   "cell_type": "markdown",
   "metadata": {},
   "source": [
    "## load Data and initialization"
   ]
  },
  {
   "cell_type": "code",
   "execution_count": 2,
   "metadata": {},
   "outputs": [
    {
     "name": "stdout",
     "output_type": "stream",
     "text": [
      "train size was modified real train session size is None\n"
     ]
    }
   ],
   "source": [
    "data_manip = DataManipulation()\n",
    "data = pd.read_csv(\"../sigir_train_full.txt\")\n",
    "\n",
    "data_train, data_test, _ = data_manip.train_test_split(data, None, 0.25)\n",
    "max_item = np.max(pd.unique(data[\"ItemId\"]))\n"
   ]
  },
  {
   "attachments": {},
   "cell_type": "markdown",
   "metadata": {},
   "source": [
    "## ItemKNN Test"
   ]
  },
  {
   "cell_type": "code",
   "execution_count": 4,
   "metadata": {},
   "outputs": [
    {
     "name": "stderr",
     "output_type": "stream",
     "text": [
      "100%|██████████| 1862/1862 [00:01<00:00, 1547.81it/s]\n",
      "100%|██████████| 1957/1957 [00:01<00:00, 1341.22it/s]\n",
      "100%|██████████| 1957/1957 [00:01<00:00, 1471.02it/s]\n",
      "100%|██████████| 1957/1957 [00:01<00:00, 1557.26it/s]\n",
      "100%|██████████| 1957/1957 [00:01<00:00, 1619.35it/s]\n",
      "100%|██████████| 1957/1957 [00:01<00:00, 1746.61it/s]\n",
      "100%|██████████| 1957/1957 [00:01<00:00, 1548.87it/s]\n",
      "100%|██████████| 1957/1957 [00:01<00:00, 1753.00it/s]\n",
      "100%|██████████| 1957/1957 [00:01<00:00, 1658.11it/s]\n",
      "100%|██████████| 1957/1957 [00:01<00:00, 1724.69it/s]\n",
      "100%|██████████| 1957/1957 [00:01<00:00, 1530.05it/s]\n",
      "100%|██████████| 1957/1957 [00:01<00:00, 1500.73it/s]\n",
      "100%|██████████| 1957/1957 [00:01<00:00, 1143.59it/s]\n",
      "100%|██████████| 1957/1957 [00:01<00:00, 1377.69it/s]\n",
      "100%|██████████| 1957/1957 [00:01<00:00, 1341.00it/s]\n",
      "100%|██████████| 1957/1957 [00:01<00:00, 1387.87it/s]\n",
      "100%|██████████| 1957/1957 [00:01<00:00, 1603.01it/s]\n",
      "100%|██████████| 37928/37928 [00:29<00:00, 1295.40it/s]\n",
      "100%|██████████| 1898/1898 [00:01<00:00, 977.44it/s] \n",
      "100%|██████████| 1898/1898 [00:01<00:00, 1231.92it/s]\n",
      "100%|██████████| 1898/1898 [00:01<00:00, 1290.82it/s]\n",
      "100%|██████████| 1898/1898 [00:01<00:00, 1494.61it/s]\n",
      "100%|██████████| 1898/1898 [00:01<00:00, 1616.83it/s]\n",
      "100%|██████████| 1898/1898 [00:01<00:00, 1553.04it/s]\n",
      "100%|██████████| 1898/1898 [00:01<00:00, 1510.63it/s]\n",
      "100%|██████████| 1898/1898 [00:01<00:00, 1576.90it/s]\n",
      "100%|██████████| 1898/1898 [00:01<00:00, 1382.63it/s]\n",
      "100%|██████████| 1898/1898 [00:01<00:00, 1449.86it/s]\n",
      "100%|██████████| 1898/1898 [00:01<00:00, 1120.88it/s]\n",
      "100%|██████████| 1898/1898 [00:01<00:00, 1018.48it/s]\n",
      "100%|██████████| 1898/1898 [00:01<00:00, 1426.44it/s]\n",
      "100%|██████████| 1898/1898 [00:01<00:00, 1455.58it/s]\n",
      "100%|██████████| 1898/1898 [00:01<00:00, 1531.62it/s]\n",
      "100%|██████████| 1898/1898 [00:01<00:00, 1551.06it/s]\n"
     ]
    },
    {
     "data": {
      "image/png": "[encoded data removed]",
      "text/plain": [
       "<Figure size 640x480 with 1 Axes>"
      ]
     },
     "metadata": {},
     "output_type": "display_data"
    }
   ],
   "source": [
    "predictors = [ItemKnn(5, max_item + 1)]\n",
    "training_size = [10000, 200000, 500000, 1000000]\n",
    "training_size = [10000, 200000]\n",
    "accuracy = dict()\n",
    "mrr_accuracy = dict()\n",
    "k_values = [3, 5, 10, 15, 20, 30, 50, 100]\n",
    "# k_values = [3]\n",
    "test_size = 10000\n",
    "\n",
    "for prd in predictors:\n",
    "    for train_size in training_size:\n",
    "        # train_set, test_set = train_test_split(data,test_size=test_size,train_size=train_size)\n",
    "        accuracy[train_size] = []\n",
    "        mrr_accuracy[train_size] = []\n",
    "        train_set = data[:train_size]\n",
    "        test_set = data[train_size : train_size + test_size]\n",
    "        max_item = np.max(pd.unique(train_set[\"ItemId\"]))\n",
    "        prd._max_item_id = max_item + 1\n",
    "        prd.fit(train_set)\n",
    "        test_set, test_target = data_manip.prepare_data_for_test(test_set)\n",
    "        for k in k_values:\n",
    "            prd._k = k\n",
    "            accuracy[train_size].append(prd.score(test_set, test_target))\n",
    "            mrr_accuracy[train_size].append(prd.mrr_score(test_set, test_target))\n",
    "\n",
    "\n",
    "pyplot.figure()\n",
    "for size in training_size:\n",
    "    pyplot.plot(k_values, mrr_accuracy[size], label=f\"t_size={size}\")\n",
    "pyplot.xlabel(\"k\")\n",
    "pyplot.ylabel(\"Accuracy\")\n",
    "pyplot.legend()\n",
    "pyplot.show()"
   ]
  },
  {
   "cell_type": "code",
   "execution_count": null,
   "metadata": {},
   "outputs": [],
   "source": [
    "k_values = [3, 11, 25, 35, 75]\n",
    "prediction_numbers = [5,10,20]\n",
    "scores = [[],[],[]]\n",
    "count_p = 0\n",
    "data_train_fine, _, _ = data_manip.train_test_split(data_train, 80000, None)\n",
    "knn = ItemKnn(3, max_item + 1)\n",
    "for p_numbers in prediction_numbers:\n",
    "    \n",
    "    for k in k_values:\n",
    "\n",
    "        knn._k = ItemKnn(k, max_item + 1)\n",
    "\n",
    "        count = 0\n",
    "        train_acc, valid_acc = 0, 0\n",
    "        for train_d, train_t in data_manip.kFold_split(data_train_fine, 5):\n",
    "            print(f\"train_d size : {train_d.shape}\")\n",
    "            print(f\"train_t size : {train_t.shape}\")\n",
    "            \n",
    "            print(f\"knn k : {knn._k}\")\n",
    "\n",
    "            test_set, test_target = data_manip.prepare_data_for_test(train_t)\n",
    "            y_hat = knn.predict(test_set)\n",
    "            valid_acc += mean_reciprocal_rank(y_hat, test_target)\n",
    "            # valid_acc += knn.mrr_score(test_set, test_target)\n",
    "            count += 1\n",
    "        scores[count_p].append(valid_acc/count)\n",
    "    count_p += 1\n",
    "\n",
    "fig = pyplot.figure()\n",
    "ax = fig.add_subplot(111)\n",
    "\n",
    "ax.set_title('Session - K_nn avec des nombres de prédictions différents')  # À modifier / to be modified\n",
    "ax.plot(k_values, scores[0], 'r--', label=f\"Nombre de prédictions : {prediction_numbers[0]}\") # À compléter / to be completed\n",
    "ax.plot(k_values, scores[1], 'b--', label=f\"Nombre de prédictions : {prediction_numbers[1]}\") # À compléter / to be completed\n",
    "ax.plot(k_values, scores[2], 'y--', label=f\"Nombre de prédictions : {prediction_numbers[2]}\")\n",
    "ax.set_xticks(k_values, k_values)\n",
    "ax.grid(axis='x')\n",
    "ax.set_xlabel(\"Values of K\")\n",
    "ax.set_ylabel(\"MRR\")\n",
    "pyplot.legend()\n",
    "pyplot.show()"
   ]
  },
  {
   "attachments": {},
   "cell_type": "markdown",
   "metadata": {},
   "source": [
    "### SKNN Tests"
   ]
  },
  {
   "attachments": {},
   "cell_type": "markdown",
   "metadata": {},
   "source": [
    "Le but de cette expérience est de présenter les résultats de l'algorithmo session based Knn pou rl'apprentissage des recommandations à partir de l'algorithme Knn basé sur une session. Cette méthode Session Based Knn se base sur l'ensemble des actions de l'utilisateur actuelle et considère les k-sessions apprises les plus similaires. C'est ainsi qu'étant donné une session s, un ensemble de K sessions  voisines et une fonction de similarité retournant le score de similarité entre les différentes sessionsvoisines et la la session à évaluer "
   ]
  },
  {
   "cell_type": "code",
   "execution_count": 5,
   "metadata": {},
   "outputs": [
    {
     "name": "stdout",
     "output_type": "stream",
     "text": [
      "train size was modified real train session size is 70000\n"
     ]
    },
    {
     "name": "stderr",
     "output_type": "stream",
     "text": [
      "  0%|          | 0/70000 [00:00<?, ?it/s]c:\\Users\\david\\anaconda3\\envs\\test_env\\lib\\site-packages\\tqdm\\std.py:1180: FutureWarning: In a future version of pandas, a length 1 tuple will be returned when iterating over a groupby with a grouper equal to a list of length 1. Don't supply a list with a single grouper to avoid this warning.\n",
      "  for obj in iterable:\n",
      "100%|██████████| 70000/70000 [00:34<00:00, 2025.16it/s]\n"
     ]
    },
    {
     "name": "stdout",
     "output_type": "stream",
     "text": [
      "train_d size : (26307, 3)\n",
      "train_t size : (6149, 3)\n",
      "knn k : 3\n"
     ]
    },
    {
     "name": "stderr",
     "output_type": "stream",
     "text": [
      "  0%|          | 0/1183 [00:00<?, ?it/s]c:\\Users\\david\\anaconda3\\envs\\test_env\\lib\\site-packages\\tqdm\\std.py:1180: FutureWarning: In a future version of pandas, a length 1 tuple will be returned when iterating over a groupby with a grouper equal to a list of length 1. Don't supply a list with a single grouper to avoid this warning.\n",
      "  for obj in iterable:\n",
      "100%|██████████| 1183/1183 [00:00<00:00, 5274.79it/s]\n",
      "  0%|          | 0/1183 [00:00<?, ?it/s]c:\\Users\\david\\anaconda3\\envs\\test_env\\lib\\site-packages\\tqdm\\std.py:1180: FutureWarning: In a future version of pandas, a length 1 tuple will be returned when iterating over a groupby with a grouper equal to a list of length 1. Don't supply a list with a single grouper to avoid this warning.\n",
      "  for obj in iterable:\n",
      "100%|██████████| 1183/1183 [00:00<00:00, 1507.53it/s]\n",
      "  0%|          | 0/1183 [00:00<?, ?it/s]c:\\Users\\david\\anaconda3\\envs\\test_env\\lib\\site-packages\\tqdm\\std.py:1180: FutureWarning: In a future version of pandas, a length 1 tuple will be returned when iterating over a groupby with a grouper equal to a list of length 1. Don't supply a list with a single grouper to avoid this warning.\n",
      "  for obj in iterable:\n",
      "100%|██████████| 1183/1183 [00:10<00:00, 116.07it/s]\n"
     ]
    },
    {
     "name": "stdout",
     "output_type": "stream",
     "text": [
      "train_d size : (25868, 3)\n",
      "train_t size : (6588, 3)\n",
      "knn k : 3\n"
     ]
    },
    {
     "name": "stderr",
     "output_type": "stream",
     "text": [
      "  0%|          | 0/1250 [00:00<?, ?it/s]c:\\Users\\david\\anaconda3\\envs\\test_env\\lib\\site-packages\\tqdm\\std.py:1180: FutureWarning: In a future version of pandas, a length 1 tuple will be returned when iterating over a groupby with a grouper equal to a list of length 1. Don't supply a list with a single grouper to avoid this warning.\n",
      "  for obj in iterable:\n",
      "100%|██████████| 1250/1250 [00:00<00:00, 5955.50it/s]\n",
      "  0%|          | 0/1250 [00:00<?, ?it/s]c:\\Users\\david\\anaconda3\\envs\\test_env\\lib\\site-packages\\tqdm\\std.py:1180: FutureWarning: In a future version of pandas, a length 1 tuple will be returned when iterating over a groupby with a grouper equal to a list of length 1. Don't supply a list with a single grouper to avoid this warning.\n",
      "  for obj in iterable:\n",
      "100%|██████████| 1250/1250 [00:00<00:00, 1404.56it/s]\n",
      "  0%|          | 0/1250 [00:00<?, ?it/s]c:\\Users\\david\\anaconda3\\envs\\test_env\\lib\\site-packages\\tqdm\\std.py:1180: FutureWarning: In a future version of pandas, a length 1 tuple will be returned when iterating over a groupby with a grouper equal to a list of length 1. Don't supply a list with a single grouper to avoid this warning.\n",
      "  for obj in iterable:\n",
      "100%|██████████| 1250/1250 [00:08<00:00, 140.07it/s]\n"
     ]
    },
    {
     "name": "stdout",
     "output_type": "stream",
     "text": [
      "train_d size : (25981, 3)\n",
      "train_t size : (6475, 3)\n",
      "knn k : 3\n"
     ]
    },
    {
     "name": "stderr",
     "output_type": "stream",
     "text": [
      "  0%|          | 0/1197 [00:00<?, ?it/s]c:\\Users\\david\\anaconda3\\envs\\test_env\\lib\\site-packages\\tqdm\\std.py:1180: FutureWarning: In a future version of pandas, a length 1 tuple will be returned when iterating over a groupby with a grouper equal to a list of length 1. Don't supply a list with a single grouper to avoid this warning.\n",
      "  for obj in iterable:\n",
      "100%|██████████| 1197/1197 [00:00<00:00, 2181.87it/s]\n",
      "  0%|          | 0/1197 [00:00<?, ?it/s]c:\\Users\\david\\anaconda3\\envs\\test_env\\lib\\site-packages\\tqdm\\std.py:1180: FutureWarning: In a future version of pandas, a length 1 tuple will be returned when iterating over a groupby with a grouper equal to a list of length 1. Don't supply a list with a single grouper to avoid this warning.\n",
      "  for obj in iterable:\n",
      "100%|██████████| 1197/1197 [00:01<00:00, 1154.01it/s]\n",
      "  0%|          | 0/1197 [00:00<?, ?it/s]c:\\Users\\david\\anaconda3\\envs\\test_env\\lib\\site-packages\\tqdm\\std.py:1180: FutureWarning: In a future version of pandas, a length 1 tuple will be returned when iterating over a groupby with a grouper equal to a list of length 1. Don't supply a list with a single grouper to avoid this warning.\n",
      "  for obj in iterable:\n",
      "100%|██████████| 1197/1197 [00:08<00:00, 147.71it/s]\n"
     ]
    },
    {
     "name": "stdout",
     "output_type": "stream",
     "text": [
      "train_d size : (25823, 3)\n",
      "train_t size : (6633, 3)\n",
      "knn k : 3\n"
     ]
    },
    {
     "name": "stderr",
     "output_type": "stream",
     "text": [
      "  0%|          | 0/1226 [00:00<?, ?it/s]c:\\Users\\david\\anaconda3\\envs\\test_env\\lib\\site-packages\\tqdm\\std.py:1180: FutureWarning: In a future version of pandas, a length 1 tuple will be returned when iterating over a groupby with a grouper equal to a list of length 1. Don't supply a list with a single grouper to avoid this warning.\n",
      "  for obj in iterable:\n",
      "100%|██████████| 1226/1226 [00:00<00:00, 3925.39it/s]\n",
      "  0%|          | 0/1226 [00:00<?, ?it/s]c:\\Users\\david\\anaconda3\\envs\\test_env\\lib\\site-packages\\tqdm\\std.py:1180: FutureWarning: In a future version of pandas, a length 1 tuple will be returned when iterating over a groupby with a grouper equal to a list of length 1. Don't supply a list with a single grouper to avoid this warning.\n",
      "  for obj in iterable:\n",
      "100%|██████████| 1226/1226 [00:01<00:00, 1068.67it/s]\n",
      "  0%|          | 0/1226 [00:00<?, ?it/s]c:\\Users\\david\\anaconda3\\envs\\test_env\\lib\\site-packages\\tqdm\\std.py:1180: FutureWarning: In a future version of pandas, a length 1 tuple will be returned when iterating over a groupby with a grouper equal to a list of length 1. Don't supply a list with a single grouper to avoid this warning.\n",
      "  for obj in iterable:\n",
      "100%|██████████| 1226/1226 [00:22<00:00, 55.03it/s]\n"
     ]
    },
    {
     "name": "stdout",
     "output_type": "stream",
     "text": [
      "train_d size : (25845, 3)\n",
      "train_t size : (6611, 3)\n",
      "knn k : 3\n"
     ]
    },
    {
     "name": "stderr",
     "output_type": "stream",
     "text": [
      "  0%|          | 0/1219 [00:00<?, ?it/s]c:\\Users\\david\\anaconda3\\envs\\test_env\\lib\\site-packages\\tqdm\\std.py:1180: FutureWarning: In a future version of pandas, a length 1 tuple will be returned when iterating over a groupby with a grouper equal to a list of length 1. Don't supply a list with a single grouper to avoid this warning.\n",
      "  for obj in iterable:\n",
      "100%|██████████| 1219/1219 [00:00<00:00, 1740.50it/s]\n",
      "  0%|          | 0/1219 [00:00<?, ?it/s]c:\\Users\\david\\anaconda3\\envs\\test_env\\lib\\site-packages\\tqdm\\std.py:1180: FutureWarning: In a future version of pandas, a length 1 tuple will be returned when iterating over a groupby with a grouper equal to a list of length 1. Don't supply a list with a single grouper to avoid this warning.\n",
      "  for obj in iterable:\n",
      "100%|██████████| 1219/1219 [00:03<00:00, 376.98it/s]\n",
      "  0%|          | 0/1219 [00:00<?, ?it/s]c:\\Users\\david\\anaconda3\\envs\\test_env\\lib\\site-packages\\tqdm\\std.py:1180: FutureWarning: In a future version of pandas, a length 1 tuple will be returned when iterating over a groupby with a grouper equal to a list of length 1. Don't supply a list with a single grouper to avoid this warning.\n",
      "  for obj in iterable:\n",
      "100%|██████████| 1219/1219 [00:17<00:00, 71.34it/s]\n"
     ]
    },
    {
     "name": "stdout",
     "output_type": "stream",
     "text": [
      "train_d size : (26242, 3)\n",
      "train_t size : (6214, 3)\n",
      "knn k : 11\n"
     ]
    },
    {
     "name": "stderr",
     "output_type": "stream",
     "text": [
      "  0%|          | 0/1152 [00:00<?, ?it/s]c:\\Users\\david\\anaconda3\\envs\\test_env\\lib\\site-packages\\tqdm\\std.py:1180: FutureWarning: In a future version of pandas, a length 1 tuple will be returned when iterating over a groupby with a grouper equal to a list of length 1. Don't supply a list with a single grouper to avoid this warning.\n",
      "  for obj in iterable:\n",
      "100%|██████████| 1152/1152 [00:00<00:00, 1272.00it/s]\n",
      "  0%|          | 0/1152 [00:00<?, ?it/s]c:\\Users\\david\\anaconda3\\envs\\test_env\\lib\\site-packages\\tqdm\\std.py:1180: FutureWarning: In a future version of pandas, a length 1 tuple will be returned when iterating over a groupby with a grouper equal to a list of length 1. Don't supply a list with a single grouper to avoid this warning.\n",
      "  for obj in iterable:\n",
      "100%|██████████| 1152/1152 [00:01<00:00, 1068.85it/s]\n",
      "  0%|          | 0/1152 [00:00<?, ?it/s]c:\\Users\\david\\anaconda3\\envs\\test_env\\lib\\site-packages\\tqdm\\std.py:1180: FutureWarning: In a future version of pandas, a length 1 tuple will be returned when iterating over a groupby with a grouper equal to a list of length 1. Don't supply a list with a single grouper to avoid this warning.\n",
      "  for obj in iterable:\n",
      "100%|██████████| 1152/1152 [00:08<00:00, 140.43it/s]\n"
     ]
    },
    {
     "name": "stdout",
     "output_type": "stream",
     "text": [
      "train_d size : (25825, 3)\n",
      "train_t size : (6631, 3)\n",
      "knn k : 11\n"
     ]
    },
    {
     "name": "stderr",
     "output_type": "stream",
     "text": [
      "  0%|          | 0/1275 [00:00<?, ?it/s]c:\\Users\\david\\anaconda3\\envs\\test_env\\lib\\site-packages\\tqdm\\std.py:1180: FutureWarning: In a future version of pandas, a length 1 tuple will be returned when iterating over a groupby with a grouper equal to a list of length 1. Don't supply a list with a single grouper to avoid this warning.\n",
      "  for obj in iterable:\n",
      "100%|██████████| 1275/1275 [00:00<00:00, 2092.59it/s]\n",
      "  0%|          | 0/1275 [00:00<?, ?it/s]c:\\Users\\david\\anaconda3\\envs\\test_env\\lib\\site-packages\\tqdm\\std.py:1180: FutureWarning: In a future version of pandas, a length 1 tuple will be returned when iterating over a groupby with a grouper equal to a list of length 1. Don't supply a list with a single grouper to avoid this warning.\n",
      "  for obj in iterable:\n",
      "100%|██████████| 1275/1275 [00:00<00:00, 2215.38it/s]\n",
      "  0%|          | 0/1275 [00:00<?, ?it/s]c:\\Users\\david\\anaconda3\\envs\\test_env\\lib\\site-packages\\tqdm\\std.py:1180: FutureWarning: In a future version of pandas, a length 1 tuple will be returned when iterating over a groupby with a grouper equal to a list of length 1. Don't supply a list with a single grouper to avoid this warning.\n",
      "  for obj in iterable:\n",
      "100%|██████████| 1275/1275 [00:07<00:00, 175.18it/s]\n"
     ]
    },
    {
     "name": "stdout",
     "output_type": "stream",
     "text": [
      "train_d size : (25785, 3)\n",
      "train_t size : (6671, 3)\n",
      "knn k : 11\n"
     ]
    },
    {
     "name": "stderr",
     "output_type": "stream",
     "text": [
      "  0%|          | 0/1228 [00:00<?, ?it/s]c:\\Users\\david\\anaconda3\\envs\\test_env\\lib\\site-packages\\tqdm\\std.py:1180: FutureWarning: In a future version of pandas, a length 1 tuple will be returned when iterating over a groupby with a grouper equal to a list of length 1. Don't supply a list with a single grouper to avoid this warning.\n",
      "  for obj in iterable:\n",
      "100%|██████████| 1228/1228 [00:00<00:00, 4898.98it/s]\n",
      "  0%|          | 0/1228 [00:00<?, ?it/s]c:\\Users\\david\\anaconda3\\envs\\test_env\\lib\\site-packages\\tqdm\\std.py:1180: FutureWarning: In a future version of pandas, a length 1 tuple will be returned when iterating over a groupby with a grouper equal to a list of length 1. Don't supply a list with a single grouper to avoid this warning.\n",
      "  for obj in iterable:\n",
      "100%|██████████| 1228/1228 [00:00<00:00, 2294.11it/s]\n",
      "  0%|          | 0/1228 [00:00<?, ?it/s]c:\\Users\\david\\anaconda3\\envs\\test_env\\lib\\site-packages\\tqdm\\std.py:1180: FutureWarning: In a future version of pandas, a length 1 tuple will be returned when iterating over a groupby with a grouper equal to a list of length 1. Don't supply a list with a single grouper to avoid this warning.\n",
      "  for obj in iterable:\n",
      "100%|██████████| 1228/1228 [00:07<00:00, 171.45it/s]\n"
     ]
    },
    {
     "name": "stdout",
     "output_type": "stream",
     "text": [
      "train_d size : (26176, 3)\n",
      "train_t size : (6280, 3)\n",
      "knn k : 11\n"
     ]
    },
    {
     "name": "stderr",
     "output_type": "stream",
     "text": [
      "  0%|          | 0/1188 [00:00<?, ?it/s]c:\\Users\\david\\anaconda3\\envs\\test_env\\lib\\site-packages\\tqdm\\std.py:1180: FutureWarning: In a future version of pandas, a length 1 tuple will be returned when iterating over a groupby with a grouper equal to a list of length 1. Don't supply a list with a single grouper to avoid this warning.\n",
      "  for obj in iterable:\n",
      "100%|██████████| 1188/1188 [00:00<00:00, 4329.78it/s]\n",
      "  0%|          | 0/1188 [00:00<?, ?it/s]c:\\Users\\david\\anaconda3\\envs\\test_env\\lib\\site-packages\\tqdm\\std.py:1180: FutureWarning: In a future version of pandas, a length 1 tuple will be returned when iterating over a groupby with a grouper equal to a list of length 1. Don't supply a list with a single grouper to avoid this warning.\n",
      "  for obj in iterable:\n",
      "100%|██████████| 1188/1188 [00:00<00:00, 2332.90it/s]\n",
      "  0%|          | 0/1188 [00:00<?, ?it/s]c:\\Users\\david\\anaconda3\\envs\\test_env\\lib\\site-packages\\tqdm\\std.py:1180: FutureWarning: In a future version of pandas, a length 1 tuple will be returned when iterating over a groupby with a grouper equal to a list of length 1. Don't supply a list with a single grouper to avoid this warning.\n",
      "  for obj in iterable:\n",
      "100%|██████████| 1188/1188 [00:06<00:00, 170.96it/s]\n"
     ]
    },
    {
     "name": "stdout",
     "output_type": "stream",
     "text": [
      "train_d size : (25796, 3)\n",
      "train_t size : (6660, 3)\n",
      "knn k : 11\n"
     ]
    },
    {
     "name": "stderr",
     "output_type": "stream",
     "text": [
      "  0%|          | 0/1232 [00:00<?, ?it/s]c:\\Users\\david\\anaconda3\\envs\\test_env\\lib\\site-packages\\tqdm\\std.py:1180: FutureWarning: In a future version of pandas, a length 1 tuple will be returned when iterating over a groupby with a grouper equal to a list of length 1. Don't supply a list with a single grouper to avoid this warning.\n",
      "  for obj in iterable:\n",
      "100%|██████████| 1232/1232 [00:00<00:00, 2879.26it/s]\n",
      "  0%|          | 0/1232 [00:00<?, ?it/s]c:\\Users\\david\\anaconda3\\envs\\test_env\\lib\\site-packages\\tqdm\\std.py:1180: FutureWarning: In a future version of pandas, a length 1 tuple will be returned when iterating over a groupby with a grouper equal to a list of length 1. Don't supply a list with a single grouper to avoid this warning.\n",
      "  for obj in iterable:\n",
      "100%|██████████| 1232/1232 [00:00<00:00, 3007.09it/s]\n",
      "  0%|          | 0/1232 [00:00<?, ?it/s]c:\\Users\\david\\anaconda3\\envs\\test_env\\lib\\site-packages\\tqdm\\std.py:1180: FutureWarning: In a future version of pandas, a length 1 tuple will be returned when iterating over a groupby with a grouper equal to a list of length 1. Don't supply a list with a single grouper to avoid this warning.\n",
      "  for obj in iterable:\n",
      "100%|██████████| 1232/1232 [00:15<00:00, 81.45it/s] \n"
     ]
    },
    {
     "name": "stdout",
     "output_type": "stream",
     "text": [
      "train_d size : (25924, 3)\n",
      "train_t size : (6532, 3)\n",
      "knn k : 25\n"
     ]
    },
    {
     "name": "stderr",
     "output_type": "stream",
     "text": [
      "  0%|          | 0/1193 [00:00<?, ?it/s]c:\\Users\\david\\anaconda3\\envs\\test_env\\lib\\site-packages\\tqdm\\std.py:1180: FutureWarning: In a future version of pandas, a length 1 tuple will be returned when iterating over a groupby with a grouper equal to a list of length 1. Don't supply a list with a single grouper to avoid this warning.\n",
      "  for obj in iterable:\n",
      "100%|██████████| 1193/1193 [00:00<00:00, 2918.26it/s]\n",
      "  0%|          | 0/1193 [00:00<?, ?it/s]c:\\Users\\david\\anaconda3\\envs\\test_env\\lib\\site-packages\\tqdm\\std.py:1180: FutureWarning: In a future version of pandas, a length 1 tuple will be returned when iterating over a groupby with a grouper equal to a list of length 1. Don't supply a list with a single grouper to avoid this warning.\n",
      "  for obj in iterable:\n",
      "100%|██████████| 1193/1193 [00:00<00:00, 1322.80it/s]\n",
      "  0%|          | 0/1193 [00:00<?, ?it/s]c:\\Users\\david\\anaconda3\\envs\\test_env\\lib\\site-packages\\tqdm\\std.py:1180: FutureWarning: In a future version of pandas, a length 1 tuple will be returned when iterating over a groupby with a grouper equal to a list of length 1. Don't supply a list with a single grouper to avoid this warning.\n",
      "  for obj in iterable:\n",
      "100%|██████████| 1193/1193 [00:09<00:00, 126.03it/s]\n"
     ]
    },
    {
     "name": "stdout",
     "output_type": "stream",
     "text": [
      "train_d size : (26177, 3)\n",
      "train_t size : (6279, 3)\n",
      "knn k : 25\n"
     ]
    },
    {
     "name": "stderr",
     "output_type": "stream",
     "text": [
      "  0%|          | 0/1182 [00:00<?, ?it/s]c:\\Users\\david\\anaconda3\\envs\\test_env\\lib\\site-packages\\tqdm\\std.py:1180: FutureWarning: In a future version of pandas, a length 1 tuple will be returned when iterating over a groupby with a grouper equal to a list of length 1. Don't supply a list with a single grouper to avoid this warning.\n",
      "  for obj in iterable:\n",
      "100%|██████████| 1182/1182 [00:00<00:00, 3822.66it/s]\n",
      "  0%|          | 0/1182 [00:00<?, ?it/s]c:\\Users\\david\\anaconda3\\envs\\test_env\\lib\\site-packages\\tqdm\\std.py:1180: FutureWarning: In a future version of pandas, a length 1 tuple will be returned when iterating over a groupby with a grouper equal to a list of length 1. Don't supply a list with a single grouper to avoid this warning.\n",
      "  for obj in iterable:\n",
      "100%|██████████| 1182/1182 [00:00<00:00, 2490.47it/s]\n",
      "  0%|          | 0/1182 [00:00<?, ?it/s]c:\\Users\\david\\anaconda3\\envs\\test_env\\lib\\site-packages\\tqdm\\std.py:1180: FutureWarning: In a future version of pandas, a length 1 tuple will be returned when iterating over a groupby with a grouper equal to a list of length 1. Don't supply a list with a single grouper to avoid this warning.\n",
      "  for obj in iterable:\n",
      "100%|██████████| 1182/1182 [00:14<00:00, 80.43it/s]\n"
     ]
    },
    {
     "name": "stdout",
     "output_type": "stream",
     "text": [
      "train_d size : (26174, 3)\n",
      "train_t size : (6282, 3)\n",
      "knn k : 25\n"
     ]
    },
    {
     "name": "stderr",
     "output_type": "stream",
     "text": [
      "  0%|          | 0/1233 [00:00<?, ?it/s]c:\\Users\\david\\anaconda3\\envs\\test_env\\lib\\site-packages\\tqdm\\std.py:1180: FutureWarning: In a future version of pandas, a length 1 tuple will be returned when iterating over a groupby with a grouper equal to a list of length 1. Don't supply a list with a single grouper to avoid this warning.\n",
      "  for obj in iterable:\n",
      "100%|██████████| 1233/1233 [00:01<00:00, 851.10it/s]\n",
      "  0%|          | 0/1233 [00:00<?, ?it/s]c:\\Users\\david\\anaconda3\\envs\\test_env\\lib\\site-packages\\tqdm\\std.py:1180: FutureWarning: In a future version of pandas, a length 1 tuple will be returned when iterating over a groupby with a grouper equal to a list of length 1. Don't supply a list with a single grouper to avoid this warning.\n",
      "  for obj in iterable:\n",
      "100%|██████████| 1233/1233 [00:01<00:00, 811.41it/s]\n",
      "  0%|          | 0/1233 [00:00<?, ?it/s]c:\\Users\\david\\anaconda3\\envs\\test_env\\lib\\site-packages\\tqdm\\std.py:1180: FutureWarning: In a future version of pandas, a length 1 tuple will be returned when iterating over a groupby with a grouper equal to a list of length 1. Don't supply a list with a single grouper to avoid this warning.\n",
      "  for obj in iterable:\n",
      "100%|██████████| 1233/1233 [00:18<00:00, 66.76it/s] \n"
     ]
    },
    {
     "name": "stdout",
     "output_type": "stream",
     "text": [
      "train_d size : (25734, 3)\n",
      "train_t size : (6722, 3)\n",
      "knn k : 25\n"
     ]
    },
    {
     "name": "stderr",
     "output_type": "stream",
     "text": [
      "  0%|          | 0/1236 [00:00<?, ?it/s]c:\\Users\\david\\anaconda3\\envs\\test_env\\lib\\site-packages\\tqdm\\std.py:1180: FutureWarning: In a future version of pandas, a length 1 tuple will be returned when iterating over a groupby with a grouper equal to a list of length 1. Don't supply a list with a single grouper to avoid this warning.\n",
      "  for obj in iterable:\n",
      "100%|██████████| 1236/1236 [00:00<00:00, 2487.03it/s]\n",
      "  0%|          | 0/1236 [00:00<?, ?it/s]c:\\Users\\david\\anaconda3\\envs\\test_env\\lib\\site-packages\\tqdm\\std.py:1180: FutureWarning: In a future version of pandas, a length 1 tuple will be returned when iterating over a groupby with a grouper equal to a list of length 1. Don't supply a list with a single grouper to avoid this warning.\n",
      "  for obj in iterable:\n",
      "100%|██████████| 1236/1236 [00:01<00:00, 1201.37it/s]\n",
      "  0%|          | 0/1236 [00:00<?, ?it/s]c:\\Users\\david\\anaconda3\\envs\\test_env\\lib\\site-packages\\tqdm\\std.py:1180: FutureWarning: In a future version of pandas, a length 1 tuple will be returned when iterating over a groupby with a grouper equal to a list of length 1. Don't supply a list with a single grouper to avoid this warning.\n",
      "  for obj in iterable:\n",
      "100%|██████████| 1236/1236 [00:15<00:00, 81.01it/s] \n"
     ]
    },
    {
     "name": "stdout",
     "output_type": "stream",
     "text": [
      "train_d size : (25815, 3)\n",
      "train_t size : (6641, 3)\n",
      "knn k : 25\n"
     ]
    },
    {
     "name": "stderr",
     "output_type": "stream",
     "text": [
      "  0%|          | 0/1231 [00:00<?, ?it/s]c:\\Users\\david\\anaconda3\\envs\\test_env\\lib\\site-packages\\tqdm\\std.py:1180: FutureWarning: In a future version of pandas, a length 1 tuple will be returned when iterating over a groupby with a grouper equal to a list of length 1. Don't supply a list with a single grouper to avoid this warning.\n",
      "  for obj in iterable:\n",
      "100%|██████████| 1231/1231 [00:00<00:00, 1340.65it/s]\n",
      "  0%|          | 0/1231 [00:00<?, ?it/s]c:\\Users\\david\\anaconda3\\envs\\test_env\\lib\\site-packages\\tqdm\\std.py:1180: FutureWarning: In a future version of pandas, a length 1 tuple will be returned when iterating over a groupby with a grouper equal to a list of length 1. Don't supply a list with a single grouper to avoid this warning.\n",
      "  for obj in iterable:\n",
      "100%|██████████| 1231/1231 [00:01<00:00, 852.56it/s] \n",
      "  0%|          | 0/1231 [00:00<?, ?it/s]c:\\Users\\david\\anaconda3\\envs\\test_env\\lib\\site-packages\\tqdm\\std.py:1180: FutureWarning: In a future version of pandas, a length 1 tuple will be returned when iterating over a groupby with a grouper equal to a list of length 1. Don't supply a list with a single grouper to avoid this warning.\n",
      "  for obj in iterable:\n",
      "100%|██████████| 1231/1231 [00:11<00:00, 104.31it/s]\n"
     ]
    },
    {
     "name": "stdout",
     "output_type": "stream",
     "text": [
      "train_d size : (25982, 3)\n",
      "train_t size : (6474, 3)\n",
      "knn k : 35\n"
     ]
    },
    {
     "name": "stderr",
     "output_type": "stream",
     "text": [
      "  0%|          | 0/1206 [00:00<?, ?it/s]c:\\Users\\david\\anaconda3\\envs\\test_env\\lib\\site-packages\\tqdm\\std.py:1180: FutureWarning: In a future version of pandas, a length 1 tuple will be returned when iterating over a groupby with a grouper equal to a list of length 1. Don't supply a list with a single grouper to avoid this warning.\n",
      "  for obj in iterable:\n",
      "100%|██████████| 1206/1206 [00:01<00:00, 821.93it/s] \n",
      "  0%|          | 0/1206 [00:00<?, ?it/s]c:\\Users\\david\\anaconda3\\envs\\test_env\\lib\\site-packages\\tqdm\\std.py:1180: FutureWarning: In a future version of pandas, a length 1 tuple will be returned when iterating over a groupby with a grouper equal to a list of length 1. Don't supply a list with a single grouper to avoid this warning.\n",
      "  for obj in iterable:\n",
      "100%|██████████| 1206/1206 [00:01<00:00, 1204.36it/s]\n",
      "  0%|          | 0/1206 [00:00<?, ?it/s]c:\\Users\\david\\anaconda3\\envs\\test_env\\lib\\site-packages\\tqdm\\std.py:1180: FutureWarning: In a future version of pandas, a length 1 tuple will be returned when iterating over a groupby with a grouper equal to a list of length 1. Don't supply a list with a single grouper to avoid this warning.\n",
      "  for obj in iterable:\n",
      "100%|██████████| 1206/1206 [00:15<00:00, 76.70it/s] \n"
     ]
    },
    {
     "name": "stdout",
     "output_type": "stream",
     "text": [
      "train_d size : (26155, 3)\n",
      "train_t size : (6301, 3)\n",
      "knn k : 35\n"
     ]
    },
    {
     "name": "stderr",
     "output_type": "stream",
     "text": [
      "  0%|          | 0/1210 [00:00<?, ?it/s]c:\\Users\\david\\anaconda3\\envs\\test_env\\lib\\site-packages\\tqdm\\std.py:1180: FutureWarning: In a future version of pandas, a length 1 tuple will be returned when iterating over a groupby with a grouper equal to a list of length 1. Don't supply a list with a single grouper to avoid this warning.\n",
      "  for obj in iterable:\n",
      "100%|██████████| 1210/1210 [00:00<00:00, 2470.05it/s]\n",
      "  0%|          | 0/1210 [00:00<?, ?it/s]c:\\Users\\david\\anaconda3\\envs\\test_env\\lib\\site-packages\\tqdm\\std.py:1180: FutureWarning: In a future version of pandas, a length 1 tuple will be returned when iterating over a groupby with a grouper equal to a list of length 1. Don't supply a list with a single grouper to avoid this warning.\n",
      "  for obj in iterable:\n",
      "100%|██████████| 1210/1210 [00:00<00:00, 2277.19it/s]\n",
      "  0%|          | 0/1210 [00:00<?, ?it/s]c:\\Users\\david\\anaconda3\\envs\\test_env\\lib\\site-packages\\tqdm\\std.py:1180: FutureWarning: In a future version of pandas, a length 1 tuple will be returned when iterating over a groupby with a grouper equal to a list of length 1. Don't supply a list with a single grouper to avoid this warning.\n",
      "  for obj in iterable:\n",
      "100%|██████████| 1210/1210 [00:09<00:00, 121.52it/s]\n"
     ]
    },
    {
     "name": "stdout",
     "output_type": "stream",
     "text": [
      "train_d size : (25593, 3)\n",
      "train_t size : (6863, 3)\n",
      "knn k : 35\n"
     ]
    },
    {
     "name": "stderr",
     "output_type": "stream",
     "text": [
      "  0%|          | 0/1201 [00:00<?, ?it/s]c:\\Users\\david\\anaconda3\\envs\\test_env\\lib\\site-packages\\tqdm\\std.py:1180: FutureWarning: In a future version of pandas, a length 1 tuple will be returned when iterating over a groupby with a grouper equal to a list of length 1. Don't supply a list with a single grouper to avoid this warning.\n",
      "  for obj in iterable:\n",
      "100%|██████████| 1201/1201 [00:00<00:00, 2481.07it/s]\n",
      "  0%|          | 0/1201 [00:00<?, ?it/s]c:\\Users\\david\\anaconda3\\envs\\test_env\\lib\\site-packages\\tqdm\\std.py:1180: FutureWarning: In a future version of pandas, a length 1 tuple will be returned when iterating over a groupby with a grouper equal to a list of length 1. Don't supply a list with a single grouper to avoid this warning.\n",
      "  for obj in iterable:\n",
      "100%|██████████| 1201/1201 [00:01<00:00, 732.04it/s]\n",
      "  0%|          | 0/1201 [00:00<?, ?it/s]c:\\Users\\david\\anaconda3\\envs\\test_env\\lib\\site-packages\\tqdm\\std.py:1180: FutureWarning: In a future version of pandas, a length 1 tuple will be returned when iterating over a groupby with a grouper equal to a list of length 1. Don't supply a list with a single grouper to avoid this warning.\n",
      "  for obj in iterable:\n",
      "100%|██████████| 1201/1201 [00:14<00:00, 82.74it/s] \n"
     ]
    },
    {
     "name": "stdout",
     "output_type": "stream",
     "text": [
      "train_d size : (26097, 3)\n",
      "train_t size : (6359, 3)\n",
      "knn k : 35\n"
     ]
    },
    {
     "name": "stderr",
     "output_type": "stream",
     "text": [
      "  0%|          | 0/1235 [00:00<?, ?it/s]c:\\Users\\david\\anaconda3\\envs\\test_env\\lib\\site-packages\\tqdm\\std.py:1180: FutureWarning: In a future version of pandas, a length 1 tuple will be returned when iterating over a groupby with a grouper equal to a list of length 1. Don't supply a list with a single grouper to avoid this warning.\n",
      "  for obj in iterable:\n",
      "100%|██████████| 1235/1235 [00:01<00:00, 795.22it/s]\n",
      "  0%|          | 0/1235 [00:00<?, ?it/s]c:\\Users\\david\\anaconda3\\envs\\test_env\\lib\\site-packages\\tqdm\\std.py:1180: FutureWarning: In a future version of pandas, a length 1 tuple will be returned when iterating over a groupby with a grouper equal to a list of length 1. Don't supply a list with a single grouper to avoid this warning.\n",
      "  for obj in iterable:\n",
      "100%|██████████| 1235/1235 [00:02<00:00, 450.89it/s]\n",
      "  0%|          | 0/1235 [00:00<?, ?it/s]c:\\Users\\david\\anaconda3\\envs\\test_env\\lib\\site-packages\\tqdm\\std.py:1180: FutureWarning: In a future version of pandas, a length 1 tuple will be returned when iterating over a groupby with a grouper equal to a list of length 1. Don't supply a list with a single grouper to avoid this warning.\n",
      "  for obj in iterable:\n",
      "100%|██████████| 1235/1235 [00:18<00:00, 68.51it/s] \n"
     ]
    },
    {
     "name": "stdout",
     "output_type": "stream",
     "text": [
      "train_d size : (25997, 3)\n",
      "train_t size : (6459, 3)\n",
      "knn k : 35\n"
     ]
    },
    {
     "name": "stderr",
     "output_type": "stream",
     "text": [
      "  0%|          | 0/1223 [00:00<?, ?it/s]c:\\Users\\david\\anaconda3\\envs\\test_env\\lib\\site-packages\\tqdm\\std.py:1180: FutureWarning: In a future version of pandas, a length 1 tuple will be returned when iterating over a groupby with a grouper equal to a list of length 1. Don't supply a list with a single grouper to avoid this warning.\n",
      "  for obj in iterable:\n",
      "100%|██████████| 1223/1223 [00:00<00:00, 1280.25it/s]\n",
      "  0%|          | 0/1223 [00:00<?, ?it/s]c:\\Users\\david\\anaconda3\\envs\\test_env\\lib\\site-packages\\tqdm\\std.py:1180: FutureWarning: In a future version of pandas, a length 1 tuple will be returned when iterating over a groupby with a grouper equal to a list of length 1. Don't supply a list with a single grouper to avoid this warning.\n",
      "  for obj in iterable:\n",
      "100%|██████████| 1223/1223 [00:01<00:00, 1001.51it/s]\n",
      "  0%|          | 0/1223 [00:00<?, ?it/s]c:\\Users\\david\\anaconda3\\envs\\test_env\\lib\\site-packages\\tqdm\\std.py:1180: FutureWarning: In a future version of pandas, a length 1 tuple will be returned when iterating over a groupby with a grouper equal to a list of length 1. Don't supply a list with a single grouper to avoid this warning.\n",
      "  for obj in iterable:\n",
      "100%|██████████| 1223/1223 [00:13<00:00, 88.05it/s] \n"
     ]
    },
    {
     "name": "stdout",
     "output_type": "stream",
     "text": [
      "train_d size : (26565, 3)\n",
      "train_t size : (5891, 3)\n",
      "knn k : 75\n"
     ]
    },
    {
     "name": "stderr",
     "output_type": "stream",
     "text": [
      "  0%|          | 0/1156 [00:00<?, ?it/s]c:\\Users\\david\\anaconda3\\envs\\test_env\\lib\\site-packages\\tqdm\\std.py:1180: FutureWarning: In a future version of pandas, a length 1 tuple will be returned when iterating over a groupby with a grouper equal to a list of length 1. Don't supply a list with a single grouper to avoid this warning.\n",
      "  for obj in iterable:\n",
      "100%|██████████| 1156/1156 [00:00<00:00, 1922.04it/s]\n",
      "  0%|          | 0/1156 [00:00<?, ?it/s]c:\\Users\\david\\anaconda3\\envs\\test_env\\lib\\site-packages\\tqdm\\std.py:1180: FutureWarning: In a future version of pandas, a length 1 tuple will be returned when iterating over a groupby with a grouper equal to a list of length 1. Don't supply a list with a single grouper to avoid this warning.\n",
      "  for obj in iterable:\n",
      "100%|██████████| 1156/1156 [00:02<00:00, 551.49it/s]\n",
      "  0%|          | 0/1156 [00:00<?, ?it/s]c:\\Users\\david\\anaconda3\\envs\\test_env\\lib\\site-packages\\tqdm\\std.py:1180: FutureWarning: In a future version of pandas, a length 1 tuple will be returned when iterating over a groupby with a grouper equal to a list of length 1. Don't supply a list with a single grouper to avoid this warning.\n",
      "  for obj in iterable:\n",
      "100%|██████████| 1156/1156 [00:28<00:00, 41.01it/s] \n"
     ]
    },
    {
     "name": "stdout",
     "output_type": "stream",
     "text": [
      "train_d size : (25888, 3)\n",
      "train_t size : (6568, 3)\n",
      "knn k : 75\n"
     ]
    },
    {
     "name": "stderr",
     "output_type": "stream",
     "text": [
      "  0%|          | 0/1230 [00:00<?, ?it/s]c:\\Users\\david\\anaconda3\\envs\\test_env\\lib\\site-packages\\tqdm\\std.py:1180: FutureWarning: In a future version of pandas, a length 1 tuple will be returned when iterating over a groupby with a grouper equal to a list of length 1. Don't supply a list with a single grouper to avoid this warning.\n",
      "  for obj in iterable:\n",
      "100%|██████████| 1230/1230 [00:00<00:00, 3717.06it/s]\n",
      "  0%|          | 0/1230 [00:00<?, ?it/s]c:\\Users\\david\\anaconda3\\envs\\test_env\\lib\\site-packages\\tqdm\\std.py:1180: FutureWarning: In a future version of pandas, a length 1 tuple will be returned when iterating over a groupby with a grouper equal to a list of length 1. Don't supply a list with a single grouper to avoid this warning.\n",
      "  for obj in iterable:\n",
      "100%|██████████| 1230/1230 [00:00<00:00, 1376.16it/s]\n",
      "  0%|          | 0/1230 [00:00<?, ?it/s]c:\\Users\\david\\anaconda3\\envs\\test_env\\lib\\site-packages\\tqdm\\std.py:1180: FutureWarning: In a future version of pandas, a length 1 tuple will be returned when iterating over a groupby with a grouper equal to a list of length 1. Don't supply a list with a single grouper to avoid this warning.\n",
      "  for obj in iterable:\n",
      "100%|██████████| 1230/1230 [00:13<00:00, 93.96it/s] \n"
     ]
    },
    {
     "name": "stdout",
     "output_type": "stream",
     "text": [
      "train_d size : (25798, 3)\n",
      "train_t size : (6658, 3)\n",
      "knn k : 75\n"
     ]
    },
    {
     "name": "stderr",
     "output_type": "stream",
     "text": [
      "  0%|          | 0/1223 [00:00<?, ?it/s]c:\\Users\\david\\anaconda3\\envs\\test_env\\lib\\site-packages\\tqdm\\std.py:1180: FutureWarning: In a future version of pandas, a length 1 tuple will be returned when iterating over a groupby with a grouper equal to a list of length 1. Don't supply a list with a single grouper to avoid this warning.\n",
      "  for obj in iterable:\n",
      "100%|██████████| 1223/1223 [00:00<00:00, 4059.84it/s]\n",
      "  0%|          | 0/1223 [00:00<?, ?it/s]c:\\Users\\david\\anaconda3\\envs\\test_env\\lib\\site-packages\\tqdm\\std.py:1180: FutureWarning: In a future version of pandas, a length 1 tuple will be returned when iterating over a groupby with a grouper equal to a list of length 1. Don't supply a list with a single grouper to avoid this warning.\n",
      "  for obj in iterable:\n",
      "100%|██████████| 1223/1223 [00:00<00:00, 2484.35it/s]\n",
      "  0%|          | 0/1223 [00:00<?, ?it/s]c:\\Users\\david\\anaconda3\\envs\\test_env\\lib\\site-packages\\tqdm\\std.py:1180: FutureWarning: In a future version of pandas, a length 1 tuple will be returned when iterating over a groupby with a grouper equal to a list of length 1. Don't supply a list with a single grouper to avoid this warning.\n",
      "  for obj in iterable:\n",
      "100%|██████████| 1223/1223 [00:13<00:00, 91.74it/s]\n"
     ]
    },
    {
     "name": "stdout",
     "output_type": "stream",
     "text": [
      "train_d size : (25878, 3)\n",
      "train_t size : (6578, 3)\n",
      "knn k : 75\n"
     ]
    },
    {
     "name": "stderr",
     "output_type": "stream",
     "text": [
      "  0%|          | 0/1217 [00:00<?, ?it/s]c:\\Users\\david\\anaconda3\\envs\\test_env\\lib\\site-packages\\tqdm\\std.py:1180: FutureWarning: In a future version of pandas, a length 1 tuple will be returned when iterating over a groupby with a grouper equal to a list of length 1. Don't supply a list with a single grouper to avoid this warning.\n",
      "  for obj in iterable:\n",
      "100%|██████████| 1217/1217 [00:00<00:00, 2715.27it/s]\n",
      "  0%|          | 0/1217 [00:00<?, ?it/s]c:\\Users\\david\\anaconda3\\envs\\test_env\\lib\\site-packages\\tqdm\\std.py:1180: FutureWarning: In a future version of pandas, a length 1 tuple will be returned when iterating over a groupby with a grouper equal to a list of length 1. Don't supply a list with a single grouper to avoid this warning.\n",
      "  for obj in iterable:\n",
      "100%|██████████| 1217/1217 [00:00<00:00, 1635.17it/s]\n",
      "  0%|          | 0/1217 [00:00<?, ?it/s]c:\\Users\\david\\anaconda3\\envs\\test_env\\lib\\site-packages\\tqdm\\std.py:1180: FutureWarning: In a future version of pandas, a length 1 tuple will be returned when iterating over a groupby with a grouper equal to a list of length 1. Don't supply a list with a single grouper to avoid this warning.\n",
      "  for obj in iterable:\n",
      "100%|██████████| 1217/1217 [00:12<00:00, 98.64it/s] \n"
     ]
    },
    {
     "name": "stdout",
     "output_type": "stream",
     "text": [
      "train_d size : (25695, 3)\n",
      "train_t size : (6761, 3)\n",
      "knn k : 75\n"
     ]
    },
    {
     "name": "stderr",
     "output_type": "stream",
     "text": [
      "  0%|          | 0/1249 [00:00<?, ?it/s]c:\\Users\\david\\anaconda3\\envs\\test_env\\lib\\site-packages\\tqdm\\std.py:1180: FutureWarning: In a future version of pandas, a length 1 tuple will be returned when iterating over a groupby with a grouper equal to a list of length 1. Don't supply a list with a single grouper to avoid this warning.\n",
      "  for obj in iterable:\n",
      "100%|██████████| 1249/1249 [00:00<00:00, 3911.20it/s]\n",
      "  0%|          | 0/1249 [00:00<?, ?it/s]c:\\Users\\david\\anaconda3\\envs\\test_env\\lib\\site-packages\\tqdm\\std.py:1180: FutureWarning: In a future version of pandas, a length 1 tuple will be returned when iterating over a groupby with a grouper equal to a list of length 1. Don't supply a list with a single grouper to avoid this warning.\n",
      "  for obj in iterable:\n",
      "100%|██████████| 1249/1249 [00:00<00:00, 2307.59it/s]\n",
      "  0%|          | 0/1249 [00:00<?, ?it/s]c:\\Users\\david\\anaconda3\\envs\\test_env\\lib\\site-packages\\tqdm\\std.py:1180: FutureWarning: In a future version of pandas, a length 1 tuple will be returned when iterating over a groupby with a grouper equal to a list of length 1. Don't supply a list with a single grouper to avoid this warning.\n",
      "  for obj in iterable:\n",
      "100%|██████████| 1249/1249 [00:12<00:00, 98.16it/s] \n",
      "  0%|          | 0/70000 [00:00<?, ?it/s]c:\\Users\\david\\anaconda3\\envs\\test_env\\lib\\site-packages\\tqdm\\std.py:1180: FutureWarning: In a future version of pandas, a length 1 tuple will be returned when iterating over a groupby with a grouper equal to a list of length 1. Don't supply a list with a single grouper to avoid this warning.\n",
      "  for obj in iterable:\n",
      "100%|██████████| 70000/70000 [00:47<00:00, 1487.08it/s]\n"
     ]
    },
    {
     "name": "stdout",
     "output_type": "stream",
     "text": [
      "train_d size : (25929, 3)\n",
      "train_t size : (6527, 3)\n",
      "knn k : 3\n"
     ]
    },
    {
     "name": "stderr",
     "output_type": "stream",
     "text": [
      "  0%|          | 0/1244 [00:00<?, ?it/s]c:\\Users\\david\\anaconda3\\envs\\test_env\\lib\\site-packages\\tqdm\\std.py:1180: FutureWarning: In a future version of pandas, a length 1 tuple will be returned when iterating over a groupby with a grouper equal to a list of length 1. Don't supply a list with a single grouper to avoid this warning.\n",
      "  for obj in iterable:\n",
      "100%|██████████| 1244/1244 [00:00<00:00, 3689.32it/s]\n",
      "  0%|          | 0/1244 [00:00<?, ?it/s]c:\\Users\\david\\anaconda3\\envs\\test_env\\lib\\site-packages\\tqdm\\std.py:1180: FutureWarning: In a future version of pandas, a length 1 tuple will be returned when iterating over a groupby with a grouper equal to a list of length 1. Don't supply a list with a single grouper to avoid this warning.\n",
      "  for obj in iterable:\n",
      "100%|██████████| 1244/1244 [00:00<00:00, 3112.06it/s]\n",
      "  0%|          | 0/1244 [00:00<?, ?it/s]c:\\Users\\david\\anaconda3\\envs\\test_env\\lib\\site-packages\\tqdm\\std.py:1180: FutureWarning: In a future version of pandas, a length 1 tuple will be returned when iterating over a groupby with a grouper equal to a list of length 1. Don't supply a list with a single grouper to avoid this warning.\n",
      "  for obj in iterable:\n",
      "100%|██████████| 1244/1244 [00:06<00:00, 194.98it/s]\n"
     ]
    },
    {
     "name": "stdout",
     "output_type": "stream",
     "text": [
      "train_d size : (26027, 3)\n",
      "train_t size : (6429, 3)\n",
      "knn k : 3\n"
     ]
    },
    {
     "name": "stderr",
     "output_type": "stream",
     "text": [
      "  0%|          | 0/1186 [00:00<?, ?it/s]c:\\Users\\david\\anaconda3\\envs\\test_env\\lib\\site-packages\\tqdm\\std.py:1180: FutureWarning: In a future version of pandas, a length 1 tuple will be returned when iterating over a groupby with a grouper equal to a list of length 1. Don't supply a list with a single grouper to avoid this warning.\n",
      "  for obj in iterable:\n",
      "100%|██████████| 1186/1186 [00:00<00:00, 3489.74it/s]\n",
      "  0%|          | 0/1186 [00:00<?, ?it/s]c:\\Users\\david\\anaconda3\\envs\\test_env\\lib\\site-packages\\tqdm\\std.py:1180: FutureWarning: In a future version of pandas, a length 1 tuple will be returned when iterating over a groupby with a grouper equal to a list of length 1. Don't supply a list with a single grouper to avoid this warning.\n",
      "  for obj in iterable:\n",
      "100%|██████████| 1186/1186 [00:00<00:00, 3319.51it/s]\n",
      "  0%|          | 0/1186 [00:00<?, ?it/s]c:\\Users\\david\\anaconda3\\envs\\test_env\\lib\\site-packages\\tqdm\\std.py:1180: FutureWarning: In a future version of pandas, a length 1 tuple will be returned when iterating over a groupby with a grouper equal to a list of length 1. Don't supply a list with a single grouper to avoid this warning.\n",
      "  for obj in iterable:\n",
      "100%|██████████| 1186/1186 [00:07<00:00, 160.35it/s]\n"
     ]
    },
    {
     "name": "stdout",
     "output_type": "stream",
     "text": [
      "train_d size : (25956, 3)\n",
      "train_t size : (6500, 3)\n",
      "knn k : 3\n"
     ]
    },
    {
     "name": "stderr",
     "output_type": "stream",
     "text": [
      "  0%|          | 0/1185 [00:00<?, ?it/s]c:\\Users\\david\\anaconda3\\envs\\test_env\\lib\\site-packages\\tqdm\\std.py:1180: FutureWarning: In a future version of pandas, a length 1 tuple will be returned when iterating over a groupby with a grouper equal to a list of length 1. Don't supply a list with a single grouper to avoid this warning.\n",
      "  for obj in iterable:\n",
      "100%|██████████| 1185/1185 [00:00<00:00, 5006.21it/s]\n",
      "  0%|          | 0/1185 [00:00<?, ?it/s]c:\\Users\\david\\anaconda3\\envs\\test_env\\lib\\site-packages\\tqdm\\std.py:1180: FutureWarning: In a future version of pandas, a length 1 tuple will be returned when iterating over a groupby with a grouper equal to a list of length 1. Don't supply a list with a single grouper to avoid this warning.\n",
      "  for obj in iterable:\n",
      "100%|██████████| 1185/1185 [00:00<00:00, 2980.56it/s]\n",
      "  0%|          | 0/1185 [00:00<?, ?it/s]c:\\Users\\david\\anaconda3\\envs\\test_env\\lib\\site-packages\\tqdm\\std.py:1180: FutureWarning: In a future version of pandas, a length 1 tuple will be returned when iterating over a groupby with a grouper equal to a list of length 1. Don't supply a list with a single grouper to avoid this warning.\n",
      "  for obj in iterable:\n",
      "100%|██████████| 1185/1185 [00:06<00:00, 180.44it/s]\n"
     ]
    },
    {
     "name": "stdout",
     "output_type": "stream",
     "text": [
      "train_d size : (25807, 3)\n",
      "train_t size : (6649, 3)\n",
      "knn k : 3\n"
     ]
    },
    {
     "name": "stderr",
     "output_type": "stream",
     "text": [
      "  0%|          | 0/1242 [00:00<?, ?it/s]c:\\Users\\david\\anaconda3\\envs\\test_env\\lib\\site-packages\\tqdm\\std.py:1180: FutureWarning: In a future version of pandas, a length 1 tuple will be returned when iterating over a groupby with a grouper equal to a list of length 1. Don't supply a list with a single grouper to avoid this warning.\n",
      "  for obj in iterable:\n",
      "100%|██████████| 1242/1242 [00:00<00:00, 3566.10it/s]\n",
      "  0%|          | 0/1242 [00:00<?, ?it/s]c:\\Users\\david\\anaconda3\\envs\\test_env\\lib\\site-packages\\tqdm\\std.py:1180: FutureWarning: In a future version of pandas, a length 1 tuple will be returned when iterating over a groupby with a grouper equal to a list of length 1. Don't supply a list with a single grouper to avoid this warning.\n",
      "  for obj in iterable:\n",
      "100%|██████████| 1242/1242 [00:00<00:00, 3031.58it/s]\n",
      "  0%|          | 0/1242 [00:00<?, ?it/s]c:\\Users\\david\\anaconda3\\envs\\test_env\\lib\\site-packages\\tqdm\\std.py:1180: FutureWarning: In a future version of pandas, a length 1 tuple will be returned when iterating over a groupby with a grouper equal to a list of length 1. Don't supply a list with a single grouper to avoid this warning.\n",
      "  for obj in iterable:\n",
      "100%|██████████| 1242/1242 [00:08<00:00, 152.55it/s]\n"
     ]
    },
    {
     "name": "stdout",
     "output_type": "stream",
     "text": [
      "train_d size : (26105, 3)\n",
      "train_t size : (6351, 3)\n",
      "knn k : 3\n"
     ]
    },
    {
     "name": "stderr",
     "output_type": "stream",
     "text": [
      "  0%|          | 0/1218 [00:00<?, ?it/s]c:\\Users\\david\\anaconda3\\envs\\test_env\\lib\\site-packages\\tqdm\\std.py:1180: FutureWarning: In a future version of pandas, a length 1 tuple will be returned when iterating over a groupby with a grouper equal to a list of length 1. Don't supply a list with a single grouper to avoid this warning.\n",
      "  for obj in iterable:\n",
      "100%|██████████| 1218/1218 [00:00<00:00, 3576.35it/s]\n",
      "  0%|          | 0/1218 [00:00<?, ?it/s]c:\\Users\\david\\anaconda3\\envs\\test_env\\lib\\site-packages\\tqdm\\std.py:1180: FutureWarning: In a future version of pandas, a length 1 tuple will be returned when iterating over a groupby with a grouper equal to a list of length 1. Don't supply a list with a single grouper to avoid this warning.\n",
      "  for obj in iterable:\n",
      "100%|██████████| 1218/1218 [00:00<00:00, 3196.77it/s]\n",
      "  0%|          | 0/1218 [00:00<?, ?it/s]c:\\Users\\david\\anaconda3\\envs\\test_env\\lib\\site-packages\\tqdm\\std.py:1180: FutureWarning: In a future version of pandas, a length 1 tuple will be returned when iterating over a groupby with a grouper equal to a list of length 1. Don't supply a list with a single grouper to avoid this warning.\n",
      "  for obj in iterable:\n",
      "100%|██████████| 1218/1218 [00:05<00:00, 209.79it/s]\n"
     ]
    },
    {
     "name": "stdout",
     "output_type": "stream",
     "text": [
      "train_d size : (25711, 3)\n",
      "train_t size : (6745, 3)\n",
      "knn k : 11\n"
     ]
    },
    {
     "name": "stderr",
     "output_type": "stream",
     "text": [
      "  0%|          | 0/1246 [00:00<?, ?it/s]c:\\Users\\david\\anaconda3\\envs\\test_env\\lib\\site-packages\\tqdm\\std.py:1180: FutureWarning: In a future version of pandas, a length 1 tuple will be returned when iterating over a groupby with a grouper equal to a list of length 1. Don't supply a list with a single grouper to avoid this warning.\n",
      "  for obj in iterable:\n",
      "100%|██████████| 1246/1246 [00:00<00:00, 3687.19it/s]\n",
      "  0%|          | 0/1246 [00:00<?, ?it/s]c:\\Users\\david\\anaconda3\\envs\\test_env\\lib\\site-packages\\tqdm\\std.py:1180: FutureWarning: In a future version of pandas, a length 1 tuple will be returned when iterating over a groupby with a grouper equal to a list of length 1. Don't supply a list with a single grouper to avoid this warning.\n",
      "  for obj in iterable:\n",
      "100%|██████████| 1246/1246 [00:00<00:00, 3345.07it/s]\n",
      "  0%|          | 0/1246 [00:00<?, ?it/s]c:\\Users\\david\\anaconda3\\envs\\test_env\\lib\\site-packages\\tqdm\\std.py:1180: FutureWarning: In a future version of pandas, a length 1 tuple will be returned when iterating over a groupby with a grouper equal to a list of length 1. Don't supply a list with a single grouper to avoid this warning.\n",
      "  for obj in iterable:\n",
      "100%|██████████| 1246/1246 [00:06<00:00, 184.17it/s]\n"
     ]
    },
    {
     "name": "stdout",
     "output_type": "stream",
     "text": [
      "train_d size : (25917, 3)\n",
      "train_t size : (6539, 3)\n",
      "knn k : 11\n"
     ]
    },
    {
     "name": "stderr",
     "output_type": "stream",
     "text": [
      "  0%|          | 0/1208 [00:00<?, ?it/s]c:\\Users\\david\\anaconda3\\envs\\test_env\\lib\\site-packages\\tqdm\\std.py:1180: FutureWarning: In a future version of pandas, a length 1 tuple will be returned when iterating over a groupby with a grouper equal to a list of length 1. Don't supply a list with a single grouper to avoid this warning.\n",
      "  for obj in iterable:\n",
      "100%|██████████| 1208/1208 [00:00<00:00, 5216.01it/s]\n",
      "  0%|          | 0/1208 [00:00<?, ?it/s]c:\\Users\\david\\anaconda3\\envs\\test_env\\lib\\site-packages\\tqdm\\std.py:1180: FutureWarning: In a future version of pandas, a length 1 tuple will be returned when iterating over a groupby with a grouper equal to a list of length 1. Don't supply a list with a single grouper to avoid this warning.\n",
      "  for obj in iterable:\n",
      "100%|██████████| 1208/1208 [00:00<00:00, 2858.01it/s]\n",
      "  0%|          | 0/1208 [00:00<?, ?it/s]c:\\Users\\david\\anaconda3\\envs\\test_env\\lib\\site-packages\\tqdm\\std.py:1180: FutureWarning: In a future version of pandas, a length 1 tuple will be returned when iterating over a groupby with a grouper equal to a list of length 1. Don't supply a list with a single grouper to avoid this warning.\n",
      "  for obj in iterable:\n",
      "100%|██████████| 1208/1208 [00:05<00:00, 206.65it/s]\n"
     ]
    },
    {
     "name": "stdout",
     "output_type": "stream",
     "text": [
      "train_d size : (25818, 3)\n",
      "train_t size : (6638, 3)\n",
      "knn k : 11\n"
     ]
    },
    {
     "name": "stderr",
     "output_type": "stream",
     "text": [
      "  0%|          | 0/1225 [00:00<?, ?it/s]c:\\Users\\david\\anaconda3\\envs\\test_env\\lib\\site-packages\\tqdm\\std.py:1180: FutureWarning: In a future version of pandas, a length 1 tuple will be returned when iterating over a groupby with a grouper equal to a list of length 1. Don't supply a list with a single grouper to avoid this warning.\n",
      "  for obj in iterable:\n",
      "100%|██████████| 1225/1225 [00:00<00:00, 8131.91it/s]\n",
      "  0%|          | 0/1225 [00:00<?, ?it/s]c:\\Users\\david\\anaconda3\\envs\\test_env\\lib\\site-packages\\tqdm\\std.py:1180: FutureWarning: In a future version of pandas, a length 1 tuple will be returned when iterating over a groupby with a grouper equal to a list of length 1. Don't supply a list with a single grouper to avoid this warning.\n",
      "  for obj in iterable:\n",
      "100%|██████████| 1225/1225 [00:00<00:00, 3130.20it/s]\n",
      "  0%|          | 0/1225 [00:00<?, ?it/s]c:\\Users\\david\\anaconda3\\envs\\test_env\\lib\\site-packages\\tqdm\\std.py:1180: FutureWarning: In a future version of pandas, a length 1 tuple will be returned when iterating over a groupby with a grouper equal to a list of length 1. Don't supply a list with a single grouper to avoid this warning.\n",
      "  for obj in iterable:\n",
      "100%|██████████| 1225/1225 [00:05<00:00, 208.50it/s]\n"
     ]
    },
    {
     "name": "stdout",
     "output_type": "stream",
     "text": [
      "train_d size : (25966, 3)\n",
      "train_t size : (6490, 3)\n",
      "knn k : 11\n"
     ]
    },
    {
     "name": "stderr",
     "output_type": "stream",
     "text": [
      "  0%|          | 0/1255 [00:00<?, ?it/s]c:\\Users\\david\\anaconda3\\envs\\test_env\\lib\\site-packages\\tqdm\\std.py:1180: FutureWarning: In a future version of pandas, a length 1 tuple will be returned when iterating over a groupby with a grouper equal to a list of length 1. Don't supply a list with a single grouper to avoid this warning.\n",
      "  for obj in iterable:\n",
      "100%|██████████| 1255/1255 [00:00<00:00, 3569.63it/s]\n",
      "  0%|          | 0/1255 [00:00<?, ?it/s]c:\\Users\\david\\anaconda3\\envs\\test_env\\lib\\site-packages\\tqdm\\std.py:1180: FutureWarning: In a future version of pandas, a length 1 tuple will be returned when iterating over a groupby with a grouper equal to a list of length 1. Don't supply a list with a single grouper to avoid this warning.\n",
      "  for obj in iterable:\n",
      "100%|██████████| 1255/1255 [00:00<00:00, 2685.06it/s]\n",
      "  0%|          | 0/1255 [00:00<?, ?it/s]c:\\Users\\david\\anaconda3\\envs\\test_env\\lib\\site-packages\\tqdm\\std.py:1180: FutureWarning: In a future version of pandas, a length 1 tuple will be returned when iterating over a groupby with a grouper equal to a list of length 1. Don't supply a list with a single grouper to avoid this warning.\n",
      "  for obj in iterable:\n",
      "100%|██████████| 1255/1255 [00:06<00:00, 197.49it/s]\n"
     ]
    },
    {
     "name": "stdout",
     "output_type": "stream",
     "text": [
      "train_d size : (26412, 3)\n",
      "train_t size : (6044, 3)\n",
      "knn k : 11\n"
     ]
    },
    {
     "name": "stderr",
     "output_type": "stream",
     "text": [
      "  0%|          | 0/1141 [00:00<?, ?it/s]c:\\Users\\david\\anaconda3\\envs\\test_env\\lib\\site-packages\\tqdm\\std.py:1180: FutureWarning: In a future version of pandas, a length 1 tuple will be returned when iterating over a groupby with a grouper equal to a list of length 1. Don't supply a list with a single grouper to avoid this warning.\n",
      "  for obj in iterable:\n",
      "100%|██████████| 1141/1141 [00:00<00:00, 3605.61it/s]\n",
      "  0%|          | 0/1141 [00:00<?, ?it/s]c:\\Users\\david\\anaconda3\\envs\\test_env\\lib\\site-packages\\tqdm\\std.py:1180: FutureWarning: In a future version of pandas, a length 1 tuple will be returned when iterating over a groupby with a grouper equal to a list of length 1. Don't supply a list with a single grouper to avoid this warning.\n",
      "  for obj in iterable:\n",
      "100%|██████████| 1141/1141 [00:00<00:00, 3435.81it/s]\n",
      "  0%|          | 0/1141 [00:00<?, ?it/s]c:\\Users\\david\\anaconda3\\envs\\test_env\\lib\\site-packages\\tqdm\\std.py:1180: FutureWarning: In a future version of pandas, a length 1 tuple will be returned when iterating over a groupby with a grouper equal to a list of length 1. Don't supply a list with a single grouper to avoid this warning.\n",
      "  for obj in iterable:\n",
      "100%|██████████| 1141/1141 [00:06<00:00, 170.50it/s]\n"
     ]
    },
    {
     "name": "stdout",
     "output_type": "stream",
     "text": [
      "train_d size : (26202, 3)\n",
      "train_t size : (6254, 3)\n",
      "knn k : 25\n"
     ]
    },
    {
     "name": "stderr",
     "output_type": "stream",
     "text": [
      "  0%|          | 0/1192 [00:00<?, ?it/s]c:\\Users\\david\\anaconda3\\envs\\test_env\\lib\\site-packages\\tqdm\\std.py:1180: FutureWarning: In a future version of pandas, a length 1 tuple will be returned when iterating over a groupby with a grouper equal to a list of length 1. Don't supply a list with a single grouper to avoid this warning.\n",
      "  for obj in iterable:\n",
      "100%|██████████| 1192/1192 [00:00<00:00, 5869.99it/s]\n",
      "  0%|          | 0/1192 [00:00<?, ?it/s]c:\\Users\\david\\anaconda3\\envs\\test_env\\lib\\site-packages\\tqdm\\std.py:1180: FutureWarning: In a future version of pandas, a length 1 tuple will be returned when iterating over a groupby with a grouper equal to a list of length 1. Don't supply a list with a single grouper to avoid this warning.\n",
      "  for obj in iterable:\n",
      "100%|██████████| 1192/1192 [00:00<00:00, 3108.46it/s]\n",
      "  0%|          | 0/1192 [00:00<?, ?it/s]c:\\Users\\david\\anaconda3\\envs\\test_env\\lib\\site-packages\\tqdm\\std.py:1180: FutureWarning: In a future version of pandas, a length 1 tuple will be returned when iterating over a groupby with a grouper equal to a list of length 1. Don't supply a list with a single grouper to avoid this warning.\n",
      "  for obj in iterable:\n",
      "100%|██████████| 1192/1192 [00:07<00:00, 163.53it/s]\n"
     ]
    },
    {
     "name": "stdout",
     "output_type": "stream",
     "text": [
      "train_d size : (26223, 3)\n",
      "train_t size : (6233, 3)\n",
      "knn k : 25\n"
     ]
    },
    {
     "name": "stderr",
     "output_type": "stream",
     "text": [
      "  0%|          | 0/1220 [00:00<?, ?it/s]c:\\Users\\david\\anaconda3\\envs\\test_env\\lib\\site-packages\\tqdm\\std.py:1180: FutureWarning: In a future version of pandas, a length 1 tuple will be returned when iterating over a groupby with a grouper equal to a list of length 1. Don't supply a list with a single grouper to avoid this warning.\n",
      "  for obj in iterable:\n",
      "100%|██████████| 1220/1220 [00:00<00:00, 7695.60it/s]\n",
      "  0%|          | 0/1220 [00:00<?, ?it/s]c:\\Users\\david\\anaconda3\\envs\\test_env\\lib\\site-packages\\tqdm\\std.py:1180: FutureWarning: In a future version of pandas, a length 1 tuple will be returned when iterating over a groupby with a grouper equal to a list of length 1. Don't supply a list with a single grouper to avoid this warning.\n",
      "  for obj in iterable:\n",
      "100%|██████████| 1220/1220 [00:00<00:00, 3111.71it/s]\n",
      "  0%|          | 0/1220 [00:00<?, ?it/s]c:\\Users\\david\\anaconda3\\envs\\test_env\\lib\\site-packages\\tqdm\\std.py:1180: FutureWarning: In a future version of pandas, a length 1 tuple will be returned when iterating over a groupby with a grouper equal to a list of length 1. Don't supply a list with a single grouper to avoid this warning.\n",
      "  for obj in iterable:\n",
      "100%|██████████| 1220/1220 [00:06<00:00, 194.36it/s]\n"
     ]
    },
    {
     "name": "stdout",
     "output_type": "stream",
     "text": [
      "train_d size : (25862, 3)\n",
      "train_t size : (6594, 3)\n",
      "knn k : 25\n"
     ]
    },
    {
     "name": "stderr",
     "output_type": "stream",
     "text": [
      "  0%|          | 0/1220 [00:00<?, ?it/s]c:\\Users\\david\\anaconda3\\envs\\test_env\\lib\\site-packages\\tqdm\\std.py:1180: FutureWarning: In a future version of pandas, a length 1 tuple will be returned when iterating over a groupby with a grouper equal to a list of length 1. Don't supply a list with a single grouper to avoid this warning.\n",
      "  for obj in iterable:\n",
      "100%|██████████| 1220/1220 [00:00<00:00, 4049.74it/s]\n",
      "  0%|          | 0/1220 [00:00<?, ?it/s]c:\\Users\\david\\anaconda3\\envs\\test_env\\lib\\site-packages\\tqdm\\std.py:1180: FutureWarning: In a future version of pandas, a length 1 tuple will be returned when iterating over a groupby with a grouper equal to a list of length 1. Don't supply a list with a single grouper to avoid this warning.\n",
      "  for obj in iterable:\n",
      "100%|██████████| 1220/1220 [00:00<00:00, 3646.50it/s]\n",
      "  0%|          | 0/1220 [00:00<?, ?it/s]c:\\Users\\david\\anaconda3\\envs\\test_env\\lib\\site-packages\\tqdm\\std.py:1180: FutureWarning: In a future version of pandas, a length 1 tuple will be returned when iterating over a groupby with a grouper equal to a list of length 1. Don't supply a list with a single grouper to avoid this warning.\n",
      "  for obj in iterable:\n",
      "100%|██████████| 1220/1220 [00:06<00:00, 177.38it/s]\n"
     ]
    },
    {
     "name": "stdout",
     "output_type": "stream",
     "text": [
      "train_d size : (26081, 3)\n",
      "train_t size : (6375, 3)\n",
      "knn k : 25\n"
     ]
    },
    {
     "name": "stderr",
     "output_type": "stream",
     "text": [
      "  0%|          | 0/1200 [00:00<?, ?it/s]c:\\Users\\david\\anaconda3\\envs\\test_env\\lib\\site-packages\\tqdm\\std.py:1180: FutureWarning: In a future version of pandas, a length 1 tuple will be returned when iterating over a groupby with a grouper equal to a list of length 1. Don't supply a list with a single grouper to avoid this warning.\n",
      "  for obj in iterable:\n",
      "100%|██████████| 1200/1200 [00:00<00:00, 7525.99it/s]\n",
      "  0%|          | 0/1200 [00:00<?, ?it/s]c:\\Users\\david\\anaconda3\\envs\\test_env\\lib\\site-packages\\tqdm\\std.py:1180: FutureWarning: In a future version of pandas, a length 1 tuple will be returned when iterating over a groupby with a grouper equal to a list of length 1. Don't supply a list with a single grouper to avoid this warning.\n",
      "  for obj in iterable:\n",
      "100%|██████████| 1200/1200 [00:00<00:00, 3597.22it/s]\n",
      "  0%|          | 0/1200 [00:00<?, ?it/s]c:\\Users\\david\\anaconda3\\envs\\test_env\\lib\\site-packages\\tqdm\\std.py:1180: FutureWarning: In a future version of pandas, a length 1 tuple will be returned when iterating over a groupby with a grouper equal to a list of length 1. Don't supply a list with a single grouper to avoid this warning.\n",
      "  for obj in iterable:\n",
      "100%|██████████| 1200/1200 [00:09<00:00, 123.00it/s]\n"
     ]
    },
    {
     "name": "stdout",
     "output_type": "stream",
     "text": [
      "train_d size : (25456, 3)\n",
      "train_t size : (7000, 3)\n",
      "knn k : 25\n"
     ]
    },
    {
     "name": "stderr",
     "output_type": "stream",
     "text": [
      "  0%|          | 0/1243 [00:00<?, ?it/s]c:\\Users\\david\\anaconda3\\envs\\test_env\\lib\\site-packages\\tqdm\\std.py:1180: FutureWarning: In a future version of pandas, a length 1 tuple will be returned when iterating over a groupby with a grouper equal to a list of length 1. Don't supply a list with a single grouper to avoid this warning.\n",
      "  for obj in iterable:\n",
      "100%|██████████| 1243/1243 [00:00<00:00, 4006.01it/s]\n",
      "  0%|          | 0/1243 [00:00<?, ?it/s]c:\\Users\\david\\anaconda3\\envs\\test_env\\lib\\site-packages\\tqdm\\std.py:1180: FutureWarning: In a future version of pandas, a length 1 tuple will be returned when iterating over a groupby with a grouper equal to a list of length 1. Don't supply a list with a single grouper to avoid this warning.\n",
      "  for obj in iterable:\n",
      "100%|██████████| 1243/1243 [00:00<00:00, 2046.71it/s]\n",
      "  0%|          | 0/1243 [00:00<?, ?it/s]c:\\Users\\david\\anaconda3\\envs\\test_env\\lib\\site-packages\\tqdm\\std.py:1180: FutureWarning: In a future version of pandas, a length 1 tuple will be returned when iterating over a groupby with a grouper equal to a list of length 1. Don't supply a list with a single grouper to avoid this warning.\n",
      "  for obj in iterable:\n",
      "100%|██████████| 1243/1243 [00:07<00:00, 175.03it/s]\n"
     ]
    },
    {
     "name": "stdout",
     "output_type": "stream",
     "text": [
      "train_d size : (25921, 3)\n",
      "train_t size : (6535, 3)\n",
      "knn k : 35\n"
     ]
    },
    {
     "name": "stderr",
     "output_type": "stream",
     "text": [
      "  0%|          | 0/1203 [00:00<?, ?it/s]c:\\Users\\david\\anaconda3\\envs\\test_env\\lib\\site-packages\\tqdm\\std.py:1180: FutureWarning: In a future version of pandas, a length 1 tuple will be returned when iterating over a groupby with a grouper equal to a list of length 1. Don't supply a list with a single grouper to avoid this warning.\n",
      "  for obj in iterable:\n",
      "100%|██████████| 1203/1203 [00:00<00:00, 1214.08it/s]\n",
      "  0%|          | 0/1203 [00:00<?, ?it/s]c:\\Users\\david\\anaconda3\\envs\\test_env\\lib\\site-packages\\tqdm\\std.py:1180: FutureWarning: In a future version of pandas, a length 1 tuple will be returned when iterating over a groupby with a grouper equal to a list of length 1. Don't supply a list with a single grouper to avoid this warning.\n",
      "  for obj in iterable:\n",
      "100%|██████████| 1203/1203 [00:00<00:00, 2863.92it/s]\n",
      "  0%|          | 0/1203 [00:00<?, ?it/s]c:\\Users\\david\\anaconda3\\envs\\test_env\\lib\\site-packages\\tqdm\\std.py:1180: FutureWarning: In a future version of pandas, a length 1 tuple will be returned when iterating over a groupby with a grouper equal to a list of length 1. Don't supply a list with a single grouper to avoid this warning.\n",
      "  for obj in iterable:\n",
      "100%|██████████| 1203/1203 [00:07<00:00, 163.40it/s]\n"
     ]
    },
    {
     "name": "stdout",
     "output_type": "stream",
     "text": [
      "train_d size : (26558, 3)\n",
      "train_t size : (5898, 3)\n",
      "knn k : 35\n"
     ]
    },
    {
     "name": "stderr",
     "output_type": "stream",
     "text": [
      "  0%|          | 0/1179 [00:00<?, ?it/s]c:\\Users\\david\\anaconda3\\envs\\test_env\\lib\\site-packages\\tqdm\\std.py:1180: FutureWarning: In a future version of pandas, a length 1 tuple will be returned when iterating over a groupby with a grouper equal to a list of length 1. Don't supply a list with a single grouper to avoid this warning.\n",
      "  for obj in iterable:\n",
      "100%|██████████| 1179/1179 [00:00<00:00, 2328.41it/s]\n",
      "  0%|          | 0/1179 [00:00<?, ?it/s]c:\\Users\\david\\anaconda3\\envs\\test_env\\lib\\site-packages\\tqdm\\std.py:1180: FutureWarning: In a future version of pandas, a length 1 tuple will be returned when iterating over a groupby with a grouper equal to a list of length 1. Don't supply a list with a single grouper to avoid this warning.\n",
      "  for obj in iterable:\n",
      "100%|██████████| 1179/1179 [00:00<00:00, 2299.26it/s]\n",
      "  0%|          | 0/1179 [00:00<?, ?it/s]c:\\Users\\david\\anaconda3\\envs\\test_env\\lib\\site-packages\\tqdm\\std.py:1180: FutureWarning: In a future version of pandas, a length 1 tuple will be returned when iterating over a groupby with a grouper equal to a list of length 1. Don't supply a list with a single grouper to avoid this warning.\n",
      "  for obj in iterable:\n",
      "100%|██████████| 1179/1179 [00:13<00:00, 86.24it/s] \n"
     ]
    },
    {
     "name": "stdout",
     "output_type": "stream",
     "text": [
      "train_d size : (25647, 3)\n",
      "train_t size : (6809, 3)\n",
      "knn k : 35\n"
     ]
    },
    {
     "name": "stderr",
     "output_type": "stream",
     "text": [
      "  0%|          | 0/1256 [00:00<?, ?it/s]c:\\Users\\david\\anaconda3\\envs\\test_env\\lib\\site-packages\\tqdm\\std.py:1180: FutureWarning: In a future version of pandas, a length 1 tuple will be returned when iterating over a groupby with a grouper equal to a list of length 1. Don't supply a list with a single grouper to avoid this warning.\n",
      "  for obj in iterable:\n",
      "100%|██████████| 1256/1256 [00:00<00:00, 4261.32it/s]\n",
      "  0%|          | 0/1256 [00:00<?, ?it/s]c:\\Users\\david\\anaconda3\\envs\\test_env\\lib\\site-packages\\tqdm\\std.py:1180: FutureWarning: In a future version of pandas, a length 1 tuple will be returned when iterating over a groupby with a grouper equal to a list of length 1. Don't supply a list with a single grouper to avoid this warning.\n",
      "  for obj in iterable:\n",
      "100%|██████████| 1256/1256 [00:00<00:00, 2795.13it/s]\n",
      "  0%|          | 0/1256 [00:00<?, ?it/s]c:\\Users\\david\\anaconda3\\envs\\test_env\\lib\\site-packages\\tqdm\\std.py:1180: FutureWarning: In a future version of pandas, a length 1 tuple will be returned when iterating over a groupby with a grouper equal to a list of length 1. Don't supply a list with a single grouper to avoid this warning.\n",
      "  for obj in iterable:\n",
      "100%|██████████| 1256/1256 [00:06<00:00, 195.31it/s]\n"
     ]
    },
    {
     "name": "stdout",
     "output_type": "stream",
     "text": [
      "train_d size : (25741, 3)\n",
      "train_t size : (6715, 3)\n",
      "knn k : 35\n"
     ]
    },
    {
     "name": "stderr",
     "output_type": "stream",
     "text": [
      "  0%|          | 0/1243 [00:00<?, ?it/s]c:\\Users\\david\\anaconda3\\envs\\test_env\\lib\\site-packages\\tqdm\\std.py:1180: FutureWarning: In a future version of pandas, a length 1 tuple will be returned when iterating over a groupby with a grouper equal to a list of length 1. Don't supply a list with a single grouper to avoid this warning.\n",
      "  for obj in iterable:\n",
      "100%|██████████| 1243/1243 [00:00<00:00, 7100.74it/s]\n",
      "  0%|          | 0/1243 [00:00<?, ?it/s]c:\\Users\\david\\anaconda3\\envs\\test_env\\lib\\site-packages\\tqdm\\std.py:1180: FutureWarning: In a future version of pandas, a length 1 tuple will be returned when iterating over a groupby with a grouper equal to a list of length 1. Don't supply a list with a single grouper to avoid this warning.\n",
      "  for obj in iterable:\n",
      "100%|██████████| 1243/1243 [00:00<00:00, 3868.40it/s]\n",
      "  0%|          | 0/1243 [00:00<?, ?it/s]c:\\Users\\david\\anaconda3\\envs\\test_env\\lib\\site-packages\\tqdm\\std.py:1180: FutureWarning: In a future version of pandas, a length 1 tuple will be returned when iterating over a groupby with a grouper equal to a list of length 1. Don't supply a list with a single grouper to avoid this warning.\n",
      "  for obj in iterable:\n",
      "100%|██████████| 1243/1243 [00:06<00:00, 194.73it/s]\n"
     ]
    },
    {
     "name": "stdout",
     "output_type": "stream",
     "text": [
      "train_d size : (25957, 3)\n",
      "train_t size : (6499, 3)\n",
      "knn k : 35\n"
     ]
    },
    {
     "name": "stderr",
     "output_type": "stream",
     "text": [
      "  0%|          | 0/1194 [00:00<?, ?it/s]c:\\Users\\david\\anaconda3\\envs\\test_env\\lib\\site-packages\\tqdm\\std.py:1180: FutureWarning: In a future version of pandas, a length 1 tuple will be returned when iterating over a groupby with a grouper equal to a list of length 1. Don't supply a list with a single grouper to avoid this warning.\n",
      "  for obj in iterable:\n",
      "100%|██████████| 1194/1194 [00:00<00:00, 3074.35it/s]\n",
      "  0%|          | 0/1194 [00:00<?, ?it/s]c:\\Users\\david\\anaconda3\\envs\\test_env\\lib\\site-packages\\tqdm\\std.py:1180: FutureWarning: In a future version of pandas, a length 1 tuple will be returned when iterating over a groupby with a grouper equal to a list of length 1. Don't supply a list with a single grouper to avoid this warning.\n",
      "  for obj in iterable:\n",
      "100%|██████████| 1194/1194 [00:00<00:00, 2658.75it/s]\n",
      "  0%|          | 0/1194 [00:00<?, ?it/s]c:\\Users\\david\\anaconda3\\envs\\test_env\\lib\\site-packages\\tqdm\\std.py:1180: FutureWarning: In a future version of pandas, a length 1 tuple will be returned when iterating over a groupby with a grouper equal to a list of length 1. Don't supply a list with a single grouper to avoid this warning.\n",
      "  for obj in iterable:\n",
      "100%|██████████| 1194/1194 [00:06<00:00, 186.01it/s]\n"
     ]
    },
    {
     "name": "stdout",
     "output_type": "stream",
     "text": [
      "train_d size : (25621, 3)\n",
      "train_t size : (6835, 3)\n",
      "knn k : 75\n"
     ]
    },
    {
     "name": "stderr",
     "output_type": "stream",
     "text": [
      "  0%|          | 0/1210 [00:00<?, ?it/s]c:\\Users\\david\\anaconda3\\envs\\test_env\\lib\\site-packages\\tqdm\\std.py:1180: FutureWarning: In a future version of pandas, a length 1 tuple will be returned when iterating over a groupby with a grouper equal to a list of length 1. Don't supply a list with a single grouper to avoid this warning.\n",
      "  for obj in iterable:\n",
      "100%|██████████| 1210/1210 [00:00<00:00, 7972.12it/s]\n",
      "  0%|          | 0/1210 [00:00<?, ?it/s]c:\\Users\\david\\anaconda3\\envs\\test_env\\lib\\site-packages\\tqdm\\std.py:1180: FutureWarning: In a future version of pandas, a length 1 tuple will be returned when iterating over a groupby with a grouper equal to a list of length 1. Don't supply a list with a single grouper to avoid this warning.\n",
      "  for obj in iterable:\n",
      "100%|██████████| 1210/1210 [00:00<00:00, 4013.22it/s]\n",
      "  0%|          | 0/1210 [00:00<?, ?it/s]c:\\Users\\david\\anaconda3\\envs\\test_env\\lib\\site-packages\\tqdm\\std.py:1180: FutureWarning: In a future version of pandas, a length 1 tuple will be returned when iterating over a groupby with a grouper equal to a list of length 1. Don't supply a list with a single grouper to avoid this warning.\n",
      "  for obj in iterable:\n",
      "100%|██████████| 1210/1210 [00:09<00:00, 126.78it/s]\n"
     ]
    },
    {
     "name": "stdout",
     "output_type": "stream",
     "text": [
      "train_d size : (26377, 3)\n",
      "train_t size : (6079, 3)\n",
      "knn k : 75\n"
     ]
    },
    {
     "name": "stderr",
     "output_type": "stream",
     "text": [
      "  0%|          | 0/1193 [00:00<?, ?it/s]c:\\Users\\david\\anaconda3\\envs\\test_env\\lib\\site-packages\\tqdm\\std.py:1180: FutureWarning: In a future version of pandas, a length 1 tuple will be returned when iterating over a groupby with a grouper equal to a list of length 1. Don't supply a list with a single grouper to avoid this warning.\n",
      "  for obj in iterable:\n",
      "100%|██████████| 1193/1193 [00:00<00:00, 5740.22it/s]\n",
      "  0%|          | 0/1193 [00:00<?, ?it/s]c:\\Users\\david\\anaconda3\\envs\\test_env\\lib\\site-packages\\tqdm\\std.py:1180: FutureWarning: In a future version of pandas, a length 1 tuple will be returned when iterating over a groupby with a grouper equal to a list of length 1. Don't supply a list with a single grouper to avoid this warning.\n",
      "  for obj in iterable:\n",
      "100%|██████████| 1193/1193 [00:00<00:00, 3542.72it/s]\n",
      "  0%|          | 0/1193 [00:00<?, ?it/s]c:\\Users\\david\\anaconda3\\envs\\test_env\\lib\\site-packages\\tqdm\\std.py:1180: FutureWarning: In a future version of pandas, a length 1 tuple will be returned when iterating over a groupby with a grouper equal to a list of length 1. Don't supply a list with a single grouper to avoid this warning.\n",
      "  for obj in iterable:\n",
      "100%|██████████| 1193/1193 [00:10<00:00, 117.07it/s]\n"
     ]
    },
    {
     "name": "stdout",
     "output_type": "stream",
     "text": [
      "train_d size : (25885, 3)\n",
      "train_t size : (6571, 3)\n",
      "knn k : 75\n"
     ]
    },
    {
     "name": "stderr",
     "output_type": "stream",
     "text": [
      "  0%|          | 0/1202 [00:00<?, ?it/s]c:\\Users\\david\\anaconda3\\envs\\test_env\\lib\\site-packages\\tqdm\\std.py:1180: FutureWarning: In a future version of pandas, a length 1 tuple will be returned when iterating over a groupby with a grouper equal to a list of length 1. Don't supply a list with a single grouper to avoid this warning.\n",
      "  for obj in iterable:\n",
      "100%|██████████| 1202/1202 [00:00<00:00, 4332.72it/s]\n",
      "  0%|          | 0/1202 [00:00<?, ?it/s]c:\\Users\\david\\anaconda3\\envs\\test_env\\lib\\site-packages\\tqdm\\std.py:1180: FutureWarning: In a future version of pandas, a length 1 tuple will be returned when iterating over a groupby with a grouper equal to a list of length 1. Don't supply a list with a single grouper to avoid this warning.\n",
      "  for obj in iterable:\n",
      "100%|██████████| 1202/1202 [00:00<00:00, 3390.28it/s]\n",
      "  0%|          | 0/1202 [00:00<?, ?it/s]c:\\Users\\david\\anaconda3\\envs\\test_env\\lib\\site-packages\\tqdm\\std.py:1180: FutureWarning: In a future version of pandas, a length 1 tuple will be returned when iterating over a groupby with a grouper equal to a list of length 1. Don't supply a list with a single grouper to avoid this warning.\n",
      "  for obj in iterable:\n",
      "100%|██████████| 1202/1202 [00:09<00:00, 122.07it/s]\n"
     ]
    },
    {
     "name": "stdout",
     "output_type": "stream",
     "text": [
      "train_d size : (26015, 3)\n",
      "train_t size : (6441, 3)\n",
      "knn k : 75\n"
     ]
    },
    {
     "name": "stderr",
     "output_type": "stream",
     "text": [
      "  0%|          | 0/1203 [00:00<?, ?it/s]c:\\Users\\david\\anaconda3\\envs\\test_env\\lib\\site-packages\\tqdm\\std.py:1180: FutureWarning: In a future version of pandas, a length 1 tuple will be returned when iterating over a groupby with a grouper equal to a list of length 1. Don't supply a list with a single grouper to avoid this warning.\n",
      "  for obj in iterable:\n",
      "100%|██████████| 1203/1203 [00:00<00:00, 8690.86it/s]\n",
      "  0%|          | 0/1203 [00:00<?, ?it/s]c:\\Users\\david\\anaconda3\\envs\\test_env\\lib\\site-packages\\tqdm\\std.py:1180: FutureWarning: In a future version of pandas, a length 1 tuple will be returned when iterating over a groupby with a grouper equal to a list of length 1. Don't supply a list with a single grouper to avoid this warning.\n",
      "  for obj in iterable:\n",
      "100%|██████████| 1203/1203 [00:00<00:00, 3650.18it/s]\n",
      "  0%|          | 0/1203 [00:00<?, ?it/s]c:\\Users\\david\\anaconda3\\envs\\test_env\\lib\\site-packages\\tqdm\\std.py:1180: FutureWarning: In a future version of pandas, a length 1 tuple will be returned when iterating over a groupby with a grouper equal to a list of length 1. Don't supply a list with a single grouper to avoid this warning.\n",
      "  for obj in iterable:\n",
      "100%|██████████| 1203/1203 [00:09<00:00, 131.69it/s]\n"
     ]
    },
    {
     "name": "stdout",
     "output_type": "stream",
     "text": [
      "train_d size : (25926, 3)\n",
      "train_t size : (6530, 3)\n",
      "knn k : 75\n"
     ]
    },
    {
     "name": "stderr",
     "output_type": "stream",
     "text": [
      "  0%|          | 0/1267 [00:00<?, ?it/s]c:\\Users\\david\\anaconda3\\envs\\test_env\\lib\\site-packages\\tqdm\\std.py:1180: FutureWarning: In a future version of pandas, a length 1 tuple will be returned when iterating over a groupby with a grouper equal to a list of length 1. Don't supply a list with a single grouper to avoid this warning.\n",
      "  for obj in iterable:\n",
      "100%|██████████| 1267/1267 [00:00<00:00, 5257.42it/s]\n",
      "  0%|          | 0/1267 [00:00<?, ?it/s]c:\\Users\\david\\anaconda3\\envs\\test_env\\lib\\site-packages\\tqdm\\std.py:1180: FutureWarning: In a future version of pandas, a length 1 tuple will be returned when iterating over a groupby with a grouper equal to a list of length 1. Don't supply a list with a single grouper to avoid this warning.\n",
      "  for obj in iterable:\n",
      "100%|██████████| 1267/1267 [00:00<00:00, 3430.57it/s]\n",
      "  0%|          | 0/1267 [00:00<?, ?it/s]c:\\Users\\david\\anaconda3\\envs\\test_env\\lib\\site-packages\\tqdm\\std.py:1180: FutureWarning: In a future version of pandas, a length 1 tuple will be returned when iterating over a groupby with a grouper equal to a list of length 1. Don't supply a list with a single grouper to avoid this warning.\n",
      "  for obj in iterable:\n",
      "100%|██████████| 1267/1267 [00:09<00:00, 139.45it/s]\n",
      "  0%|          | 0/70000 [00:00<?, ?it/s]c:\\Users\\david\\anaconda3\\envs\\test_env\\lib\\site-packages\\tqdm\\std.py:1180: FutureWarning: In a future version of pandas, a length 1 tuple will be returned when iterating over a groupby with a grouper equal to a list of length 1. Don't supply a list with a single grouper to avoid this warning.\n",
      "  for obj in iterable:\n",
      "100%|██████████| 70000/70000 [00:23<00:00, 2939.34it/s]\n"
     ]
    },
    {
     "name": "stdout",
     "output_type": "stream",
     "text": [
      "train_d size : (25923, 3)\n",
      "train_t size : (6533, 3)\n",
      "knn k : 3\n"
     ]
    },
    {
     "name": "stderr",
     "output_type": "stream",
     "text": [
      "  0%|          | 0/1217 [00:00<?, ?it/s]c:\\Users\\david\\anaconda3\\envs\\test_env\\lib\\site-packages\\tqdm\\std.py:1180: FutureWarning: In a future version of pandas, a length 1 tuple will be returned when iterating over a groupby with a grouper equal to a list of length 1. Don't supply a list with a single grouper to avoid this warning.\n",
      "  for obj in iterable:\n",
      "100%|██████████| 1217/1217 [00:00<00:00, 6952.00it/s]\n",
      "  0%|          | 0/1217 [00:00<?, ?it/s]c:\\Users\\david\\anaconda3\\envs\\test_env\\lib\\site-packages\\tqdm\\std.py:1180: FutureWarning: In a future version of pandas, a length 1 tuple will be returned when iterating over a groupby with a grouper equal to a list of length 1. Don't supply a list with a single grouper to avoid this warning.\n",
      "  for obj in iterable:\n",
      "100%|██████████| 1217/1217 [00:00<00:00, 3037.86it/s]\n",
      "  0%|          | 0/1217 [00:00<?, ?it/s]c:\\Users\\david\\anaconda3\\envs\\test_env\\lib\\site-packages\\tqdm\\std.py:1180: FutureWarning: In a future version of pandas, a length 1 tuple will be returned when iterating over a groupby with a grouper equal to a list of length 1. Don't supply a list with a single grouper to avoid this warning.\n",
      "  for obj in iterable:\n",
      "100%|██████████| 1217/1217 [00:05<00:00, 223.46it/s]\n"
     ]
    },
    {
     "name": "stdout",
     "output_type": "stream",
     "text": [
      "train_d size : (26098, 3)\n",
      "train_t size : (6358, 3)\n",
      "knn k : 3\n"
     ]
    },
    {
     "name": "stderr",
     "output_type": "stream",
     "text": [
      "  0%|          | 0/1233 [00:00<?, ?it/s]c:\\Users\\david\\anaconda3\\envs\\test_env\\lib\\site-packages\\tqdm\\std.py:1180: FutureWarning: In a future version of pandas, a length 1 tuple will be returned when iterating over a groupby with a grouper equal to a list of length 1. Don't supply a list with a single grouper to avoid this warning.\n",
      "  for obj in iterable:\n",
      "100%|██████████| 1233/1233 [00:00<00:00, 7938.82it/s]\n",
      "  0%|          | 0/1233 [00:00<?, ?it/s]c:\\Users\\david\\anaconda3\\envs\\test_env\\lib\\site-packages\\tqdm\\std.py:1180: FutureWarning: In a future version of pandas, a length 1 tuple will be returned when iterating over a groupby with a grouper equal to a list of length 1. Don't supply a list with a single grouper to avoid this warning.\n",
      "  for obj in iterable:\n",
      "100%|██████████| 1233/1233 [00:00<00:00, 3704.17it/s]\n",
      "  0%|          | 0/1233 [00:00<?, ?it/s]c:\\Users\\david\\anaconda3\\envs\\test_env\\lib\\site-packages\\tqdm\\std.py:1180: FutureWarning: In a future version of pandas, a length 1 tuple will be returned when iterating over a groupby with a grouper equal to a list of length 1. Don't supply a list with a single grouper to avoid this warning.\n",
      "  for obj in iterable:\n",
      "100%|██████████| 1233/1233 [00:05<00:00, 230.47it/s]\n"
     ]
    },
    {
     "name": "stdout",
     "output_type": "stream",
     "text": [
      "train_d size : (25994, 3)\n",
      "train_t size : (6462, 3)\n",
      "knn k : 3\n"
     ]
    },
    {
     "name": "stderr",
     "output_type": "stream",
     "text": [
      "  0%|          | 0/1205 [00:00<?, ?it/s]c:\\Users\\david\\anaconda3\\envs\\test_env\\lib\\site-packages\\tqdm\\std.py:1180: FutureWarning: In a future version of pandas, a length 1 tuple will be returned when iterating over a groupby with a grouper equal to a list of length 1. Don't supply a list with a single grouper to avoid this warning.\n",
      "  for obj in iterable:\n",
      "100%|██████████| 1205/1205 [00:00<00:00, 3399.24it/s]\n",
      "  0%|          | 0/1205 [00:00<?, ?it/s]c:\\Users\\david\\anaconda3\\envs\\test_env\\lib\\site-packages\\tqdm\\std.py:1180: FutureWarning: In a future version of pandas, a length 1 tuple will be returned when iterating over a groupby with a grouper equal to a list of length 1. Don't supply a list with a single grouper to avoid this warning.\n",
      "  for obj in iterable:\n",
      "100%|██████████| 1205/1205 [00:00<00:00, 2506.66it/s]\n",
      "  0%|          | 0/1205 [00:00<?, ?it/s]c:\\Users\\david\\anaconda3\\envs\\test_env\\lib\\site-packages\\tqdm\\std.py:1180: FutureWarning: In a future version of pandas, a length 1 tuple will be returned when iterating over a groupby with a grouper equal to a list of length 1. Don't supply a list with a single grouper to avoid this warning.\n",
      "  for obj in iterable:\n",
      "100%|██████████| 1205/1205 [00:04<00:00, 244.54it/s]\n"
     ]
    },
    {
     "name": "stdout",
     "output_type": "stream",
     "text": [
      "train_d size : (25996, 3)\n",
      "train_t size : (6460, 3)\n",
      "knn k : 3\n"
     ]
    },
    {
     "name": "stderr",
     "output_type": "stream",
     "text": [
      "  0%|          | 0/1205 [00:00<?, ?it/s]c:\\Users\\david\\anaconda3\\envs\\test_env\\lib\\site-packages\\tqdm\\std.py:1180: FutureWarning: In a future version of pandas, a length 1 tuple will be returned when iterating over a groupby with a grouper equal to a list of length 1. Don't supply a list with a single grouper to avoid this warning.\n",
      "  for obj in iterable:\n",
      "100%|██████████| 1205/1205 [00:00<00:00, 4655.20it/s]\n",
      "  0%|          | 0/1205 [00:00<?, ?it/s]c:\\Users\\david\\anaconda3\\envs\\test_env\\lib\\site-packages\\tqdm\\std.py:1180: FutureWarning: In a future version of pandas, a length 1 tuple will be returned when iterating over a groupby with a grouper equal to a list of length 1. Don't supply a list with a single grouper to avoid this warning.\n",
      "  for obj in iterable:\n",
      "100%|██████████| 1205/1205 [00:00<00:00, 4167.22it/s]\n",
      "  0%|          | 0/1205 [00:00<?, ?it/s]c:\\Users\\david\\anaconda3\\envs\\test_env\\lib\\site-packages\\tqdm\\std.py:1180: FutureWarning: In a future version of pandas, a length 1 tuple will be returned when iterating over a groupby with a grouper equal to a list of length 1. Don't supply a list with a single grouper to avoid this warning.\n",
      "  for obj in iterable:\n",
      "100%|██████████| 1205/1205 [00:04<00:00, 274.66it/s]\n"
     ]
    },
    {
     "name": "stdout",
     "output_type": "stream",
     "text": [
      "train_d size : (25813, 3)\n",
      "train_t size : (6643, 3)\n",
      "knn k : 3\n"
     ]
    },
    {
     "name": "stderr",
     "output_type": "stream",
     "text": [
      "  0%|          | 0/1215 [00:00<?, ?it/s]c:\\Users\\david\\anaconda3\\envs\\test_env\\lib\\site-packages\\tqdm\\std.py:1180: FutureWarning: In a future version of pandas, a length 1 tuple will be returned when iterating over a groupby with a grouper equal to a list of length 1. Don't supply a list with a single grouper to avoid this warning.\n",
      "  for obj in iterable:\n",
      "100%|██████████| 1215/1215 [00:00<00:00, 8332.85it/s]\n",
      "  0%|          | 0/1215 [00:00<?, ?it/s]c:\\Users\\david\\anaconda3\\envs\\test_env\\lib\\site-packages\\tqdm\\std.py:1180: FutureWarning: In a future version of pandas, a length 1 tuple will be returned when iterating over a groupby with a grouper equal to a list of length 1. Don't supply a list with a single grouper to avoid this warning.\n",
      "  for obj in iterable:\n",
      "100%|██████████| 1215/1215 [00:00<00:00, 3481.12it/s]\n",
      "  0%|          | 0/1215 [00:00<?, ?it/s]c:\\Users\\david\\anaconda3\\envs\\test_env\\lib\\site-packages\\tqdm\\std.py:1180: FutureWarning: In a future version of pandas, a length 1 tuple will be returned when iterating over a groupby with a grouper equal to a list of length 1. Don't supply a list with a single grouper to avoid this warning.\n",
      "  for obj in iterable:\n",
      "100%|██████████| 1215/1215 [00:05<00:00, 239.42it/s]\n"
     ]
    },
    {
     "name": "stdout",
     "output_type": "stream",
     "text": [
      "train_d size : (26219, 3)\n",
      "train_t size : (6237, 3)\n",
      "knn k : 11\n"
     ]
    },
    {
     "name": "stderr",
     "output_type": "stream",
     "text": [
      "  0%|          | 0/1239 [00:00<?, ?it/s]c:\\Users\\david\\anaconda3\\envs\\test_env\\lib\\site-packages\\tqdm\\std.py:1180: FutureWarning: In a future version of pandas, a length 1 tuple will be returned when iterating over a groupby with a grouper equal to a list of length 1. Don't supply a list with a single grouper to avoid this warning.\n",
      "  for obj in iterable:\n",
      "100%|██████████| 1239/1239 [00:00<00:00, 7780.84it/s]\n",
      "  0%|          | 0/1239 [00:00<?, ?it/s]c:\\Users\\david\\anaconda3\\envs\\test_env\\lib\\site-packages\\tqdm\\std.py:1180: FutureWarning: In a future version of pandas, a length 1 tuple will be returned when iterating over a groupby with a grouper equal to a list of length 1. Don't supply a list with a single grouper to avoid this warning.\n",
      "  for obj in iterable:\n",
      "100%|██████████| 1239/1239 [00:00<00:00, 3377.26it/s]\n",
      "  0%|          | 0/1239 [00:00<?, ?it/s]c:\\Users\\david\\anaconda3\\envs\\test_env\\lib\\site-packages\\tqdm\\std.py:1180: FutureWarning: In a future version of pandas, a length 1 tuple will be returned when iterating over a groupby with a grouper equal to a list of length 1. Don't supply a list with a single grouper to avoid this warning.\n",
      "  for obj in iterable:\n",
      "100%|██████████| 1239/1239 [00:05<00:00, 212.71it/s]\n"
     ]
    },
    {
     "name": "stdout",
     "output_type": "stream",
     "text": [
      "train_d size : (25719, 3)\n",
      "train_t size : (6737, 3)\n",
      "knn k : 11\n"
     ]
    },
    {
     "name": "stderr",
     "output_type": "stream",
     "text": [
      "  0%|          | 0/1228 [00:00<?, ?it/s]c:\\Users\\david\\anaconda3\\envs\\test_env\\lib\\site-packages\\tqdm\\std.py:1180: FutureWarning: In a future version of pandas, a length 1 tuple will be returned when iterating over a groupby with a grouper equal to a list of length 1. Don't supply a list with a single grouper to avoid this warning.\n",
      "  for obj in iterable:\n",
      "100%|██████████| 1228/1228 [00:00<00:00, 3654.54it/s]\n",
      "  0%|          | 0/1228 [00:00<?, ?it/s]c:\\Users\\david\\anaconda3\\envs\\test_env\\lib\\site-packages\\tqdm\\std.py:1180: FutureWarning: In a future version of pandas, a length 1 tuple will be returned when iterating over a groupby with a grouper equal to a list of length 1. Don't supply a list with a single grouper to avoid this warning.\n",
      "  for obj in iterable:\n",
      "100%|██████████| 1228/1228 [00:00<00:00, 3483.84it/s]\n",
      "  0%|          | 0/1228 [00:00<?, ?it/s]c:\\Users\\david\\anaconda3\\envs\\test_env\\lib\\site-packages\\tqdm\\std.py:1180: FutureWarning: In a future version of pandas, a length 1 tuple will be returned when iterating over a groupby with a grouper equal to a list of length 1. Don't supply a list with a single grouper to avoid this warning.\n",
      "  for obj in iterable:\n",
      "100%|██████████| 1228/1228 [00:05<00:00, 236.99it/s]\n"
     ]
    },
    {
     "name": "stdout",
     "output_type": "stream",
     "text": [
      "train_d size : (26365, 3)\n",
      "train_t size : (6091, 3)\n",
      "knn k : 11\n"
     ]
    },
    {
     "name": "stderr",
     "output_type": "stream",
     "text": [
      "  0%|          | 0/1195 [00:00<?, ?it/s]c:\\Users\\david\\anaconda3\\envs\\test_env\\lib\\site-packages\\tqdm\\std.py:1180: FutureWarning: In a future version of pandas, a length 1 tuple will be returned when iterating over a groupby with a grouper equal to a list of length 1. Don't supply a list with a single grouper to avoid this warning.\n",
      "  for obj in iterable:\n",
      "100%|██████████| 1195/1195 [00:00<00:00, 7752.60it/s]\n",
      "  0%|          | 0/1195 [00:00<?, ?it/s]c:\\Users\\david\\anaconda3\\envs\\test_env\\lib\\site-packages\\tqdm\\std.py:1180: FutureWarning: In a future version of pandas, a length 1 tuple will be returned when iterating over a groupby with a grouper equal to a list of length 1. Don't supply a list with a single grouper to avoid this warning.\n",
      "  for obj in iterable:\n",
      "100%|██████████| 1195/1195 [00:00<00:00, 3834.30it/s]\n",
      "  0%|          | 0/1195 [00:00<?, ?it/s]c:\\Users\\david\\anaconda3\\envs\\test_env\\lib\\site-packages\\tqdm\\std.py:1180: FutureWarning: In a future version of pandas, a length 1 tuple will be returned when iterating over a groupby with a grouper equal to a list of length 1. Don't supply a list with a single grouper to avoid this warning.\n",
      "  for obj in iterable:\n",
      "100%|██████████| 1195/1195 [00:05<00:00, 214.30it/s]\n"
     ]
    },
    {
     "name": "stdout",
     "output_type": "stream",
     "text": [
      "train_d size : (26205, 3)\n",
      "train_t size : (6251, 3)\n",
      "knn k : 11\n"
     ]
    },
    {
     "name": "stderr",
     "output_type": "stream",
     "text": [
      "  0%|          | 0/1176 [00:00<?, ?it/s]c:\\Users\\david\\anaconda3\\envs\\test_env\\lib\\site-packages\\tqdm\\std.py:1180: FutureWarning: In a future version of pandas, a length 1 tuple will be returned when iterating over a groupby with a grouper equal to a list of length 1. Don't supply a list with a single grouper to avoid this warning.\n",
      "  for obj in iterable:\n",
      "100%|██████████| 1176/1176 [00:00<00:00, 6276.13it/s]\n",
      "  0%|          | 0/1176 [00:00<?, ?it/s]c:\\Users\\david\\anaconda3\\envs\\test_env\\lib\\site-packages\\tqdm\\std.py:1180: FutureWarning: In a future version of pandas, a length 1 tuple will be returned when iterating over a groupby with a grouper equal to a list of length 1. Don't supply a list with a single grouper to avoid this warning.\n",
      "  for obj in iterable:\n",
      "100%|██████████| 1176/1176 [00:00<00:00, 2785.64it/s]\n",
      "  0%|          | 0/1176 [00:00<?, ?it/s]c:\\Users\\david\\anaconda3\\envs\\test_env\\lib\\site-packages\\tqdm\\std.py:1180: FutureWarning: In a future version of pandas, a length 1 tuple will be returned when iterating over a groupby with a grouper equal to a list of length 1. Don't supply a list with a single grouper to avoid this warning.\n",
      "  for obj in iterable:\n",
      "100%|██████████| 1176/1176 [00:05<00:00, 206.11it/s]\n"
     ]
    },
    {
     "name": "stdout",
     "output_type": "stream",
     "text": [
      "train_d size : (25316, 3)\n",
      "train_t size : (7140, 3)\n",
      "knn k : 11\n"
     ]
    },
    {
     "name": "stderr",
     "output_type": "stream",
     "text": [
      "  0%|          | 0/1237 [00:00<?, ?it/s]c:\\Users\\david\\anaconda3\\envs\\test_env\\lib\\site-packages\\tqdm\\std.py:1180: FutureWarning: In a future version of pandas, a length 1 tuple will be returned when iterating over a groupby with a grouper equal to a list of length 1. Don't supply a list with a single grouper to avoid this warning.\n",
      "  for obj in iterable:\n",
      "100%|██████████| 1237/1237 [00:00<00:00, 4675.06it/s]\n",
      "  0%|          | 0/1237 [00:00<?, ?it/s]c:\\Users\\david\\anaconda3\\envs\\test_env\\lib\\site-packages\\tqdm\\std.py:1180: FutureWarning: In a future version of pandas, a length 1 tuple will be returned when iterating over a groupby with a grouper equal to a list of length 1. Don't supply a list with a single grouper to avoid this warning.\n",
      "  for obj in iterable:\n",
      "100%|██████████| 1237/1237 [00:00<00:00, 3710.12it/s]\n",
      "  0%|          | 0/1237 [00:00<?, ?it/s]c:\\Users\\david\\anaconda3\\envs\\test_env\\lib\\site-packages\\tqdm\\std.py:1180: FutureWarning: In a future version of pandas, a length 1 tuple will be returned when iterating over a groupby with a grouper equal to a list of length 1. Don't supply a list with a single grouper to avoid this warning.\n",
      "  for obj in iterable:\n",
      "100%|██████████| 1237/1237 [00:05<00:00, 219.32it/s]\n"
     ]
    },
    {
     "name": "stdout",
     "output_type": "stream",
     "text": [
      "train_d size : (25491, 3)\n",
      "train_t size : (6965, 3)\n",
      "knn k : 25\n"
     ]
    },
    {
     "name": "stderr",
     "output_type": "stream",
     "text": [
      "  0%|          | 0/1270 [00:00<?, ?it/s]c:\\Users\\david\\anaconda3\\envs\\test_env\\lib\\site-packages\\tqdm\\std.py:1180: FutureWarning: In a future version of pandas, a length 1 tuple will be returned when iterating over a groupby with a grouper equal to a list of length 1. Don't supply a list with a single grouper to avoid this warning.\n",
      "  for obj in iterable:\n",
      "100%|██████████| 1270/1270 [00:00<00:00, 4414.04it/s]\n",
      "  0%|          | 0/1270 [00:00<?, ?it/s]c:\\Users\\david\\anaconda3\\envs\\test_env\\lib\\site-packages\\tqdm\\std.py:1180: FutureWarning: In a future version of pandas, a length 1 tuple will be returned when iterating over a groupby with a grouper equal to a list of length 1. Don't supply a list with a single grouper to avoid this warning.\n",
      "  for obj in iterable:\n",
      "100%|██████████| 1270/1270 [00:00<00:00, 3815.95it/s]\n",
      "  0%|          | 0/1270 [00:00<?, ?it/s]c:\\Users\\david\\anaconda3\\envs\\test_env\\lib\\site-packages\\tqdm\\std.py:1180: FutureWarning: In a future version of pandas, a length 1 tuple will be returned when iterating over a groupby with a grouper equal to a list of length 1. Don't supply a list with a single grouper to avoid this warning.\n",
      "  for obj in iterable:\n",
      "100%|██████████| 1270/1270 [00:05<00:00, 212.36it/s]\n"
     ]
    },
    {
     "name": "stdout",
     "output_type": "stream",
     "text": [
      "train_d size : (26076, 3)\n",
      "train_t size : (6380, 3)\n",
      "knn k : 25\n"
     ]
    },
    {
     "name": "stderr",
     "output_type": "stream",
     "text": [
      "  0%|          | 0/1211 [00:00<?, ?it/s]c:\\Users\\david\\anaconda3\\envs\\test_env\\lib\\site-packages\\tqdm\\std.py:1180: FutureWarning: In a future version of pandas, a length 1 tuple will be returned when iterating over a groupby with a grouper equal to a list of length 1. Don't supply a list with a single grouper to avoid this warning.\n",
      "  for obj in iterable:\n",
      "100%|██████████| 1211/1211 [00:00<00:00, 9610.70it/s]\n",
      "  0%|          | 0/1211 [00:00<?, ?it/s]c:\\Users\\david\\anaconda3\\envs\\test_env\\lib\\site-packages\\tqdm\\std.py:1180: FutureWarning: In a future version of pandas, a length 1 tuple will be returned when iterating over a groupby with a grouper equal to a list of length 1. Don't supply a list with a single grouper to avoid this warning.\n",
      "  for obj in iterable:\n",
      "100%|██████████| 1211/1211 [00:00<00:00, 3651.90it/s]\n",
      "  0%|          | 0/1211 [00:00<?, ?it/s]c:\\Users\\david\\anaconda3\\envs\\test_env\\lib\\site-packages\\tqdm\\std.py:1180: FutureWarning: In a future version of pandas, a length 1 tuple will be returned when iterating over a groupby with a grouper equal to a list of length 1. Don't supply a list with a single grouper to avoid this warning.\n",
      "  for obj in iterable:\n",
      "100%|██████████| 1211/1211 [00:16<00:00, 75.45it/s] \n"
     ]
    },
    {
     "name": "stdout",
     "output_type": "stream",
     "text": [
      "train_d size : (26082, 3)\n",
      "train_t size : (6374, 3)\n",
      "knn k : 25\n"
     ]
    },
    {
     "name": "stderr",
     "output_type": "stream",
     "text": [
      "  0%|          | 0/1203 [00:00<?, ?it/s]c:\\Users\\david\\anaconda3\\envs\\test_env\\lib\\site-packages\\tqdm\\std.py:1180: FutureWarning: In a future version of pandas, a length 1 tuple will be returned when iterating over a groupby with a grouper equal to a list of length 1. Don't supply a list with a single grouper to avoid this warning.\n",
      "  for obj in iterable:\n",
      "100%|██████████| 1203/1203 [00:00<00:00, 6629.65it/s]\n",
      "  0%|          | 0/1203 [00:00<?, ?it/s]c:\\Users\\david\\anaconda3\\envs\\test_env\\lib\\site-packages\\tqdm\\std.py:1180: FutureWarning: In a future version of pandas, a length 1 tuple will be returned when iterating over a groupby with a grouper equal to a list of length 1. Don't supply a list with a single grouper to avoid this warning.\n",
      "  for obj in iterable:\n",
      "100%|██████████| 1203/1203 [00:00<00:00, 1789.74it/s]\n",
      "  0%|          | 0/1203 [00:00<?, ?it/s]c:\\Users\\david\\anaconda3\\envs\\test_env\\lib\\site-packages\\tqdm\\std.py:1180: FutureWarning: In a future version of pandas, a length 1 tuple will be returned when iterating over a groupby with a grouper equal to a list of length 1. Don't supply a list with a single grouper to avoid this warning.\n",
      "  for obj in iterable:\n",
      "100%|██████████| 1203/1203 [00:09<00:00, 127.86it/s]\n"
     ]
    },
    {
     "name": "stdout",
     "output_type": "stream",
     "text": [
      "train_d size : (26386, 3)\n",
      "train_t size : (6070, 3)\n",
      "knn k : 25\n"
     ]
    },
    {
     "name": "stderr",
     "output_type": "stream",
     "text": [
      "  0%|          | 0/1163 [00:00<?, ?it/s]c:\\Users\\david\\anaconda3\\envs\\test_env\\lib\\site-packages\\tqdm\\std.py:1180: FutureWarning: In a future version of pandas, a length 1 tuple will be returned when iterating over a groupby with a grouper equal to a list of length 1. Don't supply a list with a single grouper to avoid this warning.\n",
      "  for obj in iterable:\n",
      "100%|██████████| 1163/1163 [00:00<00:00, 4388.67it/s]\n",
      "  0%|          | 0/1163 [00:00<?, ?it/s]c:\\Users\\david\\anaconda3\\envs\\test_env\\lib\\site-packages\\tqdm\\std.py:1180: FutureWarning: In a future version of pandas, a length 1 tuple will be returned when iterating over a groupby with a grouper equal to a list of length 1. Don't supply a list with a single grouper to avoid this warning.\n",
      "  for obj in iterable:\n",
      "100%|██████████| 1163/1163 [00:00<00:00, 3782.68it/s]\n",
      "  0%|          | 0/1163 [00:00<?, ?it/s]c:\\Users\\david\\anaconda3\\envs\\test_env\\lib\\site-packages\\tqdm\\std.py:1180: FutureWarning: In a future version of pandas, a length 1 tuple will be returned when iterating over a groupby with a grouper equal to a list of length 1. Don't supply a list with a single grouper to avoid this warning.\n",
      "  for obj in iterable:\n",
      "100%|██████████| 1163/1163 [00:05<00:00, 209.34it/s]\n"
     ]
    },
    {
     "name": "stdout",
     "output_type": "stream",
     "text": [
      "train_d size : (25789, 3)\n",
      "train_t size : (6667, 3)\n",
      "knn k : 25\n"
     ]
    },
    {
     "name": "stderr",
     "output_type": "stream",
     "text": [
      "  0%|          | 0/1228 [00:00<?, ?it/s]c:\\Users\\david\\anaconda3\\envs\\test_env\\lib\\site-packages\\tqdm\\std.py:1180: FutureWarning: In a future version of pandas, a length 1 tuple will be returned when iterating over a groupby with a grouper equal to a list of length 1. Don't supply a list with a single grouper to avoid this warning.\n",
      "  for obj in iterable:\n",
      "100%|██████████| 1228/1228 [00:00<00:00, 7714.22it/s]\n",
      "  0%|          | 0/1228 [00:00<?, ?it/s]c:\\Users\\david\\anaconda3\\envs\\test_env\\lib\\site-packages\\tqdm\\std.py:1180: FutureWarning: In a future version of pandas, a length 1 tuple will be returned when iterating over a groupby with a grouper equal to a list of length 1. Don't supply a list with a single grouper to avoid this warning.\n",
      "  for obj in iterable:\n",
      "100%|██████████| 1228/1228 [00:00<00:00, 3639.00it/s]\n",
      "  0%|          | 0/1228 [00:00<?, ?it/s]c:\\Users\\david\\anaconda3\\envs\\test_env\\lib\\site-packages\\tqdm\\std.py:1180: FutureWarning: In a future version of pandas, a length 1 tuple will be returned when iterating over a groupby with a grouper equal to a list of length 1. Don't supply a list with a single grouper to avoid this warning.\n",
      "  for obj in iterable:\n",
      "100%|██████████| 1228/1228 [00:06<00:00, 178.42it/s]\n"
     ]
    },
    {
     "name": "stdout",
     "output_type": "stream",
     "text": [
      "train_d size : (26240, 3)\n",
      "train_t size : (6216, 3)\n",
      "knn k : 35\n"
     ]
    },
    {
     "name": "stderr",
     "output_type": "stream",
     "text": [
      "  0%|          | 0/1187 [00:00<?, ?it/s]c:\\Users\\david\\anaconda3\\envs\\test_env\\lib\\site-packages\\tqdm\\std.py:1180: FutureWarning: In a future version of pandas, a length 1 tuple will be returned when iterating over a groupby with a grouper equal to a list of length 1. Don't supply a list with a single grouper to avoid this warning.\n",
      "  for obj in iterable:\n",
      "100%|██████████| 1187/1187 [00:00<00:00, 7047.20it/s]\n",
      "  0%|          | 0/1187 [00:00<?, ?it/s]c:\\Users\\david\\anaconda3\\envs\\test_env\\lib\\site-packages\\tqdm\\std.py:1180: FutureWarning: In a future version of pandas, a length 1 tuple will be returned when iterating over a groupby with a grouper equal to a list of length 1. Don't supply a list with a single grouper to avoid this warning.\n",
      "  for obj in iterable:\n",
      "100%|██████████| 1187/1187 [00:00<00:00, 2068.02it/s]\n",
      "  0%|          | 0/1187 [00:00<?, ?it/s]c:\\Users\\david\\anaconda3\\envs\\test_env\\lib\\site-packages\\tqdm\\std.py:1180: FutureWarning: In a future version of pandas, a length 1 tuple will be returned when iterating over a groupby with a grouper equal to a list of length 1. Don't supply a list with a single grouper to avoid this warning.\n",
      "  for obj in iterable:\n",
      "100%|██████████| 1187/1187 [00:06<00:00, 192.77it/s]\n"
     ]
    },
    {
     "name": "stdout",
     "output_type": "stream",
     "text": [
      "train_d size : (25718, 3)\n",
      "train_t size : (6738, 3)\n",
      "knn k : 35\n"
     ]
    },
    {
     "name": "stderr",
     "output_type": "stream",
     "text": [
      "  0%|          | 0/1252 [00:00<?, ?it/s]c:\\Users\\david\\anaconda3\\envs\\test_env\\lib\\site-packages\\tqdm\\std.py:1180: FutureWarning: In a future version of pandas, a length 1 tuple will be returned when iterating over a groupby with a grouper equal to a list of length 1. Don't supply a list with a single grouper to avoid this warning.\n",
      "  for obj in iterable:\n",
      "100%|██████████| 1252/1252 [00:00<00:00, 8864.61it/s]\n",
      "  0%|          | 0/1252 [00:00<?, ?it/s]c:\\Users\\david\\anaconda3\\envs\\test_env\\lib\\site-packages\\tqdm\\std.py:1180: FutureWarning: In a future version of pandas, a length 1 tuple will be returned when iterating over a groupby with a grouper equal to a list of length 1. Don't supply a list with a single grouper to avoid this warning.\n",
      "  for obj in iterable:\n",
      "100%|██████████| 1252/1252 [00:00<00:00, 3681.11it/s]\n",
      "  0%|          | 0/1252 [00:00<?, ?it/s]c:\\Users\\david\\anaconda3\\envs\\test_env\\lib\\site-packages\\tqdm\\std.py:1180: FutureWarning: In a future version of pandas, a length 1 tuple will be returned when iterating over a groupby with a grouper equal to a list of length 1. Don't supply a list with a single grouper to avoid this warning.\n",
      "  for obj in iterable:\n",
      "100%|██████████| 1252/1252 [00:06<00:00, 183.26it/s]\n"
     ]
    },
    {
     "name": "stdout",
     "output_type": "stream",
     "text": [
      "train_d size : (25772, 3)\n",
      "train_t size : (6684, 3)\n",
      "knn k : 35\n"
     ]
    },
    {
     "name": "stderr",
     "output_type": "stream",
     "text": [
      "  0%|          | 0/1211 [00:00<?, ?it/s]c:\\Users\\david\\anaconda3\\envs\\test_env\\lib\\site-packages\\tqdm\\std.py:1180: FutureWarning: In a future version of pandas, a length 1 tuple will be returned when iterating over a groupby with a grouper equal to a list of length 1. Don't supply a list with a single grouper to avoid this warning.\n",
      "  for obj in iterable:\n",
      "100%|██████████| 1211/1211 [00:00<00:00, 3194.92it/s]\n",
      "  0%|          | 0/1211 [00:00<?, ?it/s]c:\\Users\\david\\anaconda3\\envs\\test_env\\lib\\site-packages\\tqdm\\std.py:1180: FutureWarning: In a future version of pandas, a length 1 tuple will be returned when iterating over a groupby with a grouper equal to a list of length 1. Don't supply a list with a single grouper to avoid this warning.\n",
      "  for obj in iterable:\n",
      "100%|██████████| 1211/1211 [00:00<00:00, 3523.40it/s]\n",
      "  0%|          | 0/1211 [00:00<?, ?it/s]c:\\Users\\david\\anaconda3\\envs\\test_env\\lib\\site-packages\\tqdm\\std.py:1180: FutureWarning: In a future version of pandas, a length 1 tuple will be returned when iterating over a groupby with a grouper equal to a list of length 1. Don't supply a list with a single grouper to avoid this warning.\n",
      "  for obj in iterable:\n",
      "100%|██████████| 1211/1211 [00:06<00:00, 186.47it/s]\n"
     ]
    },
    {
     "name": "stdout",
     "output_type": "stream",
     "text": [
      "train_d size : (25894, 3)\n",
      "train_t size : (6562, 3)\n",
      "knn k : 35\n"
     ]
    },
    {
     "name": "stderr",
     "output_type": "stream",
     "text": [
      "  0%|          | 0/1233 [00:00<?, ?it/s]c:\\Users\\david\\anaconda3\\envs\\test_env\\lib\\site-packages\\tqdm\\std.py:1180: FutureWarning: In a future version of pandas, a length 1 tuple will be returned when iterating over a groupby with a grouper equal to a list of length 1. Don't supply a list with a single grouper to avoid this warning.\n",
      "  for obj in iterable:\n",
      "100%|██████████| 1233/1233 [00:00<00:00, 3842.77it/s]\n",
      "  0%|          | 0/1233 [00:00<?, ?it/s]c:\\Users\\david\\anaconda3\\envs\\test_env\\lib\\site-packages\\tqdm\\std.py:1180: FutureWarning: In a future version of pandas, a length 1 tuple will be returned when iterating over a groupby with a grouper equal to a list of length 1. Don't supply a list with a single grouper to avoid this warning.\n",
      "  for obj in iterable:\n",
      "100%|██████████| 1233/1233 [00:00<00:00, 1537.69it/s]\n",
      "  0%|          | 0/1233 [00:00<?, ?it/s]c:\\Users\\david\\anaconda3\\envs\\test_env\\lib\\site-packages\\tqdm\\std.py:1180: FutureWarning: In a future version of pandas, a length 1 tuple will be returned when iterating over a groupby with a grouper equal to a list of length 1. Don't supply a list with a single grouper to avoid this warning.\n",
      "  for obj in iterable:\n",
      "100%|██████████| 1233/1233 [00:06<00:00, 185.42it/s]\n"
     ]
    },
    {
     "name": "stdout",
     "output_type": "stream",
     "text": [
      "train_d size : (26200, 3)\n",
      "train_t size : (6256, 3)\n",
      "knn k : 35\n"
     ]
    },
    {
     "name": "stderr",
     "output_type": "stream",
     "text": [
      "  0%|          | 0/1192 [00:00<?, ?it/s]c:\\Users\\david\\anaconda3\\envs\\test_env\\lib\\site-packages\\tqdm\\std.py:1180: FutureWarning: In a future version of pandas, a length 1 tuple will be returned when iterating over a groupby with a grouper equal to a list of length 1. Don't supply a list with a single grouper to avoid this warning.\n",
      "  for obj in iterable:\n",
      "100%|██████████| 1192/1192 [00:00<00:00, 6381.28it/s]\n",
      "  0%|          | 0/1192 [00:00<?, ?it/s]c:\\Users\\david\\anaconda3\\envs\\test_env\\lib\\site-packages\\tqdm\\std.py:1180: FutureWarning: In a future version of pandas, a length 1 tuple will be returned when iterating over a groupby with a grouper equal to a list of length 1. Don't supply a list with a single grouper to avoid this warning.\n",
      "  for obj in iterable:\n",
      "100%|██████████| 1192/1192 [00:00<00:00, 2997.42it/s]\n",
      "  0%|          | 0/1192 [00:00<?, ?it/s]c:\\Users\\david\\anaconda3\\envs\\test_env\\lib\\site-packages\\tqdm\\std.py:1180: FutureWarning: In a future version of pandas, a length 1 tuple will be returned when iterating over a groupby with a grouper equal to a list of length 1. Don't supply a list with a single grouper to avoid this warning.\n",
      "  for obj in iterable:\n",
      "100%|██████████| 1192/1192 [00:06<00:00, 182.25it/s]\n"
     ]
    },
    {
     "name": "stdout",
     "output_type": "stream",
     "text": [
      "train_d size : (26346, 3)\n",
      "train_t size : (6110, 3)\n",
      "knn k : 75\n"
     ]
    },
    {
     "name": "stderr",
     "output_type": "stream",
     "text": [
      "  0%|          | 0/1158 [00:00<?, ?it/s]c:\\Users\\david\\anaconda3\\envs\\test_env\\lib\\site-packages\\tqdm\\std.py:1180: FutureWarning: In a future version of pandas, a length 1 tuple will be returned when iterating over a groupby with a grouper equal to a list of length 1. Don't supply a list with a single grouper to avoid this warning.\n",
      "  for obj in iterable:\n",
      "100%|██████████| 1158/1158 [00:00<00:00, 8411.21it/s]\n",
      "  0%|          | 0/1158 [00:00<?, ?it/s]c:\\Users\\david\\anaconda3\\envs\\test_env\\lib\\site-packages\\tqdm\\std.py:1180: FutureWarning: In a future version of pandas, a length 1 tuple will be returned when iterating over a groupby with a grouper equal to a list of length 1. Don't supply a list with a single grouper to avoid this warning.\n",
      "  for obj in iterable:\n",
      "100%|██████████| 1158/1158 [00:00<00:00, 4198.35it/s]\n",
      "  0%|          | 0/1158 [00:00<?, ?it/s]c:\\Users\\david\\anaconda3\\envs\\test_env\\lib\\site-packages\\tqdm\\std.py:1180: FutureWarning: In a future version of pandas, a length 1 tuple will be returned when iterating over a groupby with a grouper equal to a list of length 1. Don't supply a list with a single grouper to avoid this warning.\n",
      "  for obj in iterable:\n",
      "100%|██████████| 1158/1158 [00:08<00:00, 134.41it/s]\n"
     ]
    },
    {
     "name": "stdout",
     "output_type": "stream",
     "text": [
      "train_d size : (25963, 3)\n",
      "train_t size : (6493, 3)\n",
      "knn k : 75\n"
     ]
    },
    {
     "name": "stderr",
     "output_type": "stream",
     "text": [
      "  0%|          | 0/1243 [00:00<?, ?it/s]c:\\Users\\david\\anaconda3\\envs\\test_env\\lib\\site-packages\\tqdm\\std.py:1180: FutureWarning: In a future version of pandas, a length 1 tuple will be returned when iterating over a groupby with a grouper equal to a list of length 1. Don't supply a list with a single grouper to avoid this warning.\n",
      "  for obj in iterable:\n",
      "100%|██████████| 1243/1243 [00:00<00:00, 4223.97it/s]\n",
      "  0%|          | 0/1243 [00:00<?, ?it/s]c:\\Users\\david\\anaconda3\\envs\\test_env\\lib\\site-packages\\tqdm\\std.py:1180: FutureWarning: In a future version of pandas, a length 1 tuple will be returned when iterating over a groupby with a grouper equal to a list of length 1. Don't supply a list with a single grouper to avoid this warning.\n",
      "  for obj in iterable:\n",
      "100%|██████████| 1243/1243 [00:00<00:00, 3393.19it/s]\n",
      "  0%|          | 0/1243 [00:00<?, ?it/s]c:\\Users\\david\\anaconda3\\envs\\test_env\\lib\\site-packages\\tqdm\\std.py:1180: FutureWarning: In a future version of pandas, a length 1 tuple will be returned when iterating over a groupby with a grouper equal to a list of length 1. Don't supply a list with a single grouper to avoid this warning.\n",
      "  for obj in iterable:\n",
      "100%|██████████| 1243/1243 [00:08<00:00, 143.60it/s]\n"
     ]
    },
    {
     "name": "stdout",
     "output_type": "stream",
     "text": [
      "train_d size : (25689, 3)\n",
      "train_t size : (6767, 3)\n",
      "knn k : 75\n"
     ]
    },
    {
     "name": "stderr",
     "output_type": "stream",
     "text": [
      "  0%|          | 0/1231 [00:00<?, ?it/s]c:\\Users\\david\\anaconda3\\envs\\test_env\\lib\\site-packages\\tqdm\\std.py:1180: FutureWarning: In a future version of pandas, a length 1 tuple will be returned when iterating over a groupby with a grouper equal to a list of length 1. Don't supply a list with a single grouper to avoid this warning.\n",
      "  for obj in iterable:\n",
      "100%|██████████| 1231/1231 [00:00<00:00, 6848.36it/s]\n",
      "  0%|          | 0/1231 [00:00<?, ?it/s]c:\\Users\\david\\anaconda3\\envs\\test_env\\lib\\site-packages\\tqdm\\std.py:1180: FutureWarning: In a future version of pandas, a length 1 tuple will be returned when iterating over a groupby with a grouper equal to a list of length 1. Don't supply a list with a single grouper to avoid this warning.\n",
      "  for obj in iterable:\n",
      "100%|██████████| 1231/1231 [00:00<00:00, 3549.92it/s]\n",
      "  0%|          | 0/1231 [00:00<?, ?it/s]c:\\Users\\david\\anaconda3\\envs\\test_env\\lib\\site-packages\\tqdm\\std.py:1180: FutureWarning: In a future version of pandas, a length 1 tuple will be returned when iterating over a groupby with a grouper equal to a list of length 1. Don't supply a list with a single grouper to avoid this warning.\n",
      "  for obj in iterable:\n",
      "100%|██████████| 1231/1231 [00:09<00:00, 127.48it/s]\n"
     ]
    },
    {
     "name": "stdout",
     "output_type": "stream",
     "text": [
      "train_d size : (25808, 3)\n",
      "train_t size : (6648, 3)\n",
      "knn k : 75\n"
     ]
    },
    {
     "name": "stderr",
     "output_type": "stream",
     "text": [
      "  0%|          | 0/1262 [00:00<?, ?it/s]c:\\Users\\david\\anaconda3\\envs\\test_env\\lib\\site-packages\\tqdm\\std.py:1180: FutureWarning: In a future version of pandas, a length 1 tuple will be returned when iterating over a groupby with a grouper equal to a list of length 1. Don't supply a list with a single grouper to avoid this warning.\n",
      "  for obj in iterable:\n",
      "100%|██████████| 1262/1262 [00:00<00:00, 8013.91it/s]\n",
      "  0%|          | 0/1262 [00:00<?, ?it/s]c:\\Users\\david\\anaconda3\\envs\\test_env\\lib\\site-packages\\tqdm\\std.py:1180: FutureWarning: In a future version of pandas, a length 1 tuple will be returned when iterating over a groupby with a grouper equal to a list of length 1. Don't supply a list with a single grouper to avoid this warning.\n",
      "  for obj in iterable:\n",
      "100%|██████████| 1262/1262 [00:00<00:00, 3488.64it/s]\n",
      "  0%|          | 0/1262 [00:00<?, ?it/s]c:\\Users\\david\\anaconda3\\envs\\test_env\\lib\\site-packages\\tqdm\\std.py:1180: FutureWarning: In a future version of pandas, a length 1 tuple will be returned when iterating over a groupby with a grouper equal to a list of length 1. Don't supply a list with a single grouper to avoid this warning.\n",
      "  for obj in iterable:\n",
      "100%|██████████| 1262/1262 [00:12<00:00, 97.56it/s]\n"
     ]
    },
    {
     "name": "stdout",
     "output_type": "stream",
     "text": [
      "train_d size : (26018, 3)\n",
      "train_t size : (6438, 3)\n",
      "knn k : 75\n"
     ]
    },
    {
     "name": "stderr",
     "output_type": "stream",
     "text": [
      "  0%|          | 0/1181 [00:00<?, ?it/s]c:\\Users\\david\\anaconda3\\envs\\test_env\\lib\\site-packages\\tqdm\\std.py:1180: FutureWarning: In a future version of pandas, a length 1 tuple will be returned when iterating over a groupby with a grouper equal to a list of length 1. Don't supply a list with a single grouper to avoid this warning.\n",
      "  for obj in iterable:\n",
      "100%|██████████| 1181/1181 [00:00<00:00, 3148.43it/s]\n",
      "  0%|          | 0/1181 [00:00<?, ?it/s]c:\\Users\\david\\anaconda3\\envs\\test_env\\lib\\site-packages\\tqdm\\std.py:1180: FutureWarning: In a future version of pandas, a length 1 tuple will be returned when iterating over a groupby with a grouper equal to a list of length 1. Don't supply a list with a single grouper to avoid this warning.\n",
      "  for obj in iterable:\n",
      "100%|██████████| 1181/1181 [00:00<00:00, 3089.95it/s]\n",
      "  0%|          | 0/1181 [00:00<?, ?it/s]c:\\Users\\david\\anaconda3\\envs\\test_env\\lib\\site-packages\\tqdm\\std.py:1180: FutureWarning: In a future version of pandas, a length 1 tuple will be returned when iterating over a groupby with a grouper equal to a list of length 1. Don't supply a list with a single grouper to avoid this warning.\n",
      "  for obj in iterable:\n",
      "100%|██████████| 1181/1181 [00:08<00:00, 135.92it/s]\n",
      "  0%|          | 0/70000 [00:00<?, ?it/s]c:\\Users\\david\\anaconda3\\envs\\test_env\\lib\\site-packages\\tqdm\\std.py:1180: FutureWarning: In a future version of pandas, a length 1 tuple will be returned when iterating over a groupby with a grouper equal to a list of length 1. Don't supply a list with a single grouper to avoid this warning.\n",
      "  for obj in iterable:\n",
      "100%|██████████| 70000/70000 [00:25<00:00, 2740.31it/s]\n"
     ]
    },
    {
     "name": "stdout",
     "output_type": "stream",
     "text": [
      "train_d size : (26430, 3)\n",
      "train_t size : (6026, 3)\n",
      "knn k : 3\n"
     ]
    },
    {
     "name": "stderr",
     "output_type": "stream",
     "text": [
      "  0%|          | 0/1183 [00:00<?, ?it/s]c:\\Users\\david\\anaconda3\\envs\\test_env\\lib\\site-packages\\tqdm\\std.py:1180: FutureWarning: In a future version of pandas, a length 1 tuple will be returned when iterating over a groupby with a grouper equal to a list of length 1. Don't supply a list with a single grouper to avoid this warning.\n",
      "  for obj in iterable:\n",
      "100%|██████████| 1183/1183 [00:00<00:00, 2011.65it/s]\n",
      "  0%|          | 0/1183 [00:00<?, ?it/s]c:\\Users\\david\\anaconda3\\envs\\test_env\\lib\\site-packages\\tqdm\\std.py:1180: FutureWarning: In a future version of pandas, a length 1 tuple will be returned when iterating over a groupby with a grouper equal to a list of length 1. Don't supply a list with a single grouper to avoid this warning.\n",
      "  for obj in iterable:\n",
      "100%|██████████| 1183/1183 [00:00<00:00, 1671.35it/s]\n",
      "100%|██████████| 1183/1183 [00:02<00:00, 584.65it/s]\n"
     ]
    },
    {
     "name": "stdout",
     "output_type": "stream",
     "text": [
      "train_d size : (25696, 3)\n",
      "train_t size : (6760, 3)\n",
      "knn k : 3\n"
     ]
    },
    {
     "name": "stderr",
     "output_type": "stream",
     "text": [
      "  0%|          | 0/1243 [00:00<?, ?it/s]c:\\Users\\david\\anaconda3\\envs\\test_env\\lib\\site-packages\\tqdm\\std.py:1180: FutureWarning: In a future version of pandas, a length 1 tuple will be returned when iterating over a groupby with a grouper equal to a list of length 1. Don't supply a list with a single grouper to avoid this warning.\n",
      "  for obj in iterable:\n",
      "100%|██████████| 1243/1243 [00:00<00:00, 6122.34it/s]\n",
      "  0%|          | 0/1243 [00:00<?, ?it/s]c:\\Users\\david\\anaconda3\\envs\\test_env\\lib\\site-packages\\tqdm\\std.py:1180: FutureWarning: In a future version of pandas, a length 1 tuple will be returned when iterating over a groupby with a grouper equal to a list of length 1. Don't supply a list with a single grouper to avoid this warning.\n",
      "  for obj in iterable:\n",
      "100%|██████████| 1243/1243 [00:00<00:00, 2204.68it/s]\n",
      "100%|██████████| 1243/1243 [00:01<00:00, 709.54it/s]\n"
     ]
    },
    {
     "name": "stdout",
     "output_type": "stream",
     "text": [
      "train_d size : (25787, 3)\n",
      "train_t size : (6669, 3)\n",
      "knn k : 3\n"
     ]
    },
    {
     "name": "stderr",
     "output_type": "stream",
     "text": [
      "  0%|          | 0/1224 [00:00<?, ?it/s]c:\\Users\\david\\anaconda3\\envs\\test_env\\lib\\site-packages\\tqdm\\std.py:1180: FutureWarning: In a future version of pandas, a length 1 tuple will be returned when iterating over a groupby with a grouper equal to a list of length 1. Don't supply a list with a single grouper to avoid this warning.\n",
      "  for obj in iterable:\n",
      "100%|██████████| 1224/1224 [00:00<00:00, 6367.60it/s]\n",
      "  0%|          | 0/1224 [00:00<?, ?it/s]c:\\Users\\david\\anaconda3\\envs\\test_env\\lib\\site-packages\\tqdm\\std.py:1180: FutureWarning: In a future version of pandas, a length 1 tuple will be returned when iterating over a groupby with a grouper equal to a list of length 1. Don't supply a list with a single grouper to avoid this warning.\n",
      "  for obj in iterable:\n",
      "100%|██████████| 1224/1224 [00:00<00:00, 1921.05it/s]\n",
      "100%|██████████| 1224/1224 [00:01<00:00, 811.01it/s]\n"
     ]
    },
    {
     "name": "stdout",
     "output_type": "stream",
     "text": [
      "train_d size : (26084, 3)\n",
      "train_t size : (6372, 3)\n",
      "knn k : 3\n"
     ]
    },
    {
     "name": "stderr",
     "output_type": "stream",
     "text": [
      "  0%|          | 0/1196 [00:00<?, ?it/s]c:\\Users\\david\\anaconda3\\envs\\test_env\\lib\\site-packages\\tqdm\\std.py:1180: FutureWarning: In a future version of pandas, a length 1 tuple will be returned when iterating over a groupby with a grouper equal to a list of length 1. Don't supply a list with a single grouper to avoid this warning.\n",
      "  for obj in iterable:\n",
      "100%|██████████| 1196/1196 [00:00<00:00, 6970.07it/s]\n",
      "  0%|          | 0/1196 [00:00<?, ?it/s]c:\\Users\\david\\anaconda3\\envs\\test_env\\lib\\site-packages\\tqdm\\std.py:1180: FutureWarning: In a future version of pandas, a length 1 tuple will be returned when iterating over a groupby with a grouper equal to a list of length 1. Don't supply a list with a single grouper to avoid this warning.\n",
      "  for obj in iterable:\n",
      "100%|██████████| 1196/1196 [00:00<00:00, 2197.12it/s]\n",
      "100%|██████████| 1196/1196 [00:01<00:00, 624.89it/s]\n"
     ]
    },
    {
     "name": "stdout",
     "output_type": "stream",
     "text": [
      "train_d size : (25827, 3)\n",
      "train_t size : (6629, 3)\n",
      "knn k : 3\n"
     ]
    },
    {
     "name": "stderr",
     "output_type": "stream",
     "text": [
      "  0%|          | 0/1229 [00:00<?, ?it/s]c:\\Users\\david\\anaconda3\\envs\\test_env\\lib\\site-packages\\tqdm\\std.py:1180: FutureWarning: In a future version of pandas, a length 1 tuple will be returned when iterating over a groupby with a grouper equal to a list of length 1. Don't supply a list with a single grouper to avoid this warning.\n",
      "  for obj in iterable:\n",
      "100%|██████████| 1229/1229 [00:00<00:00, 4329.00it/s]\n",
      "  0%|          | 0/1229 [00:00<?, ?it/s]c:\\Users\\david\\anaconda3\\envs\\test_env\\lib\\site-packages\\tqdm\\std.py:1180: FutureWarning: In a future version of pandas, a length 1 tuple will be returned when iterating over a groupby with a grouper equal to a list of length 1. Don't supply a list with a single grouper to avoid this warning.\n",
      "  for obj in iterable:\n",
      "100%|██████████| 1229/1229 [00:00<00:00, 2286.08it/s]\n",
      "100%|██████████| 1229/1229 [00:02<00:00, 491.40it/s]\n"
     ]
    },
    {
     "name": "stdout",
     "output_type": "stream",
     "text": [
      "train_d size : (25686, 3)\n",
      "train_t size : (6770, 3)\n",
      "knn k : 11\n"
     ]
    },
    {
     "name": "stderr",
     "output_type": "stream",
     "text": [
      "  0%|          | 0/1291 [00:00<?, ?it/s]c:\\Users\\david\\anaconda3\\envs\\test_env\\lib\\site-packages\\tqdm\\std.py:1180: FutureWarning: In a future version of pandas, a length 1 tuple will be returned when iterating over a groupby with a grouper equal to a list of length 1. Don't supply a list with a single grouper to avoid this warning.\n",
      "  for obj in iterable:\n",
      "100%|██████████| 1291/1291 [00:00<00:00, 3523.04it/s]\n",
      "  0%|          | 0/1291 [00:00<?, ?it/s]c:\\Users\\david\\anaconda3\\envs\\test_env\\lib\\site-packages\\tqdm\\std.py:1180: FutureWarning: In a future version of pandas, a length 1 tuple will be returned when iterating over a groupby with a grouper equal to a list of length 1. Don't supply a list with a single grouper to avoid this warning.\n",
      "  for obj in iterable:\n",
      "100%|██████████| 1291/1291 [00:00<00:00, 2009.61it/s]\n",
      "100%|██████████| 1291/1291 [00:02<00:00, 552.23it/s]\n"
     ]
    },
    {
     "name": "stdout",
     "output_type": "stream",
     "text": [
      "train_d size : (26015, 3)\n",
      "train_t size : (6441, 3)\n",
      "knn k : 11\n"
     ]
    },
    {
     "name": "stderr",
     "output_type": "stream",
     "text": [
      "  0%|          | 0/1172 [00:00<?, ?it/s]c:\\Users\\david\\anaconda3\\envs\\test_env\\lib\\site-packages\\tqdm\\std.py:1180: FutureWarning: In a future version of pandas, a length 1 tuple will be returned when iterating over a groupby with a grouper equal to a list of length 1. Don't supply a list with a single grouper to avoid this warning.\n",
      "  for obj in iterable:\n",
      "100%|██████████| 1172/1172 [00:00<00:00, 6046.28it/s]\n",
      "  0%|          | 0/1172 [00:00<?, ?it/s]c:\\Users\\david\\anaconda3\\envs\\test_env\\lib\\site-packages\\tqdm\\std.py:1180: FutureWarning: In a future version of pandas, a length 1 tuple will be returned when iterating over a groupby with a grouper equal to a list of length 1. Don't supply a list with a single grouper to avoid this warning.\n",
      "  for obj in iterable:\n",
      "100%|██████████| 1172/1172 [00:00<00:00, 3257.20it/s]\n",
      "100%|██████████| 1172/1172 [00:01<00:00, 976.26it/s]\n"
     ]
    },
    {
     "name": "stdout",
     "output_type": "stream",
     "text": [
      "train_d size : (26369, 3)\n",
      "train_t size : (6087, 3)\n",
      "knn k : 11\n"
     ]
    },
    {
     "name": "stderr",
     "output_type": "stream",
     "text": [
      "  0%|          | 0/1224 [00:00<?, ?it/s]c:\\Users\\david\\anaconda3\\envs\\test_env\\lib\\site-packages\\tqdm\\std.py:1180: FutureWarning: In a future version of pandas, a length 1 tuple will be returned when iterating over a groupby with a grouper equal to a list of length 1. Don't supply a list with a single grouper to avoid this warning.\n",
      "  for obj in iterable:\n",
      "100%|██████████| 1224/1224 [00:00<00:00, 4450.45it/s]\n",
      "  0%|          | 0/1224 [00:00<?, ?it/s]c:\\Users\\david\\anaconda3\\envs\\test_env\\lib\\site-packages\\tqdm\\std.py:1180: FutureWarning: In a future version of pandas, a length 1 tuple will be returned when iterating over a groupby with a grouper equal to a list of length 1. Don't supply a list with a single grouper to avoid this warning.\n",
      "  for obj in iterable:\n",
      "100%|██████████| 1224/1224 [00:00<00:00, 3904.81it/s]\n",
      "100%|██████████| 1224/1224 [00:01<00:00, 974.12it/s] \n"
     ]
    },
    {
     "name": "stdout",
     "output_type": "stream",
     "text": [
      "train_d size : (26087, 3)\n",
      "train_t size : (6369, 3)\n",
      "knn k : 11\n"
     ]
    },
    {
     "name": "stderr",
     "output_type": "stream",
     "text": [
      "  0%|          | 0/1219 [00:00<?, ?it/s]c:\\Users\\david\\anaconda3\\envs\\test_env\\lib\\site-packages\\tqdm\\std.py:1180: FutureWarning: In a future version of pandas, a length 1 tuple will be returned when iterating over a groupby with a grouper equal to a list of length 1. Don't supply a list with a single grouper to avoid this warning.\n",
      "  for obj in iterable:\n",
      "100%|██████████| 1219/1219 [00:00<00:00, 4228.56it/s]\n",
      "  0%|          | 0/1219 [00:00<?, ?it/s]c:\\Users\\david\\anaconda3\\envs\\test_env\\lib\\site-packages\\tqdm\\std.py:1180: FutureWarning: In a future version of pandas, a length 1 tuple will be returned when iterating over a groupby with a grouper equal to a list of length 1. Don't supply a list with a single grouper to avoid this warning.\n",
      "  for obj in iterable:\n",
      "100%|██████████| 1219/1219 [00:00<00:00, 3475.34it/s]\n",
      "100%|██████████| 1219/1219 [00:01<00:00, 807.84it/s]\n"
     ]
    },
    {
     "name": "stdout",
     "output_type": "stream",
     "text": [
      "train_d size : (25667, 3)\n",
      "train_t size : (6789, 3)\n",
      "knn k : 11\n"
     ]
    },
    {
     "name": "stderr",
     "output_type": "stream",
     "text": [
      "  0%|          | 0/1169 [00:00<?, ?it/s]c:\\Users\\david\\anaconda3\\envs\\test_env\\lib\\site-packages\\tqdm\\std.py:1180: FutureWarning: In a future version of pandas, a length 1 tuple will be returned when iterating over a groupby with a grouper equal to a list of length 1. Don't supply a list with a single grouper to avoid this warning.\n",
      "  for obj in iterable:\n",
      "100%|██████████| 1169/1169 [00:00<00:00, 8246.13it/s]\n",
      "  0%|          | 0/1169 [00:00<?, ?it/s]c:\\Users\\david\\anaconda3\\envs\\test_env\\lib\\site-packages\\tqdm\\std.py:1180: FutureWarning: In a future version of pandas, a length 1 tuple will be returned when iterating over a groupby with a grouper equal to a list of length 1. Don't supply a list with a single grouper to avoid this warning.\n",
      "  for obj in iterable:\n",
      "100%|██████████| 1169/1169 [00:00<00:00, 3342.48it/s]\n",
      "100%|██████████| 1169/1169 [00:02<00:00, 570.55it/s]\n"
     ]
    },
    {
     "name": "stdout",
     "output_type": "stream",
     "text": [
      "train_d size : (25703, 3)\n",
      "train_t size : (6753, 3)\n",
      "knn k : 25\n"
     ]
    },
    {
     "name": "stderr",
     "output_type": "stream",
     "text": [
      "  0%|          | 0/1223 [00:00<?, ?it/s]c:\\Users\\david\\anaconda3\\envs\\test_env\\lib\\site-packages\\tqdm\\std.py:1180: FutureWarning: In a future version of pandas, a length 1 tuple will be returned when iterating over a groupby with a grouper equal to a list of length 1. Don't supply a list with a single grouper to avoid this warning.\n",
      "  for obj in iterable:\n",
      "100%|██████████| 1223/1223 [00:00<00:00, 2146.83it/s]\n",
      "  0%|          | 0/1223 [00:00<?, ?it/s]c:\\Users\\david\\anaconda3\\envs\\test_env\\lib\\site-packages\\tqdm\\std.py:1180: FutureWarning: In a future version of pandas, a length 1 tuple will be returned when iterating over a groupby with a grouper equal to a list of length 1. Don't supply a list with a single grouper to avoid this warning.\n",
      "  for obj in iterable:\n",
      "100%|██████████| 1223/1223 [00:01<00:00, 795.12it/s] \n",
      "100%|██████████| 1223/1223 [00:05<00:00, 211.03it/s]\n"
     ]
    },
    {
     "name": "stdout",
     "output_type": "stream",
     "text": [
      "train_d size : (26217, 3)\n",
      "train_t size : (6239, 3)\n",
      "knn k : 25\n"
     ]
    },
    {
     "name": "stderr",
     "output_type": "stream",
     "text": [
      "  0%|          | 0/1178 [00:00<?, ?it/s]c:\\Users\\david\\anaconda3\\envs\\test_env\\lib\\site-packages\\tqdm\\std.py:1180: FutureWarning: In a future version of pandas, a length 1 tuple will be returned when iterating over a groupby with a grouper equal to a list of length 1. Don't supply a list with a single grouper to avoid this warning.\n",
      "  for obj in iterable:\n",
      "100%|██████████| 1178/1178 [00:01<00:00, 627.23it/s]\n",
      "  0%|          | 0/1178 [00:00<?, ?it/s]c:\\Users\\david\\anaconda3\\envs\\test_env\\lib\\site-packages\\tqdm\\std.py:1180: FutureWarning: In a future version of pandas, a length 1 tuple will be returned when iterating over a groupby with a grouper equal to a list of length 1. Don't supply a list with a single grouper to avoid this warning.\n",
      "  for obj in iterable:\n",
      "100%|██████████| 1178/1178 [00:06<00:00, 176.07it/s]\n",
      "100%|██████████| 1178/1178 [00:15<00:00, 77.05it/s] \n"
     ]
    },
    {
     "name": "stdout",
     "output_type": "stream",
     "text": [
      "train_d size : (25757, 3)\n",
      "train_t size : (6699, 3)\n",
      "knn k : 25\n"
     ]
    },
    {
     "name": "stderr",
     "output_type": "stream",
     "text": [
      "  0%|          | 0/1249 [00:00<?, ?it/s]c:\\Users\\david\\anaconda3\\envs\\test_env\\lib\\site-packages\\tqdm\\std.py:1180: FutureWarning: In a future version of pandas, a length 1 tuple will be returned when iterating over a groupby with a grouper equal to a list of length 1. Don't supply a list with a single grouper to avoid this warning.\n",
      "  for obj in iterable:\n",
      "100%|██████████| 1249/1249 [00:00<00:00, 1468.44it/s]\n",
      "  0%|          | 0/1249 [00:00<?, ?it/s]c:\\Users\\david\\anaconda3\\envs\\test_env\\lib\\site-packages\\tqdm\\std.py:1180: FutureWarning: In a future version of pandas, a length 1 tuple will be returned when iterating over a groupby with a grouper equal to a list of length 1. Don't supply a list with a single grouper to avoid this warning.\n",
      "  for obj in iterable:\n",
      "100%|██████████| 1249/1249 [00:02<00:00, 621.25it/s] \n",
      "100%|██████████| 1249/1249 [00:02<00:00, 502.92it/s]\n"
     ]
    },
    {
     "name": "stdout",
     "output_type": "stream",
     "text": [
      "train_d size : (26256, 3)\n",
      "train_t size : (6200, 3)\n",
      "knn k : 25\n"
     ]
    },
    {
     "name": "stderr",
     "output_type": "stream",
     "text": [
      "  0%|          | 0/1191 [00:00<?, ?it/s]c:\\Users\\david\\anaconda3\\envs\\test_env\\lib\\site-packages\\tqdm\\std.py:1180: FutureWarning: In a future version of pandas, a length 1 tuple will be returned when iterating over a groupby with a grouper equal to a list of length 1. Don't supply a list with a single grouper to avoid this warning.\n",
      "  for obj in iterable:\n",
      "100%|██████████| 1191/1191 [00:00<00:00, 2508.05it/s]\n",
      "  0%|          | 0/1191 [00:00<?, ?it/s]c:\\Users\\david\\anaconda3\\envs\\test_env\\lib\\site-packages\\tqdm\\std.py:1180: FutureWarning: In a future version of pandas, a length 1 tuple will be returned when iterating over a groupby with a grouper equal to a list of length 1. Don't supply a list with a single grouper to avoid this warning.\n",
      "  for obj in iterable:\n",
      "100%|██████████| 1191/1191 [00:01<00:00, 703.87it/s]\n",
      "100%|██████████| 1191/1191 [00:03<00:00, 353.44it/s]\n"
     ]
    },
    {
     "name": "stdout",
     "output_type": "stream",
     "text": [
      "train_d size : (25891, 3)\n",
      "train_t size : (6565, 3)\n",
      "knn k : 25\n"
     ]
    },
    {
     "name": "stderr",
     "output_type": "stream",
     "text": [
      "  0%|          | 0/1234 [00:00<?, ?it/s]c:\\Users\\david\\anaconda3\\envs\\test_env\\lib\\site-packages\\tqdm\\std.py:1180: FutureWarning: In a future version of pandas, a length 1 tuple will be returned when iterating over a groupby with a grouper equal to a list of length 1. Don't supply a list with a single grouper to avoid this warning.\n",
      "  for obj in iterable:\n",
      "100%|██████████| 1234/1234 [00:00<00:00, 1431.40it/s]\n",
      "  0%|          | 0/1234 [00:00<?, ?it/s]c:\\Users\\david\\anaconda3\\envs\\test_env\\lib\\site-packages\\tqdm\\std.py:1180: FutureWarning: In a future version of pandas, a length 1 tuple will be returned when iterating over a groupby with a grouper equal to a list of length 1. Don't supply a list with a single grouper to avoid this warning.\n",
      "  for obj in iterable:\n",
      "100%|██████████| 1234/1234 [00:00<00:00, 1634.80it/s]\n",
      "100%|██████████| 1234/1234 [00:04<00:00, 271.83it/s]\n"
     ]
    },
    {
     "name": "stdout",
     "output_type": "stream",
     "text": [
      "train_d size : (25851, 3)\n",
      "train_t size : (6605, 3)\n",
      "knn k : 35\n"
     ]
    },
    {
     "name": "stderr",
     "output_type": "stream",
     "text": [
      "  0%|          | 0/1214 [00:00<?, ?it/s]c:\\Users\\david\\anaconda3\\envs\\test_env\\lib\\site-packages\\tqdm\\std.py:1180: FutureWarning: In a future version of pandas, a length 1 tuple will be returned when iterating over a groupby with a grouper equal to a list of length 1. Don't supply a list with a single grouper to avoid this warning.\n",
      "  for obj in iterable:\n",
      "100%|██████████| 1214/1214 [00:00<00:00, 4050.78it/s]\n",
      "  0%|          | 0/1214 [00:00<?, ?it/s]c:\\Users\\david\\anaconda3\\envs\\test_env\\lib\\site-packages\\tqdm\\std.py:1180: FutureWarning: In a future version of pandas, a length 1 tuple will be returned when iterating over a groupby with a grouper equal to a list of length 1. Don't supply a list with a single grouper to avoid this warning.\n",
      "  for obj in iterable:\n",
      "100%|██████████| 1214/1214 [00:01<00:00, 1097.37it/s]\n",
      "100%|██████████| 1214/1214 [00:04<00:00, 287.19it/s]\n"
     ]
    },
    {
     "name": "stdout",
     "output_type": "stream",
     "text": [
      "train_d size : (26192, 3)\n",
      "train_t size : (6264, 3)\n",
      "knn k : 35\n"
     ]
    },
    {
     "name": "stderr",
     "output_type": "stream",
     "text": [
      "  0%|          | 0/1215 [00:00<?, ?it/s]c:\\Users\\david\\anaconda3\\envs\\test_env\\lib\\site-packages\\tqdm\\std.py:1180: FutureWarning: In a future version of pandas, a length 1 tuple will be returned when iterating over a groupby with a grouper equal to a list of length 1. Don't supply a list with a single grouper to avoid this warning.\n",
      "  for obj in iterable:\n",
      "100%|██████████| 1215/1215 [00:00<00:00, 3462.62it/s]\n",
      "  0%|          | 0/1215 [00:00<?, ?it/s]c:\\Users\\david\\anaconda3\\envs\\test_env\\lib\\site-packages\\tqdm\\std.py:1180: FutureWarning: In a future version of pandas, a length 1 tuple will be returned when iterating over a groupby with a grouper equal to a list of length 1. Don't supply a list with a single grouper to avoid this warning.\n",
      "  for obj in iterable:\n",
      "100%|██████████| 1215/1215 [00:00<00:00, 2854.92it/s]\n",
      "100%|██████████| 1215/1215 [00:02<00:00, 483.24it/s]\n"
     ]
    },
    {
     "name": "stdout",
     "output_type": "stream",
     "text": [
      "train_d size : (25954, 3)\n",
      "train_t size : (6502, 3)\n",
      "knn k : 35\n"
     ]
    },
    {
     "name": "stderr",
     "output_type": "stream",
     "text": [
      "  0%|          | 0/1192 [00:00<?, ?it/s]c:\\Users\\david\\anaconda3\\envs\\test_env\\lib\\site-packages\\tqdm\\std.py:1180: FutureWarning: In a future version of pandas, a length 1 tuple will be returned when iterating over a groupby with a grouper equal to a list of length 1. Don't supply a list with a single grouper to avoid this warning.\n",
      "  for obj in iterable:\n",
      "100%|██████████| 1192/1192 [00:00<00:00, 3028.21it/s]\n",
      "  0%|          | 0/1192 [00:00<?, ?it/s]c:\\Users\\david\\anaconda3\\envs\\test_env\\lib\\site-packages\\tqdm\\std.py:1180: FutureWarning: In a future version of pandas, a length 1 tuple will be returned when iterating over a groupby with a grouper equal to a list of length 1. Don't supply a list with a single grouper to avoid this warning.\n",
      "  for obj in iterable:\n",
      "100%|██████████| 1192/1192 [00:00<00:00, 1726.53it/s]\n",
      "100%|██████████| 1192/1192 [00:03<00:00, 339.28it/s]\n"
     ]
    },
    {
     "name": "stdout",
     "output_type": "stream",
     "text": [
      "train_d size : (26084, 3)\n",
      "train_t size : (6372, 3)\n",
      "knn k : 35\n"
     ]
    },
    {
     "name": "stderr",
     "output_type": "stream",
     "text": [
      "  0%|          | 0/1227 [00:00<?, ?it/s]c:\\Users\\david\\anaconda3\\envs\\test_env\\lib\\site-packages\\tqdm\\std.py:1180: FutureWarning: In a future version of pandas, a length 1 tuple will be returned when iterating over a groupby with a grouper equal to a list of length 1. Don't supply a list with a single grouper to avoid this warning.\n",
      "  for obj in iterable:\n",
      "100%|██████████| 1227/1227 [00:00<00:00, 1702.21it/s]\n",
      "  0%|          | 0/1227 [00:00<?, ?it/s]c:\\Users\\david\\anaconda3\\envs\\test_env\\lib\\site-packages\\tqdm\\std.py:1180: FutureWarning: In a future version of pandas, a length 1 tuple will be returned when iterating over a groupby with a grouper equal to a list of length 1. Don't supply a list with a single grouper to avoid this warning.\n",
      "  for obj in iterable:\n",
      "100%|██████████| 1227/1227 [00:01<00:00, 670.28it/s]\n",
      "100%|██████████| 1227/1227 [00:02<00:00, 409.82it/s]\n"
     ]
    },
    {
     "name": "stdout",
     "output_type": "stream",
     "text": [
      "train_d size : (25743, 3)\n",
      "train_t size : (6713, 3)\n",
      "knn k : 35\n"
     ]
    },
    {
     "name": "stderr",
     "output_type": "stream",
     "text": [
      "  0%|          | 0/1227 [00:00<?, ?it/s]c:\\Users\\david\\anaconda3\\envs\\test_env\\lib\\site-packages\\tqdm\\std.py:1180: FutureWarning: In a future version of pandas, a length 1 tuple will be returned when iterating over a groupby with a grouper equal to a list of length 1. Don't supply a list with a single grouper to avoid this warning.\n",
      "  for obj in iterable:\n",
      "100%|██████████| 1227/1227 [00:01<00:00, 917.50it/s]\n",
      "  0%|          | 0/1227 [00:00<?, ?it/s]c:\\Users\\david\\anaconda3\\envs\\test_env\\lib\\site-packages\\tqdm\\std.py:1180: FutureWarning: In a future version of pandas, a length 1 tuple will be returned when iterating over a groupby with a grouper equal to a list of length 1. Don't supply a list with a single grouper to avoid this warning.\n",
      "  for obj in iterable:\n",
      "100%|██████████| 1227/1227 [00:00<00:00, 1489.41it/s]\n",
      "100%|██████████| 1227/1227 [00:01<00:00, 615.89it/s]\n"
     ]
    },
    {
     "name": "stdout",
     "output_type": "stream",
     "text": [
      "train_d size : (25964, 3)\n",
      "train_t size : (6492, 3)\n",
      "knn k : 75\n"
     ]
    },
    {
     "name": "stderr",
     "output_type": "stream",
     "text": [
      "  0%|          | 0/1183 [00:00<?, ?it/s]c:\\Users\\david\\anaconda3\\envs\\test_env\\lib\\site-packages\\tqdm\\std.py:1180: FutureWarning: In a future version of pandas, a length 1 tuple will be returned when iterating over a groupby with a grouper equal to a list of length 1. Don't supply a list with a single grouper to avoid this warning.\n",
      "  for obj in iterable:\n",
      "100%|██████████| 1183/1183 [00:00<00:00, 4995.81it/s]\n",
      "  0%|          | 0/1183 [00:00<?, ?it/s]c:\\Users\\david\\anaconda3\\envs\\test_env\\lib\\site-packages\\tqdm\\std.py:1180: FutureWarning: In a future version of pandas, a length 1 tuple will be returned when iterating over a groupby with a grouper equal to a list of length 1. Don't supply a list with a single grouper to avoid this warning.\n",
      "  for obj in iterable:\n",
      "100%|██████████| 1183/1183 [00:00<00:00, 1573.26it/s]\n",
      "100%|██████████| 1183/1183 [00:04<00:00, 277.39it/s]\n"
     ]
    },
    {
     "name": "stdout",
     "output_type": "stream",
     "text": [
      "train_d size : (26020, 3)\n",
      "train_t size : (6436, 3)\n",
      "knn k : 75\n"
     ]
    },
    {
     "name": "stderr",
     "output_type": "stream",
     "text": [
      "  0%|          | 0/1188 [00:00<?, ?it/s]c:\\Users\\david\\anaconda3\\envs\\test_env\\lib\\site-packages\\tqdm\\std.py:1180: FutureWarning: In a future version of pandas, a length 1 tuple will be returned when iterating over a groupby with a grouper equal to a list of length 1. Don't supply a list with a single grouper to avoid this warning.\n",
      "  for obj in iterable:\n",
      "100%|██████████| 1188/1188 [00:02<00:00, 592.47it/s] \n",
      "  0%|          | 0/1188 [00:00<?, ?it/s]c:\\Users\\david\\anaconda3\\envs\\test_env\\lib\\site-packages\\tqdm\\std.py:1180: FutureWarning: In a future version of pandas, a length 1 tuple will be returned when iterating over a groupby with a grouper equal to a list of length 1. Don't supply a list with a single grouper to avoid this warning.\n",
      "  for obj in iterable:\n",
      "100%|██████████| 1188/1188 [00:01<00:00, 699.63it/s] \n",
      "100%|██████████| 1188/1188 [00:03<00:00, 336.33it/s]\n"
     ]
    },
    {
     "name": "stdout",
     "output_type": "stream",
     "text": [
      "train_d size : (26195, 3)\n",
      "train_t size : (6261, 3)\n",
      "knn k : 75\n"
     ]
    },
    {
     "name": "stderr",
     "output_type": "stream",
     "text": [
      "  0%|          | 0/1196 [00:00<?, ?it/s]c:\\Users\\david\\anaconda3\\envs\\test_env\\lib\\site-packages\\tqdm\\std.py:1180: FutureWarning: In a future version of pandas, a length 1 tuple will be returned when iterating over a groupby with a grouper equal to a list of length 1. Don't supply a list with a single grouper to avoid this warning.\n",
      "  for obj in iterable:\n",
      "100%|██████████| 1196/1196 [00:00<00:00, 2793.54it/s]\n",
      "  0%|          | 0/1196 [00:00<?, ?it/s]c:\\Users\\david\\anaconda3\\envs\\test_env\\lib\\site-packages\\tqdm\\std.py:1180: FutureWarning: In a future version of pandas, a length 1 tuple will be returned when iterating over a groupby with a grouper equal to a list of length 1. Don't supply a list with a single grouper to avoid this warning.\n",
      "  for obj in iterable:\n",
      "100%|██████████| 1196/1196 [00:00<00:00, 2368.39it/s]\n",
      "100%|██████████| 1196/1196 [00:01<00:00, 850.83it/s]\n"
     ]
    },
    {
     "name": "stdout",
     "output_type": "stream",
     "text": [
      "train_d size : (26103, 3)\n",
      "train_t size : (6353, 3)\n",
      "knn k : 75\n"
     ]
    },
    {
     "name": "stderr",
     "output_type": "stream",
     "text": [
      "  0%|          | 0/1213 [00:00<?, ?it/s]c:\\Users\\david\\anaconda3\\envs\\test_env\\lib\\site-packages\\tqdm\\std.py:1180: FutureWarning: In a future version of pandas, a length 1 tuple will be returned when iterating over a groupby with a grouper equal to a list of length 1. Don't supply a list with a single grouper to avoid this warning.\n",
      "  for obj in iterable:\n",
      "100%|██████████| 1213/1213 [00:00<00:00, 5741.03it/s]\n",
      "  0%|          | 0/1213 [00:00<?, ?it/s]c:\\Users\\david\\anaconda3\\envs\\test_env\\lib\\site-packages\\tqdm\\std.py:1180: FutureWarning: In a future version of pandas, a length 1 tuple will be returned when iterating over a groupby with a grouper equal to a list of length 1. Don't supply a list with a single grouper to avoid this warning.\n",
      "  for obj in iterable:\n",
      "100%|██████████| 1213/1213 [00:01<00:00, 1151.53it/s]\n",
      "100%|██████████| 1213/1213 [00:02<00:00, 566.10it/s]\n"
     ]
    },
    {
     "name": "stdout",
     "output_type": "stream",
     "text": [
      "train_d size : (25542, 3)\n",
      "train_t size : (6914, 3)\n",
      "knn k : 75\n"
     ]
    },
    {
     "name": "stderr",
     "output_type": "stream",
     "text": [
      "  0%|          | 0/1295 [00:00<?, ?it/s]c:\\Users\\david\\anaconda3\\envs\\test_env\\lib\\site-packages\\tqdm\\std.py:1180: FutureWarning: In a future version of pandas, a length 1 tuple will be returned when iterating over a groupby with a grouper equal to a list of length 1. Don't supply a list with a single grouper to avoid this warning.\n",
      "  for obj in iterable:\n",
      "100%|██████████| 1295/1295 [00:00<00:00, 3359.45it/s]\n",
      "  0%|          | 0/1295 [00:00<?, ?it/s]c:\\Users\\david\\anaconda3\\envs\\test_env\\lib\\site-packages\\tqdm\\std.py:1180: FutureWarning: In a future version of pandas, a length 1 tuple will be returned when iterating over a groupby with a grouper equal to a list of length 1. Don't supply a list with a single grouper to avoid this warning.\n",
      "  for obj in iterable:\n",
      "100%|██████████| 1295/1295 [00:00<00:00, 1323.39it/s]\n",
      "100%|██████████| 1295/1295 [00:03<00:00, 413.14it/s]\n"
     ]
    },
    {
     "data": {
      "image/png": "[encoded data removed]",
      "text/plain": [
       "<Figure size 640x480 with 1 Axes>"
      ]
     },
     "metadata": {},
     "output_type": "display_data"
    }
   ],
   "source": [
    "k_values = [3, 11, 25, 35, 75]\n",
    "prediction_numbers = [5,10,20, 0]\n",
    "scores = [[],[],[], []]\n",
    "count_p = 0\n",
    "data_train_fine, _, _ = data_manip.train_test_split(data_train, 70000, None)\n",
    "for p_numbers in prediction_numbers:\n",
    "    if (count_p == 3) :\n",
    "        knn = ItemKnn(k, max_item + 1)\n",
    "        knn.fit(data_train_fine)\n",
    "        for k in k_values:\n",
    "\n",
    "            knn._k = k\n",
    "            count = 0\n",
    "            train_acc, valid_acc = 0, 0\n",
    "            for train_d, train_t in data_manip.kFold_split(data_train_fine, 5):\n",
    "                print(f\"train_d size : {train_d.shape}\")\n",
    "                print(f\"train_t size : {train_t.shape}\")\n",
    "                print(f\"knn k : {knn._k}\")\n",
    "\n",
    "                test_set, test_target = data_manip.prepare_data_for_test(train_t)\n",
    "                \n",
    "                valid_acc += knn.mrr_score(test_set, test_target)\n",
    "                # valid_acc += knn.mrr_score(test_set, test_target)\n",
    "                count += 1\n",
    "            scores[count_p].append(valid_acc/count)\n",
    "    else:\n",
    "        k = 3\n",
    "        knn = Knn(k, max_item + 1, p_numbers)\n",
    "        knn.fit(data_train_fine)\n",
    "        for k in k_values:            \n",
    "\n",
    "            count = 0\n",
    "            knn._k = k\n",
    "            train_acc, valid_acc = 0, 0\n",
    "            for train_d, train_t in data_manip.kFold_split(data_train_fine, 5):\n",
    "                print(f\"train_d size : {train_d.shape}\")\n",
    "                print(f\"train_t size : {train_t.shape}\")\n",
    "                \n",
    "                print(f\"knn k : {knn._k}\")\n",
    "\n",
    "                test_set, test_target = data_manip.prepare_data_for_test(train_t)\n",
    "                y_hat = knn.predict(test_set)\n",
    "                valid_acc += mean_reciprocal_rank(y_hat, test_target)\n",
    "                # valid_acc += knn.mrr_score(test_set, test_target)\n",
    "                count += 1\n",
    "            scores[count_p].append(valid_acc/count)\n",
    "    count_p += 1\n",
    "\n",
    "fig = pyplot.figure()\n",
    "ax = fig.add_subplot(111)\n",
    "\n",
    "ax.set_title('K_nn')  # À modifier / to be modified\n",
    "ax.plot(k_values, scores[0], 'r--', label=f\"Session - K_nn : {prediction_numbers[0]} prédictions\") # À compléter / to be completed\n",
    "ax.plot(k_values, scores[1], 'b--', label=f\"Session - K_nn : {prediction_numbers[1]} prédictions\") # À compléter / to be completed\n",
    "ax.plot(k_values, scores[2], 'y--', label=f\"Session - K_nn : {prediction_numbers[2]} prédictions\")\n",
    "ax.plot(k_values, scores[3], 'g--', label=\"Item-Knn\")\n",
    "ax.set_xticks(k_values, k_values)\n",
    "ax.grid(axis='x')\n",
    "ax.set_xlabel(\"Values of K\")\n",
    "ax.set_ylabel(\"MRR \")\n",
    "pyplot.legend()\n",
    "pyplot.show()"
   ]
  },
  {
   "cell_type": "code",
   "execution_count": 4,
   "metadata": {},
   "outputs": [
    {
     "name": "stdout",
     "output_type": "stream",
     "text": [
      "train size was modified real train session size is 70000\n",
      "train_d size : (25422, 3)\n",
      "train_t size : (6455, 3)\n"
     ]
    },
    {
     "name": "stderr",
     "output_type": "stream",
     "text": [
      "c:\\Users\\david\\anaconda3\\envs\\test_env\\lib\\site-packages\\tqdm\\std.py:1180: FutureWarning: In a future version of pandas, a length 1 tuple will be returned when iterating over a groupby with a grouper equal to a list of length 1. Don't supply a list with a single grouper to avoid this warning.\n",
      "  for obj in iterable:\n",
      "100%|██████████| 4849/4849 [00:02<00:00, 1975.73it/s]\n"
     ]
    },
    {
     "name": "stdout",
     "output_type": "stream",
     "text": [
      "knn k : 3\n"
     ]
    },
    {
     "name": "stderr",
     "output_type": "stream",
     "text": [
      "c:\\Users\\david\\anaconda3\\envs\\test_env\\lib\\site-packages\\tqdm\\std.py:1180: FutureWarning: In a future version of pandas, a length 1 tuple will be returned when iterating over a groupby with a grouper equal to a list of length 1. Don't supply a list with a single grouper to avoid this warning.\n",
      "  for obj in iterable:\n",
      "100%|██████████| 1158/1158 [00:00<00:00, 4844.61it/s]\n",
      "c:\\Users\\david\\anaconda3\\envs\\test_env\\lib\\site-packages\\tqdm\\std.py:1180: FutureWarning: In a future version of pandas, a length 1 tuple will be returned when iterating over a groupby with a grouper equal to a list of length 1. Don't supply a list with a single grouper to avoid this warning.\n",
      "  for obj in iterable:\n",
      "100%|██████████| 1158/1158 [00:00<00:00, 1852.75it/s]\n",
      "c:\\Users\\david\\anaconda3\\envs\\test_env\\lib\\site-packages\\tqdm\\std.py:1180: FutureWarning: In a future version of pandas, a length 1 tuple will be returned when iterating over a groupby with a grouper equal to a list of length 1. Don't supply a list with a single grouper to avoid this warning.\n",
      "  for obj in iterable:\n",
      "100%|██████████| 1158/1158 [00:07<00:00, 164.57it/s]\n"
     ]
    },
    {
     "name": "stdout",
     "output_type": "stream",
     "text": [
      "train_d size : (24890, 3)\n",
      "train_t size : (6987, 3)\n"
     ]
    },
    {
     "name": "stderr",
     "output_type": "stream",
     "text": [
      "c:\\Users\\david\\anaconda3\\envs\\test_env\\lib\\site-packages\\tqdm\\std.py:1180: FutureWarning: In a future version of pandas, a length 1 tuple will be returned when iterating over a groupby with a grouper equal to a list of length 1. Don't supply a list with a single grouper to avoid this warning.\n",
      "  for obj in iterable:\n",
      "100%|██████████| 4729/4729 [00:02<00:00, 2111.18it/s]\n"
     ]
    },
    {
     "name": "stdout",
     "output_type": "stream",
     "text": [
      "knn k : 3\n"
     ]
    },
    {
     "name": "stderr",
     "output_type": "stream",
     "text": [
      "c:\\Users\\david\\anaconda3\\envs\\test_env\\lib\\site-packages\\tqdm\\std.py:1180: FutureWarning: In a future version of pandas, a length 1 tuple will be returned when iterating over a groupby with a grouper equal to a list of length 1. Don't supply a list with a single grouper to avoid this warning.\n",
      "  for obj in iterable:\n",
      "100%|██████████| 1278/1278 [00:00<00:00, 3644.75it/s]\n",
      "c:\\Users\\david\\anaconda3\\envs\\test_env\\lib\\site-packages\\tqdm\\std.py:1180: FutureWarning: In a future version of pandas, a length 1 tuple will be returned when iterating over a groupby with a grouper equal to a list of length 1. Don't supply a list with a single grouper to avoid this warning.\n",
      "  for obj in iterable:\n",
      "100%|██████████| 1278/1278 [00:00<00:00, 2826.32it/s]\n",
      "c:\\Users\\david\\anaconda3\\envs\\test_env\\lib\\site-packages\\tqdm\\std.py:1180: FutureWarning: In a future version of pandas, a length 1 tuple will be returned when iterating over a groupby with a grouper equal to a list of length 1. Don't supply a list with a single grouper to avoid this warning.\n",
      "  for obj in iterable:\n",
      "100%|██████████| 1278/1278 [00:04<00:00, 264.37it/s]\n"
     ]
    },
    {
     "name": "stdout",
     "output_type": "stream",
     "text": [
      "train_d size : (25681, 3)\n",
      "train_t size : (6196, 3)\n"
     ]
    },
    {
     "name": "stderr",
     "output_type": "stream",
     "text": [
      "c:\\Users\\david\\anaconda3\\envs\\test_env\\lib\\site-packages\\tqdm\\std.py:1180: FutureWarning: In a future version of pandas, a length 1 tuple will be returned when iterating over a groupby with a grouper equal to a list of length 1. Don't supply a list with a single grouper to avoid this warning.\n",
      "  for obj in iterable:\n",
      "100%|██████████| 4808/4808 [00:02<00:00, 2399.74it/s]\n"
     ]
    },
    {
     "name": "stdout",
     "output_type": "stream",
     "text": [
      "knn k : 3\n"
     ]
    },
    {
     "name": "stderr",
     "output_type": "stream",
     "text": [
      "c:\\Users\\david\\anaconda3\\envs\\test_env\\lib\\site-packages\\tqdm\\std.py:1180: FutureWarning: In a future version of pandas, a length 1 tuple will be returned when iterating over a groupby with a grouper equal to a list of length 1. Don't supply a list with a single grouper to avoid this warning.\n",
      "  for obj in iterable:\n",
      "100%|██████████| 1199/1199 [00:00<00:00, 6120.05it/s]\n",
      "c:\\Users\\david\\anaconda3\\envs\\test_env\\lib\\site-packages\\tqdm\\std.py:1180: FutureWarning: In a future version of pandas, a length 1 tuple will be returned when iterating over a groupby with a grouper equal to a list of length 1. Don't supply a list with a single grouper to avoid this warning.\n",
      "  for obj in iterable:\n",
      "100%|██████████| 1199/1199 [00:00<00:00, 2439.82it/s]\n",
      "c:\\Users\\david\\anaconda3\\envs\\test_env\\lib\\site-packages\\tqdm\\std.py:1180: FutureWarning: In a future version of pandas, a length 1 tuple will be returned when iterating over a groupby with a grouper equal to a list of length 1. Don't supply a list with a single grouper to avoid this warning.\n",
      "  for obj in iterable:\n",
      "100%|██████████| 1199/1199 [00:05<00:00, 228.65it/s]\n"
     ]
    },
    {
     "name": "stdout",
     "output_type": "stream",
     "text": [
      "train_d size : (25734, 3)\n",
      "train_t size : (6143, 3)\n"
     ]
    },
    {
     "name": "stderr",
     "output_type": "stream",
     "text": [
      "c:\\Users\\david\\anaconda3\\envs\\test_env\\lib\\site-packages\\tqdm\\std.py:1180: FutureWarning: In a future version of pandas, a length 1 tuple will be returned when iterating over a groupby with a grouper equal to a list of length 1. Don't supply a list with a single grouper to avoid this warning.\n",
      "  for obj in iterable:\n",
      "100%|██████████| 4827/4827 [00:01<00:00, 2415.50it/s]\n"
     ]
    },
    {
     "name": "stdout",
     "output_type": "stream",
     "text": [
      "knn k : 3\n"
     ]
    },
    {
     "name": "stderr",
     "output_type": "stream",
     "text": [
      "c:\\Users\\david\\anaconda3\\envs\\test_env\\lib\\site-packages\\tqdm\\std.py:1180: FutureWarning: In a future version of pandas, a length 1 tuple will be returned when iterating over a groupby with a grouper equal to a list of length 1. Don't supply a list with a single grouper to avoid this warning.\n",
      "  for obj in iterable:\n",
      "100%|██████████| 1180/1180 [00:00<00:00, 3192.85it/s]\n",
      "c:\\Users\\david\\anaconda3\\envs\\test_env\\lib\\site-packages\\tqdm\\std.py:1180: FutureWarning: In a future version of pandas, a length 1 tuple will be returned when iterating over a groupby with a grouper equal to a list of length 1. Don't supply a list with a single grouper to avoid this warning.\n",
      "  for obj in iterable:\n",
      "100%|██████████| 1180/1180 [00:00<00:00, 2461.41it/s]\n",
      "c:\\Users\\david\\anaconda3\\envs\\test_env\\lib\\site-packages\\tqdm\\std.py:1180: FutureWarning: In a future version of pandas, a length 1 tuple will be returned when iterating over a groupby with a grouper equal to a list of length 1. Don't supply a list with a single grouper to avoid this warning.\n",
      "  for obj in iterable:\n",
      "100%|██████████| 1180/1180 [00:07<00:00, 168.43it/s]\n"
     ]
    },
    {
     "name": "stdout",
     "output_type": "stream",
     "text": [
      "train_d size : (25781, 3)\n",
      "train_t size : (6096, 3)\n"
     ]
    },
    {
     "name": "stderr",
     "output_type": "stream",
     "text": [
      "c:\\Users\\david\\anaconda3\\envs\\test_env\\lib\\site-packages\\tqdm\\std.py:1180: FutureWarning: In a future version of pandas, a length 1 tuple will be returned when iterating over a groupby with a grouper equal to a list of length 1. Don't supply a list with a single grouper to avoid this warning.\n",
      "  for obj in iterable:\n",
      "100%|██████████| 4815/4815 [00:05<00:00, 924.36it/s]\n"
     ]
    },
    {
     "name": "stdout",
     "output_type": "stream",
     "text": [
      "knn k : 3\n"
     ]
    },
    {
     "name": "stderr",
     "output_type": "stream",
     "text": [
      "c:\\Users\\david\\anaconda3\\envs\\test_env\\lib\\site-packages\\tqdm\\std.py:1180: FutureWarning: In a future version of pandas, a length 1 tuple will be returned when iterating over a groupby with a grouper equal to a list of length 1. Don't supply a list with a single grouper to avoid this warning.\n",
      "  for obj in iterable:\n",
      "100%|██████████| 1192/1192 [00:00<00:00, 1857.45it/s]\n",
      "c:\\Users\\david\\anaconda3\\envs\\test_env\\lib\\site-packages\\tqdm\\std.py:1180: FutureWarning: In a future version of pandas, a length 1 tuple will be returned when iterating over a groupby with a grouper equal to a list of length 1. Don't supply a list with a single grouper to avoid this warning.\n",
      "  for obj in iterable:\n",
      "100%|██████████| 1192/1192 [00:00<00:00, 1544.92it/s]\n",
      "c:\\Users\\david\\anaconda3\\envs\\test_env\\lib\\site-packages\\tqdm\\std.py:1180: FutureWarning: In a future version of pandas, a length 1 tuple will be returned when iterating over a groupby with a grouper equal to a list of length 1. Don't supply a list with a single grouper to avoid this warning.\n",
      "  for obj in iterable:\n",
      "100%|██████████| 1192/1192 [00:08<00:00, 148.01it/s]\n"
     ]
    },
    {
     "name": "stdout",
     "output_type": "stream",
     "text": [
      "train_d size : (25826, 3)\n",
      "train_t size : (6051, 3)\n"
     ]
    },
    {
     "name": "stderr",
     "output_type": "stream",
     "text": [
      "c:\\Users\\david\\anaconda3\\envs\\test_env\\lib\\site-packages\\tqdm\\std.py:1180: FutureWarning: In a future version of pandas, a length 1 tuple will be returned when iterating over a groupby with a grouper equal to a list of length 1. Don't supply a list with a single grouper to avoid this warning.\n",
      "  for obj in iterable:\n",
      "100%|██████████| 4840/4840 [00:06<00:00, 801.69it/s]\n"
     ]
    },
    {
     "name": "stdout",
     "output_type": "stream",
     "text": [
      "knn k : 11\n"
     ]
    },
    {
     "name": "stderr",
     "output_type": "stream",
     "text": [
      "c:\\Users\\david\\anaconda3\\envs\\test_env\\lib\\site-packages\\tqdm\\std.py:1180: FutureWarning: In a future version of pandas, a length 1 tuple will be returned when iterating over a groupby with a grouper equal to a list of length 1. Don't supply a list with a single grouper to avoid this warning.\n",
      "  for obj in iterable:\n",
      "100%|██████████| 1167/1167 [00:00<00:00, 2465.31it/s]\n",
      "c:\\Users\\david\\anaconda3\\envs\\test_env\\lib\\site-packages\\tqdm\\std.py:1180: FutureWarning: In a future version of pandas, a length 1 tuple will be returned when iterating over a groupby with a grouper equal to a list of length 1. Don't supply a list with a single grouper to avoid this warning.\n",
      "  for obj in iterable:\n",
      "100%|██████████| 1167/1167 [00:00<00:00, 1638.24it/s]\n",
      "c:\\Users\\david\\anaconda3\\envs\\test_env\\lib\\site-packages\\tqdm\\std.py:1180: FutureWarning: In a future version of pandas, a length 1 tuple will be returned when iterating over a groupby with a grouper equal to a list of length 1. Don't supply a list with a single grouper to avoid this warning.\n",
      "  for obj in iterable:\n",
      "100%|██████████| 1167/1167 [00:06<00:00, 192.92it/s]\n"
     ]
    },
    {
     "name": "stdout",
     "output_type": "stream",
     "text": [
      "train_d size : (25552, 3)\n",
      "train_t size : (6325, 3)\n"
     ]
    },
    {
     "name": "stderr",
     "output_type": "stream",
     "text": [
      "c:\\Users\\david\\anaconda3\\envs\\test_env\\lib\\site-packages\\tqdm\\std.py:1180: FutureWarning: In a future version of pandas, a length 1 tuple will be returned when iterating over a groupby with a grouper equal to a list of length 1. Don't supply a list with a single grouper to avoid this warning.\n",
      "  for obj in iterable:\n",
      "100%|██████████| 4809/4809 [00:03<00:00, 1409.17it/s]\n"
     ]
    },
    {
     "name": "stdout",
     "output_type": "stream",
     "text": [
      "knn k : 11\n"
     ]
    },
    {
     "name": "stderr",
     "output_type": "stream",
     "text": [
      "c:\\Users\\david\\anaconda3\\envs\\test_env\\lib\\site-packages\\tqdm\\std.py:1180: FutureWarning: In a future version of pandas, a length 1 tuple will be returned when iterating over a groupby with a grouper equal to a list of length 1. Don't supply a list with a single grouper to avoid this warning.\n",
      "  for obj in iterable:\n",
      "100%|██████████| 1198/1198 [00:00<00:00, 4749.01it/s]\n",
      "c:\\Users\\david\\anaconda3\\envs\\test_env\\lib\\site-packages\\tqdm\\std.py:1180: FutureWarning: In a future version of pandas, a length 1 tuple will be returned when iterating over a groupby with a grouper equal to a list of length 1. Don't supply a list with a single grouper to avoid this warning.\n",
      "  for obj in iterable:\n",
      "100%|██████████| 1198/1198 [00:01<00:00, 878.23it/s]\n",
      "c:\\Users\\david\\anaconda3\\envs\\test_env\\lib\\site-packages\\tqdm\\std.py:1180: FutureWarning: In a future version of pandas, a length 1 tuple will be returned when iterating over a groupby with a grouper equal to a list of length 1. Don't supply a list with a single grouper to avoid this warning.\n",
      "  for obj in iterable:\n",
      "100%|██████████| 1198/1198 [00:08<00:00, 144.34it/s]\n"
     ]
    },
    {
     "name": "stdout",
     "output_type": "stream",
     "text": [
      "train_d size : (25788, 3)\n",
      "train_t size : (6089, 3)\n"
     ]
    },
    {
     "name": "stderr",
     "output_type": "stream",
     "text": [
      "c:\\Users\\david\\anaconda3\\envs\\test_env\\lib\\site-packages\\tqdm\\std.py:1180: FutureWarning: In a future version of pandas, a length 1 tuple will be returned when iterating over a groupby with a grouper equal to a list of length 1. Don't supply a list with a single grouper to avoid this warning.\n",
      "  for obj in iterable:\n",
      "100%|██████████| 4801/4801 [00:03<00:00, 1584.80it/s]\n"
     ]
    },
    {
     "name": "stdout",
     "output_type": "stream",
     "text": [
      "knn k : 11\n"
     ]
    },
    {
     "name": "stderr",
     "output_type": "stream",
     "text": [
      "c:\\Users\\david\\anaconda3\\envs\\test_env\\lib\\site-packages\\tqdm\\std.py:1180: FutureWarning: In a future version of pandas, a length 1 tuple will be returned when iterating over a groupby with a grouper equal to a list of length 1. Don't supply a list with a single grouper to avoid this warning.\n",
      "  for obj in iterable:\n",
      "100%|██████████| 1206/1206 [00:00<00:00, 2520.32it/s]\n",
      "c:\\Users\\david\\anaconda3\\envs\\test_env\\lib\\site-packages\\tqdm\\std.py:1180: FutureWarning: In a future version of pandas, a length 1 tuple will be returned when iterating over a groupby with a grouper equal to a list of length 1. Don't supply a list with a single grouper to avoid this warning.\n",
      "  for obj in iterable:\n",
      "100%|██████████| 1206/1206 [00:00<00:00, 1848.65it/s]\n",
      "c:\\Users\\david\\anaconda3\\envs\\test_env\\lib\\site-packages\\tqdm\\std.py:1180: FutureWarning: In a future version of pandas, a length 1 tuple will be returned when iterating over a groupby with a grouper equal to a list of length 1. Don't supply a list with a single grouper to avoid this warning.\n",
      "  for obj in iterable:\n",
      "100%|██████████| 1206/1206 [00:05<00:00, 218.20it/s]\n"
     ]
    },
    {
     "name": "stdout",
     "output_type": "stream",
     "text": [
      "train_d size : (25481, 3)\n",
      "train_t size : (6396, 3)\n"
     ]
    },
    {
     "name": "stderr",
     "output_type": "stream",
     "text": [
      "c:\\Users\\david\\anaconda3\\envs\\test_env\\lib\\site-packages\\tqdm\\std.py:1180: FutureWarning: In a future version of pandas, a length 1 tuple will be returned when iterating over a groupby with a grouper equal to a list of length 1. Don't supply a list with a single grouper to avoid this warning.\n",
      "  for obj in iterable:\n",
      "100%|██████████| 4799/4799 [00:06<00:00, 690.93it/s] \n"
     ]
    },
    {
     "name": "stdout",
     "output_type": "stream",
     "text": [
      "knn k : 11\n"
     ]
    },
    {
     "name": "stderr",
     "output_type": "stream",
     "text": [
      "c:\\Users\\david\\anaconda3\\envs\\test_env\\lib\\site-packages\\tqdm\\std.py:1180: FutureWarning: In a future version of pandas, a length 1 tuple will be returned when iterating over a groupby with a grouper equal to a list of length 1. Don't supply a list with a single grouper to avoid this warning.\n",
      "  for obj in iterable:\n",
      "100%|██████████| 1208/1208 [00:00<00:00, 1617.21it/s]\n",
      "c:\\Users\\david\\anaconda3\\envs\\test_env\\lib\\site-packages\\tqdm\\std.py:1180: FutureWarning: In a future version of pandas, a length 1 tuple will be returned when iterating over a groupby with a grouper equal to a list of length 1. Don't supply a list with a single grouper to avoid this warning.\n",
      "  for obj in iterable:\n",
      "100%|██████████| 1208/1208 [00:00<00:00, 1229.21it/s]\n",
      "c:\\Users\\david\\anaconda3\\envs\\test_env\\lib\\site-packages\\tqdm\\std.py:1180: FutureWarning: In a future version of pandas, a length 1 tuple will be returned when iterating over a groupby with a grouper equal to a list of length 1. Don't supply a list with a single grouper to avoid this warning.\n",
      "  for obj in iterable:\n",
      "100%|██████████| 1208/1208 [00:08<00:00, 140.11it/s]\n"
     ]
    },
    {
     "name": "stdout",
     "output_type": "stream",
     "text": [
      "train_d size : (24861, 3)\n",
      "train_t size : (7016, 3)\n"
     ]
    },
    {
     "name": "stderr",
     "output_type": "stream",
     "text": [
      "c:\\Users\\david\\anaconda3\\envs\\test_env\\lib\\site-packages\\tqdm\\std.py:1180: FutureWarning: In a future version of pandas, a length 1 tuple will be returned when iterating over a groupby with a grouper equal to a list of length 1. Don't supply a list with a single grouper to avoid this warning.\n",
      "  for obj in iterable:\n",
      "100%|██████████| 4779/4779 [00:02<00:00, 2197.99it/s]\n"
     ]
    },
    {
     "name": "stdout",
     "output_type": "stream",
     "text": [
      "knn k : 11\n"
     ]
    },
    {
     "name": "stderr",
     "output_type": "stream",
     "text": [
      "c:\\Users\\david\\anaconda3\\envs\\test_env\\lib\\site-packages\\tqdm\\std.py:1180: FutureWarning: In a future version of pandas, a length 1 tuple will be returned when iterating over a groupby with a grouper equal to a list of length 1. Don't supply a list with a single grouper to avoid this warning.\n",
      "  for obj in iterable:\n",
      "100%|██████████| 1228/1228 [00:00<00:00, 2881.74it/s]\n",
      "c:\\Users\\david\\anaconda3\\envs\\test_env\\lib\\site-packages\\tqdm\\std.py:1180: FutureWarning: In a future version of pandas, a length 1 tuple will be returned when iterating over a groupby with a grouper equal to a list of length 1. Don't supply a list with a single grouper to avoid this warning.\n",
      "  for obj in iterable:\n",
      "100%|██████████| 1228/1228 [00:00<00:00, 2138.03it/s]\n",
      "c:\\Users\\david\\anaconda3\\envs\\test_env\\lib\\site-packages\\tqdm\\std.py:1180: FutureWarning: In a future version of pandas, a length 1 tuple will be returned when iterating over a groupby with a grouper equal to a list of length 1. Don't supply a list with a single grouper to avoid this warning.\n",
      "  for obj in iterable:\n",
      "100%|██████████| 1228/1228 [00:04<00:00, 266.22it/s]\n"
     ]
    },
    {
     "name": "stdout",
     "output_type": "stream",
     "text": [
      "train_d size : (25632, 3)\n",
      "train_t size : (6245, 3)\n"
     ]
    },
    {
     "name": "stderr",
     "output_type": "stream",
     "text": [
      "c:\\Users\\david\\anaconda3\\envs\\test_env\\lib\\site-packages\\tqdm\\std.py:1180: FutureWarning: In a future version of pandas, a length 1 tuple will be returned when iterating over a groupby with a grouper equal to a list of length 1. Don't supply a list with a single grouper to avoid this warning.\n",
      "  for obj in iterable:\n",
      "100%|██████████| 4832/4832 [00:02<00:00, 1736.91it/s]\n"
     ]
    },
    {
     "name": "stdout",
     "output_type": "stream",
     "text": [
      "knn k : 25\n"
     ]
    },
    {
     "name": "stderr",
     "output_type": "stream",
     "text": [
      "c:\\Users\\david\\anaconda3\\envs\\test_env\\lib\\site-packages\\tqdm\\std.py:1180: FutureWarning: In a future version of pandas, a length 1 tuple will be returned when iterating over a groupby with a grouper equal to a list of length 1. Don't supply a list with a single grouper to avoid this warning.\n",
      "  for obj in iterable:\n",
      "100%|██████████| 1175/1175 [00:00<00:00, 2008.06it/s]\n",
      "c:\\Users\\david\\anaconda3\\envs\\test_env\\lib\\site-packages\\tqdm\\std.py:1180: FutureWarning: In a future version of pandas, a length 1 tuple will be returned when iterating over a groupby with a grouper equal to a list of length 1. Don't supply a list with a single grouper to avoid this warning.\n",
      "  for obj in iterable:\n",
      "100%|██████████| 1175/1175 [00:00<00:00, 1531.08it/s]\n",
      "c:\\Users\\david\\anaconda3\\envs\\test_env\\lib\\site-packages\\tqdm\\std.py:1180: FutureWarning: In a future version of pandas, a length 1 tuple will be returned when iterating over a groupby with a grouper equal to a list of length 1. Don't supply a list with a single grouper to avoid this warning.\n",
      "  for obj in iterable:\n",
      "100%|██████████| 1175/1175 [00:05<00:00, 228.16it/s]\n"
     ]
    },
    {
     "name": "stdout",
     "output_type": "stream",
     "text": [
      "train_d size : (25597, 3)\n",
      "train_t size : (6280, 3)\n"
     ]
    },
    {
     "name": "stderr",
     "output_type": "stream",
     "text": [
      "c:\\Users\\david\\anaconda3\\envs\\test_env\\lib\\site-packages\\tqdm\\std.py:1180: FutureWarning: In a future version of pandas, a length 1 tuple will be returned when iterating over a groupby with a grouper equal to a list of length 1. Don't supply a list with a single grouper to avoid this warning.\n",
      "  for obj in iterable:\n",
      "100%|██████████| 4802/4802 [00:02<00:00, 2021.09it/s]\n"
     ]
    },
    {
     "name": "stdout",
     "output_type": "stream",
     "text": [
      "knn k : 25\n"
     ]
    },
    {
     "name": "stderr",
     "output_type": "stream",
     "text": [
      "c:\\Users\\david\\anaconda3\\envs\\test_env\\lib\\site-packages\\tqdm\\std.py:1180: FutureWarning: In a future version of pandas, a length 1 tuple will be returned when iterating over a groupby with a grouper equal to a list of length 1. Don't supply a list with a single grouper to avoid this warning.\n",
      "  for obj in iterable:\n",
      "100%|██████████| 1205/1205 [00:00<00:00, 3678.26it/s]\n",
      "c:\\Users\\david\\anaconda3\\envs\\test_env\\lib\\site-packages\\tqdm\\std.py:1180: FutureWarning: In a future version of pandas, a length 1 tuple will be returned when iterating over a groupby with a grouper equal to a list of length 1. Don't supply a list with a single grouper to avoid this warning.\n",
      "  for obj in iterable:\n",
      "100%|██████████| 1205/1205 [00:00<00:00, 2586.31it/s]\n",
      "c:\\Users\\david\\anaconda3\\envs\\test_env\\lib\\site-packages\\tqdm\\std.py:1180: FutureWarning: In a future version of pandas, a length 1 tuple will be returned when iterating over a groupby with a grouper equal to a list of length 1. Don't supply a list with a single grouper to avoid this warning.\n",
      "  for obj in iterable:\n",
      "100%|██████████| 1205/1205 [00:07<00:00, 162.39it/s]\n"
     ]
    },
    {
     "name": "stdout",
     "output_type": "stream",
     "text": [
      "train_d size : (25642, 3)\n",
      "train_t size : (6235, 3)\n"
     ]
    },
    {
     "name": "stderr",
     "output_type": "stream",
     "text": [
      "c:\\Users\\david\\anaconda3\\envs\\test_env\\lib\\site-packages\\tqdm\\std.py:1180: FutureWarning: In a future version of pandas, a length 1 tuple will be returned when iterating over a groupby with a grouper equal to a list of length 1. Don't supply a list with a single grouper to avoid this warning.\n",
      "  for obj in iterable:\n",
      "100%|██████████| 4841/4841 [00:08<00:00, 593.88it/s]\n"
     ]
    },
    {
     "name": "stdout",
     "output_type": "stream",
     "text": [
      "knn k : 25\n"
     ]
    },
    {
     "name": "stderr",
     "output_type": "stream",
     "text": [
      "c:\\Users\\david\\anaconda3\\envs\\test_env\\lib\\site-packages\\tqdm\\std.py:1180: FutureWarning: In a future version of pandas, a length 1 tuple will be returned when iterating over a groupby with a grouper equal to a list of length 1. Don't supply a list with a single grouper to avoid this warning.\n",
      "  for obj in iterable:\n",
      "100%|██████████| 1166/1166 [00:00<00:00, 1460.98it/s]\n",
      "c:\\Users\\david\\anaconda3\\envs\\test_env\\lib\\site-packages\\tqdm\\std.py:1180: FutureWarning: In a future version of pandas, a length 1 tuple will be returned when iterating over a groupby with a grouper equal to a list of length 1. Don't supply a list with a single grouper to avoid this warning.\n",
      "  for obj in iterable:\n",
      "100%|██████████| 1166/1166 [00:01<00:00, 1157.60it/s]\n",
      "c:\\Users\\david\\anaconda3\\envs\\test_env\\lib\\site-packages\\tqdm\\std.py:1180: FutureWarning: In a future version of pandas, a length 1 tuple will be returned when iterating over a groupby with a grouper equal to a list of length 1. Don't supply a list with a single grouper to avoid this warning.\n",
      "  for obj in iterable:\n",
      "100%|██████████| 1166/1166 [00:07<00:00, 146.80it/s]\n"
     ]
    },
    {
     "name": "stdout",
     "output_type": "stream",
     "text": [
      "train_d size : (25419, 3)\n",
      "train_t size : (6458, 3)\n"
     ]
    },
    {
     "name": "stderr",
     "output_type": "stream",
     "text": [
      "c:\\Users\\david\\anaconda3\\envs\\test_env\\lib\\site-packages\\tqdm\\std.py:1180: FutureWarning: In a future version of pandas, a length 1 tuple will be returned when iterating over a groupby with a grouper equal to a list of length 1. Don't supply a list with a single grouper to avoid this warning.\n",
      "  for obj in iterable:\n",
      "100%|██████████| 4800/4800 [00:02<00:00, 2017.10it/s]\n"
     ]
    },
    {
     "name": "stdout",
     "output_type": "stream",
     "text": [
      "knn k : 25\n"
     ]
    },
    {
     "name": "stderr",
     "output_type": "stream",
     "text": [
      "c:\\Users\\david\\anaconda3\\envs\\test_env\\lib\\site-packages\\tqdm\\std.py:1180: FutureWarning: In a future version of pandas, a length 1 tuple will be returned when iterating over a groupby with a grouper equal to a list of length 1. Don't supply a list with a single grouper to avoid this warning.\n",
      "  for obj in iterable:\n",
      "100%|██████████| 1207/1207 [00:00<00:00, 3232.19it/s]\n",
      "c:\\Users\\david\\anaconda3\\envs\\test_env\\lib\\site-packages\\tqdm\\std.py:1180: FutureWarning: In a future version of pandas, a length 1 tuple will be returned when iterating over a groupby with a grouper equal to a list of length 1. Don't supply a list with a single grouper to avoid this warning.\n",
      "  for obj in iterable:\n",
      "100%|██████████| 1207/1207 [00:00<00:00, 1488.99it/s]\n",
      "c:\\Users\\david\\anaconda3\\envs\\test_env\\lib\\site-packages\\tqdm\\std.py:1180: FutureWarning: In a future version of pandas, a length 1 tuple will be returned when iterating over a groupby with a grouper equal to a list of length 1. Don't supply a list with a single grouper to avoid this warning.\n",
      "  for obj in iterable:\n",
      "100%|██████████| 1207/1207 [00:07<00:00, 172.11it/s]\n"
     ]
    },
    {
     "name": "stdout",
     "output_type": "stream",
     "text": [
      "train_d size : (25218, 3)\n",
      "train_t size : (6659, 3)\n"
     ]
    },
    {
     "name": "stderr",
     "output_type": "stream",
     "text": [
      "c:\\Users\\david\\anaconda3\\envs\\test_env\\lib\\site-packages\\tqdm\\std.py:1180: FutureWarning: In a future version of pandas, a length 1 tuple will be returned when iterating over a groupby with a grouper equal to a list of length 1. Don't supply a list with a single grouper to avoid this warning.\n",
      "  for obj in iterable:\n",
      "100%|██████████| 4753/4753 [00:04<00:00, 952.87it/s]\n"
     ]
    },
    {
     "name": "stdout",
     "output_type": "stream",
     "text": [
      "knn k : 25\n"
     ]
    },
    {
     "name": "stderr",
     "output_type": "stream",
     "text": [
      "c:\\Users\\david\\anaconda3\\envs\\test_env\\lib\\site-packages\\tqdm\\std.py:1180: FutureWarning: In a future version of pandas, a length 1 tuple will be returned when iterating over a groupby with a grouper equal to a list of length 1. Don't supply a list with a single grouper to avoid this warning.\n",
      "  for obj in iterable:\n",
      "100%|██████████| 1254/1254 [00:00<00:00, 2958.63it/s]\n",
      "c:\\Users\\david\\anaconda3\\envs\\test_env\\lib\\site-packages\\tqdm\\std.py:1180: FutureWarning: In a future version of pandas, a length 1 tuple will be returned when iterating over a groupby with a grouper equal to a list of length 1. Don't supply a list with a single grouper to avoid this warning.\n",
      "  for obj in iterable:\n",
      "100%|██████████| 1254/1254 [00:00<00:00, 2169.45it/s]\n",
      "c:\\Users\\david\\anaconda3\\envs\\test_env\\lib\\site-packages\\tqdm\\std.py:1180: FutureWarning: In a future version of pandas, a length 1 tuple will be returned when iterating over a groupby with a grouper equal to a list of length 1. Don't supply a list with a single grouper to avoid this warning.\n",
      "  for obj in iterable:\n",
      "100%|██████████| 1254/1254 [00:04<00:00, 268.72it/s]\n"
     ]
    },
    {
     "name": "stdout",
     "output_type": "stream",
     "text": [
      "train_d size : (25704, 3)\n",
      "train_t size : (6173, 3)\n"
     ]
    },
    {
     "name": "stderr",
     "output_type": "stream",
     "text": [
      "c:\\Users\\david\\anaconda3\\envs\\test_env\\lib\\site-packages\\tqdm\\std.py:1180: FutureWarning: In a future version of pandas, a length 1 tuple will be returned when iterating over a groupby with a grouper equal to a list of length 1. Don't supply a list with a single grouper to avoid this warning.\n",
      "  for obj in iterable:\n",
      "100%|██████████| 4849/4849 [00:03<00:00, 1537.85it/s]\n"
     ]
    },
    {
     "name": "stdout",
     "output_type": "stream",
     "text": [
      "knn k : 35\n"
     ]
    },
    {
     "name": "stderr",
     "output_type": "stream",
     "text": [
      "c:\\Users\\david\\anaconda3\\envs\\test_env\\lib\\site-packages\\tqdm\\std.py:1180: FutureWarning: In a future version of pandas, a length 1 tuple will be returned when iterating over a groupby with a grouper equal to a list of length 1. Don't supply a list with a single grouper to avoid this warning.\n",
      "  for obj in iterable:\n",
      "100%|██████████| 1158/1158 [00:01<00:00, 1020.03it/s]\n",
      "c:\\Users\\david\\anaconda3\\envs\\test_env\\lib\\site-packages\\tqdm\\std.py:1180: FutureWarning: In a future version of pandas, a length 1 tuple will be returned when iterating over a groupby with a grouper equal to a list of length 1. Don't supply a list with a single grouper to avoid this warning.\n",
      "  for obj in iterable:\n",
      "100%|██████████| 1158/1158 [00:01<00:00, 746.73it/s]\n",
      "c:\\Users\\david\\anaconda3\\envs\\test_env\\lib\\site-packages\\tqdm\\std.py:1180: FutureWarning: In a future version of pandas, a length 1 tuple will be returned when iterating over a groupby with a grouper equal to a list of length 1. Don't supply a list with a single grouper to avoid this warning.\n",
      "  for obj in iterable:\n",
      "100%|██████████| 1158/1158 [00:06<00:00, 179.08it/s]\n"
     ]
    },
    {
     "name": "stdout",
     "output_type": "stream",
     "text": [
      "train_d size : (25760, 3)\n",
      "train_t size : (6117, 3)\n"
     ]
    },
    {
     "name": "stderr",
     "output_type": "stream",
     "text": [
      "c:\\Users\\david\\anaconda3\\envs\\test_env\\lib\\site-packages\\tqdm\\std.py:1180: FutureWarning: In a future version of pandas, a length 1 tuple will be returned when iterating over a groupby with a grouper equal to a list of length 1. Don't supply a list with a single grouper to avoid this warning.\n",
      "  for obj in iterable:\n",
      "100%|██████████| 4830/4830 [00:04<00:00, 1085.05it/s]\n"
     ]
    },
    {
     "name": "stdout",
     "output_type": "stream",
     "text": [
      "knn k : 35\n"
     ]
    },
    {
     "name": "stderr",
     "output_type": "stream",
     "text": [
      "c:\\Users\\david\\anaconda3\\envs\\test_env\\lib\\site-packages\\tqdm\\std.py:1180: FutureWarning: In a future version of pandas, a length 1 tuple will be returned when iterating over a groupby with a grouper equal to a list of length 1. Don't supply a list with a single grouper to avoid this warning.\n",
      "  for obj in iterable:\n",
      "100%|██████████| 1177/1177 [00:00<00:00, 2165.05it/s]\n",
      "c:\\Users\\david\\anaconda3\\envs\\test_env\\lib\\site-packages\\tqdm\\std.py:1180: FutureWarning: In a future version of pandas, a length 1 tuple will be returned when iterating over a groupby with a grouper equal to a list of length 1. Don't supply a list with a single grouper to avoid this warning.\n",
      "  for obj in iterable:\n",
      "100%|██████████| 1177/1177 [00:00<00:00, 2136.33it/s]\n",
      "c:\\Users\\david\\anaconda3\\envs\\test_env\\lib\\site-packages\\tqdm\\std.py:1180: FutureWarning: In a future version of pandas, a length 1 tuple will be returned when iterating over a groupby with a grouper equal to a list of length 1. Don't supply a list with a single grouper to avoid this warning.\n",
      "  for obj in iterable:\n",
      "100%|██████████| 1177/1177 [00:17<00:00, 68.12it/s] \n"
     ]
    },
    {
     "name": "stdout",
     "output_type": "stream",
     "text": [
      "train_d size : (25863, 3)\n",
      "train_t size : (6014, 3)\n"
     ]
    },
    {
     "name": "stderr",
     "output_type": "stream",
     "text": [
      "c:\\Users\\david\\anaconda3\\envs\\test_env\\lib\\site-packages\\tqdm\\std.py:1180: FutureWarning: In a future version of pandas, a length 1 tuple will be returned when iterating over a groupby with a grouper equal to a list of length 1. Don't supply a list with a single grouper to avoid this warning.\n",
      "  for obj in iterable:\n",
      "100%|██████████| 4807/4807 [00:05<00:00, 933.85it/s] \n"
     ]
    },
    {
     "name": "stdout",
     "output_type": "stream",
     "text": [
      "knn k : 35\n"
     ]
    },
    {
     "name": "stderr",
     "output_type": "stream",
     "text": [
      "c:\\Users\\david\\anaconda3\\envs\\test_env\\lib\\site-packages\\tqdm\\std.py:1180: FutureWarning: In a future version of pandas, a length 1 tuple will be returned when iterating over a groupby with a grouper equal to a list of length 1. Don't supply a list with a single grouper to avoid this warning.\n",
      "  for obj in iterable:\n",
      "100%|██████████| 1200/1200 [00:00<00:00, 2128.25it/s]\n",
      "c:\\Users\\david\\anaconda3\\envs\\test_env\\lib\\site-packages\\tqdm\\std.py:1180: FutureWarning: In a future version of pandas, a length 1 tuple will be returned when iterating over a groupby with a grouper equal to a list of length 1. Don't supply a list with a single grouper to avoid this warning.\n",
      "  for obj in iterable:\n",
      "100%|██████████| 1200/1200 [00:00<00:00, 1278.68it/s]\n",
      "c:\\Users\\david\\anaconda3\\envs\\test_env\\lib\\site-packages\\tqdm\\std.py:1180: FutureWarning: In a future version of pandas, a length 1 tuple will be returned when iterating over a groupby with a grouper equal to a list of length 1. Don't supply a list with a single grouper to avoid this warning.\n",
      "  for obj in iterable:\n",
      "100%|██████████| 1200/1200 [00:04<00:00, 251.21it/s]\n"
     ]
    },
    {
     "name": "stdout",
     "output_type": "stream",
     "text": [
      "train_d size : (24846, 3)\n",
      "train_t size : (7031, 3)\n"
     ]
    },
    {
     "name": "stderr",
     "output_type": "stream",
     "text": [
      "c:\\Users\\david\\anaconda3\\envs\\test_env\\lib\\site-packages\\tqdm\\std.py:1180: FutureWarning: In a future version of pandas, a length 1 tuple will be returned when iterating over a groupby with a grouper equal to a list of length 1. Don't supply a list with a single grouper to avoid this warning.\n",
      "  for obj in iterable:\n",
      "100%|██████████| 4736/4736 [00:03<00:00, 1567.52it/s]\n"
     ]
    },
    {
     "name": "stdout",
     "output_type": "stream",
     "text": [
      "knn k : 35\n"
     ]
    },
    {
     "name": "stderr",
     "output_type": "stream",
     "text": [
      "c:\\Users\\david\\anaconda3\\envs\\test_env\\lib\\site-packages\\tqdm\\std.py:1180: FutureWarning: In a future version of pandas, a length 1 tuple will be returned when iterating over a groupby with a grouper equal to a list of length 1. Don't supply a list with a single grouper to avoid this warning.\n",
      "  for obj in iterable:\n",
      "100%|██████████| 1271/1271 [00:00<00:00, 2509.05it/s]\n",
      "c:\\Users\\david\\anaconda3\\envs\\test_env\\lib\\site-packages\\tqdm\\std.py:1180: FutureWarning: In a future version of pandas, a length 1 tuple will be returned when iterating over a groupby with a grouper equal to a list of length 1. Don't supply a list with a single grouper to avoid this warning.\n",
      "  for obj in iterable:\n",
      "100%|██████████| 1271/1271 [00:01<00:00, 1239.58it/s]\n",
      "c:\\Users\\david\\anaconda3\\envs\\test_env\\lib\\site-packages\\tqdm\\std.py:1180: FutureWarning: In a future version of pandas, a length 1 tuple will be returned when iterating over a groupby with a grouper equal to a list of length 1. Don't supply a list with a single grouper to avoid this warning.\n",
      "  for obj in iterable:\n",
      "100%|██████████| 1271/1271 [00:05<00:00, 251.71it/s]\n"
     ]
    },
    {
     "name": "stdout",
     "output_type": "stream",
     "text": [
      "train_d size : (25335, 3)\n",
      "train_t size : (6542, 3)\n"
     ]
    },
    {
     "name": "stderr",
     "output_type": "stream",
     "text": [
      "c:\\Users\\david\\anaconda3\\envs\\test_env\\lib\\site-packages\\tqdm\\std.py:1180: FutureWarning: In a future version of pandas, a length 1 tuple will be returned when iterating over a groupby with a grouper equal to a list of length 1. Don't supply a list with a single grouper to avoid this warning.\n",
      "  for obj in iterable:\n",
      "100%|██████████| 4806/4806 [00:02<00:00, 1618.89it/s]\n"
     ]
    },
    {
     "name": "stdout",
     "output_type": "stream",
     "text": [
      "knn k : 35\n"
     ]
    },
    {
     "name": "stderr",
     "output_type": "stream",
     "text": [
      "c:\\Users\\david\\anaconda3\\envs\\test_env\\lib\\site-packages\\tqdm\\std.py:1180: FutureWarning: In a future version of pandas, a length 1 tuple will be returned when iterating over a groupby with a grouper equal to a list of length 1. Don't supply a list with a single grouper to avoid this warning.\n",
      "  for obj in iterable:\n",
      "100%|██████████| 1201/1201 [00:00<00:00, 3474.21it/s]\n",
      "c:\\Users\\david\\anaconda3\\envs\\test_env\\lib\\site-packages\\tqdm\\std.py:1180: FutureWarning: In a future version of pandas, a length 1 tuple will be returned when iterating over a groupby with a grouper equal to a list of length 1. Don't supply a list with a single grouper to avoid this warning.\n",
      "  for obj in iterable:\n",
      "100%|██████████| 1201/1201 [00:00<00:00, 2111.06it/s]\n",
      "c:\\Users\\david\\anaconda3\\envs\\test_env\\lib\\site-packages\\tqdm\\std.py:1180: FutureWarning: In a future version of pandas, a length 1 tuple will be returned when iterating over a groupby with a grouper equal to a list of length 1. Don't supply a list with a single grouper to avoid this warning.\n",
      "  for obj in iterable:\n",
      "100%|██████████| 1201/1201 [00:05<00:00, 212.88it/s]\n"
     ]
    },
    {
     "name": "stdout",
     "output_type": "stream",
     "text": [
      "train_d size : (25398, 3)\n",
      "train_t size : (6479, 3)\n"
     ]
    },
    {
     "name": "stderr",
     "output_type": "stream",
     "text": [
      "c:\\Users\\david\\anaconda3\\envs\\test_env\\lib\\site-packages\\tqdm\\std.py:1180: FutureWarning: In a future version of pandas, a length 1 tuple will be returned when iterating over a groupby with a grouper equal to a list of length 1. Don't supply a list with a single grouper to avoid this warning.\n",
      "  for obj in iterable:\n",
      "100%|██████████| 4775/4775 [00:03<00:00, 1492.55it/s]\n"
     ]
    },
    {
     "name": "stdout",
     "output_type": "stream",
     "text": [
      "knn k : 75\n"
     ]
    },
    {
     "name": "stderr",
     "output_type": "stream",
     "text": [
      "c:\\Users\\david\\anaconda3\\envs\\test_env\\lib\\site-packages\\tqdm\\std.py:1180: FutureWarning: In a future version of pandas, a length 1 tuple will be returned when iterating over a groupby with a grouper equal to a list of length 1. Don't supply a list with a single grouper to avoid this warning.\n",
      "  for obj in iterable:\n",
      "100%|██████████| 1232/1232 [00:00<00:00, 3532.83it/s]\n",
      "c:\\Users\\david\\anaconda3\\envs\\test_env\\lib\\site-packages\\tqdm\\std.py:1180: FutureWarning: In a future version of pandas, a length 1 tuple will be returned when iterating over a groupby with a grouper equal to a list of length 1. Don't supply a list with a single grouper to avoid this warning.\n",
      "  for obj in iterable:\n",
      "100%|██████████| 1232/1232 [00:00<00:00, 2462.20it/s]\n",
      "c:\\Users\\david\\anaconda3\\envs\\test_env\\lib\\site-packages\\tqdm\\std.py:1180: FutureWarning: In a future version of pandas, a length 1 tuple will be returned when iterating over a groupby with a grouper equal to a list of length 1. Don't supply a list with a single grouper to avoid this warning.\n",
      "  for obj in iterable:\n",
      "100%|██████████| 1232/1232 [00:04<00:00, 277.35it/s]\n"
     ]
    },
    {
     "name": "stdout",
     "output_type": "stream",
     "text": [
      "train_d size : (25581, 3)\n",
      "train_t size : (6296, 3)\n"
     ]
    },
    {
     "name": "stderr",
     "output_type": "stream",
     "text": [
      "c:\\Users\\david\\anaconda3\\envs\\test_env\\lib\\site-packages\\tqdm\\std.py:1180: FutureWarning: In a future version of pandas, a length 1 tuple will be returned when iterating over a groupby with a grouper equal to a list of length 1. Don't supply a list with a single grouper to avoid this warning.\n",
      "  for obj in iterable:\n",
      "100%|██████████| 4829/4829 [00:02<00:00, 1734.21it/s]\n"
     ]
    },
    {
     "name": "stdout",
     "output_type": "stream",
     "text": [
      "knn k : 75\n"
     ]
    },
    {
     "name": "stderr",
     "output_type": "stream",
     "text": [
      "c:\\Users\\david\\anaconda3\\envs\\test_env\\lib\\site-packages\\tqdm\\std.py:1180: FutureWarning: In a future version of pandas, a length 1 tuple will be returned when iterating over a groupby with a grouper equal to a list of length 1. Don't supply a list with a single grouper to avoid this warning.\n",
      "  for obj in iterable:\n",
      "100%|██████████| 1178/1178 [00:00<00:00, 3779.51it/s]\n",
      "c:\\Users\\david\\anaconda3\\envs\\test_env\\lib\\site-packages\\tqdm\\std.py:1180: FutureWarning: In a future version of pandas, a length 1 tuple will be returned when iterating over a groupby with a grouper equal to a list of length 1. Don't supply a list with a single grouper to avoid this warning.\n",
      "  for obj in iterable:\n",
      "100%|██████████| 1178/1178 [00:00<00:00, 2265.72it/s]\n",
      "c:\\Users\\david\\anaconda3\\envs\\test_env\\lib\\site-packages\\tqdm\\std.py:1180: FutureWarning: In a future version of pandas, a length 1 tuple will be returned when iterating over a groupby with a grouper equal to a list of length 1. Don't supply a list with a single grouper to avoid this warning.\n",
      "  for obj in iterable:\n",
      "100%|██████████| 1178/1178 [00:05<00:00, 225.08it/s]\n"
     ]
    },
    {
     "name": "stdout",
     "output_type": "stream",
     "text": [
      "train_d size : (25997, 3)\n",
      "train_t size : (5880, 3)\n"
     ]
    },
    {
     "name": "stderr",
     "output_type": "stream",
     "text": [
      "c:\\Users\\david\\anaconda3\\envs\\test_env\\lib\\site-packages\\tqdm\\std.py:1180: FutureWarning: In a future version of pandas, a length 1 tuple will be returned when iterating over a groupby with a grouper equal to a list of length 1. Don't supply a list with a single grouper to avoid this warning.\n",
      "  for obj in iterable:\n",
      "100%|██████████| 4851/4851 [00:03<00:00, 1374.50it/s]\n"
     ]
    },
    {
     "name": "stdout",
     "output_type": "stream",
     "text": [
      "knn k : 75\n"
     ]
    },
    {
     "name": "stderr",
     "output_type": "stream",
     "text": [
      "c:\\Users\\david\\anaconda3\\envs\\test_env\\lib\\site-packages\\tqdm\\std.py:1180: FutureWarning: In a future version of pandas, a length 1 tuple will be returned when iterating over a groupby with a grouper equal to a list of length 1. Don't supply a list with a single grouper to avoid this warning.\n",
      "  for obj in iterable:\n",
      "100%|██████████| 1156/1156 [00:00<00:00, 2670.53it/s]\n",
      "c:\\Users\\david\\anaconda3\\envs\\test_env\\lib\\site-packages\\tqdm\\std.py:1180: FutureWarning: In a future version of pandas, a length 1 tuple will be returned when iterating over a groupby with a grouper equal to a list of length 1. Don't supply a list with a single grouper to avoid this warning.\n",
      "  for obj in iterable:\n",
      "100%|██████████| 1156/1156 [00:01<00:00, 737.75it/s]\n",
      "c:\\Users\\david\\anaconda3\\envs\\test_env\\lib\\site-packages\\tqdm\\std.py:1180: FutureWarning: In a future version of pandas, a length 1 tuple will be returned when iterating over a groupby with a grouper equal to a list of length 1. Don't supply a list with a single grouper to avoid this warning.\n",
      "  for obj in iterable:\n",
      "100%|██████████| 1156/1156 [00:06<00:00, 166.65it/s]\n"
     ]
    },
    {
     "name": "stdout",
     "output_type": "stream",
     "text": [
      "train_d size : (25065, 3)\n",
      "train_t size : (6812, 3)\n"
     ]
    },
    {
     "name": "stderr",
     "output_type": "stream",
     "text": [
      "c:\\Users\\david\\anaconda3\\envs\\test_env\\lib\\site-packages\\tqdm\\std.py:1180: FutureWarning: In a future version of pandas, a length 1 tuple will be returned when iterating over a groupby with a grouper equal to a list of length 1. Don't supply a list with a single grouper to avoid this warning.\n",
      "  for obj in iterable:\n",
      "100%|██████████| 4762/4762 [00:03<00:00, 1451.92it/s]\n"
     ]
    },
    {
     "name": "stdout",
     "output_type": "stream",
     "text": [
      "knn k : 75\n"
     ]
    },
    {
     "name": "stderr",
     "output_type": "stream",
     "text": [
      "c:\\Users\\david\\anaconda3\\envs\\test_env\\lib\\site-packages\\tqdm\\std.py:1180: FutureWarning: In a future version of pandas, a length 1 tuple will be returned when iterating over a groupby with a grouper equal to a list of length 1. Don't supply a list with a single grouper to avoid this warning.\n",
      "  for obj in iterable:\n",
      "100%|██████████| 1245/1245 [00:00<00:00, 4174.89it/s]\n",
      "c:\\Users\\david\\anaconda3\\envs\\test_env\\lib\\site-packages\\tqdm\\std.py:1180: FutureWarning: In a future version of pandas, a length 1 tuple will be returned when iterating over a groupby with a grouper equal to a list of length 1. Don't supply a list with a single grouper to avoid this warning.\n",
      "  for obj in iterable:\n",
      "100%|██████████| 1245/1245 [00:00<00:00, 1644.34it/s]\n",
      "c:\\Users\\david\\anaconda3\\envs\\test_env\\lib\\site-packages\\tqdm\\std.py:1180: FutureWarning: In a future version of pandas, a length 1 tuple will be returned when iterating over a groupby with a grouper equal to a list of length 1. Don't supply a list with a single grouper to avoid this warning.\n",
      "  for obj in iterable:\n",
      "100%|██████████| 1245/1245 [00:05<00:00, 233.37it/s]\n"
     ]
    },
    {
     "name": "stdout",
     "output_type": "stream",
     "text": [
      "train_d size : (25467, 3)\n",
      "train_t size : (6410, 3)\n"
     ]
    },
    {
     "name": "stderr",
     "output_type": "stream",
     "text": [
      "c:\\Users\\david\\anaconda3\\envs\\test_env\\lib\\site-packages\\tqdm\\std.py:1180: FutureWarning: In a future version of pandas, a length 1 tuple will be returned when iterating over a groupby with a grouper equal to a list of length 1. Don't supply a list with a single grouper to avoid this warning.\n",
      "  for obj in iterable:\n",
      "100%|██████████| 4811/4811 [00:03<00:00, 1555.84it/s]\n"
     ]
    },
    {
     "name": "stdout",
     "output_type": "stream",
     "text": [
      "knn k : 75\n"
     ]
    },
    {
     "name": "stderr",
     "output_type": "stream",
     "text": [
      "c:\\Users\\david\\anaconda3\\envs\\test_env\\lib\\site-packages\\tqdm\\std.py:1180: FutureWarning: In a future version of pandas, a length 1 tuple will be returned when iterating over a groupby with a grouper equal to a list of length 1. Don't supply a list with a single grouper to avoid this warning.\n",
      "  for obj in iterable:\n",
      "100%|██████████| 1196/1196 [00:00<00:00, 2191.22it/s]\n",
      "c:\\Users\\david\\anaconda3\\envs\\test_env\\lib\\site-packages\\tqdm\\std.py:1180: FutureWarning: In a future version of pandas, a length 1 tuple will be returned when iterating over a groupby with a grouper equal to a list of length 1. Don't supply a list with a single grouper to avoid this warning.\n",
      "  for obj in iterable:\n",
      "100%|██████████| 1196/1196 [00:01<00:00, 1063.43it/s]\n",
      "c:\\Users\\david\\anaconda3\\envs\\test_env\\lib\\site-packages\\tqdm\\std.py:1180: FutureWarning: In a future version of pandas, a length 1 tuple will be returned when iterating over a groupby with a grouper equal to a list of length 1. Don't supply a list with a single grouper to avoid this warning.\n",
      "  for obj in iterable:\n",
      "100%|██████████| 1196/1196 [00:04<00:00, 242.60it/s]\n"
     ]
    },
    {
     "name": "stdout",
     "output_type": "stream",
     "text": [
      "train_d size : (25267, 3)\n",
      "train_t size : (6610, 3)\n"
     ]
    },
    {
     "name": "stderr",
     "output_type": "stream",
     "text": [
      "c:\\Users\\david\\anaconda3\\envs\\test_env\\lib\\site-packages\\tqdm\\std.py:1180: FutureWarning: In a future version of pandas, a length 1 tuple will be returned when iterating over a groupby with a grouper equal to a list of length 1. Don't supply a list with a single grouper to avoid this warning.\n",
      "  for obj in iterable:\n",
      "100%|██████████| 4795/4795 [00:03<00:00, 1315.52it/s]\n"
     ]
    },
    {
     "name": "stdout",
     "output_type": "stream",
     "text": [
      "knn k : 3\n"
     ]
    },
    {
     "name": "stderr",
     "output_type": "stream",
     "text": [
      "c:\\Users\\david\\anaconda3\\envs\\test_env\\lib\\site-packages\\tqdm\\std.py:1180: FutureWarning: In a future version of pandas, a length 1 tuple will be returned when iterating over a groupby with a grouper equal to a list of length 1. Don't supply a list with a single grouper to avoid this warning.\n",
      "  for obj in iterable:\n",
      "100%|██████████| 1212/1212 [00:00<00:00, 1393.81it/s]\n",
      "c:\\Users\\david\\anaconda3\\envs\\test_env\\lib\\site-packages\\tqdm\\std.py:1180: FutureWarning: In a future version of pandas, a length 1 tuple will be returned when iterating over a groupby with a grouper equal to a list of length 1. Don't supply a list with a single grouper to avoid this warning.\n",
      "  for obj in iterable:\n",
      "100%|██████████| 1212/1212 [00:00<00:00, 2112.09it/s]\n",
      "c:\\Users\\david\\anaconda3\\envs\\test_env\\lib\\site-packages\\tqdm\\std.py:1180: FutureWarning: In a future version of pandas, a length 1 tuple will be returned when iterating over a groupby with a grouper equal to a list of length 1. Don't supply a list with a single grouper to avoid this warning.\n",
      "  for obj in iterable:\n",
      "100%|██████████| 1212/1212 [00:10<00:00, 113.24it/s]\n"
     ]
    },
    {
     "name": "stdout",
     "output_type": "stream",
     "text": [
      "train_d size : (25731, 3)\n",
      "train_t size : (6146, 3)\n"
     ]
    },
    {
     "name": "stderr",
     "output_type": "stream",
     "text": [
      "c:\\Users\\david\\anaconda3\\envs\\test_env\\lib\\site-packages\\tqdm\\std.py:1180: FutureWarning: In a future version of pandas, a length 1 tuple will be returned when iterating over a groupby with a grouper equal to a list of length 1. Don't supply a list with a single grouper to avoid this warning.\n",
      "  for obj in iterable:\n",
      "100%|██████████| 4858/4858 [00:02<00:00, 2240.34it/s]\n"
     ]
    },
    {
     "name": "stdout",
     "output_type": "stream",
     "text": [
      "knn k : 3\n"
     ]
    },
    {
     "name": "stderr",
     "output_type": "stream",
     "text": [
      "c:\\Users\\david\\anaconda3\\envs\\test_env\\lib\\site-packages\\tqdm\\std.py:1180: FutureWarning: In a future version of pandas, a length 1 tuple will be returned when iterating over a groupby with a grouper equal to a list of length 1. Don't supply a list with a single grouper to avoid this warning.\n",
      "  for obj in iterable:\n",
      "100%|██████████| 1149/1149 [00:00<00:00, 3437.65it/s]\n",
      "c:\\Users\\david\\anaconda3\\envs\\test_env\\lib\\site-packages\\tqdm\\std.py:1180: FutureWarning: In a future version of pandas, a length 1 tuple will be returned when iterating over a groupby with a grouper equal to a list of length 1. Don't supply a list with a single grouper to avoid this warning.\n",
      "  for obj in iterable:\n",
      "100%|██████████| 1149/1149 [00:00<00:00, 2400.38it/s]\n",
      "c:\\Users\\david\\anaconda3\\envs\\test_env\\lib\\site-packages\\tqdm\\std.py:1180: FutureWarning: In a future version of pandas, a length 1 tuple will be returned when iterating over a groupby with a grouper equal to a list of length 1. Don't supply a list with a single grouper to avoid this warning.\n",
      "  for obj in iterable:\n",
      "100%|██████████| 1149/1149 [00:05<00:00, 224.61it/s]\n"
     ]
    },
    {
     "name": "stdout",
     "output_type": "stream",
     "text": [
      "train_d size : (25203, 3)\n",
      "train_t size : (6674, 3)\n"
     ]
    },
    {
     "name": "stderr",
     "output_type": "stream",
     "text": [
      "c:\\Users\\david\\anaconda3\\envs\\test_env\\lib\\site-packages\\tqdm\\std.py:1180: FutureWarning: In a future version of pandas, a length 1 tuple will be returned when iterating over a groupby with a grouper equal to a list of length 1. Don't supply a list with a single grouper to avoid this warning.\n",
      "  for obj in iterable:\n",
      "100%|██████████| 4739/4739 [00:02<00:00, 1708.30it/s]\n"
     ]
    },
    {
     "name": "stdout",
     "output_type": "stream",
     "text": [
      "knn k : 3\n"
     ]
    },
    {
     "name": "stderr",
     "output_type": "stream",
     "text": [
      "c:\\Users\\david\\anaconda3\\envs\\test_env\\lib\\site-packages\\tqdm\\std.py:1180: FutureWarning: In a future version of pandas, a length 1 tuple will be returned when iterating over a groupby with a grouper equal to a list of length 1. Don't supply a list with a single grouper to avoid this warning.\n",
      "  for obj in iterable:\n",
      "100%|██████████| 1268/1268 [00:00<00:00, 2107.55it/s]\n",
      "c:\\Users\\david\\anaconda3\\envs\\test_env\\lib\\site-packages\\tqdm\\std.py:1180: FutureWarning: In a future version of pandas, a length 1 tuple will be returned when iterating over a groupby with a grouper equal to a list of length 1. Don't supply a list with a single grouper to avoid this warning.\n",
      "  for obj in iterable:\n",
      "100%|██████████| 1268/1268 [00:00<00:00, 1439.88it/s]\n",
      "c:\\Users\\david\\anaconda3\\envs\\test_env\\lib\\site-packages\\tqdm\\std.py:1180: FutureWarning: In a future version of pandas, a length 1 tuple will be returned when iterating over a groupby with a grouper equal to a list of length 1. Don't supply a list with a single grouper to avoid this warning.\n",
      "  for obj in iterable:\n",
      "100%|██████████| 1268/1268 [00:04<00:00, 256.40it/s]\n"
     ]
    },
    {
     "name": "stdout",
     "output_type": "stream",
     "text": [
      "train_d size : (25275, 3)\n",
      "train_t size : (6602, 3)\n"
     ]
    },
    {
     "name": "stderr",
     "output_type": "stream",
     "text": [
      "c:\\Users\\david\\anaconda3\\envs\\test_env\\lib\\site-packages\\tqdm\\std.py:1180: FutureWarning: In a future version of pandas, a length 1 tuple will be returned when iterating over a groupby with a grouper equal to a list of length 1. Don't supply a list with a single grouper to avoid this warning.\n",
      "  for obj in iterable:\n",
      "100%|██████████| 4774/4774 [00:02<00:00, 1785.86it/s]\n"
     ]
    },
    {
     "name": "stdout",
     "output_type": "stream",
     "text": [
      "knn k : 3\n"
     ]
    },
    {
     "name": "stderr",
     "output_type": "stream",
     "text": [
      "c:\\Users\\david\\anaconda3\\envs\\test_env\\lib\\site-packages\\tqdm\\std.py:1180: FutureWarning: In a future version of pandas, a length 1 tuple will be returned when iterating over a groupby with a grouper equal to a list of length 1. Don't supply a list with a single grouper to avoid this warning.\n",
      "  for obj in iterable:\n",
      "100%|██████████| 1233/1233 [00:00<00:00, 5061.00it/s]\n",
      "c:\\Users\\david\\anaconda3\\envs\\test_env\\lib\\site-packages\\tqdm\\std.py:1180: FutureWarning: In a future version of pandas, a length 1 tuple will be returned when iterating over a groupby with a grouper equal to a list of length 1. Don't supply a list with a single grouper to avoid this warning.\n",
      "  for obj in iterable:\n",
      "100%|██████████| 1233/1233 [00:00<00:00, 2151.49it/s]\n",
      "c:\\Users\\david\\anaconda3\\envs\\test_env\\lib\\site-packages\\tqdm\\std.py:1180: FutureWarning: In a future version of pandas, a length 1 tuple will be returned when iterating over a groupby with a grouper equal to a list of length 1. Don't supply a list with a single grouper to avoid this warning.\n",
      "  for obj in iterable:\n",
      "100%|██████████| 1233/1233 [00:04<00:00, 248.28it/s]\n"
     ]
    },
    {
     "name": "stdout",
     "output_type": "stream",
     "text": [
      "train_d size : (26032, 3)\n",
      "train_t size : (5845, 3)\n"
     ]
    },
    {
     "name": "stderr",
     "output_type": "stream",
     "text": [
      "c:\\Users\\david\\anaconda3\\envs\\test_env\\lib\\site-packages\\tqdm\\std.py:1180: FutureWarning: In a future version of pandas, a length 1 tuple will be returned when iterating over a groupby with a grouper equal to a list of length 1. Don't supply a list with a single grouper to avoid this warning.\n",
      "  for obj in iterable:\n",
      "100%|██████████| 4862/4862 [00:03<00:00, 1433.52it/s]\n"
     ]
    },
    {
     "name": "stdout",
     "output_type": "stream",
     "text": [
      "knn k : 3\n"
     ]
    },
    {
     "name": "stderr",
     "output_type": "stream",
     "text": [
      "c:\\Users\\david\\anaconda3\\envs\\test_env\\lib\\site-packages\\tqdm\\std.py:1180: FutureWarning: In a future version of pandas, a length 1 tuple will be returned when iterating over a groupby with a grouper equal to a list of length 1. Don't supply a list with a single grouper to avoid this warning.\n",
      "  for obj in iterable:\n",
      "100%|██████████| 1145/1145 [00:00<00:00, 3149.21it/s]\n",
      "c:\\Users\\david\\anaconda3\\envs\\test_env\\lib\\site-packages\\tqdm\\std.py:1180: FutureWarning: In a future version of pandas, a length 1 tuple will be returned when iterating over a groupby with a grouper equal to a list of length 1. Don't supply a list with a single grouper to avoid this warning.\n",
      "  for obj in iterable:\n",
      "100%|██████████| 1145/1145 [00:00<00:00, 2088.40it/s]\n",
      "c:\\Users\\david\\anaconda3\\envs\\test_env\\lib\\site-packages\\tqdm\\std.py:1180: FutureWarning: In a future version of pandas, a length 1 tuple will be returned when iterating over a groupby with a grouper equal to a list of length 1. Don't supply a list with a single grouper to avoid this warning.\n",
      "  for obj in iterable:\n",
      "100%|██████████| 1145/1145 [00:05<00:00, 212.80it/s]\n"
     ]
    },
    {
     "name": "stdout",
     "output_type": "stream",
     "text": [
      "train_d size : (25331, 3)\n",
      "train_t size : (6546, 3)\n"
     ]
    },
    {
     "name": "stderr",
     "output_type": "stream",
     "text": [
      "c:\\Users\\david\\anaconda3\\envs\\test_env\\lib\\site-packages\\tqdm\\std.py:1180: FutureWarning: In a future version of pandas, a length 1 tuple will be returned when iterating over a groupby with a grouper equal to a list of length 1. Don't supply a list with a single grouper to avoid this warning.\n",
      "  for obj in iterable:\n",
      "100%|██████████| 4808/4808 [00:02<00:00, 1620.32it/s]\n"
     ]
    },
    {
     "name": "stdout",
     "output_type": "stream",
     "text": [
      "knn k : 11\n"
     ]
    },
    {
     "name": "stderr",
     "output_type": "stream",
     "text": [
      "c:\\Users\\david\\anaconda3\\envs\\test_env\\lib\\site-packages\\tqdm\\std.py:1180: FutureWarning: In a future version of pandas, a length 1 tuple will be returned when iterating over a groupby with a grouper equal to a list of length 1. Don't supply a list with a single grouper to avoid this warning.\n",
      "  for obj in iterable:\n",
      "100%|██████████| 1199/1199 [00:00<00:00, 3826.84it/s]\n",
      "c:\\Users\\david\\anaconda3\\envs\\test_env\\lib\\site-packages\\tqdm\\std.py:1180: FutureWarning: In a future version of pandas, a length 1 tuple will be returned when iterating over a groupby with a grouper equal to a list of length 1. Don't supply a list with a single grouper to avoid this warning.\n",
      "  for obj in iterable:\n",
      "100%|██████████| 1199/1199 [00:00<00:00, 1385.30it/s]\n",
      "c:\\Users\\david\\anaconda3\\envs\\test_env\\lib\\site-packages\\tqdm\\std.py:1180: FutureWarning: In a future version of pandas, a length 1 tuple will be returned when iterating over a groupby with a grouper equal to a list of length 1. Don't supply a list with a single grouper to avoid this warning.\n",
      "  for obj in iterable:\n",
      "100%|██████████| 1199/1199 [00:07<00:00, 160.15it/s]\n"
     ]
    },
    {
     "name": "stdout",
     "output_type": "stream",
     "text": [
      "train_d size : (25759, 3)\n",
      "train_t size : (6118, 3)\n"
     ]
    },
    {
     "name": "stderr",
     "output_type": "stream",
     "text": [
      "c:\\Users\\david\\anaconda3\\envs\\test_env\\lib\\site-packages\\tqdm\\std.py:1180: FutureWarning: In a future version of pandas, a length 1 tuple will be returned when iterating over a groupby with a grouper equal to a list of length 1. Don't supply a list with a single grouper to avoid this warning.\n",
      "  for obj in iterable:\n",
      "100%|██████████| 4823/4823 [00:03<00:00, 1316.77it/s]\n"
     ]
    },
    {
     "name": "stdout",
     "output_type": "stream",
     "text": [
      "knn k : 11\n"
     ]
    },
    {
     "name": "stderr",
     "output_type": "stream",
     "text": [
      "c:\\Users\\david\\anaconda3\\envs\\test_env\\lib\\site-packages\\tqdm\\std.py:1180: FutureWarning: In a future version of pandas, a length 1 tuple will be returned when iterating over a groupby with a grouper equal to a list of length 1. Don't supply a list with a single grouper to avoid this warning.\n",
      "  for obj in iterable:\n",
      "100%|██████████| 1184/1184 [00:00<00:00, 2096.94it/s]\n",
      "c:\\Users\\david\\anaconda3\\envs\\test_env\\lib\\site-packages\\tqdm\\std.py:1180: FutureWarning: In a future version of pandas, a length 1 tuple will be returned when iterating over a groupby with a grouper equal to a list of length 1. Don't supply a list with a single grouper to avoid this warning.\n",
      "  for obj in iterable:\n",
      "100%|██████████| 1184/1184 [00:00<00:00, 1883.41it/s]\n",
      "c:\\Users\\david\\anaconda3\\envs\\test_env\\lib\\site-packages\\tqdm\\std.py:1180: FutureWarning: In a future version of pandas, a length 1 tuple will be returned when iterating over a groupby with a grouper equal to a list of length 1. Don't supply a list with a single grouper to avoid this warning.\n",
      "  for obj in iterable:\n",
      "100%|██████████| 1184/1184 [00:06<00:00, 177.47it/s]\n"
     ]
    },
    {
     "name": "stdout",
     "output_type": "stream",
     "text": [
      "train_d size : (25068, 3)\n",
      "train_t size : (6809, 3)\n"
     ]
    },
    {
     "name": "stderr",
     "output_type": "stream",
     "text": [
      "c:\\Users\\david\\anaconda3\\envs\\test_env\\lib\\site-packages\\tqdm\\std.py:1180: FutureWarning: In a future version of pandas, a length 1 tuple will be returned when iterating over a groupby with a grouper equal to a list of length 1. Don't supply a list with a single grouper to avoid this warning.\n",
      "  for obj in iterable:\n",
      "100%|██████████| 4768/4768 [00:01<00:00, 2427.18it/s]\n"
     ]
    },
    {
     "name": "stdout",
     "output_type": "stream",
     "text": [
      "knn k : 11\n"
     ]
    },
    {
     "name": "stderr",
     "output_type": "stream",
     "text": [
      "c:\\Users\\david\\anaconda3\\envs\\test_env\\lib\\site-packages\\tqdm\\std.py:1180: FutureWarning: In a future version of pandas, a length 1 tuple will be returned when iterating over a groupby with a grouper equal to a list of length 1. Don't supply a list with a single grouper to avoid this warning.\n",
      "  for obj in iterable:\n",
      "100%|██████████| 1239/1239 [00:00<00:00, 7655.90it/s]\n",
      "c:\\Users\\david\\anaconda3\\envs\\test_env\\lib\\site-packages\\tqdm\\std.py:1180: FutureWarning: In a future version of pandas, a length 1 tuple will be returned when iterating over a groupby with a grouper equal to a list of length 1. Don't supply a list with a single grouper to avoid this warning.\n",
      "  for obj in iterable:\n",
      "100%|██████████| 1239/1239 [00:00<00:00, 3080.77it/s]\n",
      "c:\\Users\\david\\anaconda3\\envs\\test_env\\lib\\site-packages\\tqdm\\std.py:1180: FutureWarning: In a future version of pandas, a length 1 tuple will be returned when iterating over a groupby with a grouper equal to a list of length 1. Don't supply a list with a single grouper to avoid this warning.\n",
      "  for obj in iterable:\n",
      "100%|██████████| 1239/1239 [00:12<00:00, 95.43it/s]\n"
     ]
    },
    {
     "name": "stdout",
     "output_type": "stream",
     "text": [
      "train_d size : (25840, 3)\n",
      "train_t size : (6037, 3)\n"
     ]
    },
    {
     "name": "stderr",
     "output_type": "stream",
     "text": [
      "c:\\Users\\david\\anaconda3\\envs\\test_env\\lib\\site-packages\\tqdm\\std.py:1180: FutureWarning: In a future version of pandas, a length 1 tuple will be returned when iterating over a groupby with a grouper equal to a list of length 1. Don't supply a list with a single grouper to avoid this warning.\n",
      "  for obj in iterable:\n",
      "100%|██████████| 4847/4847 [00:05<00:00, 946.92it/s]\n"
     ]
    },
    {
     "name": "stdout",
     "output_type": "stream",
     "text": [
      "knn k : 11\n"
     ]
    },
    {
     "name": "stderr",
     "output_type": "stream",
     "text": [
      "c:\\Users\\david\\anaconda3\\envs\\test_env\\lib\\site-packages\\tqdm\\std.py:1180: FutureWarning: In a future version of pandas, a length 1 tuple will be returned when iterating over a groupby with a grouper equal to a list of length 1. Don't supply a list with a single grouper to avoid this warning.\n",
      "  for obj in iterable:\n",
      "100%|██████████| 1160/1160 [00:00<00:00, 2718.27it/s]\n",
      "c:\\Users\\david\\anaconda3\\envs\\test_env\\lib\\site-packages\\tqdm\\std.py:1180: FutureWarning: In a future version of pandas, a length 1 tuple will be returned when iterating over a groupby with a grouper equal to a list of length 1. Don't supply a list with a single grouper to avoid this warning.\n",
      "  for obj in iterable:\n",
      "100%|██████████| 1160/1160 [00:00<00:00, 1827.10it/s]\n",
      "c:\\Users\\david\\anaconda3\\envs\\test_env\\lib\\site-packages\\tqdm\\std.py:1180: FutureWarning: In a future version of pandas, a length 1 tuple will be returned when iterating over a groupby with a grouper equal to a list of length 1. Don't supply a list with a single grouper to avoid this warning.\n",
      "  for obj in iterable:\n",
      "100%|██████████| 1160/1160 [00:05<00:00, 224.74it/s]\n"
     ]
    },
    {
     "name": "stdout",
     "output_type": "stream",
     "text": [
      "train_d size : (25510, 3)\n",
      "train_t size : (6367, 3)\n"
     ]
    },
    {
     "name": "stderr",
     "output_type": "stream",
     "text": [
      "c:\\Users\\david\\anaconda3\\envs\\test_env\\lib\\site-packages\\tqdm\\std.py:1180: FutureWarning: In a future version of pandas, a length 1 tuple will be returned when iterating over a groupby with a grouper equal to a list of length 1. Don't supply a list with a single grouper to avoid this warning.\n",
      "  for obj in iterable:\n",
      "100%|██████████| 4782/4782 [00:03<00:00, 1236.90it/s]\n"
     ]
    },
    {
     "name": "stdout",
     "output_type": "stream",
     "text": [
      "knn k : 11\n"
     ]
    },
    {
     "name": "stderr",
     "output_type": "stream",
     "text": [
      "c:\\Users\\david\\anaconda3\\envs\\test_env\\lib\\site-packages\\tqdm\\std.py:1180: FutureWarning: In a future version of pandas, a length 1 tuple will be returned when iterating over a groupby with a grouper equal to a list of length 1. Don't supply a list with a single grouper to avoid this warning.\n",
      "  for obj in iterable:\n",
      "100%|██████████| 1225/1225 [00:00<00:00, 4260.95it/s]\n",
      "c:\\Users\\david\\anaconda3\\envs\\test_env\\lib\\site-packages\\tqdm\\std.py:1180: FutureWarning: In a future version of pandas, a length 1 tuple will be returned when iterating over a groupby with a grouper equal to a list of length 1. Don't supply a list with a single grouper to avoid this warning.\n",
      "  for obj in iterable:\n",
      "100%|██████████| 1225/1225 [00:00<00:00, 1914.63it/s]\n",
      "c:\\Users\\david\\anaconda3\\envs\\test_env\\lib\\site-packages\\tqdm\\std.py:1180: FutureWarning: In a future version of pandas, a length 1 tuple will be returned when iterating over a groupby with a grouper equal to a list of length 1. Don't supply a list with a single grouper to avoid this warning.\n",
      "  for obj in iterable:\n",
      "100%|██████████| 1225/1225 [00:04<00:00, 264.17it/s]\n"
     ]
    },
    {
     "name": "stdout",
     "output_type": "stream",
     "text": [
      "train_d size : (25748, 3)\n",
      "train_t size : (6129, 3)\n"
     ]
    },
    {
     "name": "stderr",
     "output_type": "stream",
     "text": [
      "c:\\Users\\david\\anaconda3\\envs\\test_env\\lib\\site-packages\\tqdm\\std.py:1180: FutureWarning: In a future version of pandas, a length 1 tuple will be returned when iterating over a groupby with a grouper equal to a list of length 1. Don't supply a list with a single grouper to avoid this warning.\n",
      "  for obj in iterable:\n",
      "100%|██████████| 4811/4811 [00:02<00:00, 1940.15it/s]\n"
     ]
    },
    {
     "name": "stdout",
     "output_type": "stream",
     "text": [
      "knn k : 25\n"
     ]
    },
    {
     "name": "stderr",
     "output_type": "stream",
     "text": [
      "c:\\Users\\david\\anaconda3\\envs\\test_env\\lib\\site-packages\\tqdm\\std.py:1180: FutureWarning: In a future version of pandas, a length 1 tuple will be returned when iterating over a groupby with a grouper equal to a list of length 1. Don't supply a list with a single grouper to avoid this warning.\n",
      "  for obj in iterable:\n",
      "100%|██████████| 1196/1196 [00:00<00:00, 2828.52it/s]\n",
      "c:\\Users\\david\\anaconda3\\envs\\test_env\\lib\\site-packages\\tqdm\\std.py:1180: FutureWarning: In a future version of pandas, a length 1 tuple will be returned when iterating over a groupby with a grouper equal to a list of length 1. Don't supply a list with a single grouper to avoid this warning.\n",
      "  for obj in iterable:\n",
      "100%|██████████| 1196/1196 [00:00<00:00, 2570.11it/s]\n",
      "c:\\Users\\david\\anaconda3\\envs\\test_env\\lib\\site-packages\\tqdm\\std.py:1180: FutureWarning: In a future version of pandas, a length 1 tuple will be returned when iterating over a groupby with a grouper equal to a list of length 1. Don't supply a list with a single grouper to avoid this warning.\n",
      "  for obj in iterable:\n",
      "100%|██████████| 1196/1196 [00:05<00:00, 207.00it/s]\n"
     ]
    },
    {
     "name": "stdout",
     "output_type": "stream",
     "text": [
      "train_d size : (25633, 3)\n",
      "train_t size : (6244, 3)\n"
     ]
    },
    {
     "name": "stderr",
     "output_type": "stream",
     "text": [
      "c:\\Users\\david\\anaconda3\\envs\\test_env\\lib\\site-packages\\tqdm\\std.py:1180: FutureWarning: In a future version of pandas, a length 1 tuple will be returned when iterating over a groupby with a grouper equal to a list of length 1. Don't supply a list with a single grouper to avoid this warning.\n",
      "  for obj in iterable:\n",
      "100%|██████████| 4807/4807 [00:02<00:00, 2084.75it/s]\n"
     ]
    },
    {
     "name": "stdout",
     "output_type": "stream",
     "text": [
      "knn k : 25\n"
     ]
    },
    {
     "name": "stderr",
     "output_type": "stream",
     "text": [
      "c:\\Users\\david\\anaconda3\\envs\\test_env\\lib\\site-packages\\tqdm\\std.py:1180: FutureWarning: In a future version of pandas, a length 1 tuple will be returned when iterating over a groupby with a grouper equal to a list of length 1. Don't supply a list with a single grouper to avoid this warning.\n",
      "  for obj in iterable:\n",
      "100%|██████████| 1200/1200 [00:00<00:00, 1439.83it/s]\n",
      "c:\\Users\\david\\anaconda3\\envs\\test_env\\lib\\site-packages\\tqdm\\std.py:1180: FutureWarning: In a future version of pandas, a length 1 tuple will be returned when iterating over a groupby with a grouper equal to a list of length 1. Don't supply a list with a single grouper to avoid this warning.\n",
      "  for obj in iterable:\n",
      "100%|██████████| 1200/1200 [00:01<00:00, 935.35it/s]\n",
      "c:\\Users\\david\\anaconda3\\envs\\test_env\\lib\\site-packages\\tqdm\\std.py:1180: FutureWarning: In a future version of pandas, a length 1 tuple will be returned when iterating over a groupby with a grouper equal to a list of length 1. Don't supply a list with a single grouper to avoid this warning.\n",
      "  for obj in iterable:\n",
      "100%|██████████| 1200/1200 [00:06<00:00, 185.19it/s]\n"
     ]
    },
    {
     "name": "stdout",
     "output_type": "stream",
     "text": [
      "train_d size : (25651, 3)\n",
      "train_t size : (6226, 3)\n"
     ]
    },
    {
     "name": "stderr",
     "output_type": "stream",
     "text": [
      "c:\\Users\\david\\anaconda3\\envs\\test_env\\lib\\site-packages\\tqdm\\std.py:1180: FutureWarning: In a future version of pandas, a length 1 tuple will be returned when iterating over a groupby with a grouper equal to a list of length 1. Don't supply a list with a single grouper to avoid this warning.\n",
      "  for obj in iterable:\n",
      "100%|██████████| 4867/4867 [00:02<00:00, 2124.05it/s]\n"
     ]
    },
    {
     "name": "stdout",
     "output_type": "stream",
     "text": [
      "knn k : 25\n"
     ]
    },
    {
     "name": "stderr",
     "output_type": "stream",
     "text": [
      "c:\\Users\\david\\anaconda3\\envs\\test_env\\lib\\site-packages\\tqdm\\std.py:1180: FutureWarning: In a future version of pandas, a length 1 tuple will be returned when iterating over a groupby with a grouper equal to a list of length 1. Don't supply a list with a single grouper to avoid this warning.\n",
      "  for obj in iterable:\n",
      "100%|██████████| 1140/1140 [00:00<00:00, 3245.12it/s]\n",
      "c:\\Users\\david\\anaconda3\\envs\\test_env\\lib\\site-packages\\tqdm\\std.py:1180: FutureWarning: In a future version of pandas, a length 1 tuple will be returned when iterating over a groupby with a grouper equal to a list of length 1. Don't supply a list with a single grouper to avoid this warning.\n",
      "  for obj in iterable:\n",
      "100%|██████████| 1140/1140 [00:00<00:00, 2841.78it/s]\n",
      "c:\\Users\\david\\anaconda3\\envs\\test_env\\lib\\site-packages\\tqdm\\std.py:1180: FutureWarning: In a future version of pandas, a length 1 tuple will be returned when iterating over a groupby with a grouper equal to a list of length 1. Don't supply a list with a single grouper to avoid this warning.\n",
      "  for obj in iterable:\n",
      "100%|██████████| 1140/1140 [00:04<00:00, 278.73it/s]\n"
     ]
    },
    {
     "name": "stdout",
     "output_type": "stream",
     "text": [
      "train_d size : (25525, 3)\n",
      "train_t size : (6352, 3)\n"
     ]
    },
    {
     "name": "stderr",
     "output_type": "stream",
     "text": [
      "c:\\Users\\david\\anaconda3\\envs\\test_env\\lib\\site-packages\\tqdm\\std.py:1180: FutureWarning: In a future version of pandas, a length 1 tuple will be returned when iterating over a groupby with a grouper equal to a list of length 1. Don't supply a list with a single grouper to avoid this warning.\n",
      "  for obj in iterable:\n",
      "100%|██████████| 4820/4820 [00:04<00:00, 1067.15it/s]\n"
     ]
    },
    {
     "name": "stdout",
     "output_type": "stream",
     "text": [
      "knn k : 25\n"
     ]
    },
    {
     "name": "stderr",
     "output_type": "stream",
     "text": [
      "c:\\Users\\david\\anaconda3\\envs\\test_env\\lib\\site-packages\\tqdm\\std.py:1180: FutureWarning: In a future version of pandas, a length 1 tuple will be returned when iterating over a groupby with a grouper equal to a list of length 1. Don't supply a list with a single grouper to avoid this warning.\n",
      "  for obj in iterable:\n",
      "100%|██████████| 1187/1187 [00:00<00:00, 1541.46it/s]\n",
      "c:\\Users\\david\\anaconda3\\envs\\test_env\\lib\\site-packages\\tqdm\\std.py:1180: FutureWarning: In a future version of pandas, a length 1 tuple will be returned when iterating over a groupby with a grouper equal to a list of length 1. Don't supply a list with a single grouper to avoid this warning.\n",
      "  for obj in iterable:\n",
      "100%|██████████| 1187/1187 [00:01<00:00, 1153.62it/s]\n",
      "c:\\Users\\david\\anaconda3\\envs\\test_env\\lib\\site-packages\\tqdm\\std.py:1180: FutureWarning: In a future version of pandas, a length 1 tuple will be returned when iterating over a groupby with a grouper equal to a list of length 1. Don't supply a list with a single grouper to avoid this warning.\n",
      "  for obj in iterable:\n",
      "100%|██████████| 1187/1187 [00:06<00:00, 178.72it/s]\n"
     ]
    },
    {
     "name": "stdout",
     "output_type": "stream",
     "text": [
      "train_d size : (24951, 3)\n",
      "train_t size : (6926, 3)\n"
     ]
    },
    {
     "name": "stderr",
     "output_type": "stream",
     "text": [
      "c:\\Users\\david\\anaconda3\\envs\\test_env\\lib\\site-packages\\tqdm\\std.py:1180: FutureWarning: In a future version of pandas, a length 1 tuple will be returned when iterating over a groupby with a grouper equal to a list of length 1. Don't supply a list with a single grouper to avoid this warning.\n",
      "  for obj in iterable:\n",
      "100%|██████████| 4723/4723 [00:04<00:00, 1168.63it/s]\n"
     ]
    },
    {
     "name": "stdout",
     "output_type": "stream",
     "text": [
      "knn k : 25\n"
     ]
    },
    {
     "name": "stderr",
     "output_type": "stream",
     "text": [
      "c:\\Users\\david\\anaconda3\\envs\\test_env\\lib\\site-packages\\tqdm\\std.py:1180: FutureWarning: In a future version of pandas, a length 1 tuple will be returned when iterating over a groupby with a grouper equal to a list of length 1. Don't supply a list with a single grouper to avoid this warning.\n",
      "  for obj in iterable:\n",
      "100%|██████████| 1284/1284 [00:00<00:00, 4218.61it/s]\n",
      "c:\\Users\\david\\anaconda3\\envs\\test_env\\lib\\site-packages\\tqdm\\std.py:1180: FutureWarning: In a future version of pandas, a length 1 tuple will be returned when iterating over a groupby with a grouper equal to a list of length 1. Don't supply a list with a single grouper to avoid this warning.\n",
      "  for obj in iterable:\n",
      "100%|██████████| 1284/1284 [00:00<00:00, 2951.00it/s]\n",
      "c:\\Users\\david\\anaconda3\\envs\\test_env\\lib\\site-packages\\tqdm\\std.py:1180: FutureWarning: In a future version of pandas, a length 1 tuple will be returned when iterating over a groupby with a grouper equal to a list of length 1. Don't supply a list with a single grouper to avoid this warning.\n",
      "  for obj in iterable:\n",
      "100%|██████████| 1284/1284 [00:04<00:00, 266.71it/s]\n"
     ]
    },
    {
     "name": "stdout",
     "output_type": "stream",
     "text": [
      "train_d size : (25192, 3)\n",
      "train_t size : (6685, 3)\n"
     ]
    },
    {
     "name": "stderr",
     "output_type": "stream",
     "text": [
      "c:\\Users\\david\\anaconda3\\envs\\test_env\\lib\\site-packages\\tqdm\\std.py:1180: FutureWarning: In a future version of pandas, a length 1 tuple will be returned when iterating over a groupby with a grouper equal to a list of length 1. Don't supply a list with a single grouper to avoid this warning.\n",
      "  for obj in iterable:\n",
      "100%|██████████| 4790/4790 [00:03<00:00, 1483.63it/s]\n"
     ]
    },
    {
     "name": "stdout",
     "output_type": "stream",
     "text": [
      "knn k : 35\n"
     ]
    },
    {
     "name": "stderr",
     "output_type": "stream",
     "text": [
      "c:\\Users\\david\\anaconda3\\envs\\test_env\\lib\\site-packages\\tqdm\\std.py:1180: FutureWarning: In a future version of pandas, a length 1 tuple will be returned when iterating over a groupby with a grouper equal to a list of length 1. Don't supply a list with a single grouper to avoid this warning.\n",
      "  for obj in iterable:\n",
      "100%|██████████| 1217/1217 [00:01<00:00, 858.70it/s]\n",
      "c:\\Users\\david\\anaconda3\\envs\\test_env\\lib\\site-packages\\tqdm\\std.py:1180: FutureWarning: In a future version of pandas, a length 1 tuple will be returned when iterating over a groupby with a grouper equal to a list of length 1. Don't supply a list with a single grouper to avoid this warning.\n",
      "  for obj in iterable:\n",
      "100%|██████████| 1217/1217 [00:00<00:00, 1782.16it/s]\n",
      "c:\\Users\\david\\anaconda3\\envs\\test_env\\lib\\site-packages\\tqdm\\std.py:1180: FutureWarning: In a future version of pandas, a length 1 tuple will be returned when iterating over a groupby with a grouper equal to a list of length 1. Don't supply a list with a single grouper to avoid this warning.\n",
      "  for obj in iterable:\n",
      "100%|██████████| 1217/1217 [00:07<00:00, 154.08it/s]\n"
     ]
    },
    {
     "name": "stdout",
     "output_type": "stream",
     "text": [
      "train_d size : (25544, 3)\n",
      "train_t size : (6333, 3)\n"
     ]
    },
    {
     "name": "stderr",
     "output_type": "stream",
     "text": [
      "c:\\Users\\david\\anaconda3\\envs\\test_env\\lib\\site-packages\\tqdm\\std.py:1180: FutureWarning: In a future version of pandas, a length 1 tuple will be returned when iterating over a groupby with a grouper equal to a list of length 1. Don't supply a list with a single grouper to avoid this warning.\n",
      "  for obj in iterable:\n",
      "100%|██████████| 4795/4795 [00:01<00:00, 2445.57it/s]\n"
     ]
    },
    {
     "name": "stdout",
     "output_type": "stream",
     "text": [
      "knn k : 35\n"
     ]
    },
    {
     "name": "stderr",
     "output_type": "stream",
     "text": [
      "c:\\Users\\david\\anaconda3\\envs\\test_env\\lib\\site-packages\\tqdm\\std.py:1180: FutureWarning: In a future version of pandas, a length 1 tuple will be returned when iterating over a groupby with a grouper equal to a list of length 1. Don't supply a list with a single grouper to avoid this warning.\n",
      "  for obj in iterable:\n",
      "100%|██████████| 1212/1212 [00:00<00:00, 3541.49it/s]\n",
      "c:\\Users\\david\\anaconda3\\envs\\test_env\\lib\\site-packages\\tqdm\\std.py:1180: FutureWarning: In a future version of pandas, a length 1 tuple will be returned when iterating over a groupby with a grouper equal to a list of length 1. Don't supply a list with a single grouper to avoid this warning.\n",
      "  for obj in iterable:\n",
      "100%|██████████| 1212/1212 [00:00<00:00, 1948.24it/s]\n",
      "c:\\Users\\david\\anaconda3\\envs\\test_env\\lib\\site-packages\\tqdm\\std.py:1180: FutureWarning: In a future version of pandas, a length 1 tuple will be returned when iterating over a groupby with a grouper equal to a list of length 1. Don't supply a list with a single grouper to avoid this warning.\n",
      "  for obj in iterable:\n",
      "100%|██████████| 1212/1212 [00:04<00:00, 263.41it/s]\n"
     ]
    },
    {
     "name": "stdout",
     "output_type": "stream",
     "text": [
      "train_d size : (25605, 3)\n",
      "train_t size : (6272, 3)\n"
     ]
    },
    {
     "name": "stderr",
     "output_type": "stream",
     "text": [
      "c:\\Users\\david\\anaconda3\\envs\\test_env\\lib\\site-packages\\tqdm\\std.py:1180: FutureWarning: In a future version of pandas, a length 1 tuple will be returned when iterating over a groupby with a grouper equal to a list of length 1. Don't supply a list with a single grouper to avoid this warning.\n",
      "  for obj in iterable:\n",
      "100%|██████████| 4792/4792 [00:01<00:00, 2725.09it/s]\n"
     ]
    },
    {
     "name": "stdout",
     "output_type": "stream",
     "text": [
      "knn k : 35\n"
     ]
    },
    {
     "name": "stderr",
     "output_type": "stream",
     "text": [
      "c:\\Users\\david\\anaconda3\\envs\\test_env\\lib\\site-packages\\tqdm\\std.py:1180: FutureWarning: In a future version of pandas, a length 1 tuple will be returned when iterating over a groupby with a grouper equal to a list of length 1. Don't supply a list with a single grouper to avoid this warning.\n",
      "  for obj in iterable:\n",
      "100%|██████████| 1215/1215 [00:00<00:00, 7425.05it/s]\n",
      "c:\\Users\\david\\anaconda3\\envs\\test_env\\lib\\site-packages\\tqdm\\std.py:1180: FutureWarning: In a future version of pandas, a length 1 tuple will be returned when iterating over a groupby with a grouper equal to a list of length 1. Don't supply a list with a single grouper to avoid this warning.\n",
      "  for obj in iterable:\n",
      "100%|██████████| 1215/1215 [00:00<00:00, 3277.38it/s]\n",
      "c:\\Users\\david\\anaconda3\\envs\\test_env\\lib\\site-packages\\tqdm\\std.py:1180: FutureWarning: In a future version of pandas, a length 1 tuple will be returned when iterating over a groupby with a grouper equal to a list of length 1. Don't supply a list with a single grouper to avoid this warning.\n",
      "  for obj in iterable:\n",
      "100%|██████████| 1215/1215 [00:03<00:00, 346.37it/s]\n"
     ]
    },
    {
     "name": "stdout",
     "output_type": "stream",
     "text": [
      "train_d size : (25553, 3)\n",
      "train_t size : (6324, 3)\n"
     ]
    },
    {
     "name": "stderr",
     "output_type": "stream",
     "text": [
      "c:\\Users\\david\\anaconda3\\envs\\test_env\\lib\\site-packages\\tqdm\\std.py:1180: FutureWarning: In a future version of pandas, a length 1 tuple will be returned when iterating over a groupby with a grouper equal to a list of length 1. Don't supply a list with a single grouper to avoid this warning.\n",
      "  for obj in iterable:\n",
      "100%|██████████| 4816/4816 [00:01<00:00, 3430.38it/s]\n"
     ]
    },
    {
     "name": "stdout",
     "output_type": "stream",
     "text": [
      "knn k : 35\n"
     ]
    },
    {
     "name": "stderr",
     "output_type": "stream",
     "text": [
      "c:\\Users\\david\\anaconda3\\envs\\test_env\\lib\\site-packages\\tqdm\\std.py:1180: FutureWarning: In a future version of pandas, a length 1 tuple will be returned when iterating over a groupby with a grouper equal to a list of length 1. Don't supply a list with a single grouper to avoid this warning.\n",
      "  for obj in iterable:\n",
      "100%|██████████| 1191/1191 [00:00<00:00, 7532.88it/s]\n",
      "c:\\Users\\david\\anaconda3\\envs\\test_env\\lib\\site-packages\\tqdm\\std.py:1180: FutureWarning: In a future version of pandas, a length 1 tuple will be returned when iterating over a groupby with a grouper equal to a list of length 1. Don't supply a list with a single grouper to avoid this warning.\n",
      "  for obj in iterable:\n",
      "100%|██████████| 1191/1191 [00:00<00:00, 4005.29it/s]\n",
      "c:\\Users\\david\\anaconda3\\envs\\test_env\\lib\\site-packages\\tqdm\\std.py:1180: FutureWarning: In a future version of pandas, a length 1 tuple will be returned when iterating over a groupby with a grouper equal to a list of length 1. Don't supply a list with a single grouper to avoid this warning.\n",
      "  for obj in iterable:\n",
      "100%|██████████| 1191/1191 [00:05<00:00, 230.71it/s]\n"
     ]
    },
    {
     "name": "stdout",
     "output_type": "stream",
     "text": [
      "train_d size : (25614, 3)\n",
      "train_t size : (6263, 3)\n"
     ]
    },
    {
     "name": "stderr",
     "output_type": "stream",
     "text": [
      "c:\\Users\\david\\anaconda3\\envs\\test_env\\lib\\site-packages\\tqdm\\std.py:1180: FutureWarning: In a future version of pandas, a length 1 tuple will be returned when iterating over a groupby with a grouper equal to a list of length 1. Don't supply a list with a single grouper to avoid this warning.\n",
      "  for obj in iterable:\n",
      "100%|██████████| 4835/4835 [00:01<00:00, 3270.36it/s]\n"
     ]
    },
    {
     "name": "stdout",
     "output_type": "stream",
     "text": [
      "knn k : 35\n"
     ]
    },
    {
     "name": "stderr",
     "output_type": "stream",
     "text": [
      "c:\\Users\\david\\anaconda3\\envs\\test_env\\lib\\site-packages\\tqdm\\std.py:1180: FutureWarning: In a future version of pandas, a length 1 tuple will be returned when iterating over a groupby with a grouper equal to a list of length 1. Don't supply a list with a single grouper to avoid this warning.\n",
      "  for obj in iterable:\n",
      "100%|██████████| 1172/1172 [00:00<00:00, 9336.73it/s]\n",
      "c:\\Users\\david\\anaconda3\\envs\\test_env\\lib\\site-packages\\tqdm\\std.py:1180: FutureWarning: In a future version of pandas, a length 1 tuple will be returned when iterating over a groupby with a grouper equal to a list of length 1. Don't supply a list with a single grouper to avoid this warning.\n",
      "  for obj in iterable:\n",
      "100%|██████████| 1172/1172 [00:00<00:00, 4310.34it/s]\n",
      "c:\\Users\\david\\anaconda3\\envs\\test_env\\lib\\site-packages\\tqdm\\std.py:1180: FutureWarning: In a future version of pandas, a length 1 tuple will be returned when iterating over a groupby with a grouper equal to a list of length 1. Don't supply a list with a single grouper to avoid this warning.\n",
      "  for obj in iterable:\n",
      "100%|██████████| 1172/1172 [00:03<00:00, 365.41it/s]\n"
     ]
    },
    {
     "name": "stdout",
     "output_type": "stream",
     "text": [
      "train_d size : (25445, 3)\n",
      "train_t size : (6432, 3)\n"
     ]
    },
    {
     "name": "stderr",
     "output_type": "stream",
     "text": [
      "c:\\Users\\david\\anaconda3\\envs\\test_env\\lib\\site-packages\\tqdm\\std.py:1180: FutureWarning: In a future version of pandas, a length 1 tuple will be returned when iterating over a groupby with a grouper equal to a list of length 1. Don't supply a list with a single grouper to avoid this warning.\n",
      "  for obj in iterable:\n",
      "100%|██████████| 4831/4831 [00:01<00:00, 3567.68it/s]\n"
     ]
    },
    {
     "name": "stdout",
     "output_type": "stream",
     "text": [
      "knn k : 75\n"
     ]
    },
    {
     "name": "stderr",
     "output_type": "stream",
     "text": [
      "c:\\Users\\david\\anaconda3\\envs\\test_env\\lib\\site-packages\\tqdm\\std.py:1180: FutureWarning: In a future version of pandas, a length 1 tuple will be returned when iterating over a groupby with a grouper equal to a list of length 1. Don't supply a list with a single grouper to avoid this warning.\n",
      "  for obj in iterable:\n",
      "100%|██████████| 1176/1176 [00:00<00:00, 3989.35it/s]\n",
      "c:\\Users\\david\\anaconda3\\envs\\test_env\\lib\\site-packages\\tqdm\\std.py:1180: FutureWarning: In a future version of pandas, a length 1 tuple will be returned when iterating over a groupby with a grouper equal to a list of length 1. Don't supply a list with a single grouper to avoid this warning.\n",
      "  for obj in iterable:\n",
      "100%|██████████| 1176/1176 [00:00<00:00, 4313.66it/s]\n",
      "c:\\Users\\david\\anaconda3\\envs\\test_env\\lib\\site-packages\\tqdm\\std.py:1180: FutureWarning: In a future version of pandas, a length 1 tuple will be returned when iterating over a groupby with a grouper equal to a list of length 1. Don't supply a list with a single grouper to avoid this warning.\n",
      "  for obj in iterable:\n",
      "100%|██████████| 1176/1176 [00:03<00:00, 374.19it/s]\n"
     ]
    },
    {
     "name": "stdout",
     "output_type": "stream",
     "text": [
      "train_d size : (25479, 3)\n",
      "train_t size : (6398, 3)\n"
     ]
    },
    {
     "name": "stderr",
     "output_type": "stream",
     "text": [
      "c:\\Users\\david\\anaconda3\\envs\\test_env\\lib\\site-packages\\tqdm\\std.py:1180: FutureWarning: In a future version of pandas, a length 1 tuple will be returned when iterating over a groupby with a grouper equal to a list of length 1. Don't supply a list with a single grouper to avoid this warning.\n",
      "  for obj in iterable:\n",
      "100%|██████████| 4786/4786 [00:01<00:00, 3685.91it/s]\n"
     ]
    },
    {
     "name": "stdout",
     "output_type": "stream",
     "text": [
      "knn k : 75\n"
     ]
    },
    {
     "name": "stderr",
     "output_type": "stream",
     "text": [
      "c:\\Users\\david\\anaconda3\\envs\\test_env\\lib\\site-packages\\tqdm\\std.py:1180: FutureWarning: In a future version of pandas, a length 1 tuple will be returned when iterating over a groupby with a grouper equal to a list of length 1. Don't supply a list with a single grouper to avoid this warning.\n",
      "  for obj in iterable:\n",
      "100%|██████████| 1221/1221 [00:00<00:00, 4702.33it/s]\n",
      "c:\\Users\\david\\anaconda3\\envs\\test_env\\lib\\site-packages\\tqdm\\std.py:1180: FutureWarning: In a future version of pandas, a length 1 tuple will be returned when iterating over a groupby with a grouper equal to a list of length 1. Don't supply a list with a single grouper to avoid this warning.\n",
      "  for obj in iterable:\n",
      "100%|██████████| 1221/1221 [00:00<00:00, 3020.74it/s]\n",
      "c:\\Users\\david\\anaconda3\\envs\\test_env\\lib\\site-packages\\tqdm\\std.py:1180: FutureWarning: In a future version of pandas, a length 1 tuple will be returned when iterating over a groupby with a grouper equal to a list of length 1. Don't supply a list with a single grouper to avoid this warning.\n",
      "  for obj in iterable:\n",
      "100%|██████████| 1221/1221 [00:07<00:00, 173.67it/s]\n"
     ]
    },
    {
     "name": "stdout",
     "output_type": "stream",
     "text": [
      "train_d size : (25432, 3)\n",
      "train_t size : (6445, 3)\n"
     ]
    },
    {
     "name": "stderr",
     "output_type": "stream",
     "text": [
      "c:\\Users\\david\\anaconda3\\envs\\test_env\\lib\\site-packages\\tqdm\\std.py:1180: FutureWarning: In a future version of pandas, a length 1 tuple will be returned when iterating over a groupby with a grouper equal to a list of length 1. Don't supply a list with a single grouper to avoid this warning.\n",
      "  for obj in iterable:\n",
      "100%|██████████| 4791/4791 [00:01<00:00, 3442.79it/s]\n"
     ]
    },
    {
     "name": "stdout",
     "output_type": "stream",
     "text": [
      "knn k : 75\n"
     ]
    },
    {
     "name": "stderr",
     "output_type": "stream",
     "text": [
      "c:\\Users\\david\\anaconda3\\envs\\test_env\\lib\\site-packages\\tqdm\\std.py:1180: FutureWarning: In a future version of pandas, a length 1 tuple will be returned when iterating over a groupby with a grouper equal to a list of length 1. Don't supply a list with a single grouper to avoid this warning.\n",
      "  for obj in iterable:\n",
      "100%|██████████| 1216/1216 [00:00<00:00, 4267.03it/s]\n",
      "c:\\Users\\david\\anaconda3\\envs\\test_env\\lib\\site-packages\\tqdm\\std.py:1180: FutureWarning: In a future version of pandas, a length 1 tuple will be returned when iterating over a groupby with a grouper equal to a list of length 1. Don't supply a list with a single grouper to avoid this warning.\n",
      "  for obj in iterable:\n",
      "100%|██████████| 1216/1216 [00:00<00:00, 4257.61it/s]\n",
      "c:\\Users\\david\\anaconda3\\envs\\test_env\\lib\\site-packages\\tqdm\\std.py:1180: FutureWarning: In a future version of pandas, a length 1 tuple will be returned when iterating over a groupby with a grouper equal to a list of length 1. Don't supply a list with a single grouper to avoid this warning.\n",
      "  for obj in iterable:\n",
      "100%|██████████| 1216/1216 [00:03<00:00, 306.84it/s]\n"
     ]
    },
    {
     "name": "stdout",
     "output_type": "stream",
     "text": [
      "train_d size : (25511, 3)\n",
      "train_t size : (6366, 3)\n"
     ]
    },
    {
     "name": "stderr",
     "output_type": "stream",
     "text": [
      "c:\\Users\\david\\anaconda3\\envs\\test_env\\lib\\site-packages\\tqdm\\std.py:1180: FutureWarning: In a future version of pandas, a length 1 tuple will be returned when iterating over a groupby with a grouper equal to a list of length 1. Don't supply a list with a single grouper to avoid this warning.\n",
      "  for obj in iterable:\n",
      "100%|██████████| 4805/4805 [00:01<00:00, 3112.71it/s]\n"
     ]
    },
    {
     "name": "stdout",
     "output_type": "stream",
     "text": [
      "knn k : 75\n"
     ]
    },
    {
     "name": "stderr",
     "output_type": "stream",
     "text": [
      "c:\\Users\\david\\anaconda3\\envs\\test_env\\lib\\site-packages\\tqdm\\std.py:1180: FutureWarning: In a future version of pandas, a length 1 tuple will be returned when iterating over a groupby with a grouper equal to a list of length 1. Don't supply a list with a single grouper to avoid this warning.\n",
      "  for obj in iterable:\n",
      "100%|██████████| 1202/1202 [00:00<00:00, 7981.90it/s]\n",
      "c:\\Users\\david\\anaconda3\\envs\\test_env\\lib\\site-packages\\tqdm\\std.py:1180: FutureWarning: In a future version of pandas, a length 1 tuple will be returned when iterating over a groupby with a grouper equal to a list of length 1. Don't supply a list with a single grouper to avoid this warning.\n",
      "  for obj in iterable:\n",
      "100%|██████████| 1202/1202 [00:00<00:00, 1238.40it/s]\n",
      "c:\\Users\\david\\anaconda3\\envs\\test_env\\lib\\site-packages\\tqdm\\std.py:1180: FutureWarning: In a future version of pandas, a length 1 tuple will be returned when iterating over a groupby with a grouper equal to a list of length 1. Don't supply a list with a single grouper to avoid this warning.\n",
      "  for obj in iterable:\n",
      "100%|██████████| 1202/1202 [00:05<00:00, 215.55it/s]\n"
     ]
    },
    {
     "name": "stdout",
     "output_type": "stream",
     "text": [
      "train_d size : (25641, 3)\n",
      "train_t size : (6236, 3)\n"
     ]
    },
    {
     "name": "stderr",
     "output_type": "stream",
     "text": [
      "c:\\Users\\david\\anaconda3\\envs\\test_env\\lib\\site-packages\\tqdm\\std.py:1180: FutureWarning: In a future version of pandas, a length 1 tuple will be returned when iterating over a groupby with a grouper equal to a list of length 1. Don't supply a list with a single grouper to avoid this warning.\n",
      "  for obj in iterable:\n",
      "100%|██████████| 4815/4815 [00:01<00:00, 3521.22it/s]\n"
     ]
    },
    {
     "name": "stdout",
     "output_type": "stream",
     "text": [
      "knn k : 75\n"
     ]
    },
    {
     "name": "stderr",
     "output_type": "stream",
     "text": [
      "c:\\Users\\david\\anaconda3\\envs\\test_env\\lib\\site-packages\\tqdm\\std.py:1180: FutureWarning: In a future version of pandas, a length 1 tuple will be returned when iterating over a groupby with a grouper equal to a list of length 1. Don't supply a list with a single grouper to avoid this warning.\n",
      "  for obj in iterable:\n",
      "100%|██████████| 1192/1192 [00:00<00:00, 8866.37it/s]\n",
      "c:\\Users\\david\\anaconda3\\envs\\test_env\\lib\\site-packages\\tqdm\\std.py:1180: FutureWarning: In a future version of pandas, a length 1 tuple will be returned when iterating over a groupby with a grouper equal to a list of length 1. Don't supply a list with a single grouper to avoid this warning.\n",
      "  for obj in iterable:\n",
      "100%|██████████| 1192/1192 [00:00<00:00, 2957.91it/s]\n",
      "c:\\Users\\david\\anaconda3\\envs\\test_env\\lib\\site-packages\\tqdm\\std.py:1180: FutureWarning: In a future version of pandas, a length 1 tuple will be returned when iterating over a groupby with a grouper equal to a list of length 1. Don't supply a list with a single grouper to avoid this warning.\n",
      "  for obj in iterable:\n",
      "100%|██████████| 1192/1192 [00:03<00:00, 301.31it/s]\n"
     ]
    },
    {
     "name": "stdout",
     "output_type": "stream",
     "text": [
      "train_d size : (25253, 3)\n",
      "train_t size : (6624, 3)\n"
     ]
    },
    {
     "name": "stderr",
     "output_type": "stream",
     "text": [
      "c:\\Users\\david\\anaconda3\\envs\\test_env\\lib\\site-packages\\tqdm\\std.py:1180: FutureWarning: In a future version of pandas, a length 1 tuple will be returned when iterating over a groupby with a grouper equal to a list of length 1. Don't supply a list with a single grouper to avoid this warning.\n",
      "  for obj in iterable:\n",
      "100%|██████████| 4835/4835 [00:01<00:00, 3613.05it/s]\n"
     ]
    },
    {
     "name": "stdout",
     "output_type": "stream",
     "text": [
      "knn k : 3\n"
     ]
    },
    {
     "name": "stderr",
     "output_type": "stream",
     "text": [
      "c:\\Users\\david\\anaconda3\\envs\\test_env\\lib\\site-packages\\tqdm\\std.py:1180: FutureWarning: In a future version of pandas, a length 1 tuple will be returned when iterating over a groupby with a grouper equal to a list of length 1. Don't supply a list with a single grouper to avoid this warning.\n",
      "  for obj in iterable:\n",
      "100%|██████████| 1172/1172 [00:00<00:00, 9057.42it/s]\n",
      "c:\\Users\\david\\anaconda3\\envs\\test_env\\lib\\site-packages\\tqdm\\std.py:1180: FutureWarning: In a future version of pandas, a length 1 tuple will be returned when iterating over a groupby with a grouper equal to a list of length 1. Don't supply a list with a single grouper to avoid this warning.\n",
      "  for obj in iterable:\n",
      "100%|██████████| 1172/1172 [00:00<00:00, 3889.50it/s]\n",
      "c:\\Users\\david\\anaconda3\\envs\\test_env\\lib\\site-packages\\tqdm\\std.py:1180: FutureWarning: In a future version of pandas, a length 1 tuple will be returned when iterating over a groupby with a grouper equal to a list of length 1. Don't supply a list with a single grouper to avoid this warning.\n",
      "  for obj in iterable:\n",
      "100%|██████████| 1172/1172 [00:03<00:00, 321.85it/s]\n"
     ]
    },
    {
     "name": "stdout",
     "output_type": "stream",
     "text": [
      "train_d size : (25621, 3)\n",
      "train_t size : (6256, 3)\n"
     ]
    },
    {
     "name": "stderr",
     "output_type": "stream",
     "text": [
      "c:\\Users\\david\\anaconda3\\envs\\test_env\\lib\\site-packages\\tqdm\\std.py:1180: FutureWarning: In a future version of pandas, a length 1 tuple will be returned when iterating over a groupby with a grouper equal to a list of length 1. Don't supply a list with a single grouper to avoid this warning.\n",
      "  for obj in iterable:\n",
      "100%|██████████| 4821/4821 [00:01<00:00, 3622.12it/s]\n"
     ]
    },
    {
     "name": "stdout",
     "output_type": "stream",
     "text": [
      "knn k : 3\n"
     ]
    },
    {
     "name": "stderr",
     "output_type": "stream",
     "text": [
      "c:\\Users\\david\\anaconda3\\envs\\test_env\\lib\\site-packages\\tqdm\\std.py:1180: FutureWarning: In a future version of pandas, a length 1 tuple will be returned when iterating over a groupby with a grouper equal to a list of length 1. Don't supply a list with a single grouper to avoid this warning.\n",
      "  for obj in iterable:\n",
      "100%|██████████| 1186/1186 [00:00<00:00, 9338.00it/s]\n",
      "c:\\Users\\david\\anaconda3\\envs\\test_env\\lib\\site-packages\\tqdm\\std.py:1180: FutureWarning: In a future version of pandas, a length 1 tuple will be returned when iterating over a groupby with a grouper equal to a list of length 1. Don't supply a list with a single grouper to avoid this warning.\n",
      "  for obj in iterable:\n",
      "100%|██████████| 1186/1186 [00:00<00:00, 3847.40it/s]\n",
      "c:\\Users\\david\\anaconda3\\envs\\test_env\\lib\\site-packages\\tqdm\\std.py:1180: FutureWarning: In a future version of pandas, a length 1 tuple will be returned when iterating over a groupby with a grouper equal to a list of length 1. Don't supply a list with a single grouper to avoid this warning.\n",
      "  for obj in iterable:\n",
      "100%|██████████| 1186/1186 [00:03<00:00, 378.81it/s]\n"
     ]
    },
    {
     "name": "stdout",
     "output_type": "stream",
     "text": [
      "train_d size : (25671, 3)\n",
      "train_t size : (6206, 3)\n"
     ]
    },
    {
     "name": "stderr",
     "output_type": "stream",
     "text": [
      "c:\\Users\\david\\anaconda3\\envs\\test_env\\lib\\site-packages\\tqdm\\std.py:1180: FutureWarning: In a future version of pandas, a length 1 tuple will be returned when iterating over a groupby with a grouper equal to a list of length 1. Don't supply a list with a single grouper to avoid this warning.\n",
      "  for obj in iterable:\n",
      "100%|██████████| 4823/4823 [00:01<00:00, 3839.44it/s]\n"
     ]
    },
    {
     "name": "stdout",
     "output_type": "stream",
     "text": [
      "knn k : 3\n"
     ]
    },
    {
     "name": "stderr",
     "output_type": "stream",
     "text": [
      "c:\\Users\\david\\anaconda3\\envs\\test_env\\lib\\site-packages\\tqdm\\std.py:1180: FutureWarning: In a future version of pandas, a length 1 tuple will be returned when iterating over a groupby with a grouper equal to a list of length 1. Don't supply a list with a single grouper to avoid this warning.\n",
      "  for obj in iterable:\n",
      "100%|██████████| 1184/1184 [00:00<00:00, 7565.55it/s]\n",
      "c:\\Users\\david\\anaconda3\\envs\\test_env\\lib\\site-packages\\tqdm\\std.py:1180: FutureWarning: In a future version of pandas, a length 1 tuple will be returned when iterating over a groupby with a grouper equal to a list of length 1. Don't supply a list with a single grouper to avoid this warning.\n",
      "  for obj in iterable:\n",
      "100%|██████████| 1184/1184 [00:00<00:00, 4207.63it/s]\n",
      "c:\\Users\\david\\anaconda3\\envs\\test_env\\lib\\site-packages\\tqdm\\std.py:1180: FutureWarning: In a future version of pandas, a length 1 tuple will be returned when iterating over a groupby with a grouper equal to a list of length 1. Don't supply a list with a single grouper to avoid this warning.\n",
      "  for obj in iterable:\n",
      "100%|██████████| 1184/1184 [00:03<00:00, 380.42it/s]\n"
     ]
    },
    {
     "name": "stdout",
     "output_type": "stream",
     "text": [
      "train_d size : (25366, 3)\n",
      "train_t size : (6511, 3)\n"
     ]
    },
    {
     "name": "stderr",
     "output_type": "stream",
     "text": [
      "c:\\Users\\david\\anaconda3\\envs\\test_env\\lib\\site-packages\\tqdm\\std.py:1180: FutureWarning: In a future version of pandas, a length 1 tuple will be returned when iterating over a groupby with a grouper equal to a list of length 1. Don't supply a list with a single grouper to avoid this warning.\n",
      "  for obj in iterable:\n",
      "100%|██████████| 4773/4773 [00:01<00:00, 3343.12it/s]\n"
     ]
    },
    {
     "name": "stdout",
     "output_type": "stream",
     "text": [
      "knn k : 3\n"
     ]
    },
    {
     "name": "stderr",
     "output_type": "stream",
     "text": [
      "c:\\Users\\david\\anaconda3\\envs\\test_env\\lib\\site-packages\\tqdm\\std.py:1180: FutureWarning: In a future version of pandas, a length 1 tuple will be returned when iterating over a groupby with a grouper equal to a list of length 1. Don't supply a list with a single grouper to avoid this warning.\n",
      "  for obj in iterable:\n",
      "100%|██████████| 1234/1234 [00:00<00:00, 9742.50it/s] \n",
      "c:\\Users\\david\\anaconda3\\envs\\test_env\\lib\\site-packages\\tqdm\\std.py:1180: FutureWarning: In a future version of pandas, a length 1 tuple will be returned when iterating over a groupby with a grouper equal to a list of length 1. Don't supply a list with a single grouper to avoid this warning.\n",
      "  for obj in iterable:\n",
      "100%|██████████| 1234/1234 [00:00<00:00, 4288.53it/s]\n",
      "c:\\Users\\david\\anaconda3\\envs\\test_env\\lib\\site-packages\\tqdm\\std.py:1180: FutureWarning: In a future version of pandas, a length 1 tuple will be returned when iterating over a groupby with a grouper equal to a list of length 1. Don't supply a list with a single grouper to avoid this warning.\n",
      "  for obj in iterable:\n",
      "100%|██████████| 1234/1234 [00:03<00:00, 344.05it/s]\n"
     ]
    },
    {
     "name": "stdout",
     "output_type": "stream",
     "text": [
      "train_d size : (25597, 3)\n",
      "train_t size : (6280, 3)\n"
     ]
    },
    {
     "name": "stderr",
     "output_type": "stream",
     "text": [
      "c:\\Users\\david\\anaconda3\\envs\\test_env\\lib\\site-packages\\tqdm\\std.py:1180: FutureWarning: In a future version of pandas, a length 1 tuple will be returned when iterating over a groupby with a grouper equal to a list of length 1. Don't supply a list with a single grouper to avoid this warning.\n",
      "  for obj in iterable:\n",
      "100%|██████████| 4776/4776 [00:01<00:00, 3423.64it/s]\n"
     ]
    },
    {
     "name": "stdout",
     "output_type": "stream",
     "text": [
      "knn k : 3\n"
     ]
    },
    {
     "name": "stderr",
     "output_type": "stream",
     "text": [
      "c:\\Users\\david\\anaconda3\\envs\\test_env\\lib\\site-packages\\tqdm\\std.py:1180: FutureWarning: In a future version of pandas, a length 1 tuple will be returned when iterating over a groupby with a grouper equal to a list of length 1. Don't supply a list with a single grouper to avoid this warning.\n",
      "  for obj in iterable:\n",
      "100%|██████████| 1231/1231 [00:00<00:00, 8020.66it/s]\n",
      "c:\\Users\\david\\anaconda3\\envs\\test_env\\lib\\site-packages\\tqdm\\std.py:1180: FutureWarning: In a future version of pandas, a length 1 tuple will be returned when iterating over a groupby with a grouper equal to a list of length 1. Don't supply a list with a single grouper to avoid this warning.\n",
      "  for obj in iterable:\n",
      "100%|██████████| 1231/1231 [00:00<00:00, 3692.98it/s]\n",
      "c:\\Users\\david\\anaconda3\\envs\\test_env\\lib\\site-packages\\tqdm\\std.py:1180: FutureWarning: In a future version of pandas, a length 1 tuple will be returned when iterating over a groupby with a grouper equal to a list of length 1. Don't supply a list with a single grouper to avoid this warning.\n",
      "  for obj in iterable:\n",
      "100%|██████████| 1231/1231 [00:03<00:00, 386.04it/s]\n"
     ]
    },
    {
     "name": "stdout",
     "output_type": "stream",
     "text": [
      "train_d size : (25167, 3)\n",
      "train_t size : (6710, 3)\n"
     ]
    },
    {
     "name": "stderr",
     "output_type": "stream",
     "text": [
      "c:\\Users\\david\\anaconda3\\envs\\test_env\\lib\\site-packages\\tqdm\\std.py:1180: FutureWarning: In a future version of pandas, a length 1 tuple will be returned when iterating over a groupby with a grouper equal to a list of length 1. Don't supply a list with a single grouper to avoid this warning.\n",
      "  for obj in iterable:\n",
      "100%|██████████| 4783/4783 [00:01<00:00, 3661.60it/s]\n"
     ]
    },
    {
     "name": "stdout",
     "output_type": "stream",
     "text": [
      "knn k : 11\n"
     ]
    },
    {
     "name": "stderr",
     "output_type": "stream",
     "text": [
      "c:\\Users\\david\\anaconda3\\envs\\test_env\\lib\\site-packages\\tqdm\\std.py:1180: FutureWarning: In a future version of pandas, a length 1 tuple will be returned when iterating over a groupby with a grouper equal to a list of length 1. Don't supply a list with a single grouper to avoid this warning.\n",
      "  for obj in iterable:\n",
      "100%|██████████| 1224/1224 [00:00<00:00, 4955.82it/s]\n",
      "c:\\Users\\david\\anaconda3\\envs\\test_env\\lib\\site-packages\\tqdm\\std.py:1180: FutureWarning: In a future version of pandas, a length 1 tuple will be returned when iterating over a groupby with a grouper equal to a list of length 1. Don't supply a list with a single grouper to avoid this warning.\n",
      "  for obj in iterable:\n",
      "100%|██████████| 1224/1224 [00:00<00:00, 4071.98it/s]\n",
      "c:\\Users\\david\\anaconda3\\envs\\test_env\\lib\\site-packages\\tqdm\\std.py:1180: FutureWarning: In a future version of pandas, a length 1 tuple will be returned when iterating over a groupby with a grouper equal to a list of length 1. Don't supply a list with a single grouper to avoid this warning.\n",
      "  for obj in iterable:\n",
      "100%|██████████| 1224/1224 [00:03<00:00, 396.31it/s]\n"
     ]
    },
    {
     "name": "stdout",
     "output_type": "stream",
     "text": [
      "train_d size : (25105, 3)\n",
      "train_t size : (6772, 3)\n"
     ]
    },
    {
     "name": "stderr",
     "output_type": "stream",
     "text": [
      "c:\\Users\\david\\anaconda3\\envs\\test_env\\lib\\site-packages\\tqdm\\std.py:1180: FutureWarning: In a future version of pandas, a length 1 tuple will be returned when iterating over a groupby with a grouper equal to a list of length 1. Don't supply a list with a single grouper to avoid this warning.\n",
      "  for obj in iterable:\n",
      "100%|██████████| 4770/4770 [00:01<00:00, 3865.61it/s]\n"
     ]
    },
    {
     "name": "stdout",
     "output_type": "stream",
     "text": [
      "knn k : 11\n"
     ]
    },
    {
     "name": "stderr",
     "output_type": "stream",
     "text": [
      "c:\\Users\\david\\anaconda3\\envs\\test_env\\lib\\site-packages\\tqdm\\std.py:1180: FutureWarning: In a future version of pandas, a length 1 tuple will be returned when iterating over a groupby with a grouper equal to a list of length 1. Don't supply a list with a single grouper to avoid this warning.\n",
      "  for obj in iterable:\n",
      "100%|██████████| 1237/1237 [00:00<00:00, 4635.24it/s]\n",
      "c:\\Users\\david\\anaconda3\\envs\\test_env\\lib\\site-packages\\tqdm\\std.py:1180: FutureWarning: In a future version of pandas, a length 1 tuple will be returned when iterating over a groupby with a grouper equal to a list of length 1. Don't supply a list with a single grouper to avoid this warning.\n",
      "  for obj in iterable:\n",
      "100%|██████████| 1237/1237 [00:00<00:00, 4640.29it/s]\n",
      "c:\\Users\\david\\anaconda3\\envs\\test_env\\lib\\site-packages\\tqdm\\std.py:1180: FutureWarning: In a future version of pandas, a length 1 tuple will be returned when iterating over a groupby with a grouper equal to a list of length 1. Don't supply a list with a single grouper to avoid this warning.\n",
      "  for obj in iterable:\n",
      "100%|██████████| 1237/1237 [00:03<00:00, 314.68it/s]\n"
     ]
    },
    {
     "name": "stdout",
     "output_type": "stream",
     "text": [
      "train_d size : (25674, 3)\n",
      "train_t size : (6203, 3)\n"
     ]
    },
    {
     "name": "stderr",
     "output_type": "stream",
     "text": [
      "c:\\Users\\david\\anaconda3\\envs\\test_env\\lib\\site-packages\\tqdm\\std.py:1180: FutureWarning: In a future version of pandas, a length 1 tuple will be returned when iterating over a groupby with a grouper equal to a list of length 1. Don't supply a list with a single grouper to avoid this warning.\n",
      "  for obj in iterable:\n",
      "100%|██████████| 4818/4818 [00:01<00:00, 3698.29it/s]\n"
     ]
    },
    {
     "name": "stdout",
     "output_type": "stream",
     "text": [
      "knn k : 11\n"
     ]
    },
    {
     "name": "stderr",
     "output_type": "stream",
     "text": [
      "c:\\Users\\david\\anaconda3\\envs\\test_env\\lib\\site-packages\\tqdm\\std.py:1180: FutureWarning: In a future version of pandas, a length 1 tuple will be returned when iterating over a groupby with a grouper equal to a list of length 1. Don't supply a list with a single grouper to avoid this warning.\n",
      "  for obj in iterable:\n",
      "100%|██████████| 1189/1189 [00:00<00:00, 4444.48it/s]\n",
      "c:\\Users\\david\\anaconda3\\envs\\test_env\\lib\\site-packages\\tqdm\\std.py:1180: FutureWarning: In a future version of pandas, a length 1 tuple will be returned when iterating over a groupby with a grouper equal to a list of length 1. Don't supply a list with a single grouper to avoid this warning.\n",
      "  for obj in iterable:\n",
      "100%|██████████| 1189/1189 [00:00<00:00, 4119.65it/s]\n",
      "c:\\Users\\david\\anaconda3\\envs\\test_env\\lib\\site-packages\\tqdm\\std.py:1180: FutureWarning: In a future version of pandas, a length 1 tuple will be returned when iterating over a groupby with a grouper equal to a list of length 1. Don't supply a list with a single grouper to avoid this warning.\n",
      "  for obj in iterable:\n",
      "100%|██████████| 1189/1189 [00:02<00:00, 409.33it/s]\n"
     ]
    },
    {
     "name": "stdout",
     "output_type": "stream",
     "text": [
      "train_d size : (25879, 3)\n",
      "train_t size : (5998, 3)\n"
     ]
    },
    {
     "name": "stderr",
     "output_type": "stream",
     "text": [
      "c:\\Users\\david\\anaconda3\\envs\\test_env\\lib\\site-packages\\tqdm\\std.py:1180: FutureWarning: In a future version of pandas, a length 1 tuple will be returned when iterating over a groupby with a grouper equal to a list of length 1. Don't supply a list with a single grouper to avoid this warning.\n",
      "  for obj in iterable:\n",
      "100%|██████████| 4850/4850 [00:01<00:00, 3886.95it/s]\n"
     ]
    },
    {
     "name": "stdout",
     "output_type": "stream",
     "text": [
      "knn k : 11\n"
     ]
    },
    {
     "name": "stderr",
     "output_type": "stream",
     "text": [
      "c:\\Users\\david\\anaconda3\\envs\\test_env\\lib\\site-packages\\tqdm\\std.py:1180: FutureWarning: In a future version of pandas, a length 1 tuple will be returned when iterating over a groupby with a grouper equal to a list of length 1. Don't supply a list with a single grouper to avoid this warning.\n",
      "  for obj in iterable:\n",
      "100%|██████████| 1157/1157 [00:00<00:00, 9459.34it/s]\n",
      "c:\\Users\\david\\anaconda3\\envs\\test_env\\lib\\site-packages\\tqdm\\std.py:1180: FutureWarning: In a future version of pandas, a length 1 tuple will be returned when iterating over a groupby with a grouper equal to a list of length 1. Don't supply a list with a single grouper to avoid this warning.\n",
      "  for obj in iterable:\n",
      "100%|██████████| 1157/1157 [00:00<00:00, 3918.91it/s]\n",
      "c:\\Users\\david\\anaconda3\\envs\\test_env\\lib\\site-packages\\tqdm\\std.py:1180: FutureWarning: In a future version of pandas, a length 1 tuple will be returned when iterating over a groupby with a grouper equal to a list of length 1. Don't supply a list with a single grouper to avoid this warning.\n",
      "  for obj in iterable:\n",
      "100%|██████████| 1157/1157 [00:03<00:00, 368.57it/s]\n"
     ]
    },
    {
     "name": "stdout",
     "output_type": "stream",
     "text": [
      "train_d size : (25683, 3)\n",
      "train_t size : (6194, 3)\n"
     ]
    },
    {
     "name": "stderr",
     "output_type": "stream",
     "text": [
      "c:\\Users\\david\\anaconda3\\envs\\test_env\\lib\\site-packages\\tqdm\\std.py:1180: FutureWarning: In a future version of pandas, a length 1 tuple will be returned when iterating over a groupby with a grouper equal to a list of length 1. Don't supply a list with a single grouper to avoid this warning.\n",
      "  for obj in iterable:\n",
      "100%|██████████| 4807/4807 [00:01<00:00, 3788.54it/s]\n"
     ]
    },
    {
     "name": "stdout",
     "output_type": "stream",
     "text": [
      "knn k : 11\n"
     ]
    },
    {
     "name": "stderr",
     "output_type": "stream",
     "text": [
      "c:\\Users\\david\\anaconda3\\envs\\test_env\\lib\\site-packages\\tqdm\\std.py:1180: FutureWarning: In a future version of pandas, a length 1 tuple will be returned when iterating over a groupby with a grouper equal to a list of length 1. Don't supply a list with a single grouper to avoid this warning.\n",
      "  for obj in iterable:\n",
      "100%|██████████| 1200/1200 [00:00<00:00, 9361.21it/s]\n",
      "c:\\Users\\david\\anaconda3\\envs\\test_env\\lib\\site-packages\\tqdm\\std.py:1180: FutureWarning: In a future version of pandas, a length 1 tuple will be returned when iterating over a groupby with a grouper equal to a list of length 1. Don't supply a list with a single grouper to avoid this warning.\n",
      "  for obj in iterable:\n",
      "100%|██████████| 1200/1200 [00:00<00:00, 3995.50it/s]\n",
      "c:\\Users\\david\\anaconda3\\envs\\test_env\\lib\\site-packages\\tqdm\\std.py:1180: FutureWarning: In a future version of pandas, a length 1 tuple will be returned when iterating over a groupby with a grouper equal to a list of length 1. Don't supply a list with a single grouper to avoid this warning.\n",
      "  for obj in iterable:\n",
      "100%|██████████| 1200/1200 [00:03<00:00, 317.49it/s]\n"
     ]
    },
    {
     "name": "stdout",
     "output_type": "stream",
     "text": [
      "train_d size : (25286, 3)\n",
      "train_t size : (6591, 3)\n"
     ]
    },
    {
     "name": "stderr",
     "output_type": "stream",
     "text": [
      "c:\\Users\\david\\anaconda3\\envs\\test_env\\lib\\site-packages\\tqdm\\std.py:1180: FutureWarning: In a future version of pandas, a length 1 tuple will be returned when iterating over a groupby with a grouper equal to a list of length 1. Don't supply a list with a single grouper to avoid this warning.\n",
      "  for obj in iterable:\n",
      "100%|██████████| 4777/4777 [00:03<00:00, 1528.13it/s]\n"
     ]
    },
    {
     "name": "stdout",
     "output_type": "stream",
     "text": [
      "knn k : 25\n"
     ]
    },
    {
     "name": "stderr",
     "output_type": "stream",
     "text": [
      "c:\\Users\\david\\anaconda3\\envs\\test_env\\lib\\site-packages\\tqdm\\std.py:1180: FutureWarning: In a future version of pandas, a length 1 tuple will be returned when iterating over a groupby with a grouper equal to a list of length 1. Don't supply a list with a single grouper to avoid this warning.\n",
      "  for obj in iterable:\n",
      "100%|██████████| 1230/1230 [00:00<00:00, 3769.01it/s]\n",
      "c:\\Users\\david\\anaconda3\\envs\\test_env\\lib\\site-packages\\tqdm\\std.py:1180: FutureWarning: In a future version of pandas, a length 1 tuple will be returned when iterating over a groupby with a grouper equal to a list of length 1. Don't supply a list with a single grouper to avoid this warning.\n",
      "  for obj in iterable:\n",
      "100%|██████████| 1230/1230 [00:03<00:00, 335.95it/s]\n",
      "c:\\Users\\david\\anaconda3\\envs\\test_env\\lib\\site-packages\\tqdm\\std.py:1180: FutureWarning: In a future version of pandas, a length 1 tuple will be returned when iterating over a groupby with a grouper equal to a list of length 1. Don't supply a list with a single grouper to avoid this warning.\n",
      "  for obj in iterable:\n",
      "100%|██████████| 1230/1230 [00:09<00:00, 133.37it/s]\n"
     ]
    },
    {
     "name": "stdout",
     "output_type": "stream",
     "text": [
      "train_d size : (25716, 3)\n",
      "train_t size : (6161, 3)\n"
     ]
    },
    {
     "name": "stderr",
     "output_type": "stream",
     "text": [
      "c:\\Users\\david\\anaconda3\\envs\\test_env\\lib\\site-packages\\tqdm\\std.py:1180: FutureWarning: In a future version of pandas, a length 1 tuple will be returned when iterating over a groupby with a grouper equal to a list of length 1. Don't supply a list with a single grouper to avoid this warning.\n",
      "  for obj in iterable:\n",
      "100%|██████████| 4799/4799 [00:03<00:00, 1283.12it/s]\n"
     ]
    },
    {
     "name": "stdout",
     "output_type": "stream",
     "text": [
      "knn k : 25\n"
     ]
    },
    {
     "name": "stderr",
     "output_type": "stream",
     "text": [
      "c:\\Users\\david\\anaconda3\\envs\\test_env\\lib\\site-packages\\tqdm\\std.py:1180: FutureWarning: In a future version of pandas, a length 1 tuple will be returned when iterating over a groupby with a grouper equal to a list of length 1. Don't supply a list with a single grouper to avoid this warning.\n",
      "  for obj in iterable:\n",
      "100%|██████████| 1208/1208 [00:00<00:00, 2887.56it/s]\n",
      "c:\\Users\\david\\anaconda3\\envs\\test_env\\lib\\site-packages\\tqdm\\std.py:1180: FutureWarning: In a future version of pandas, a length 1 tuple will be returned when iterating over a groupby with a grouper equal to a list of length 1. Don't supply a list with a single grouper to avoid this warning.\n",
      "  for obj in iterable:\n",
      "100%|██████████| 1208/1208 [00:00<00:00, 1965.77it/s]\n",
      "c:\\Users\\david\\anaconda3\\envs\\test_env\\lib\\site-packages\\tqdm\\std.py:1180: FutureWarning: In a future version of pandas, a length 1 tuple will be returned when iterating over a groupby with a grouper equal to a list of length 1. Don't supply a list with a single grouper to avoid this warning.\n",
      "  for obj in iterable:\n",
      "100%|██████████| 1208/1208 [00:06<00:00, 198.45it/s]\n"
     ]
    },
    {
     "name": "stdout",
     "output_type": "stream",
     "text": [
      "train_d size : (25813, 3)\n",
      "train_t size : (6064, 3)\n"
     ]
    },
    {
     "name": "stderr",
     "output_type": "stream",
     "text": [
      "c:\\Users\\david\\anaconda3\\envs\\test_env\\lib\\site-packages\\tqdm\\std.py:1180: FutureWarning: In a future version of pandas, a length 1 tuple will be returned when iterating over a groupby with a grouper equal to a list of length 1. Don't supply a list with a single grouper to avoid this warning.\n",
      "  for obj in iterable:\n",
      "100%|██████████| 4865/4865 [00:07<00:00, 680.17it/s]\n"
     ]
    },
    {
     "name": "stdout",
     "output_type": "stream",
     "text": [
      "knn k : 25\n"
     ]
    },
    {
     "name": "stderr",
     "output_type": "stream",
     "text": [
      "c:\\Users\\david\\anaconda3\\envs\\test_env\\lib\\site-packages\\tqdm\\std.py:1180: FutureWarning: In a future version of pandas, a length 1 tuple will be returned when iterating over a groupby with a grouper equal to a list of length 1. Don't supply a list with a single grouper to avoid this warning.\n",
      "  for obj in iterable:\n",
      "100%|██████████| 1142/1142 [00:01<00:00, 704.90it/s]\n",
      "c:\\Users\\david\\anaconda3\\envs\\test_env\\lib\\site-packages\\tqdm\\std.py:1180: FutureWarning: In a future version of pandas, a length 1 tuple will be returned when iterating over a groupby with a grouper equal to a list of length 1. Don't supply a list with a single grouper to avoid this warning.\n",
      "  for obj in iterable:\n",
      "100%|██████████| 1142/1142 [00:02<00:00, 535.44it/s]\n",
      "c:\\Users\\david\\anaconda3\\envs\\test_env\\lib\\site-packages\\tqdm\\std.py:1180: FutureWarning: In a future version of pandas, a length 1 tuple will be returned when iterating over a groupby with a grouper equal to a list of length 1. Don't supply a list with a single grouper to avoid this warning.\n",
      "  for obj in iterable:\n",
      "100%|██████████| 1142/1142 [00:08<00:00, 127.75it/s]\n"
     ]
    },
    {
     "name": "stdout",
     "output_type": "stream",
     "text": [
      "train_d size : (25249, 3)\n",
      "train_t size : (6628, 3)\n"
     ]
    },
    {
     "name": "stderr",
     "output_type": "stream",
     "text": [
      "c:\\Users\\david\\anaconda3\\envs\\test_env\\lib\\site-packages\\tqdm\\std.py:1180: FutureWarning: In a future version of pandas, a length 1 tuple will be returned when iterating over a groupby with a grouper equal to a list of length 1. Don't supply a list with a single grouper to avoid this warning.\n",
      "  for obj in iterable:\n",
      "100%|██████████| 4767/4767 [00:04<00:00, 1104.40it/s]\n"
     ]
    },
    {
     "name": "stdout",
     "output_type": "stream",
     "text": [
      "knn k : 25\n"
     ]
    },
    {
     "name": "stderr",
     "output_type": "stream",
     "text": [
      "c:\\Users\\david\\anaconda3\\envs\\test_env\\lib\\site-packages\\tqdm\\std.py:1180: FutureWarning: In a future version of pandas, a length 1 tuple will be returned when iterating over a groupby with a grouper equal to a list of length 1. Don't supply a list with a single grouper to avoid this warning.\n",
      "  for obj in iterable:\n",
      "100%|██████████| 1240/1240 [00:00<00:00, 4630.06it/s]\n",
      "c:\\Users\\david\\anaconda3\\envs\\test_env\\lib\\site-packages\\tqdm\\std.py:1180: FutureWarning: In a future version of pandas, a length 1 tuple will be returned when iterating over a groupby with a grouper equal to a list of length 1. Don't supply a list with a single grouper to avoid this warning.\n",
      "  for obj in iterable:\n",
      "100%|██████████| 1240/1240 [00:00<00:00, 1690.84it/s]\n",
      "c:\\Users\\david\\anaconda3\\envs\\test_env\\lib\\site-packages\\tqdm\\std.py:1180: FutureWarning: In a future version of pandas, a length 1 tuple will be returned when iterating over a groupby with a grouper equal to a list of length 1. Don't supply a list with a single grouper to avoid this warning.\n",
      "  for obj in iterable:\n",
      "100%|██████████| 1240/1240 [00:11<00:00, 112.56it/s]\n"
     ]
    },
    {
     "name": "stdout",
     "output_type": "stream",
     "text": [
      "train_d size : (25444, 3)\n",
      "train_t size : (6433, 3)\n"
     ]
    },
    {
     "name": "stderr",
     "output_type": "stream",
     "text": [
      "c:\\Users\\david\\anaconda3\\envs\\test_env\\lib\\site-packages\\tqdm\\std.py:1180: FutureWarning: In a future version of pandas, a length 1 tuple will be returned when iterating over a groupby with a grouper equal to a list of length 1. Don't supply a list with a single grouper to avoid this warning.\n",
      "  for obj in iterable:\n",
      "100%|██████████| 4820/4820 [00:03<00:00, 1287.78it/s]\n"
     ]
    },
    {
     "name": "stdout",
     "output_type": "stream",
     "text": [
      "knn k : 25\n"
     ]
    },
    {
     "name": "stderr",
     "output_type": "stream",
     "text": [
      "c:\\Users\\david\\anaconda3\\envs\\test_env\\lib\\site-packages\\tqdm\\std.py:1180: FutureWarning: In a future version of pandas, a length 1 tuple will be returned when iterating over a groupby with a grouper equal to a list of length 1. Don't supply a list with a single grouper to avoid this warning.\n",
      "  for obj in iterable:\n",
      "100%|██████████| 1187/1187 [00:00<00:00, 3501.01it/s]\n",
      "c:\\Users\\david\\anaconda3\\envs\\test_env\\lib\\site-packages\\tqdm\\std.py:1180: FutureWarning: In a future version of pandas, a length 1 tuple will be returned when iterating over a groupby with a grouper equal to a list of length 1. Don't supply a list with a single grouper to avoid this warning.\n",
      "  for obj in iterable:\n",
      "100%|██████████| 1187/1187 [00:00<00:00, 3043.12it/s]\n",
      "c:\\Users\\david\\anaconda3\\envs\\test_env\\lib\\site-packages\\tqdm\\std.py:1180: FutureWarning: In a future version of pandas, a length 1 tuple will be returned when iterating over a groupby with a grouper equal to a list of length 1. Don't supply a list with a single grouper to avoid this warning.\n",
      "  for obj in iterable:\n",
      "100%|██████████| 1187/1187 [00:03<00:00, 303.10it/s]\n"
     ]
    },
    {
     "name": "stdout",
     "output_type": "stream",
     "text": [
      "train_d size : (25597, 3)\n",
      "train_t size : (6280, 3)\n"
     ]
    },
    {
     "name": "stderr",
     "output_type": "stream",
     "text": [
      "c:\\Users\\david\\anaconda3\\envs\\test_env\\lib\\site-packages\\tqdm\\std.py:1180: FutureWarning: In a future version of pandas, a length 1 tuple will be returned when iterating over a groupby with a grouper equal to a list of length 1. Don't supply a list with a single grouper to avoid this warning.\n",
      "  for obj in iterable:\n",
      "100%|██████████| 4828/4828 [00:01<00:00, 2667.57it/s]\n"
     ]
    },
    {
     "name": "stdout",
     "output_type": "stream",
     "text": [
      "knn k : 35\n"
     ]
    },
    {
     "name": "stderr",
     "output_type": "stream",
     "text": [
      "c:\\Users\\david\\anaconda3\\envs\\test_env\\lib\\site-packages\\tqdm\\std.py:1180: FutureWarning: In a future version of pandas, a length 1 tuple will be returned when iterating over a groupby with a grouper equal to a list of length 1. Don't supply a list with a single grouper to avoid this warning.\n",
      "  for obj in iterable:\n",
      "100%|██████████| 1179/1179 [00:00<00:00, 2758.31it/s]\n",
      "c:\\Users\\david\\anaconda3\\envs\\test_env\\lib\\site-packages\\tqdm\\std.py:1180: FutureWarning: In a future version of pandas, a length 1 tuple will be returned when iterating over a groupby with a grouper equal to a list of length 1. Don't supply a list with a single grouper to avoid this warning.\n",
      "  for obj in iterable:\n",
      "100%|██████████| 1179/1179 [00:00<00:00, 2018.05it/s]\n",
      "c:\\Users\\david\\anaconda3\\envs\\test_env\\lib\\site-packages\\tqdm\\std.py:1180: FutureWarning: In a future version of pandas, a length 1 tuple will be returned when iterating over a groupby with a grouper equal to a list of length 1. Don't supply a list with a single grouper to avoid this warning.\n",
      "  for obj in iterable:\n",
      "100%|██████████| 1179/1179 [00:03<00:00, 300.01it/s]\n"
     ]
    },
    {
     "name": "stdout",
     "output_type": "stream",
     "text": [
      "train_d size : (25268, 3)\n",
      "train_t size : (6609, 3)\n"
     ]
    },
    {
     "name": "stderr",
     "output_type": "stream",
     "text": [
      "c:\\Users\\david\\anaconda3\\envs\\test_env\\lib\\site-packages\\tqdm\\std.py:1180: FutureWarning: In a future version of pandas, a length 1 tuple will be returned when iterating over a groupby with a grouper equal to a list of length 1. Don't supply a list with a single grouper to avoid this warning.\n",
      "  for obj in iterable:\n",
      "100%|██████████| 4716/4716 [00:01<00:00, 3237.96it/s]\n"
     ]
    },
    {
     "name": "stdout",
     "output_type": "stream",
     "text": [
      "knn k : 35\n"
     ]
    },
    {
     "name": "stderr",
     "output_type": "stream",
     "text": [
      "c:\\Users\\david\\anaconda3\\envs\\test_env\\lib\\site-packages\\tqdm\\std.py:1180: FutureWarning: In a future version of pandas, a length 1 tuple will be returned when iterating over a groupby with a grouper equal to a list of length 1. Don't supply a list with a single grouper to avoid this warning.\n",
      "  for obj in iterable:\n",
      "100%|██████████| 1291/1291 [00:00<00:00, 4068.14it/s]\n",
      "c:\\Users\\david\\anaconda3\\envs\\test_env\\lib\\site-packages\\tqdm\\std.py:1180: FutureWarning: In a future version of pandas, a length 1 tuple will be returned when iterating over a groupby with a grouper equal to a list of length 1. Don't supply a list with a single grouper to avoid this warning.\n",
      "  for obj in iterable:\n",
      "100%|██████████| 1291/1291 [00:00<00:00, 3766.04it/s]\n",
      "c:\\Users\\david\\anaconda3\\envs\\test_env\\lib\\site-packages\\tqdm\\std.py:1180: FutureWarning: In a future version of pandas, a length 1 tuple will be returned when iterating over a groupby with a grouper equal to a list of length 1. Don't supply a list with a single grouper to avoid this warning.\n",
      "  for obj in iterable:\n",
      "100%|██████████| 1291/1291 [00:12<00:00, 105.68it/s]\n"
     ]
    },
    {
     "name": "stdout",
     "output_type": "stream",
     "text": [
      "train_d size : (25636, 3)\n",
      "train_t size : (6241, 3)\n"
     ]
    },
    {
     "name": "stderr",
     "output_type": "stream",
     "text": [
      "c:\\Users\\david\\anaconda3\\envs\\test_env\\lib\\site-packages\\tqdm\\std.py:1180: FutureWarning: In a future version of pandas, a length 1 tuple will be returned when iterating over a groupby with a grouper equal to a list of length 1. Don't supply a list with a single grouper to avoid this warning.\n",
      "  for obj in iterable:\n",
      "100%|██████████| 4820/4820 [00:04<00:00, 1052.20it/s]\n"
     ]
    },
    {
     "name": "stdout",
     "output_type": "stream",
     "text": [
      "knn k : 35\n"
     ]
    },
    {
     "name": "stderr",
     "output_type": "stream",
     "text": [
      "c:\\Users\\david\\anaconda3\\envs\\test_env\\lib\\site-packages\\tqdm\\std.py:1180: FutureWarning: In a future version of pandas, a length 1 tuple will be returned when iterating over a groupby with a grouper equal to a list of length 1. Don't supply a list with a single grouper to avoid this warning.\n",
      "  for obj in iterable:\n",
      "100%|██████████| 1187/1187 [00:00<00:00, 2137.87it/s]\n",
      "c:\\Users\\david\\anaconda3\\envs\\test_env\\lib\\site-packages\\tqdm\\std.py:1180: FutureWarning: In a future version of pandas, a length 1 tuple will be returned when iterating over a groupby with a grouper equal to a list of length 1. Don't supply a list with a single grouper to avoid this warning.\n",
      "  for obj in iterable:\n",
      "100%|██████████| 1187/1187 [00:00<00:00, 1656.78it/s]\n",
      "c:\\Users\\david\\anaconda3\\envs\\test_env\\lib\\site-packages\\tqdm\\std.py:1180: FutureWarning: In a future version of pandas, a length 1 tuple will be returned when iterating over a groupby with a grouper equal to a list of length 1. Don't supply a list with a single grouper to avoid this warning.\n",
      "  for obj in iterable:\n",
      "100%|██████████| 1187/1187 [00:07<00:00, 163.55it/s]\n"
     ]
    },
    {
     "name": "stdout",
     "output_type": "stream",
     "text": [
      "train_d size : (25299, 3)\n",
      "train_t size : (6578, 3)\n"
     ]
    },
    {
     "name": "stderr",
     "output_type": "stream",
     "text": [
      "c:\\Users\\david\\anaconda3\\envs\\test_env\\lib\\site-packages\\tqdm\\std.py:1180: FutureWarning: In a future version of pandas, a length 1 tuple will be returned when iterating over a groupby with a grouper equal to a list of length 1. Don't supply a list with a single grouper to avoid this warning.\n",
      "  for obj in iterable:\n",
      "100%|██████████| 4838/4838 [00:03<00:00, 1504.10it/s]\n"
     ]
    },
    {
     "name": "stdout",
     "output_type": "stream",
     "text": [
      "knn k : 35\n"
     ]
    },
    {
     "name": "stderr",
     "output_type": "stream",
     "text": [
      "c:\\Users\\david\\anaconda3\\envs\\test_env\\lib\\site-packages\\tqdm\\std.py:1180: FutureWarning: In a future version of pandas, a length 1 tuple will be returned when iterating over a groupby with a grouper equal to a list of length 1. Don't supply a list with a single grouper to avoid this warning.\n",
      "  for obj in iterable:\n",
      "100%|██████████| 1169/1169 [00:00<00:00, 4597.74it/s]\n",
      "c:\\Users\\david\\anaconda3\\envs\\test_env\\lib\\site-packages\\tqdm\\std.py:1180: FutureWarning: In a future version of pandas, a length 1 tuple will be returned when iterating over a groupby with a grouper equal to a list of length 1. Don't supply a list with a single grouper to avoid this warning.\n",
      "  for obj in iterable:\n",
      "100%|██████████| 1169/1169 [00:00<00:00, 1954.16it/s]\n",
      "c:\\Users\\david\\anaconda3\\envs\\test_env\\lib\\site-packages\\tqdm\\std.py:1180: FutureWarning: In a future version of pandas, a length 1 tuple will be returned when iterating over a groupby with a grouper equal to a list of length 1. Don't supply a list with a single grouper to avoid this warning.\n",
      "  for obj in iterable:\n",
      "100%|██████████| 1169/1169 [00:06<00:00, 180.28it/s]\n"
     ]
    },
    {
     "name": "stdout",
     "output_type": "stream",
     "text": [
      "train_d size : (25708, 3)\n",
      "train_t size : (6169, 3)\n"
     ]
    },
    {
     "name": "stderr",
     "output_type": "stream",
     "text": [
      "c:\\Users\\david\\anaconda3\\envs\\test_env\\lib\\site-packages\\tqdm\\std.py:1180: FutureWarning: In a future version of pandas, a length 1 tuple will be returned when iterating over a groupby with a grouper equal to a list of length 1. Don't supply a list with a single grouper to avoid this warning.\n",
      "  for obj in iterable:\n",
      "100%|██████████| 4826/4826 [00:03<00:00, 1504.10it/s]\n"
     ]
    },
    {
     "name": "stdout",
     "output_type": "stream",
     "text": [
      "knn k : 35\n"
     ]
    },
    {
     "name": "stderr",
     "output_type": "stream",
     "text": [
      "c:\\Users\\david\\anaconda3\\envs\\test_env\\lib\\site-packages\\tqdm\\std.py:1180: FutureWarning: In a future version of pandas, a length 1 tuple will be returned when iterating over a groupby with a grouper equal to a list of length 1. Don't supply a list with a single grouper to avoid this warning.\n",
      "  for obj in iterable:\n",
      "100%|██████████| 1181/1181 [00:00<00:00, 3952.74it/s]\n",
      "c:\\Users\\david\\anaconda3\\envs\\test_env\\lib\\site-packages\\tqdm\\std.py:1180: FutureWarning: In a future version of pandas, a length 1 tuple will be returned when iterating over a groupby with a grouper equal to a list of length 1. Don't supply a list with a single grouper to avoid this warning.\n",
      "  for obj in iterable:\n",
      "100%|██████████| 1181/1181 [00:00<00:00, 1339.32it/s]\n",
      "c:\\Users\\david\\anaconda3\\envs\\test_env\\lib\\site-packages\\tqdm\\std.py:1180: FutureWarning: In a future version of pandas, a length 1 tuple will be returned when iterating over a groupby with a grouper equal to a list of length 1. Don't supply a list with a single grouper to avoid this warning.\n",
      "  for obj in iterable:\n",
      "100%|██████████| 1181/1181 [00:06<00:00, 173.10it/s]\n"
     ]
    },
    {
     "name": "stdout",
     "output_type": "stream",
     "text": [
      "train_d size : (25370, 3)\n",
      "train_t size : (6507, 3)\n"
     ]
    },
    {
     "name": "stderr",
     "output_type": "stream",
     "text": [
      "c:\\Users\\david\\anaconda3\\envs\\test_env\\lib\\site-packages\\tqdm\\std.py:1180: FutureWarning: In a future version of pandas, a length 1 tuple will be returned when iterating over a groupby with a grouper equal to a list of length 1. Don't supply a list with a single grouper to avoid this warning.\n",
      "  for obj in iterable:\n",
      "100%|██████████| 4791/4791 [00:03<00:00, 1537.44it/s]\n"
     ]
    },
    {
     "name": "stdout",
     "output_type": "stream",
     "text": [
      "knn k : 75\n"
     ]
    },
    {
     "name": "stderr",
     "output_type": "stream",
     "text": [
      "c:\\Users\\david\\anaconda3\\envs\\test_env\\lib\\site-packages\\tqdm\\std.py:1180: FutureWarning: In a future version of pandas, a length 1 tuple will be returned when iterating over a groupby with a grouper equal to a list of length 1. Don't supply a list with a single grouper to avoid this warning.\n",
      "  for obj in iterable:\n",
      "100%|██████████| 1216/1216 [00:00<00:00, 4823.35it/s]\n",
      "c:\\Users\\david\\anaconda3\\envs\\test_env\\lib\\site-packages\\tqdm\\std.py:1180: FutureWarning: In a future version of pandas, a length 1 tuple will be returned when iterating over a groupby with a grouper equal to a list of length 1. Don't supply a list with a single grouper to avoid this warning.\n",
      "  for obj in iterable:\n",
      "100%|██████████| 1216/1216 [00:00<00:00, 2246.87it/s]\n",
      "c:\\Users\\david\\anaconda3\\envs\\test_env\\lib\\site-packages\\tqdm\\std.py:1180: FutureWarning: In a future version of pandas, a length 1 tuple will be returned when iterating over a groupby with a grouper equal to a list of length 1. Don't supply a list with a single grouper to avoid this warning.\n",
      "  for obj in iterable:\n",
      "100%|██████████| 1216/1216 [00:05<00:00, 228.36it/s]\n"
     ]
    },
    {
     "name": "stdout",
     "output_type": "stream",
     "text": [
      "train_d size : (25467, 3)\n",
      "train_t size : (6410, 3)\n"
     ]
    },
    {
     "name": "stderr",
     "output_type": "stream",
     "text": [
      "c:\\Users\\david\\anaconda3\\envs\\test_env\\lib\\site-packages\\tqdm\\std.py:1180: FutureWarning: In a future version of pandas, a length 1 tuple will be returned when iterating over a groupby with a grouper equal to a list of length 1. Don't supply a list with a single grouper to avoid this warning.\n",
      "  for obj in iterable:\n",
      "100%|██████████| 4808/4808 [00:01<00:00, 3735.56it/s]\n"
     ]
    },
    {
     "name": "stdout",
     "output_type": "stream",
     "text": [
      "knn k : 75\n"
     ]
    },
    {
     "name": "stderr",
     "output_type": "stream",
     "text": [
      "c:\\Users\\david\\anaconda3\\envs\\test_env\\lib\\site-packages\\tqdm\\std.py:1180: FutureWarning: In a future version of pandas, a length 1 tuple will be returned when iterating over a groupby with a grouper equal to a list of length 1. Don't supply a list with a single grouper to avoid this warning.\n",
      "  for obj in iterable:\n",
      "100%|██████████| 1199/1199 [00:00<00:00, 8717.61it/s]\n",
      "c:\\Users\\david\\anaconda3\\envs\\test_env\\lib\\site-packages\\tqdm\\std.py:1180: FutureWarning: In a future version of pandas, a length 1 tuple will be returned when iterating over a groupby with a grouper equal to a list of length 1. Don't supply a list with a single grouper to avoid this warning.\n",
      "  for obj in iterable:\n",
      "100%|██████████| 1199/1199 [00:00<00:00, 3653.90it/s]\n",
      "c:\\Users\\david\\anaconda3\\envs\\test_env\\lib\\site-packages\\tqdm\\std.py:1180: FutureWarning: In a future version of pandas, a length 1 tuple will be returned when iterating over a groupby with a grouper equal to a list of length 1. Don't supply a list with a single grouper to avoid this warning.\n",
      "  for obj in iterable:\n",
      "100%|██████████| 1199/1199 [00:05<00:00, 225.36it/s]\n"
     ]
    },
    {
     "name": "stdout",
     "output_type": "stream",
     "text": [
      "train_d size : (25456, 3)\n",
      "train_t size : (6421, 3)\n"
     ]
    },
    {
     "name": "stderr",
     "output_type": "stream",
     "text": [
      "c:\\Users\\david\\anaconda3\\envs\\test_env\\lib\\site-packages\\tqdm\\std.py:1180: FutureWarning: In a future version of pandas, a length 1 tuple will be returned when iterating over a groupby with a grouper equal to a list of length 1. Don't supply a list with a single grouper to avoid this warning.\n",
      "  for obj in iterable:\n",
      "100%|██████████| 4803/4803 [00:01<00:00, 3402.25it/s]\n"
     ]
    },
    {
     "name": "stdout",
     "output_type": "stream",
     "text": [
      "knn k : 75\n"
     ]
    },
    {
     "name": "stderr",
     "output_type": "stream",
     "text": [
      "c:\\Users\\david\\anaconda3\\envs\\test_env\\lib\\site-packages\\tqdm\\std.py:1180: FutureWarning: In a future version of pandas, a length 1 tuple will be returned when iterating over a groupby with a grouper equal to a list of length 1. Don't supply a list with a single grouper to avoid this warning.\n",
      "  for obj in iterable:\n",
      "100%|██████████| 1204/1204 [00:00<00:00, 7291.63it/s]\n",
      "c:\\Users\\david\\anaconda3\\envs\\test_env\\lib\\site-packages\\tqdm\\std.py:1180: FutureWarning: In a future version of pandas, a length 1 tuple will be returned when iterating over a groupby with a grouper equal to a list of length 1. Don't supply a list with a single grouper to avoid this warning.\n",
      "  for obj in iterable:\n",
      "100%|██████████| 1204/1204 [00:00<00:00, 3951.29it/s]\n",
      "c:\\Users\\david\\anaconda3\\envs\\test_env\\lib\\site-packages\\tqdm\\std.py:1180: FutureWarning: In a future version of pandas, a length 1 tuple will be returned when iterating over a groupby with a grouper equal to a list of length 1. Don't supply a list with a single grouper to avoid this warning.\n",
      "  for obj in iterable:\n",
      "100%|██████████| 1204/1204 [00:03<00:00, 350.27it/s]\n"
     ]
    },
    {
     "name": "stdout",
     "output_type": "stream",
     "text": [
      "train_d size : (26188, 3)\n",
      "train_t size : (5689, 3)\n"
     ]
    },
    {
     "name": "stderr",
     "output_type": "stream",
     "text": [
      "c:\\Users\\david\\anaconda3\\envs\\test_env\\lib\\site-packages\\tqdm\\std.py:1180: FutureWarning: In a future version of pandas, a length 1 tuple will be returned when iterating over a groupby with a grouper equal to a list of length 1. Don't supply a list with a single grouper to avoid this warning.\n",
      "  for obj in iterable:\n",
      "100%|██████████| 4862/4862 [00:02<00:00, 1783.01it/s]\n"
     ]
    },
    {
     "name": "stdout",
     "output_type": "stream",
     "text": [
      "knn k : 75\n"
     ]
    },
    {
     "name": "stderr",
     "output_type": "stream",
     "text": [
      "c:\\Users\\david\\anaconda3\\envs\\test_env\\lib\\site-packages\\tqdm\\std.py:1180: FutureWarning: In a future version of pandas, a length 1 tuple will be returned when iterating over a groupby with a grouper equal to a list of length 1. Don't supply a list with a single grouper to avoid this warning.\n",
      "  for obj in iterable:\n",
      "100%|██████████| 1145/1145 [00:00<00:00, 4519.99it/s]\n",
      "c:\\Users\\david\\anaconda3\\envs\\test_env\\lib\\site-packages\\tqdm\\std.py:1180: FutureWarning: In a future version of pandas, a length 1 tuple will be returned when iterating over a groupby with a grouper equal to a list of length 1. Don't supply a list with a single grouper to avoid this warning.\n",
      "  for obj in iterable:\n",
      "100%|██████████| 1145/1145 [00:00<00:00, 2902.31it/s]\n",
      "c:\\Users\\david\\anaconda3\\envs\\test_env\\lib\\site-packages\\tqdm\\std.py:1180: FutureWarning: In a future version of pandas, a length 1 tuple will be returned when iterating over a groupby with a grouper equal to a list of length 1. Don't supply a list with a single grouper to avoid this warning.\n",
      "  for obj in iterable:\n",
      "100%|██████████| 1145/1145 [00:04<00:00, 247.45it/s]\n"
     ]
    },
    {
     "name": "stdout",
     "output_type": "stream",
     "text": [
      "train_d size : (25027, 3)\n",
      "train_t size : (6850, 3)\n"
     ]
    },
    {
     "name": "stderr",
     "output_type": "stream",
     "text": [
      "c:\\Users\\david\\anaconda3\\envs\\test_env\\lib\\site-packages\\tqdm\\std.py:1180: FutureWarning: In a future version of pandas, a length 1 tuple will be returned when iterating over a groupby with a grouper equal to a list of length 1. Don't supply a list with a single grouper to avoid this warning.\n",
      "  for obj in iterable:\n",
      "100%|██████████| 4764/4764 [00:06<00:00, 770.99it/s] \n"
     ]
    },
    {
     "name": "stdout",
     "output_type": "stream",
     "text": [
      "knn k : 75\n"
     ]
    },
    {
     "name": "stderr",
     "output_type": "stream",
     "text": [
      "c:\\Users\\david\\anaconda3\\envs\\test_env\\lib\\site-packages\\tqdm\\std.py:1180: FutureWarning: In a future version of pandas, a length 1 tuple will be returned when iterating over a groupby with a grouper equal to a list of length 1. Don't supply a list with a single grouper to avoid this warning.\n",
      "  for obj in iterable:\n",
      "100%|██████████| 1243/1243 [00:00<00:00, 1669.48it/s]\n",
      "c:\\Users\\david\\anaconda3\\envs\\test_env\\lib\\site-packages\\tqdm\\std.py:1180: FutureWarning: In a future version of pandas, a length 1 tuple will be returned when iterating over a groupby with a grouper equal to a list of length 1. Don't supply a list with a single grouper to avoid this warning.\n",
      "  for obj in iterable:\n",
      "100%|██████████| 1243/1243 [00:01<00:00, 776.89it/s]\n",
      "c:\\Users\\david\\anaconda3\\envs\\test_env\\lib\\site-packages\\tqdm\\std.py:1180: FutureWarning: In a future version of pandas, a length 1 tuple will be returned when iterating over a groupby with a grouper equal to a list of length 1. Don't supply a list with a single grouper to avoid this warning.\n",
      "  for obj in iterable:\n",
      "100%|██████████| 1243/1243 [00:09<00:00, 129.61it/s]\n",
      "c:\\Users\\david\\anaconda3\\envs\\test_env\\lib\\site-packages\\tqdm\\std.py:1180: FutureWarning: In a future version of pandas, a length 1 tuple will be returned when iterating over a groupby with a grouper equal to a list of length 1. Don't supply a list with a single grouper to avoid this warning.\n",
      "  for obj in iterable:\n",
      "100%|██████████| 70000/70000 [00:54<00:00, 1287.48it/s]\n"
     ]
    },
    {
     "name": "stdout",
     "output_type": "stream",
     "text": [
      "train_d size : (25412, 3)\n",
      "train_t size : (6465, 3)\n",
      "knn k : 3\n"
     ]
    },
    {
     "name": "stderr",
     "output_type": "stream",
     "text": [
      "c:\\Users\\david\\anaconda3\\envs\\test_env\\lib\\site-packages\\tqdm\\std.py:1180: FutureWarning: In a future version of pandas, a length 1 tuple will be returned when iterating over a groupby with a grouper equal to a list of length 1. Don't supply a list with a single grouper to avoid this warning.\n",
      "  for obj in iterable:\n",
      "100%|██████████| 1227/1227 [00:00<00:00, 1476.23it/s]\n",
      "c:\\Users\\david\\anaconda3\\envs\\test_env\\lib\\site-packages\\tqdm\\std.py:1180: FutureWarning: In a future version of pandas, a length 1 tuple will be returned when iterating over a groupby with a grouper equal to a list of length 1. Don't supply a list with a single grouper to avoid this warning.\n",
      "  for obj in iterable:\n",
      "100%|██████████| 1227/1227 [00:03<00:00, 407.67it/s]\n",
      "100%|██████████| 1227/1227 [00:04<00:00, 289.77it/s]\n"
     ]
    },
    {
     "name": "stdout",
     "output_type": "stream",
     "text": [
      "train_d size : (25516, 3)\n",
      "train_t size : (6361, 3)\n",
      "knn k : 3\n"
     ]
    },
    {
     "name": "stderr",
     "output_type": "stream",
     "text": [
      "c:\\Users\\david\\anaconda3\\envs\\test_env\\lib\\site-packages\\tqdm\\std.py:1180: FutureWarning: In a future version of pandas, a length 1 tuple will be returned when iterating over a groupby with a grouper equal to a list of length 1. Don't supply a list with a single grouper to avoid this warning.\n",
      "  for obj in iterable:\n",
      "100%|██████████| 1185/1185 [00:01<00:00, 616.58it/s]\n",
      "c:\\Users\\david\\anaconda3\\envs\\test_env\\lib\\site-packages\\tqdm\\std.py:1180: FutureWarning: In a future version of pandas, a length 1 tuple will be returned when iterating over a groupby with a grouper equal to a list of length 1. Don't supply a list with a single grouper to avoid this warning.\n",
      "  for obj in iterable:\n",
      "100%|██████████| 1185/1185 [00:01<00:00, 685.25it/s]\n",
      "100%|██████████| 1185/1185 [00:10<00:00, 114.05it/s]\n"
     ]
    },
    {
     "name": "stdout",
     "output_type": "stream",
     "text": [
      "train_d size : (25645, 3)\n",
      "train_t size : (6232, 3)\n",
      "knn k : 3\n"
     ]
    },
    {
     "name": "stderr",
     "output_type": "stream",
     "text": [
      "c:\\Users\\david\\anaconda3\\envs\\test_env\\lib\\site-packages\\tqdm\\std.py:1180: FutureWarning: In a future version of pandas, a length 1 tuple will be returned when iterating over a groupby with a grouper equal to a list of length 1. Don't supply a list with a single grouper to avoid this warning.\n",
      "  for obj in iterable:\n",
      "100%|██████████| 1182/1182 [00:00<00:00, 2722.51it/s]\n",
      "c:\\Users\\david\\anaconda3\\envs\\test_env\\lib\\site-packages\\tqdm\\std.py:1180: FutureWarning: In a future version of pandas, a length 1 tuple will be returned when iterating over a groupby with a grouper equal to a list of length 1. Don't supply a list with a single grouper to avoid this warning.\n",
      "  for obj in iterable:\n",
      "100%|██████████| 1182/1182 [00:00<00:00, 1520.76it/s]\n",
      "100%|██████████| 1182/1182 [00:05<00:00, 218.96it/s]\n"
     ]
    },
    {
     "name": "stdout",
     "output_type": "stream",
     "text": [
      "train_d size : (25477, 3)\n",
      "train_t size : (6400, 3)\n",
      "knn k : 3\n"
     ]
    },
    {
     "name": "stderr",
     "output_type": "stream",
     "text": [
      "c:\\Users\\david\\anaconda3\\envs\\test_env\\lib\\site-packages\\tqdm\\std.py:1180: FutureWarning: In a future version of pandas, a length 1 tuple will be returned when iterating over a groupby with a grouper equal to a list of length 1. Don't supply a list with a single grouper to avoid this warning.\n",
      "  for obj in iterable:\n",
      "100%|██████████| 1214/1214 [00:00<00:00, 2171.44it/s]\n",
      "c:\\Users\\david\\anaconda3\\envs\\test_env\\lib\\site-packages\\tqdm\\std.py:1180: FutureWarning: In a future version of pandas, a length 1 tuple will be returned when iterating over a groupby with a grouper equal to a list of length 1. Don't supply a list with a single grouper to avoid this warning.\n",
      "  for obj in iterable:\n",
      "100%|██████████| 1214/1214 [00:01<00:00, 1135.52it/s]\n",
      "100%|██████████| 1214/1214 [00:02<00:00, 439.61it/s]\n"
     ]
    },
    {
     "name": "stdout",
     "output_type": "stream",
     "text": [
      "train_d size : (25458, 3)\n",
      "train_t size : (6419, 3)\n",
      "knn k : 3\n"
     ]
    },
    {
     "name": "stderr",
     "output_type": "stream",
     "text": [
      "c:\\Users\\david\\anaconda3\\envs\\test_env\\lib\\site-packages\\tqdm\\std.py:1180: FutureWarning: In a future version of pandas, a length 1 tuple will be returned when iterating over a groupby with a grouper equal to a list of length 1. Don't supply a list with a single grouper to avoid this warning.\n",
      "  for obj in iterable:\n",
      "100%|██████████| 1199/1199 [00:00<00:00, 2826.45it/s]\n",
      "c:\\Users\\david\\anaconda3\\envs\\test_env\\lib\\site-packages\\tqdm\\std.py:1180: FutureWarning: In a future version of pandas, a length 1 tuple will be returned when iterating over a groupby with a grouper equal to a list of length 1. Don't supply a list with a single grouper to avoid this warning.\n",
      "  for obj in iterable:\n",
      "100%|██████████| 1199/1199 [00:01<00:00, 1152.56it/s]\n",
      "100%|██████████| 1199/1199 [00:03<00:00, 377.72it/s]\n"
     ]
    },
    {
     "name": "stdout",
     "output_type": "stream",
     "text": [
      "train_d size : (25297, 3)\n",
      "train_t size : (6580, 3)\n",
      "knn k : 11\n"
     ]
    },
    {
     "name": "stderr",
     "output_type": "stream",
     "text": [
      "c:\\Users\\david\\anaconda3\\envs\\test_env\\lib\\site-packages\\tqdm\\std.py:1180: FutureWarning: In a future version of pandas, a length 1 tuple will be returned when iterating over a groupby with a grouper equal to a list of length 1. Don't supply a list with a single grouper to avoid this warning.\n",
      "  for obj in iterable:\n",
      "100%|██████████| 1242/1242 [00:00<00:00, 1896.28it/s]\n",
      "c:\\Users\\david\\anaconda3\\envs\\test_env\\lib\\site-packages\\tqdm\\std.py:1180: FutureWarning: In a future version of pandas, a length 1 tuple will be returned when iterating over a groupby with a grouper equal to a list of length 1. Don't supply a list with a single grouper to avoid this warning.\n",
      "  for obj in iterable:\n",
      "100%|██████████| 1242/1242 [00:01<00:00, 998.31it/s]\n",
      "100%|██████████| 1242/1242 [00:04<00:00, 289.42it/s]\n"
     ]
    },
    {
     "name": "stdout",
     "output_type": "stream",
     "text": [
      "train_d size : (25205, 3)\n",
      "train_t size : (6672, 3)\n",
      "knn k : 11\n"
     ]
    },
    {
     "name": "stderr",
     "output_type": "stream",
     "text": [
      "c:\\Users\\david\\anaconda3\\envs\\test_env\\lib\\site-packages\\tqdm\\std.py:1180: FutureWarning: In a future version of pandas, a length 1 tuple will be returned when iterating over a groupby with a grouper equal to a list of length 1. Don't supply a list with a single grouper to avoid this warning.\n",
      "  for obj in iterable:\n",
      "100%|██████████| 1233/1233 [00:00<00:00, 1904.60it/s]\n",
      "c:\\Users\\david\\anaconda3\\envs\\test_env\\lib\\site-packages\\tqdm\\std.py:1180: FutureWarning: In a future version of pandas, a length 1 tuple will be returned when iterating over a groupby with a grouper equal to a list of length 1. Don't supply a list with a single grouper to avoid this warning.\n",
      "  for obj in iterable:\n",
      "100%|██████████| 1233/1233 [00:00<00:00, 1319.33it/s]\n",
      "100%|██████████| 1233/1233 [00:02<00:00, 517.80it/s]\n"
     ]
    },
    {
     "name": "stdout",
     "output_type": "stream",
     "text": [
      "train_d size : (25952, 3)\n",
      "train_t size : (5925, 3)\n",
      "knn k : 11\n"
     ]
    },
    {
     "name": "stderr",
     "output_type": "stream",
     "text": [
      "c:\\Users\\david\\anaconda3\\envs\\test_env\\lib\\site-packages\\tqdm\\std.py:1180: FutureWarning: In a future version of pandas, a length 1 tuple will be returned when iterating over a groupby with a grouper equal to a list of length 1. Don't supply a list with a single grouper to avoid this warning.\n",
      "  for obj in iterable:\n",
      "100%|██████████| 1166/1166 [00:00<00:00, 2860.87it/s]\n",
      "c:\\Users\\david\\anaconda3\\envs\\test_env\\lib\\site-packages\\tqdm\\std.py:1180: FutureWarning: In a future version of pandas, a length 1 tuple will be returned when iterating over a groupby with a grouper equal to a list of length 1. Don't supply a list with a single grouper to avoid this warning.\n",
      "  for obj in iterable:\n",
      "100%|██████████| 1166/1166 [00:00<00:00, 1533.76it/s]\n",
      "100%|██████████| 1166/1166 [00:02<00:00, 563.86it/s]\n"
     ]
    },
    {
     "name": "stdout",
     "output_type": "stream",
     "text": [
      "train_d size : (25234, 3)\n",
      "train_t size : (6643, 3)\n",
      "knn k : 11\n"
     ]
    },
    {
     "name": "stderr",
     "output_type": "stream",
     "text": [
      "c:\\Users\\david\\anaconda3\\envs\\test_env\\lib\\site-packages\\tqdm\\std.py:1180: FutureWarning: In a future version of pandas, a length 1 tuple will be returned when iterating over a groupby with a grouper equal to a list of length 1. Don't supply a list with a single grouper to avoid this warning.\n",
      "  for obj in iterable:\n",
      "100%|██████████| 1222/1222 [00:00<00:00, 1639.04it/s]\n",
      "c:\\Users\\david\\anaconda3\\envs\\test_env\\lib\\site-packages\\tqdm\\std.py:1180: FutureWarning: In a future version of pandas, a length 1 tuple will be returned when iterating over a groupby with a grouper equal to a list of length 1. Don't supply a list with a single grouper to avoid this warning.\n",
      "  for obj in iterable:\n",
      "100%|██████████| 1222/1222 [00:00<00:00, 1299.09it/s]\n",
      "100%|██████████| 1222/1222 [00:03<00:00, 312.88it/s]\n"
     ]
    },
    {
     "name": "stdout",
     "output_type": "stream",
     "text": [
      "train_d size : (25820, 3)\n",
      "train_t size : (6057, 3)\n",
      "knn k : 11\n"
     ]
    },
    {
     "name": "stderr",
     "output_type": "stream",
     "text": [
      "c:\\Users\\david\\anaconda3\\envs\\test_env\\lib\\site-packages\\tqdm\\std.py:1180: FutureWarning: In a future version of pandas, a length 1 tuple will be returned when iterating over a groupby with a grouper equal to a list of length 1. Don't supply a list with a single grouper to avoid this warning.\n",
      "  for obj in iterable:\n",
      "100%|██████████| 1144/1144 [00:00<00:00, 1700.11it/s]\n",
      "c:\\Users\\david\\anaconda3\\envs\\test_env\\lib\\site-packages\\tqdm\\std.py:1180: FutureWarning: In a future version of pandas, a length 1 tuple will be returned when iterating over a groupby with a grouper equal to a list of length 1. Don't supply a list with a single grouper to avoid this warning.\n",
      "  for obj in iterable:\n",
      "100%|██████████| 1144/1144 [00:01<00:00, 945.23it/s]\n",
      "100%|██████████| 1144/1144 [00:02<00:00, 524.44it/s]\n"
     ]
    },
    {
     "name": "stdout",
     "output_type": "stream",
     "text": [
      "train_d size : (25215, 3)\n",
      "train_t size : (6662, 3)\n",
      "knn k : 25\n"
     ]
    },
    {
     "name": "stderr",
     "output_type": "stream",
     "text": [
      "c:\\Users\\david\\anaconda3\\envs\\test_env\\lib\\site-packages\\tqdm\\std.py:1180: FutureWarning: In a future version of pandas, a length 1 tuple will be returned when iterating over a groupby with a grouper equal to a list of length 1. Don't supply a list with a single grouper to avoid this warning.\n",
      "  for obj in iterable:\n",
      "100%|██████████| 1232/1232 [00:00<00:00, 3309.23it/s]\n",
      "c:\\Users\\david\\anaconda3\\envs\\test_env\\lib\\site-packages\\tqdm\\std.py:1180: FutureWarning: In a future version of pandas, a length 1 tuple will be returned when iterating over a groupby with a grouper equal to a list of length 1. Don't supply a list with a single grouper to avoid this warning.\n",
      "  for obj in iterable:\n",
      "100%|██████████| 1232/1232 [00:01<00:00, 1182.00it/s]\n",
      "100%|██████████| 1232/1232 [00:02<00:00, 478.43it/s]\n"
     ]
    },
    {
     "name": "stdout",
     "output_type": "stream",
     "text": [
      "train_d size : (25676, 3)\n",
      "train_t size : (6201, 3)\n",
      "knn k : 25\n"
     ]
    },
    {
     "name": "stderr",
     "output_type": "stream",
     "text": [
      "c:\\Users\\david\\anaconda3\\envs\\test_env\\lib\\site-packages\\tqdm\\std.py:1180: FutureWarning: In a future version of pandas, a length 1 tuple will be returned when iterating over a groupby with a grouper equal to a list of length 1. Don't supply a list with a single grouper to avoid this warning.\n",
      "  for obj in iterable:\n",
      "100%|██████████| 1169/1169 [00:00<00:00, 3380.11it/s]\n",
      "c:\\Users\\david\\anaconda3\\envs\\test_env\\lib\\site-packages\\tqdm\\std.py:1180: FutureWarning: In a future version of pandas, a length 1 tuple will be returned when iterating over a groupby with a grouper equal to a list of length 1. Don't supply a list with a single grouper to avoid this warning.\n",
      "  for obj in iterable:\n",
      "100%|██████████| 1169/1169 [00:00<00:00, 1449.45it/s]\n",
      "100%|██████████| 1169/1169 [00:03<00:00, 346.71it/s]\n"
     ]
    },
    {
     "name": "stdout",
     "output_type": "stream",
     "text": [
      "train_d size : (25521, 3)\n",
      "train_t size : (6356, 3)\n",
      "knn k : 25\n"
     ]
    },
    {
     "name": "stderr",
     "output_type": "stream",
     "text": [
      "c:\\Users\\david\\anaconda3\\envs\\test_env\\lib\\site-packages\\tqdm\\std.py:1180: FutureWarning: In a future version of pandas, a length 1 tuple will be returned when iterating over a groupby with a grouper equal to a list of length 1. Don't supply a list with a single grouper to avoid this warning.\n",
      "  for obj in iterable:\n",
      "100%|██████████| 1193/1193 [00:00<00:00, 2486.38it/s]\n",
      "c:\\Users\\david\\anaconda3\\envs\\test_env\\lib\\site-packages\\tqdm\\std.py:1180: FutureWarning: In a future version of pandas, a length 1 tuple will be returned when iterating over a groupby with a grouper equal to a list of length 1. Don't supply a list with a single grouper to avoid this warning.\n",
      "  for obj in iterable:\n",
      "100%|██████████| 1193/1193 [00:01<00:00, 844.95it/s]\n",
      "100%|██████████| 1193/1193 [00:03<00:00, 396.16it/s]\n"
     ]
    },
    {
     "name": "stdout",
     "output_type": "stream",
     "text": [
      "train_d size : (25784, 3)\n",
      "train_t size : (6093, 3)\n",
      "knn k : 25\n"
     ]
    },
    {
     "name": "stderr",
     "output_type": "stream",
     "text": [
      "c:\\Users\\david\\anaconda3\\envs\\test_env\\lib\\site-packages\\tqdm\\std.py:1180: FutureWarning: In a future version of pandas, a length 1 tuple will be returned when iterating over a groupby with a grouper equal to a list of length 1. Don't supply a list with a single grouper to avoid this warning.\n",
      "  for obj in iterable:\n",
      "100%|██████████| 1196/1196 [00:00<00:00, 2528.52it/s]\n",
      "c:\\Users\\david\\anaconda3\\envs\\test_env\\lib\\site-packages\\tqdm\\std.py:1180: FutureWarning: In a future version of pandas, a length 1 tuple will be returned when iterating over a groupby with a grouper equal to a list of length 1. Don't supply a list with a single grouper to avoid this warning.\n",
      "  for obj in iterable:\n",
      "100%|██████████| 1196/1196 [00:00<00:00, 1495.27it/s]\n",
      "100%|██████████| 1196/1196 [00:02<00:00, 538.71it/s]\n"
     ]
    },
    {
     "name": "stdout",
     "output_type": "stream",
     "text": [
      "train_d size : (25312, 3)\n",
      "train_t size : (6565, 3)\n",
      "knn k : 25\n"
     ]
    },
    {
     "name": "stderr",
     "output_type": "stream",
     "text": [
      "c:\\Users\\david\\anaconda3\\envs\\test_env\\lib\\site-packages\\tqdm\\std.py:1180: FutureWarning: In a future version of pandas, a length 1 tuple will be returned when iterating over a groupby with a grouper equal to a list of length 1. Don't supply a list with a single grouper to avoid this warning.\n",
      "  for obj in iterable:\n",
      "100%|██████████| 1217/1217 [00:00<00:00, 2808.62it/s]\n",
      "c:\\Users\\david\\anaconda3\\envs\\test_env\\lib\\site-packages\\tqdm\\std.py:1180: FutureWarning: In a future version of pandas, a length 1 tuple will be returned when iterating over a groupby with a grouper equal to a list of length 1. Don't supply a list with a single grouper to avoid this warning.\n",
      "  for obj in iterable:\n",
      "100%|██████████| 1217/1217 [00:00<00:00, 1233.53it/s]\n",
      "100%|██████████| 1217/1217 [00:02<00:00, 506.03it/s]\n"
     ]
    },
    {
     "name": "stdout",
     "output_type": "stream",
     "text": [
      "train_d size : (25610, 3)\n",
      "train_t size : (6267, 3)\n",
      "knn k : 35\n"
     ]
    },
    {
     "name": "stderr",
     "output_type": "stream",
     "text": [
      "c:\\Users\\david\\anaconda3\\envs\\test_env\\lib\\site-packages\\tqdm\\std.py:1180: FutureWarning: In a future version of pandas, a length 1 tuple will be returned when iterating over a groupby with a grouper equal to a list of length 1. Don't supply a list with a single grouper to avoid this warning.\n",
      "  for obj in iterable:\n",
      "100%|██████████| 1180/1180 [00:00<00:00, 1372.07it/s]\n",
      "c:\\Users\\david\\anaconda3\\envs\\test_env\\lib\\site-packages\\tqdm\\std.py:1180: FutureWarning: In a future version of pandas, a length 1 tuple will be returned when iterating over a groupby with a grouper equal to a list of length 1. Don't supply a list with a single grouper to avoid this warning.\n",
      "  for obj in iterable:\n",
      "100%|██████████| 1180/1180 [00:01<00:00, 777.33it/s]\n",
      "100%|██████████| 1180/1180 [00:06<00:00, 180.64it/s]\n"
     ]
    },
    {
     "name": "stdout",
     "output_type": "stream",
     "text": [
      "train_d size : (25611, 3)\n",
      "train_t size : (6266, 3)\n",
      "knn k : 35\n"
     ]
    },
    {
     "name": "stderr",
     "output_type": "stream",
     "text": [
      "c:\\Users\\david\\anaconda3\\envs\\test_env\\lib\\site-packages\\tqdm\\std.py:1180: FutureWarning: In a future version of pandas, a length 1 tuple will be returned when iterating over a groupby with a grouper equal to a list of length 1. Don't supply a list with a single grouper to avoid this warning.\n",
      "  for obj in iterable:\n",
      "100%|██████████| 1200/1200 [00:00<00:00, 2869.07it/s]\n",
      "c:\\Users\\david\\anaconda3\\envs\\test_env\\lib\\site-packages\\tqdm\\std.py:1180: FutureWarning: In a future version of pandas, a length 1 tuple will be returned when iterating over a groupby with a grouper equal to a list of length 1. Don't supply a list with a single grouper to avoid this warning.\n",
      "  for obj in iterable:\n",
      "100%|██████████| 1200/1200 [00:00<00:00, 1299.18it/s]\n",
      "100%|██████████| 1200/1200 [00:02<00:00, 450.51it/s]\n"
     ]
    },
    {
     "name": "stdout",
     "output_type": "stream",
     "text": [
      "train_d size : (25043, 3)\n",
      "train_t size : (6834, 3)\n",
      "knn k : 35\n"
     ]
    },
    {
     "name": "stderr",
     "output_type": "stream",
     "text": [
      "c:\\Users\\david\\anaconda3\\envs\\test_env\\lib\\site-packages\\tqdm\\std.py:1180: FutureWarning: In a future version of pandas, a length 1 tuple will be returned when iterating over a groupby with a grouper equal to a list of length 1. Don't supply a list with a single grouper to avoid this warning.\n",
      "  for obj in iterable:\n",
      "100%|██████████| 1299/1299 [00:00<00:00, 1914.57it/s]\n",
      "c:\\Users\\david\\anaconda3\\envs\\test_env\\lib\\site-packages\\tqdm\\std.py:1180: FutureWarning: In a future version of pandas, a length 1 tuple will be returned when iterating over a groupby with a grouper equal to a list of length 1. Don't supply a list with a single grouper to avoid this warning.\n",
      "  for obj in iterable:\n",
      "100%|██████████| 1299/1299 [00:01<00:00, 1148.82it/s]\n",
      "100%|██████████| 1299/1299 [00:02<00:00, 497.76it/s]\n"
     ]
    },
    {
     "name": "stdout",
     "output_type": "stream",
     "text": [
      "train_d size : (25403, 3)\n",
      "train_t size : (6474, 3)\n",
      "knn k : 35\n"
     ]
    },
    {
     "name": "stderr",
     "output_type": "stream",
     "text": [
      "c:\\Users\\david\\anaconda3\\envs\\test_env\\lib\\site-packages\\tqdm\\std.py:1180: FutureWarning: In a future version of pandas, a length 1 tuple will be returned when iterating over a groupby with a grouper equal to a list of length 1. Don't supply a list with a single grouper to avoid this warning.\n",
      "  for obj in iterable:\n",
      "100%|██████████| 1219/1219 [00:00<00:00, 2239.01it/s]\n",
      "c:\\Users\\david\\anaconda3\\envs\\test_env\\lib\\site-packages\\tqdm\\std.py:1180: FutureWarning: In a future version of pandas, a length 1 tuple will be returned when iterating over a groupby with a grouper equal to a list of length 1. Don't supply a list with a single grouper to avoid this warning.\n",
      "  for obj in iterable:\n",
      "100%|██████████| 1219/1219 [00:01<00:00, 756.69it/s]\n",
      "100%|██████████| 1219/1219 [00:03<00:00, 365.87it/s]\n"
     ]
    },
    {
     "name": "stdout",
     "output_type": "stream",
     "text": [
      "train_d size : (25841, 3)\n",
      "train_t size : (6036, 3)\n",
      "knn k : 35\n"
     ]
    },
    {
     "name": "stderr",
     "output_type": "stream",
     "text": [
      "c:\\Users\\david\\anaconda3\\envs\\test_env\\lib\\site-packages\\tqdm\\std.py:1180: FutureWarning: In a future version of pandas, a length 1 tuple will be returned when iterating over a groupby with a grouper equal to a list of length 1. Don't supply a list with a single grouper to avoid this warning.\n",
      "  for obj in iterable:\n",
      "100%|██████████| 1109/1109 [00:00<00:00, 2706.53it/s]\n",
      "c:\\Users\\david\\anaconda3\\envs\\test_env\\lib\\site-packages\\tqdm\\std.py:1180: FutureWarning: In a future version of pandas, a length 1 tuple will be returned when iterating over a groupby with a grouper equal to a list of length 1. Don't supply a list with a single grouper to avoid this warning.\n",
      "  for obj in iterable:\n",
      "100%|██████████| 1109/1109 [00:01<00:00, 1102.37it/s]\n",
      "100%|██████████| 1109/1109 [00:02<00:00, 490.62it/s]\n"
     ]
    },
    {
     "name": "stdout",
     "output_type": "stream",
     "text": [
      "train_d size : (25560, 3)\n",
      "train_t size : (6317, 3)\n",
      "knn k : 75\n"
     ]
    },
    {
     "name": "stderr",
     "output_type": "stream",
     "text": [
      "c:\\Users\\david\\anaconda3\\envs\\test_env\\lib\\site-packages\\tqdm\\std.py:1180: FutureWarning: In a future version of pandas, a length 1 tuple will be returned when iterating over a groupby with a grouper equal to a list of length 1. Don't supply a list with a single grouper to avoid this warning.\n",
      "  for obj in iterable:\n",
      "100%|██████████| 1174/1174 [00:00<00:00, 3275.87it/s]\n",
      "c:\\Users\\david\\anaconda3\\envs\\test_env\\lib\\site-packages\\tqdm\\std.py:1180: FutureWarning: In a future version of pandas, a length 1 tuple will be returned when iterating over a groupby with a grouper equal to a list of length 1. Don't supply a list with a single grouper to avoid this warning.\n",
      "  for obj in iterable:\n",
      "100%|██████████| 1174/1174 [00:00<00:00, 1579.17it/s]\n",
      "100%|██████████| 1174/1174 [00:03<00:00, 326.62it/s]\n"
     ]
    },
    {
     "name": "stdout",
     "output_type": "stream",
     "text": [
      "train_d size : (25359, 3)\n",
      "train_t size : (6518, 3)\n",
      "knn k : 75\n"
     ]
    },
    {
     "name": "stderr",
     "output_type": "stream",
     "text": [
      "c:\\Users\\david\\anaconda3\\envs\\test_env\\lib\\site-packages\\tqdm\\std.py:1180: FutureWarning: In a future version of pandas, a length 1 tuple will be returned when iterating over a groupby with a grouper equal to a list of length 1. Don't supply a list with a single grouper to avoid this warning.\n",
      "  for obj in iterable:\n",
      "100%|██████████| 1214/1214 [00:00<00:00, 2167.80it/s]\n",
      "c:\\Users\\david\\anaconda3\\envs\\test_env\\lib\\site-packages\\tqdm\\std.py:1180: FutureWarning: In a future version of pandas, a length 1 tuple will be returned when iterating over a groupby with a grouper equal to a list of length 1. Don't supply a list with a single grouper to avoid this warning.\n",
      "  for obj in iterable:\n",
      "100%|██████████| 1214/1214 [00:01<00:00, 870.19it/s]\n",
      "100%|██████████| 1214/1214 [00:03<00:00, 395.05it/s]\n"
     ]
    },
    {
     "name": "stdout",
     "output_type": "stream",
     "text": [
      "train_d size : (25628, 3)\n",
      "train_t size : (6249, 3)\n",
      "knn k : 75\n"
     ]
    },
    {
     "name": "stderr",
     "output_type": "stream",
     "text": [
      "c:\\Users\\david\\anaconda3\\envs\\test_env\\lib\\site-packages\\tqdm\\std.py:1180: FutureWarning: In a future version of pandas, a length 1 tuple will be returned when iterating over a groupby with a grouper equal to a list of length 1. Don't supply a list with a single grouper to avoid this warning.\n",
      "  for obj in iterable:\n",
      "100%|██████████| 1227/1227 [00:01<00:00, 851.54it/s]\n",
      "c:\\Users\\david\\anaconda3\\envs\\test_env\\lib\\site-packages\\tqdm\\std.py:1180: FutureWarning: In a future version of pandas, a length 1 tuple will be returned when iterating over a groupby with a grouper equal to a list of length 1. Don't supply a list with a single grouper to avoid this warning.\n",
      "  for obj in iterable:\n",
      "100%|██████████| 1227/1227 [00:01<00:00, 864.23it/s]\n",
      "100%|██████████| 1227/1227 [00:03<00:00, 316.05it/s]\n"
     ]
    },
    {
     "name": "stdout",
     "output_type": "stream",
     "text": [
      "train_d size : (25549, 3)\n",
      "train_t size : (6328, 3)\n",
      "knn k : 75\n"
     ]
    },
    {
     "name": "stderr",
     "output_type": "stream",
     "text": [
      "c:\\Users\\david\\anaconda3\\envs\\test_env\\lib\\site-packages\\tqdm\\std.py:1180: FutureWarning: In a future version of pandas, a length 1 tuple will be returned when iterating over a groupby with a grouper equal to a list of length 1. Don't supply a list with a single grouper to avoid this warning.\n",
      "  for obj in iterable:\n",
      "100%|██████████| 1174/1174 [00:00<00:00, 3177.22it/s]\n",
      "c:\\Users\\david\\anaconda3\\envs\\test_env\\lib\\site-packages\\tqdm\\std.py:1180: FutureWarning: In a future version of pandas, a length 1 tuple will be returned when iterating over a groupby with a grouper equal to a list of length 1. Don't supply a list with a single grouper to avoid this warning.\n",
      "  for obj in iterable:\n",
      "100%|██████████| 1174/1174 [00:01<00:00, 917.54it/s]\n",
      "100%|██████████| 1174/1174 [00:03<00:00, 369.16it/s]\n"
     ]
    },
    {
     "name": "stdout",
     "output_type": "stream",
     "text": [
      "train_d size : (25412, 3)\n",
      "train_t size : (6465, 3)\n",
      "knn k : 75\n"
     ]
    },
    {
     "name": "stderr",
     "output_type": "stream",
     "text": [
      "c:\\Users\\david\\anaconda3\\envs\\test_env\\lib\\site-packages\\tqdm\\std.py:1180: FutureWarning: In a future version of pandas, a length 1 tuple will be returned when iterating over a groupby with a grouper equal to a list of length 1. Don't supply a list with a single grouper to avoid this warning.\n",
      "  for obj in iterable:\n",
      "100%|██████████| 1218/1218 [00:00<00:00, 1468.96it/s]\n",
      "c:\\Users\\david\\anaconda3\\envs\\test_env\\lib\\site-packages\\tqdm\\std.py:1180: FutureWarning: In a future version of pandas, a length 1 tuple will be returned when iterating over a groupby with a grouper equal to a list of length 1. Don't supply a list with a single grouper to avoid this warning.\n",
      "  for obj in iterable:\n",
      "100%|██████████| 1218/1218 [00:01<00:00, 1120.39it/s]\n",
      "100%|██████████| 1218/1218 [00:02<00:00, 466.75it/s]\n"
     ]
    },
    {
     "data": {
      "image/png": "[encoded data removed]",
      "text/plain": [
       "<Figure size 640x480 with 1 Axes>"
      ]
     },
     "metadata": {},
     "output_type": "display_data"
    }
   ],
   "source": [
    "k_values = [3, 11, 25, 35, 75]\n",
    "prediction_numbers = [5,10,20, 0]\n",
    "scores = [[],[],[], []]\n",
    "count_p = 0\n",
    "data_train_fine, _, _ = data_manip.train_test_split(data_train, 70000, None)\n",
    "for p_numbers in prediction_numbers:\n",
    "    if (count_p == 3) :\n",
    "        knn = ItemKnn(k, max_item + 1)\n",
    "        knn.fit(data_train_fine)\n",
    "        for k in k_values:\n",
    "\n",
    "            knn._k = k\n",
    "            count = 0\n",
    "            train_acc, valid_acc = 0, 0\n",
    "            for train_d, train_t in data_manip.kFold_split(data_train_fine, 5):\n",
    "                print(f\"train_d size : {train_d.shape}\")\n",
    "                print(f\"train_t size : {train_t.shape}\")\n",
    "                print(f\"knn k : {knn._k}\")\n",
    "\n",
    "                test_set, test_target = data_manip.prepare_data_for_test(train_t)\n",
    "                \n",
    "                valid_acc += knn.mrr_score(test_set, test_target)\n",
    "                # valid_acc += knn.mrr_score(test_set, test_target)\n",
    "                count += 1\n",
    "            scores[count_p].append(valid_acc/count)\n",
    "    else:\n",
    "        \n",
    "    \n",
    "        for k in k_values:\n",
    "\n",
    "            knn = Knn(k, max_item + 1, p_numbers)\n",
    "\n",
    "            count = 0\n",
    "            train_acc, valid_acc = 0, 0\n",
    "            for train_d, train_t in data_manip.kFold_split(data_train_fine, 5):\n",
    "                print(f\"train_d size : {train_d.shape}\")\n",
    "                print(f\"train_t size : {train_t.shape}\")\n",
    "                knn.fit(train_d)\n",
    "                print(f\"knn k : {knn._k}\")\n",
    "\n",
    "                test_set, test_target = data_manip.prepare_data_for_test(train_t)\n",
    "                y_hat = knn.predict(test_set)\n",
    "                valid_acc += mean_reciprocal_rank(y_hat, test_target)\n",
    "                # valid_acc += knn.mrr_score(test_set, test_target)\n",
    "                count += 1\n",
    "            scores[count_p].append(valid_acc/count)\n",
    "    count_p += 1\n",
    "\n",
    "fig = pyplot.figure()\n",
    "ax = fig.add_subplot(111)\n",
    "\n",
    "ax.set_title('Session - K_nn avec des nombres de prédictions différents')  # À modifier / to be modified\n",
    "ax.plot(k_values, scores[0], 'r--', label=f\"Session - K_nn : {prediction_numbers[0]} prédictions\") # À compléter / to be completed\n",
    "ax.plot(k_values, scores[1], 'b--', label=f\"Session - K_nn : {prediction_numbers[1]} prédictions\") # À compléter / to be completed\n",
    "ax.plot(k_values, scores[2], 'y--', label=f\"Session - K_nn : {prediction_numbers[2]} prédictions\")\n",
    "ax.plot(k_values, scores[3], 'g--', label=\"Item-Knn\")\n",
    "ax.set_xticks(k_values, k_values)\n",
    "ax.grid(axis='x')\n",
    "ax.set_xlabel(\"Values of K\")\n",
    "ax.set_ylabel(\"MRR \")\n",
    "pyplot.legend()\n",
    "pyplot.show()"
   ]
  },
  {
   "cell_type": "code",
   "execution_count": 10,
   "metadata": {},
   "outputs": [
    {
     "name": "stderr",
     "output_type": "stream",
     "text": [
      "  0%|          | 0/601702 [00:00<?, ?it/s]c:\\Users\\david\\anaconda3\\envs\\test_env\\lib\\site-packages\\tqdm\\std.py:1180: FutureWarning: In a future version of pandas, a length 1 tuple will be returned when iterating over a groupby with a grouper equal to a list of length 1. Don't supply a list with a single grouper to avoid this warning.\n",
      "  for obj in iterable:\n",
      "100%|██████████| 601702/601702 [03:09<00:00, 3183.42it/s]\n",
      "  0%|          | 0/20057 [00:00<?, ?it/s]c:\\Users\\david\\anaconda3\\envs\\test_env\\lib\\site-packages\\tqdm\\std.py:1180: FutureWarning: In a future version of pandas, a length 1 tuple will be returned when iterating over a groupby with a grouper equal to a list of length 1. Don't supply a list with a single grouper to avoid this warning.\n",
      "  for obj in iterable:\n",
      "100%|██████████| 20057/20057 [00:03<00:00, 5021.94it/s]\n",
      "  0%|          | 0/20057 [00:00<?, ?it/s]c:\\Users\\david\\anaconda3\\envs\\test_env\\lib\\site-packages\\tqdm\\std.py:1180: FutureWarning: In a future version of pandas, a length 1 tuple will be returned when iterating over a groupby with a grouper equal to a list of length 1. Don't supply a list with a single grouper to avoid this warning.\n",
      "  for obj in iterable:\n",
      "100%|██████████| 20057/20057 [00:06<00:00, 3194.67it/s]\n",
      "  0%|          | 0/20057 [00:00<?, ?it/s]c:\\Users\\david\\anaconda3\\envs\\test_env\\lib\\site-packages\\tqdm\\std.py:1180: FutureWarning: In a future version of pandas, a length 1 tuple will be returned when iterating over a groupby with a grouper equal to a list of length 1. Don't supply a list with a single grouper to avoid this warning.\n",
      "  for obj in iterable:\n",
      "100%|██████████| 20057/20057 [21:02<00:00, 15.89it/s] \n"
     ]
    },
    {
     "name": "stdout",
     "output_type": "stream",
     "text": [
      "Mrr 20 : 0.44001459446184427\n",
      "hit_1 : 0.3171959914244403\n",
      "hit_3 : 0.5210151069452061\n",
      "hit_5 : 0.5992421598444433\n"
     ]
    },
    {
     "name": "stderr",
     "output_type": "stream",
     "text": [
      "  0%|          | 0/20057 [00:00<?, ?it/s]c:\\Users\\david\\anaconda3\\envs\\test_env\\lib\\site-packages\\tqdm\\std.py:1180: FutureWarning: In a future version of pandas, a length 1 tuple will be returned when iterating over a groupby with a grouper equal to a list of length 1. Don't supply a list with a single grouper to avoid this warning.\n",
      "  for obj in iterable:\n",
      "100%|██████████| 20057/20057 [00:04<00:00, 4240.32it/s]\n",
      "  0%|          | 0/20057 [00:00<?, ?it/s]c:\\Users\\david\\anaconda3\\envs\\test_env\\lib\\site-packages\\tqdm\\std.py:1180: FutureWarning: In a future version of pandas, a length 1 tuple will be returned when iterating over a groupby with a grouper equal to a list of length 1. Don't supply a list with a single grouper to avoid this warning.\n",
      "  for obj in iterable:\n",
      "100%|██████████| 20057/20057 [00:10<00:00, 1852.94it/s]\n",
      "  0%|          | 0/20057 [00:00<?, ?it/s]c:\\Users\\david\\anaconda3\\envs\\test_env\\lib\\site-packages\\tqdm\\std.py:1180: FutureWarning: In a future version of pandas, a length 1 tuple will be returned when iterating over a groupby with a grouper equal to a list of length 1. Don't supply a list with a single grouper to avoid this warning.\n",
      "  for obj in iterable:\n",
      "100%|██████████| 20057/20057 [18:36<00:00, 17.96it/s]\n"
     ]
    },
    {
     "name": "stdout",
     "output_type": "stream",
     "text": [
      "Mrr 20 : 0.43995091333712283\n",
      "hit_1 : 0.316398264944907\n",
      "hit_3 : 0.5237074338136312\n",
      "hit_5 : 0.6006880390885975\n"
     ]
    },
    {
     "name": "stderr",
     "output_type": "stream",
     "text": [
      "  0%|          | 0/20057 [00:00<?, ?it/s]c:\\Users\\david\\anaconda3\\envs\\test_env\\lib\\site-packages\\tqdm\\std.py:1180: FutureWarning: In a future version of pandas, a length 1 tuple will be returned when iterating over a groupby with a grouper equal to a list of length 1. Don't supply a list with a single grouper to avoid this warning.\n",
      "  for obj in iterable:\n",
      "100%|██████████| 20057/20057 [00:05<00:00, 3671.74it/s]\n",
      "  0%|          | 0/20057 [00:00<?, ?it/s]c:\\Users\\david\\anaconda3\\envs\\test_env\\lib\\site-packages\\tqdm\\std.py:1180: FutureWarning: In a future version of pandas, a length 1 tuple will be returned when iterating over a groupby with a grouper equal to a list of length 1. Don't supply a list with a single grouper to avoid this warning.\n",
      "  for obj in iterable:\n",
      "100%|██████████| 20057/20057 [00:04<00:00, 4162.40it/s]\n",
      "  0%|          | 0/20057 [00:00<?, ?it/s]c:\\Users\\david\\anaconda3\\envs\\test_env\\lib\\site-packages\\tqdm\\std.py:1180: FutureWarning: In a future version of pandas, a length 1 tuple will be returned when iterating over a groupby with a grouper equal to a list of length 1. Don't supply a list with a single grouper to avoid this warning.\n",
      "  for obj in iterable:\n",
      "100%|██████████| 20057/20057 [17:15<00:00, 19.36it/s]\n"
     ]
    },
    {
     "name": "stdout",
     "output_type": "stream",
     "text": [
      "Mrr 20 : 0.43459346347140443\n",
      "hit_1 : 0.311911053497532\n",
      "hit_3 : 0.5149823004437354\n",
      "hit_5 : 0.59305977962806\n"
     ]
    },
    {
     "name": "stderr",
     "output_type": "stream",
     "text": [
      "  0%|          | 0/20057 [00:00<?, ?it/s]c:\\Users\\david\\anaconda3\\envs\\test_env\\lib\\site-packages\\tqdm\\std.py:1180: FutureWarning: In a future version of pandas, a length 1 tuple will be returned when iterating over a groupby with a grouper equal to a list of length 1. Don't supply a list with a single grouper to avoid this warning.\n",
      "  for obj in iterable:\n",
      "100%|██████████| 20057/20057 [00:04<00:00, 4407.19it/s]\n",
      "  0%|          | 0/20057 [00:00<?, ?it/s]c:\\Users\\david\\anaconda3\\envs\\test_env\\lib\\site-packages\\tqdm\\std.py:1180: FutureWarning: In a future version of pandas, a length 1 tuple will be returned when iterating over a groupby with a grouper equal to a list of length 1. Don't supply a list with a single grouper to avoid this warning.\n",
      "  for obj in iterable:\n",
      "100%|██████████| 20057/20057 [00:04<00:00, 4986.43it/s]\n",
      "  0%|          | 0/20057 [00:00<?, ?it/s]c:\\Users\\david\\anaconda3\\envs\\test_env\\lib\\site-packages\\tqdm\\std.py:1180: FutureWarning: In a future version of pandas, a length 1 tuple will be returned when iterating over a groupby with a grouper equal to a list of length 1. Don't supply a list with a single grouper to avoid this warning.\n",
      "  for obj in iterable:\n",
      "100%|██████████| 20057/20057 [20:01<00:00, 16.69it/s]\n"
     ]
    },
    {
     "name": "stdout",
     "output_type": "stream",
     "text": [
      "Mrr 20 : 0.4388748295302234\n",
      "hit_1 : 0.31739542304432367\n",
      "hit_3 : 0.5227601336191853\n",
      "hit_5 : 0.5983447175549683\n"
     ]
    },
    {
     "name": "stderr",
     "output_type": "stream",
     "text": [
      "  0%|          | 0/20057 [00:00<?, ?it/s]c:\\Users\\david\\anaconda3\\envs\\test_env\\lib\\site-packages\\tqdm\\std.py:1180: FutureWarning: In a future version of pandas, a length 1 tuple will be returned when iterating over a groupby with a grouper equal to a list of length 1. Don't supply a list with a single grouper to avoid this warning.\n",
      "  for obj in iterable:\n",
      "100%|██████████| 20057/20057 [00:05<00:00, 3498.19it/s]\n",
      "  0%|          | 0/20057 [00:00<?, ?it/s]c:\\Users\\david\\anaconda3\\envs\\test_env\\lib\\site-packages\\tqdm\\std.py:1180: FutureWarning: In a future version of pandas, a length 1 tuple will be returned when iterating over a groupby with a grouper equal to a list of length 1. Don't supply a list with a single grouper to avoid this warning.\n",
      "  for obj in iterable:\n",
      "100%|██████████| 20057/20057 [00:07<00:00, 2862.12it/s]\n",
      "  0%|          | 0/20057 [00:00<?, ?it/s]c:\\Users\\david\\anaconda3\\envs\\test_env\\lib\\site-packages\\tqdm\\std.py:1180: FutureWarning: In a future version of pandas, a length 1 tuple will be returned when iterating over a groupby with a grouper equal to a list of length 1. Don't supply a list with a single grouper to avoid this warning.\n",
      "  for obj in iterable:\n",
      "100%|██████████| 20057/20057 [25:18<00:00, 13.20it/s] \n"
     ]
    },
    {
     "name": "stdout",
     "output_type": "stream",
     "text": [
      "Mrr 20 : 0.4376798131464539\n",
      "hit_1 : 0.3136560801715112\n",
      "hit_3 : 0.521962407139652\n",
      "hit_5 : 0.6007378969935683\n"
     ]
    },
    {
     "name": "stderr",
     "output_type": "stream",
     "text": [
      "  0%|          | 0/20057 [00:00<?, ?it/s]c:\\Users\\david\\anaconda3\\envs\\test_env\\lib\\site-packages\\tqdm\\std.py:1180: FutureWarning: In a future version of pandas, a length 1 tuple will be returned when iterating over a groupby with a grouper equal to a list of length 1. Don't supply a list with a single grouper to avoid this warning.\n",
      "  for obj in iterable:\n",
      "100%|██████████| 20057/20057 [00:07<00:00, 2616.35it/s]\n",
      "  0%|          | 0/20057 [00:00<?, ?it/s]c:\\Users\\david\\anaconda3\\envs\\test_env\\lib\\site-packages\\tqdm\\std.py:1180: FutureWarning: In a future version of pandas, a length 1 tuple will be returned when iterating over a groupby with a grouper equal to a list of length 1. Don't supply a list with a single grouper to avoid this warning.\n",
      "  for obj in iterable:\n",
      "100%|██████████| 20057/20057 [00:06<00:00, 2951.75it/s]\n",
      "  0%|          | 0/20057 [00:00<?, ?it/s]c:\\Users\\david\\anaconda3\\envs\\test_env\\lib\\site-packages\\tqdm\\std.py:1180: FutureWarning: In a future version of pandas, a length 1 tuple will be returned when iterating over a groupby with a grouper equal to a list of length 1. Don't supply a list with a single grouper to avoid this warning.\n",
      "  for obj in iterable:\n",
      "100%|██████████| 20057/20057 [41:12<00:00,  8.11it/s]  \n"
     ]
    },
    {
     "name": "stdout",
     "output_type": "stream",
     "text": [
      "Mrr 20 : 0.4394269473610863\n",
      "hit_1 : 0.313705938076482\n",
      "hit_3 : 0.524355586578252\n",
      "hit_5 : 0.6018347709029267\n"
     ]
    },
    {
     "name": "stderr",
     "output_type": "stream",
     "text": [
      "  0%|          | 0/20057 [00:00<?, ?it/s]c:\\Users\\david\\anaconda3\\envs\\test_env\\lib\\site-packages\\tqdm\\std.py:1180: FutureWarning: In a future version of pandas, a length 1 tuple will be returned when iterating over a groupby with a grouper equal to a list of length 1. Don't supply a list with a single grouper to avoid this warning.\n",
      "  for obj in iterable:\n",
      "100%|██████████| 20057/20057 [00:11<00:00, 1698.31it/s]\n",
      "  0%|          | 0/20057 [00:00<?, ?it/s]c:\\Users\\david\\anaconda3\\envs\\test_env\\lib\\site-packages\\tqdm\\std.py:1180: FutureWarning: In a future version of pandas, a length 1 tuple will be returned when iterating over a groupby with a grouper equal to a list of length 1. Don't supply a list with a single grouper to avoid this warning.\n",
      "  for obj in iterable:\n",
      "100%|██████████| 20057/20057 [00:10<00:00, 1989.94it/s]\n",
      "  0%|          | 0/20057 [00:00<?, ?it/s]c:\\Users\\david\\anaconda3\\envs\\test_env\\lib\\site-packages\\tqdm\\std.py:1180: FutureWarning: In a future version of pandas, a length 1 tuple will be returned when iterating over a groupby with a grouper equal to a list of length 1. Don't supply a list with a single grouper to avoid this warning.\n",
      "  for obj in iterable:\n",
      " 67%|██████▋   | 13500/20057 [34:11<16:36,  6.58it/s]  \n"
     ]
    },
    {
     "ename": "KeyboardInterrupt",
     "evalue": "",
     "output_type": "error",
     "traceback": [
      "\u001b[1;31m---------------------------------------------------------------------------\u001b[0m",
      "\u001b[1;31mKeyboardInterrupt\u001b[0m                         Traceback (most recent call last)",
      "Cell \u001b[1;32mIn[10], line 11\u001b[0m\n\u001b[0;32m      9\u001b[0m \u001b[39mfor\u001b[39;00m train_d \u001b[39min\u001b[39;00m data_manip\u001b[39m.\u001b[39mSplit(data_test, \u001b[39m10\u001b[39m):\n\u001b[0;32m     10\u001b[0m     test_set, test_target \u001b[39m=\u001b[39m data_manip\u001b[39m.\u001b[39mprepare_data_for_test(train_d)\n\u001b[1;32m---> 11\u001b[0m     y_hat \u001b[39m=\u001b[39m knn\u001b[39m.\u001b[39;49mpredict(test_set)\n\u001b[0;32m     12\u001b[0m     mrr_20\u001b[39m.\u001b[39mappend(mean_reciprocal_rank(y_hat, test_target))\n\u001b[0;32m     13\u001b[0m     \u001b[39mprint\u001b[39m(\u001b[39mf\u001b[39m\u001b[39m\"\u001b[39m\u001b[39mMrr 20 : \u001b[39m\u001b[39m{\u001b[39;00mmrr_20[count]\u001b[39m}\u001b[39;00m\u001b[39m\"\u001b[39m)\n",
      "File \u001b[1;32mc:\\dev\\introml\\projet\\sessionrecintroml\\model\\knn.py:115\u001b[0m, in \u001b[0;36mKnn.predict\u001b[1;34m(self, data)\u001b[0m\n\u001b[0;32m    113\u001b[0m session_groups \u001b[39m=\u001b[39m data\u001b[39m.\u001b[39mgroupby([\u001b[39m\"\u001b[39m\u001b[39mSessionId\u001b[39m\u001b[39m\"\u001b[39m])\n\u001b[0;32m    114\u001b[0m \u001b[39mfor\u001b[39;00m name, group \u001b[39min\u001b[39;00m tqdm(session_groups):\n\u001b[1;32m--> 115\u001b[0m     rec \u001b[39m=\u001b[39m \u001b[39mself\u001b[39;49m\u001b[39m.\u001b[39;49meval(group)\n\u001b[0;32m    116\u001b[0m     \u001b[39mif\u001b[39;00m \u001b[39mlen\u001b[39m(rec) \u001b[39m<\u001b[39m \u001b[39mself\u001b[39m\u001b[39m.\u001b[39m_predictions:\n\u001b[0;32m    117\u001b[0m         zero_len \u001b[39m=\u001b[39m \u001b[39mself\u001b[39m\u001b[39m.\u001b[39m_predictions \u001b[39m-\u001b[39m \u001b[39mlen\u001b[39m(rec)\n",
      "File \u001b[1;32mc:\\dev\\introml\\projet\\sessionrecintroml\\model\\knn.py:90\u001b[0m, in \u001b[0;36mKnn.eval\u001b[1;34m(self, session_item_data)\u001b[0m\n\u001b[0;32m     87\u001b[0m \u001b[39mif\u001b[39;00m \u001b[39mlen\u001b[39m(filtered_candidates) \u001b[39m==\u001b[39m \u001b[39m0\u001b[39m:\n\u001b[0;32m     88\u001b[0m     \u001b[39mreturn\u001b[39;00m np\u001b[39m.\u001b[39mzeros(\u001b[39mself\u001b[39m\u001b[39m.\u001b[39m_predictions)\n\u001b[0;32m     89\u001b[0m relative_filtered_candidates \u001b[39m=\u001b[39m np\u001b[39m.\u001b[39margwhere(\n\u001b[1;32m---> 90\u001b[0m     np\u001b[39m.\u001b[39;49misin(\u001b[39mself\u001b[39;49m\u001b[39m.\u001b[39;49m_session_ids, filtered_candidates)\n\u001b[0;32m     91\u001b[0m )\u001b[39m.\u001b[39mflatten()\n\u001b[0;32m     93\u001b[0m candidate_sessions_bool \u001b[39m=\u001b[39m \u001b[39mself\u001b[39m\u001b[39m.\u001b[39m_session_item[relative_filtered_candidates]\n\u001b[0;32m     94\u001b[0m neighbors_similarity \u001b[39m=\u001b[39m cosine_similarity(\n\u001b[0;32m     95\u001b[0m     session_item_bool, candidate_sessions_bool\n\u001b[0;32m     96\u001b[0m )[\u001b[39m0\u001b[39m]\n",
      "File \u001b[1;32m<__array_function__ internals>:5\u001b[0m, in \u001b[0;36misin\u001b[1;34m(*args, **kwargs)\u001b[0m\n",
      "File \u001b[1;32mc:\\Users\\david\\anaconda3\\envs\\test_env\\lib\\site-packages\\numpy\\lib\\arraysetops.py:735\u001b[0m, in \u001b[0;36misin\u001b[1;34m(element, test_elements, assume_unique, invert)\u001b[0m\n\u001b[0;32m    642\u001b[0m \u001b[39m\"\"\"\u001b[39;00m\n\u001b[0;32m    643\u001b[0m \u001b[39mCalculates `element in test_elements`, broadcasting over `element` only.\u001b[39;00m\n\u001b[0;32m    644\u001b[0m \u001b[39mReturns a boolean array of the same shape as `element` that is True\u001b[39;00m\n\u001b[1;32m   (...)\u001b[0m\n\u001b[0;32m    732\u001b[0m \u001b[39m       [ True, False]])\u001b[39;00m\n\u001b[0;32m    733\u001b[0m \u001b[39m\"\"\"\u001b[39;00m\n\u001b[0;32m    734\u001b[0m element \u001b[39m=\u001b[39m np\u001b[39m.\u001b[39masarray(element)\n\u001b[1;32m--> 735\u001b[0m \u001b[39mreturn\u001b[39;00m in1d(element, test_elements, assume_unique\u001b[39m=\u001b[39;49massume_unique,\n\u001b[0;32m    736\u001b[0m             invert\u001b[39m=\u001b[39;49minvert)\u001b[39m.\u001b[39mreshape(element\u001b[39m.\u001b[39mshape)\n",
      "File \u001b[1;32m<__array_function__ internals>:5\u001b[0m, in \u001b[0;36min1d\u001b[1;34m(*args, **kwargs)\u001b[0m\n",
      "File \u001b[1;32mc:\\Users\\david\\anaconda3\\envs\\test_env\\lib\\site-packages\\numpy\\lib\\arraysetops.py:613\u001b[0m, in \u001b[0;36min1d\u001b[1;34m(ar1, ar2, assume_unique, invert)\u001b[0m\n\u001b[0;32m    611\u001b[0m \u001b[39m# Otherwise use sorting\u001b[39;00m\n\u001b[0;32m    612\u001b[0m \u001b[39mif\u001b[39;00m \u001b[39mnot\u001b[39;00m assume_unique:\n\u001b[1;32m--> 613\u001b[0m     ar1, rev_idx \u001b[39m=\u001b[39m np\u001b[39m.\u001b[39;49munique(ar1, return_inverse\u001b[39m=\u001b[39;49m\u001b[39mTrue\u001b[39;49;00m)\n\u001b[0;32m    614\u001b[0m     ar2 \u001b[39m=\u001b[39m np\u001b[39m.\u001b[39munique(ar2)\n\u001b[0;32m    616\u001b[0m ar \u001b[39m=\u001b[39m np\u001b[39m.\u001b[39mconcatenate((ar1, ar2))\n",
      "File \u001b[1;32m<__array_function__ internals>:5\u001b[0m, in \u001b[0;36munique\u001b[1;34m(*args, **kwargs)\u001b[0m\n",
      "File \u001b[1;32mc:\\Users\\david\\anaconda3\\envs\\test_env\\lib\\site-packages\\numpy\\lib\\arraysetops.py:272\u001b[0m, in \u001b[0;36munique\u001b[1;34m(ar, return_index, return_inverse, return_counts, axis)\u001b[0m\n\u001b[0;32m    270\u001b[0m ar \u001b[39m=\u001b[39m np\u001b[39m.\u001b[39masanyarray(ar)\n\u001b[0;32m    271\u001b[0m \u001b[39mif\u001b[39;00m axis \u001b[39mis\u001b[39;00m \u001b[39mNone\u001b[39;00m:\n\u001b[1;32m--> 272\u001b[0m     ret \u001b[39m=\u001b[39m _unique1d(ar, return_index, return_inverse, return_counts)\n\u001b[0;32m    273\u001b[0m     \u001b[39mreturn\u001b[39;00m _unpack_tuple(ret)\n\u001b[0;32m    275\u001b[0m \u001b[39m# axis was specified and not None\u001b[39;00m\n",
      "File \u001b[1;32mc:\\Users\\david\\anaconda3\\envs\\test_env\\lib\\site-packages\\numpy\\lib\\arraysetops.py:330\u001b[0m, in \u001b[0;36m_unique1d\u001b[1;34m(ar, return_index, return_inverse, return_counts)\u001b[0m\n\u001b[0;32m    327\u001b[0m optional_indices \u001b[39m=\u001b[39m return_index \u001b[39mor\u001b[39;00m return_inverse\n\u001b[0;32m    329\u001b[0m \u001b[39mif\u001b[39;00m optional_indices:\n\u001b[1;32m--> 330\u001b[0m     perm \u001b[39m=\u001b[39m ar\u001b[39m.\u001b[39;49margsort(kind\u001b[39m=\u001b[39;49m\u001b[39m'\u001b[39;49m\u001b[39mmergesort\u001b[39;49m\u001b[39m'\u001b[39;49m \u001b[39mif\u001b[39;49;00m return_index \u001b[39melse\u001b[39;49;00m \u001b[39m'\u001b[39;49m\u001b[39mquicksort\u001b[39;49m\u001b[39m'\u001b[39;49m)\n\u001b[0;32m    331\u001b[0m     aux \u001b[39m=\u001b[39m ar[perm]\n\u001b[0;32m    332\u001b[0m \u001b[39melse\u001b[39;00m:\n",
      "\u001b[1;31mKeyboardInterrupt\u001b[0m: "
     ]
    }
   ],
   "source": [
    "knn = Knn(75, max_item + 1, 20)\n",
    "knn.fit(data_train)\n",
    "mrr_20 = []\n",
    "hit_1 = []\n",
    "hit_3 = []\n",
    "hit_5 = []\n",
    "\n",
    "count = 0\n",
    "for train_d in data_manip.Split(data_test, 10):\n",
    "    test_set, test_target = data_manip.prepare_data_for_test(train_d)\n",
    "    y_hat = knn.predict(test_set)\n",
    "    mrr_20.append(mean_reciprocal_rank(y_hat, test_target))\n",
    "    print(f\"Mrr 20 : {mrr_20[count]}\")\n",
    "    hit_1.append(hit_rate(y_hat, test_target, 1))\n",
    "    hit_3.append(hit_rate(y_hat, test_target, 3))\n",
    "    hit_5.append(hit_rate(y_hat, test_target, 5))\n",
    "    print(f\"hit_1 : {hit_1[count]}\")\n",
    "    print(f\"hit_3 : {hit_3[count]}\")\n",
    "    print(f\"hit_5 : {hit_5[count]}\")\n",
    "    count += 1\n"
   ]
  },
  {
   "cell_type": "code",
   "execution_count": 4,
   "metadata": {},
   "outputs": [
    {
     "name": "stderr",
     "output_type": "stream",
     "text": [
      "  0%|          | 0/601702 [00:00<?, ?it/s]c:\\Users\\david\\anaconda3\\envs\\test_env\\lib\\site-packages\\tqdm\\std.py:1180: FutureWarning: In a future version of pandas, a length 1 tuple will be returned when iterating over a groupby with a grouper equal to a list of length 1. Don't supply a list with a single grouper to avoid this warning.\n",
      "  for obj in iterable:\n",
      "100%|██████████| 601702/601702 [02:40<00:00, 3745.72it/s]\n",
      "  0%|          | 0/20057 [00:00<?, ?it/s]c:\\Users\\david\\anaconda3\\envs\\test_env\\lib\\site-packages\\tqdm\\std.py:1180: FutureWarning: In a future version of pandas, a length 1 tuple will be returned when iterating over a groupby with a grouper equal to a list of length 1. Don't supply a list with a single grouper to avoid this warning.\n",
      "  for obj in iterable:\n",
      "100%|██████████| 20057/20057 [00:03<00:00, 5885.94it/s]\n",
      "  0%|          | 0/20057 [00:00<?, ?it/s]c:\\Users\\david\\anaconda3\\envs\\test_env\\lib\\site-packages\\tqdm\\std.py:1180: FutureWarning: In a future version of pandas, a length 1 tuple will be returned when iterating over a groupby with a grouper equal to a list of length 1. Don't supply a list with a single grouper to avoid this warning.\n",
      "  for obj in iterable:\n",
      "100%|██████████| 20057/20057 [00:05<00:00, 3512.75it/s]\n",
      "100%|██████████| 20057/20057 [00:22<00:00, 895.71it/s] \n"
     ]
    },
    {
     "name": "stdout",
     "output_type": "stream",
     "text": [
      "Mrr 5 Item Knn: 4.758517995791765e-06\n"
     ]
    },
    {
     "name": "stderr",
     "output_type": "stream",
     "text": [
      "100%|██████████| 20057/20057 [00:25<00:00, 783.85it/s] \n"
     ]
    },
    {
     "name": "stdout",
     "output_type": "stream",
     "text": [
      "Mrr 10 Item Knn: 8.809244487561285e-05\n"
     ]
    },
    {
     "name": "stderr",
     "output_type": "stream",
     "text": [
      "100%|██████████| 20057/20057 [00:31<00:00, 641.84it/s] "
     ]
    },
    {
     "name": "stdout",
     "output_type": "stream",
     "text": [
      "Mrr 20 Item Knn : 0.00026038139501724804\n"
     ]
    },
    {
     "name": "stderr",
     "output_type": "stream",
     "text": [
      "\n"
     ]
    }
   ],
   "source": [
    "knn = Knn(75, max_item + 1, 20)\n",
    "item_knn = ItemKnn(75, max_item + 1)\n",
    "\n",
    "mrr_5 = []\n",
    "mrr_10 = []\n",
    "mrr_20 = []\n",
    "hit_1 = []\n",
    "hit_3 = []\n",
    "hit_5 = []\n",
    "\n",
    "# knn.fit(data_train)\n",
    "item_knn.fit(data_train)\n",
    "\n",
    "train_d = [d for d in data_manip.Split(data_test, 10)]\n",
    "test_set, test_target = data_manip.prepare_data_for_test(train_d[0])\n",
    "\n",
    "# y_hat_i = item_knn.predict(test_set)\n",
    "mrr_5.append(item_knn.mrr_score(test_set, test_target, 5))\n",
    "print(f\"Mrr 5 Item Knn: {mrr_5[0]}\")\n",
    "mrr_10.append(item_knn.mrr_score(test_set, test_target, 10))\n",
    "print(f\"Mrr 10 Item Knn: {mrr_10[0]}\")\n",
    "mrr_20.append(item_knn.mrr_score(test_set, test_target, 20))\n",
    "print(f\"Mrr 20 Item Knn : {mrr_20[0]}\")\n",
    "# hit_1.append(hit_rate(y_hat_i, test_target, 1))\n",
    "# hit_3.append(hit_rate(y_hat_i, test_target, 3))\n",
    "# hit_5.append(hit_rate(y_hat_i, test_target, 5))\n",
    "# print(f\"hit_1 Item Knn: {hit_1[0]}\")\n",
    "# print(f\"hit_3 Item Knn : {hit_3[0]}\")\n",
    "# print(f\"hit_5 Item Knn : {hit_5[0]}\")\n",
    "\n",
    "# y_hat_s = knn.predict(test_set)\n",
    "# mrr_5.append(mean_reciprocal_rank(y_hat_s, test_target, 5))\n",
    "# print(f\"Mrr 5 Session Knn : {mrr_5[1]}\")\n",
    "# mrr_10.append(mean_reciprocal_rank(y_hat_s, test_target, 10))\n",
    "# print(f\"Mrr 10 Session Knn : {mrr_10[1]}\")\n",
    "# mrr_20.append(mean_reciprocal_rank(y_hat_s, test_target, 20))\n",
    "# print(f\"Mrr 20 Session Knn : {mrr_20[1]}\")\n",
    "# hit_1.append(hit_rate(y_hat_s, test_target, 1))\n",
    "# hit_3.append(hit_rate(y_hat_s, test_target, 3))\n",
    "# hit_5.append(hit_rate(y_hat_s, test_target, 5))\n",
    "# print(f\"hit_1 Session Knn : {hit_1[1]}\")\n",
    "# print(f\"hit_3 Session Knn : {hit_3[1]}\")\n",
    "# print(f\"hit_5 Session Knn : {hit_5[1]}\")\n",
    "\n",
    "\n"
   ]
  },
  {
   "cell_type": "code",
   "execution_count": 3,
   "metadata": {},
   "outputs": [
    {
     "name": "stdout",
     "output_type": "stream",
     "text": [
      "(3163163, 3)\n",
      "train size was modified real train session size is 10000\n"
     ]
    },
    {
     "name": "stderr",
     "output_type": "stream",
     "text": [
      "6001it [00:03, 1694.80it/s]\n"
     ]
    },
    {
     "ename": "KeyboardInterrupt",
     "evalue": "",
     "output_type": "error",
     "traceback": [
      "\u001b[1;31m---------------------------------------------------------------------------\u001b[0m",
      "\u001b[1;31mKeyboardInterrupt\u001b[0m                         Traceback (most recent call last)",
      "Cell \u001b[1;32mIn[3], line 21\u001b[0m\n\u001b[0;32m     18\u001b[0m mrr_accuracy[train_size] \u001b[39m=\u001b[39m []\n\u001b[0;32m     20\u001b[0m t0 \u001b[39m=\u001b[39m time\u001b[39m.\u001b[39mtime()\n\u001b[1;32m---> 21\u001b[0m prd\u001b[39m.\u001b[39;49mfit(train_set)\n\u001b[0;32m     22\u001b[0m time_perf_train\u001b[39m.\u001b[39mappend(time\u001b[39m.\u001b[39mtime() \u001b[39m-\u001b[39m t0)\n\u001b[0;32m     23\u001b[0m test_set, test_target \u001b[39m=\u001b[39m data_manip\u001b[39m.\u001b[39mprepare_data_for_test(test_set)\n",
      "File \u001b[1;32mc:\\dev\\introml\\projet\\sessionrecintroml\\model\\knn.py:36\u001b[0m, in \u001b[0;36mKnn.fit\u001b[1;34m(self, data)\u001b[0m\n\u001b[0;32m     31\u001b[0m relative_session_ids \u001b[39m=\u001b[39m \u001b[39mrange\u001b[39m(\u001b[39mlen\u001b[39m(unique_ids))\n\u001b[0;32m     32\u001b[0m \u001b[39mfor\u001b[39;00m session_id, relative_session_id \u001b[39min\u001b[39;00m tqdm(\n\u001b[0;32m     33\u001b[0m     \u001b[39mzip\u001b[39m(unique_ids, relative_session_ids), disable\u001b[39m=\u001b[39m\u001b[39mFalse\u001b[39;00m\n\u001b[0;32m     34\u001b[0m ):\n\u001b[1;32m---> 36\u001b[0m     items_by_session \u001b[39m=\u001b[39m (data\u001b[39m.\u001b[39mloc[data[\u001b[39m\"\u001b[39;49m\u001b[39mSessionId\u001b[39;49m\u001b[39m\"\u001b[39;49m] \u001b[39m==\u001b[39;49m session_id])[\n\u001b[0;32m     37\u001b[0m         \u001b[39m\"\u001b[39m\u001b[39mItemId\u001b[39m\u001b[39m\"\u001b[39m\n\u001b[0;32m     38\u001b[0m     ]\u001b[39m.\u001b[39mto_numpy(copy\u001b[39m=\u001b[39m\u001b[39mTrue\u001b[39;00m)\n\u001b[0;32m     39\u001b[0m     items_by_session \u001b[39m=\u001b[39m np\u001b[39m.\u001b[39mreshape(items_by_session, (\u001b[39m1\u001b[39m, \u001b[39m-\u001b[39m\u001b[39m1\u001b[39m))\n\u001b[0;32m     40\u001b[0m     \u001b[39mself\u001b[39m\u001b[39m.\u001b[39m_session_item[relative_session_id][items_by_session] \u001b[39m=\u001b[39m \u001b[39m1\u001b[39m\n",
      "File \u001b[1;32mc:\\Users\\david\\anaconda3\\envs\\test_env\\lib\\site-packages\\pandas\\core\\ops\\common.py:72\u001b[0m, in \u001b[0;36m_unpack_zerodim_and_defer.<locals>.new_method\u001b[1;34m(self, other)\u001b[0m\n\u001b[0;32m     68\u001b[0m             \u001b[39mreturn\u001b[39;00m \u001b[39mNotImplemented\u001b[39m\n\u001b[0;32m     70\u001b[0m other \u001b[39m=\u001b[39m item_from_zerodim(other)\n\u001b[1;32m---> 72\u001b[0m \u001b[39mreturn\u001b[39;00m method(\u001b[39mself\u001b[39;49m, other)\n",
      "File \u001b[1;32mc:\\Users\\david\\anaconda3\\envs\\test_env\\lib\\site-packages\\pandas\\core\\arraylike.py:42\u001b[0m, in \u001b[0;36mOpsMixin.__eq__\u001b[1;34m(self, other)\u001b[0m\n\u001b[0;32m     40\u001b[0m \u001b[39m@unpack_zerodim_and_defer\u001b[39m(\u001b[39m\"\u001b[39m\u001b[39m__eq__\u001b[39m\u001b[39m\"\u001b[39m)\n\u001b[0;32m     41\u001b[0m \u001b[39mdef\u001b[39;00m \u001b[39m__eq__\u001b[39m(\u001b[39mself\u001b[39m, other):\n\u001b[1;32m---> 42\u001b[0m     \u001b[39mreturn\u001b[39;00m \u001b[39mself\u001b[39;49m\u001b[39m.\u001b[39;49m_cmp_method(other, operator\u001b[39m.\u001b[39;49meq)\n",
      "File \u001b[1;32mc:\\Users\\david\\anaconda3\\envs\\test_env\\lib\\site-packages\\pandas\\core\\series.py:6243\u001b[0m, in \u001b[0;36mSeries._cmp_method\u001b[1;34m(self, other, op)\u001b[0m\n\u001b[0;32m   6240\u001b[0m rvalues \u001b[39m=\u001b[39m extract_array(other, extract_numpy\u001b[39m=\u001b[39m\u001b[39mTrue\u001b[39;00m, extract_range\u001b[39m=\u001b[39m\u001b[39mTrue\u001b[39;00m)\n\u001b[0;32m   6242\u001b[0m \u001b[39mwith\u001b[39;00m np\u001b[39m.\u001b[39merrstate(\u001b[39mall\u001b[39m\u001b[39m=\u001b[39m\u001b[39m\"\u001b[39m\u001b[39mignore\u001b[39m\u001b[39m\"\u001b[39m):\n\u001b[1;32m-> 6243\u001b[0m     res_values \u001b[39m=\u001b[39m ops\u001b[39m.\u001b[39;49mcomparison_op(lvalues, rvalues, op)\n\u001b[0;32m   6245\u001b[0m \u001b[39mreturn\u001b[39;00m \u001b[39mself\u001b[39m\u001b[39m.\u001b[39m_construct_result(res_values, name\u001b[39m=\u001b[39mres_name)\n",
      "File \u001b[1;32mc:\\Users\\david\\anaconda3\\envs\\test_env\\lib\\site-packages\\pandas\\core\\ops\\array_ops.py:290\u001b[0m, in \u001b[0;36mcomparison_op\u001b[1;34m(left, right, op)\u001b[0m\n\u001b[0;32m    287\u001b[0m     res_values \u001b[39m=\u001b[39m comp_method_OBJECT_ARRAY(op, lvalues, rvalues)\n\u001b[0;32m    289\u001b[0m \u001b[39melse\u001b[39;00m:\n\u001b[1;32m--> 290\u001b[0m     res_values \u001b[39m=\u001b[39m _na_arithmetic_op(lvalues, rvalues, op, is_cmp\u001b[39m=\u001b[39;49m\u001b[39mTrue\u001b[39;49;00m)\n\u001b[0;32m    292\u001b[0m \u001b[39mreturn\u001b[39;00m res_values\n",
      "File \u001b[1;32mc:\\Users\\david\\anaconda3\\envs\\test_env\\lib\\site-packages\\pandas\\core\\ops\\array_ops.py:165\u001b[0m, in \u001b[0;36m_na_arithmetic_op\u001b[1;34m(left, right, op, is_cmp)\u001b[0m\n\u001b[0;32m    162\u001b[0m     func \u001b[39m=\u001b[39m partial(expressions\u001b[39m.\u001b[39mevaluate, op)\n\u001b[0;32m    164\u001b[0m \u001b[39mtry\u001b[39;00m:\n\u001b[1;32m--> 165\u001b[0m     result \u001b[39m=\u001b[39m func(left, right)\n\u001b[0;32m    166\u001b[0m \u001b[39mexcept\u001b[39;00m \u001b[39mTypeError\u001b[39;00m:\n\u001b[0;32m    167\u001b[0m     \u001b[39mif\u001b[39;00m \u001b[39mnot\u001b[39;00m is_cmp \u001b[39mand\u001b[39;00m (is_object_dtype(left\u001b[39m.\u001b[39mdtype) \u001b[39mor\u001b[39;00m is_object_dtype(right)):\n\u001b[0;32m    168\u001b[0m         \u001b[39m# For object dtype, fallback to a masked operation (only operating\u001b[39;00m\n\u001b[0;32m    169\u001b[0m         \u001b[39m#  on the non-missing values)\u001b[39;00m\n\u001b[0;32m    170\u001b[0m         \u001b[39m# Don't do this for comparisons, as that will handle complex numbers\u001b[39;00m\n\u001b[0;32m    171\u001b[0m         \u001b[39m#  incorrectly, see GH#32047\u001b[39;00m\n",
      "File \u001b[1;32mc:\\Users\\david\\anaconda3\\envs\\test_env\\lib\\site-packages\\pandas\\core\\computation\\expressions.py:241\u001b[0m, in \u001b[0;36mevaluate\u001b[1;34m(op, a, b, use_numexpr)\u001b[0m\n\u001b[0;32m    238\u001b[0m \u001b[39mif\u001b[39;00m op_str \u001b[39mis\u001b[39;00m \u001b[39mnot\u001b[39;00m \u001b[39mNone\u001b[39;00m:\n\u001b[0;32m    239\u001b[0m     \u001b[39mif\u001b[39;00m use_numexpr:\n\u001b[0;32m    240\u001b[0m         \u001b[39m# error: \"None\" not callable\u001b[39;00m\n\u001b[1;32m--> 241\u001b[0m         \u001b[39mreturn\u001b[39;00m _evaluate(op, op_str, a, b)  \u001b[39m# type: ignore[misc]\u001b[39;00m\n\u001b[0;32m    242\u001b[0m \u001b[39mreturn\u001b[39;00m _evaluate_standard(op, op_str, a, b)\n",
      "File \u001b[1;32mc:\\Users\\david\\anaconda3\\envs\\test_env\\lib\\site-packages\\pandas\\core\\computation\\expressions.py:70\u001b[0m, in \u001b[0;36m_evaluate_standard\u001b[1;34m(op, op_str, a, b)\u001b[0m\n\u001b[0;32m     68\u001b[0m \u001b[39mif\u001b[39;00m _TEST_MODE:\n\u001b[0;32m     69\u001b[0m     _store_test_result(\u001b[39mFalse\u001b[39;00m)\n\u001b[1;32m---> 70\u001b[0m \u001b[39mreturn\u001b[39;00m op(a, b)\n",
      "\u001b[1;31mKeyboardInterrupt\u001b[0m: "
     ]
    }
   ],
   "source": [
    "predictors = [Knn(5, max_item + 1, 20)]\n",
    "# training_size = [10000, 200000, 500000, 1000000]\n",
    "training_size = [10000, 50000, 10000, 200000, 300000]\n",
    "accuracy = dict()\n",
    "mrr_accuracy = dict()\n",
    "time_perf_train = []\n",
    "time_perf_test = dict()\n",
    "k_values = [3, 5, 10, 15, 20, 30, 50, 100]\n",
    "test_size = 10000\n",
    "\n",
    "# max_item = np.max(pd.unique(data[\"ItemId\"]))\n",
    "# prd._max_item_id = max_item + 1\n",
    "\n",
    "for prd in predictors:\n",
    "    for train_size in training_size:\n",
    "        print(data_train.shape)\n",
    "        train_set, test_set ,train_size= data_manip.train_test_split(data_train,train_size, test_size)\n",
    "        mrr_accuracy[train_size] = []\n",
    "\n",
    "        t0 = time.time()\n",
    "        prd.fit(train_set)\n",
    "        time_perf_train.append(time.time() - t0)\n",
    "        test_set, test_target = data_manip.prepare_data_for_test(test_set)\n",
    "        for k in k_values:\n",
    "            prd._k = k\n",
    "            predicted = prd.predict(test_set)\n",
    "            mrr_accuracy[train_size].append(mean_reciprocal_rank(predicted, test_target))\n",
    "\n",
    "pyplot.figure()\n",
    "for size in training_size:\n",
    "    pyplot.plot(k_values, mrr_accuracy[size], label=f\"t_size={size}\")\n",
    "pyplot.xlabel(\"k\")\n",
    "pyplot.ylabel(\"Accuracy\")\n",
    "pyplot.legend()\n",
    "pyplot.show()\n",
    "\n",
    "pyplot.figure()\n",
    "pyplot.plot(training_size, time_perf_train, label=\"time of train\")\n",
    "pyplot.xlabel('train session size')\n",
    "pyplot.ylabel('time')\n",
    "pyplot.legend()\n",
    "pyplot.show()\n"
   ]
  },
  {
   "cell_type": "code",
   "execution_count": null,
   "metadata": {},
   "outputs": [],
   "source": []
  }
 ],
 "metadata": {
  "kernelspec": {
   "display_name": "test_env",
   "language": "python",
   "name": "python3"
  },
  "language_info": {
   "codemirror_mode": {
    "name": "ipython",
    "version": 3
   },
   "file_extension": ".py",
   "mimetype": "text/x-python",
   "name": "python",
   "nbconvert_exporter": "python",
   "pygments_lexer": "ipython3",
   "version": "3.9.15"
  },
  "orig_nbformat": 4,
  "vscode": {
   "interpreter": {
    "hash": "d6bace2615996ce0f9dd3fcc17ac4b8074ae39e72da190be0163d9cfbb115a62"
   }
  }
 },
 "nbformat": 4,
 "nbformat_minor": 2
}
