{
 "cells": [
  {
   "attachments": {},
   "cell_type": "markdown",
   "metadata": {},
   "source": [
    "# Experimentation of KNN"
   ]
  },
  {
   "cell_type": "code",
   "execution_count": 1,
   "metadata": {},
   "outputs": [
    {
     "name": "stdout",
     "output_type": "stream",
     "text": [
      "Requirement already satisfied: session_rec_introml in c:\\users\\david\\anaconda3\\envs\\test_env\\lib\\site-packages\\session_rec_introml-0.0.1-py3.9.egg (0.0.1)\n"
     ]
    }
   ],
   "source": [
    "!python -m pip install session_rec_introml"
   ]
  },
  {
   "cell_type": "code",
   "execution_count": 1,
   "metadata": {},
   "outputs": [],
   "source": [
    "import pandas as pd\n",
    "from sklearn.model_selection import train_test_split\n",
    "from matplotlib import pyplot\n",
    "import numpy as np\n",
    "from model import Knn, ItemKnn\n",
    "from data import DataManipulation\n",
    "from evaluation.EvaluationMetric import mean_reciprocal_rank, hit_rate\n",
    "import time\n",
    "from sklearn.model_selection import LeaveOneOut\n",
    "\n"
   ]
  },
  {
   "attachments": {},
   "cell_type": "markdown",
   "metadata": {},
   "source": [
    "## load Data and initialization"
   ]
  },
  {
   "cell_type": "code",
   "execution_count": 2,
   "metadata": {},
   "outputs": [
    {
     "name": "stdout",
     "output_type": "stream",
     "text": [
      "train size was modified real train session size is None\n"
     ]
    }
   ],
   "source": [
    "data_manip = DataManipulation()\n",
    "data = pd.read_csv(\"../sigir_train_full.txt\")\n",
    "\n",
    "data_train, data_test, _ = data_manip.train_test_split(data, None, 0.25)\n",
    "max_item = np.max(pd.unique(data[\"ItemId\"]))\n"
   ]
  },
  {
   "attachments": {},
   "cell_type": "markdown",
   "metadata": {},
   "source": [
    "## ItemKNN Test"
   ]
  },
  {
   "cell_type": "code",
   "execution_count": 4,
   "metadata": {},
   "outputs": [
    {
     "name": "stderr",
     "output_type": "stream",
     "text": [
      "100%|██████████| 1862/1862 [00:01<00:00, 1547.81it/s]\n",
      "100%|██████████| 1957/1957 [00:01<00:00, 1341.22it/s]\n",
      "100%|██████████| 1957/1957 [00:01<00:00, 1471.02it/s]\n",
      "100%|██████████| 1957/1957 [00:01<00:00, 1557.26it/s]\n",
      "100%|██████████| 1957/1957 [00:01<00:00, 1619.35it/s]\n",
      "100%|██████████| 1957/1957 [00:01<00:00, 1746.61it/s]\n",
      "100%|██████████| 1957/1957 [00:01<00:00, 1548.87it/s]\n",
      "100%|██████████| 1957/1957 [00:01<00:00, 1753.00it/s]\n",
      "100%|██████████| 1957/1957 [00:01<00:00, 1658.11it/s]\n",
      "100%|██████████| 1957/1957 [00:01<00:00, 1724.69it/s]\n",
      "100%|██████████| 1957/1957 [00:01<00:00, 1530.05it/s]\n",
      "100%|██████████| 1957/1957 [00:01<00:00, 1500.73it/s]\n",
      "100%|██████████| 1957/1957 [00:01<00:00, 1143.59it/s]\n",
      "100%|██████████| 1957/1957 [00:01<00:00, 1377.69it/s]\n",
      "100%|██████████| 1957/1957 [00:01<00:00, 1341.00it/s]\n",
      "100%|██████████| 1957/1957 [00:01<00:00, 1387.87it/s]\n",
      "100%|██████████| 1957/1957 [00:01<00:00, 1603.01it/s]\n",
      "100%|██████████| 37928/37928 [00:29<00:00, 1295.40it/s]\n",
      "100%|██████████| 1898/1898 [00:01<00:00, 977.44it/s] \n",
      "100%|██████████| 1898/1898 [00:01<00:00, 1231.92it/s]\n",
      "100%|██████████| 1898/1898 [00:01<00:00, 1290.82it/s]\n",
      "100%|██████████| 1898/1898 [00:01<00:00, 1494.61it/s]\n",
      "100%|██████████| 1898/1898 [00:01<00:00, 1616.83it/s]\n",
      "100%|██████████| 1898/1898 [00:01<00:00, 1553.04it/s]\n",
      "100%|██████████| 1898/1898 [00:01<00:00, 1510.63it/s]\n",
      "100%|██████████| 1898/1898 [00:01<00:00, 1576.90it/s]\n",
      "100%|██████████| 1898/1898 [00:01<00:00, 1382.63it/s]\n",
      "100%|██████████| 1898/1898 [00:01<00:00, 1449.86it/s]\n",
      "100%|██████████| 1898/1898 [00:01<00:00, 1120.88it/s]\n",
      "100%|██████████| 1898/1898 [00:01<00:00, 1018.48it/s]\n",
      "100%|██████████| 1898/1898 [00:01<00:00, 1426.44it/s]\n",
      "100%|██████████| 1898/1898 [00:01<00:00, 1455.58it/s]\n",
      "100%|██████████| 1898/1898 [00:01<00:00, 1531.62it/s]\n",
      "100%|██████████| 1898/1898 [00:01<00:00, 1551.06it/s]\n"
     ]
    },
    {
     "data": {
      "image/png": "[encoded data removed]",
      "text/plain": [
       "<Figure size 640x480 with 1 Axes>"
      ]
     },
     "metadata": {},
     "output_type": "display_data"
    }
   ],
   "source": [
    "predictors = [ItemKnn(5, max_item + 1)]\n",
    "training_size = [10000, 200000, 500000, 1000000]\n",
    "training_size = [10000, 200000]\n",
    "accuracy = dict()\n",
    "mrr_accuracy = dict()\n",
    "k_values = [3, 5, 10, 15, 20, 30, 50, 100]\n",
    "# k_values = [3]\n",
    "test_size = 10000\n",
    "\n",
    "for prd in predictors:\n",
    "    for train_size in training_size:\n",
    "        # train_set, test_set = train_test_split(data,test_size=test_size,train_size=train_size)\n",
    "        accuracy[train_size] = []\n",
    "        mrr_accuracy[train_size] = []\n",
    "        train_set = data[:train_size]\n",
    "        test_set = data[train_size : train_size + test_size]\n",
    "        max_item = np.max(pd.unique(train_set[\"ItemId\"]))\n",
    "        prd._max_item_id = max_item + 1\n",
    "        prd.fit(train_set)\n",
    "        test_set, test_target = data_manip.prepare_data_for_test(test_set)\n",
    "        for k in k_values:\n",
    "            prd._k = k\n",
    "            accuracy[train_size].append(prd.score(test_set, test_target))\n",
    "            mrr_accuracy[train_size].append(prd.mrr_score(test_set, test_target))\n",
    "\n",
    "\n",
    "pyplot.figure()\n",
    "for size in training_size:\n",
    "    pyplot.plot(k_values, mrr_accuracy[size], label=f\"t_size={size}\")\n",
    "pyplot.xlabel(\"k\")\n",
    "pyplot.ylabel(\"Accuracy\")\n",
    "pyplot.legend()\n",
    "pyplot.show()"
   ]
  },
  {
   "cell_type": "code",
   "execution_count": null,
   "metadata": {},
   "outputs": [],
   "source": [
    "k_values = [3, 11, 25, 35, 75]\n",
    "prediction_numbers = [5,10,20]\n",
    "scores = [[],[],[]]\n",
    "count_p = 0\n",
    "data_train_fine, _, _ = data_manip.train_test_split(data_train, 80000, None)\n",
    "for p_numbers in prediction_numbers:\n",
    "    \n",
    "    for k in k_values:\n",
    "\n",
    "        knn = Knn(k, max_item + 1, p_numbers)\n",
    "\n",
    "        count = 0\n",
    "        train_acc, valid_acc = 0, 0\n",
    "        for train_d, train_t in data_manip.kFold_split(data_train_fine, 5):\n",
    "            print(f\"train_d size : {train_d.shape}\")\n",
    "            print(f\"train_t size : {train_t.shape}\")\n",
    "            knn.fit(train_d)\n",
    "            print(f\"knn k : {knn._k}\")\n",
    "\n",
    "            test_set, test_target = data_manip.prepare_data_for_test(train_t)\n",
    "            y_hat = knn.predict(test_set)\n",
    "            valid_acc += mean_reciprocal_rank(y_hat, test_target)\n",
    "            # valid_acc += knn.mrr_score(test_set, test_target)\n",
    "            count += 1\n",
    "        scores[count_p].append(valid_acc/count)\n",
    "    count_p += 1\n",
    "\n",
    "fig = pyplot.figure()\n",
    "ax = fig.add_subplot(111)\n",
    "\n",
    "ax.set_title('Session - K_nn avec des nombres de prédictions différents')  # À modifier / to be modified\n",
    "ax.plot(k_values, scores[0], 'r--', label=f\"Nombre de prédictions : {prediction_numbers[0]}\") # À compléter / to be completed\n",
    "ax.plot(k_values, scores[1], 'b--', label=f\"Nombre de prédictions : {prediction_numbers[1]}\") # À compléter / to be completed\n",
    "ax.plot(k_values, scores[2], 'y--', label=f\"Nombre de prédictions : {prediction_numbers[2]}\")\n",
    "ax.set_xticks(k_values, k_values)\n",
    "ax.grid(axis='x')\n",
    "ax.set_xlabel(\"Values of K\")\n",
    "ax.set_ylabel(\"MRR\")\n",
    "pyplot.legend()\n",
    "pyplot.show()"
   ]
  },
  {
   "attachments": {},
   "cell_type": "markdown",
   "metadata": {},
   "source": [
    "### SKNN Tests"
   ]
  },
  {
   "attachments": {},
   "cell_type": "markdown",
   "metadata": {},
   "source": [
    "Le but de cette expérience est de présenter les résultats de l'algorithmo session based Knn pou rl'apprentissage des recommandations à partir de l'algorithme Knn basé sur une session. Cette méthode Session Based Knn se base sur l'ensemble des actions de l'utilisateur actuelle et considère les k-sessions apprises les plus similaires. C'est ainsi qu'étant donné une session s, un ensemble de K sessions  voisines et une fonction de similarité retournant le score de similarité entre les différentes sessionsvoisines et la la session à évaluer "
   ]
  },
  {
   "cell_type": "code",
   "execution_count": 12,
   "metadata": {},
   "outputs": [
    {
     "name": "stdout",
     "output_type": "stream",
     "text": [
      "train size was modified real train session size is 80000\n",
      "train_d size : (34312, 3)\n",
      "train_t size : (8317, 3)\n"
     ]
    },
    {
     "name": "stderr",
     "output_type": "stream",
     "text": [
      "c:\\Users\\david\\anaconda3\\envs\\test_env\\lib\\site-packages\\tqdm\\std.py:1180: FutureWarning: In a future version of pandas, a length 1 tuple will be returned when iterating over a groupby with a grouper equal to a list of length 1. Don't supply a list with a single grouper to avoid this warning.\n",
      "  for obj in iterable:\n",
      "100%|██████████| 6402/6402 [00:01<00:00, 3208.32it/s]\n"
     ]
    },
    {
     "name": "stdout",
     "output_type": "stream",
     "text": [
      "knn k : 3\n"
     ]
    },
    {
     "name": "stderr",
     "output_type": "stream",
     "text": [
      "c:\\Users\\david\\anaconda3\\envs\\test_env\\lib\\site-packages\\tqdm\\std.py:1180: FutureWarning: In a future version of pandas, a length 1 tuple will be returned when iterating over a groupby with a grouper equal to a list of length 1. Don't supply a list with a single grouper to avoid this warning.\n",
      "  for obj in iterable:\n",
      "100%|██████████| 1625/1625 [00:00<00:00, 4140.54it/s]\n",
      "c:\\Users\\david\\anaconda3\\envs\\test_env\\lib\\site-packages\\tqdm\\std.py:1180: FutureWarning: In a future version of pandas, a length 1 tuple will be returned when iterating over a groupby with a grouper equal to a list of length 1. Don't supply a list with a single grouper to avoid this warning.\n",
      "  for obj in iterable:\n",
      "100%|██████████| 1625/1625 [00:00<00:00, 4958.06it/s]\n",
      "c:\\Users\\david\\anaconda3\\envs\\test_env\\lib\\site-packages\\tqdm\\std.py:1180: FutureWarning: In a future version of pandas, a length 1 tuple will be returned when iterating over a groupby with a grouper equal to a list of length 1. Don't supply a list with a single grouper to avoid this warning.\n",
      "  for obj in iterable:\n",
      "100%|██████████| 1625/1625 [00:04<00:00, 352.43it/s]\n"
     ]
    },
    {
     "name": "stdout",
     "output_type": "stream",
     "text": [
      "train_d size : (34398, 3)\n",
      "train_t size : (8231, 3)\n"
     ]
    },
    {
     "name": "stderr",
     "output_type": "stream",
     "text": [
      "c:\\Users\\david\\anaconda3\\envs\\test_env\\lib\\site-packages\\tqdm\\std.py:1180: FutureWarning: In a future version of pandas, a length 1 tuple will be returned when iterating over a groupby with a grouper equal to a list of length 1. Don't supply a list with a single grouper to avoid this warning.\n",
      "  for obj in iterable:\n",
      "100%|██████████| 6414/6414 [00:01<00:00, 4791.86it/s]\n"
     ]
    },
    {
     "name": "stdout",
     "output_type": "stream",
     "text": [
      "knn k : 3\n"
     ]
    },
    {
     "name": "stderr",
     "output_type": "stream",
     "text": [
      "c:\\Users\\david\\anaconda3\\envs\\test_env\\lib\\site-packages\\tqdm\\std.py:1180: FutureWarning: In a future version of pandas, a length 1 tuple will be returned when iterating over a groupby with a grouper equal to a list of length 1. Don't supply a list with a single grouper to avoid this warning.\n",
      "  for obj in iterable:\n",
      "100%|██████████| 1613/1613 [00:00<00:00, 5142.25it/s]\n",
      "c:\\Users\\david\\anaconda3\\envs\\test_env\\lib\\site-packages\\tqdm\\std.py:1180: FutureWarning: In a future version of pandas, a length 1 tuple will be returned when iterating over a groupby with a grouper equal to a list of length 1. Don't supply a list with a single grouper to avoid this warning.\n",
      "  for obj in iterable:\n",
      "100%|██████████| 1613/1613 [00:00<00:00, 4910.35it/s]\n",
      "c:\\Users\\david\\anaconda3\\envs\\test_env\\lib\\site-packages\\tqdm\\std.py:1180: FutureWarning: In a future version of pandas, a length 1 tuple will be returned when iterating over a groupby with a grouper equal to a list of length 1. Don't supply a list with a single grouper to avoid this warning.\n",
      "  for obj in iterable:\n",
      "100%|██████████| 1613/1613 [00:04<00:00, 357.25it/s]\n"
     ]
    },
    {
     "name": "stdout",
     "output_type": "stream",
     "text": [
      "train_d size : (33532, 3)\n",
      "train_t size : (9097, 3)\n"
     ]
    },
    {
     "name": "stderr",
     "output_type": "stream",
     "text": [
      "c:\\Users\\david\\anaconda3\\envs\\test_env\\lib\\site-packages\\tqdm\\std.py:1180: FutureWarning: In a future version of pandas, a length 1 tuple will be returned when iterating over a groupby with a grouper equal to a list of length 1. Don't supply a list with a single grouper to avoid this warning.\n",
      "  for obj in iterable:\n",
      "100%|██████████| 6365/6365 [00:01<00:00, 4164.12it/s]\n"
     ]
    },
    {
     "name": "stdout",
     "output_type": "stream",
     "text": [
      "knn k : 3\n"
     ]
    },
    {
     "name": "stderr",
     "output_type": "stream",
     "text": [
      "c:\\Users\\david\\anaconda3\\envs\\test_env\\lib\\site-packages\\tqdm\\std.py:1180: FutureWarning: In a future version of pandas, a length 1 tuple will be returned when iterating over a groupby with a grouper equal to a list of length 1. Don't supply a list with a single grouper to avoid this warning.\n",
      "  for obj in iterable:\n",
      "100%|██████████| 1662/1662 [00:00<00:00, 5514.50it/s]\n",
      "c:\\Users\\david\\anaconda3\\envs\\test_env\\lib\\site-packages\\tqdm\\std.py:1180: FutureWarning: In a future version of pandas, a length 1 tuple will be returned when iterating over a groupby with a grouper equal to a list of length 1. Don't supply a list with a single grouper to avoid this warning.\n",
      "  for obj in iterable:\n",
      "100%|██████████| 1662/1662 [00:00<00:00, 4698.60it/s]\n",
      "c:\\Users\\david\\anaconda3\\envs\\test_env\\lib\\site-packages\\tqdm\\std.py:1180: FutureWarning: In a future version of pandas, a length 1 tuple will be returned when iterating over a groupby with a grouper equal to a list of length 1. Don't supply a list with a single grouper to avoid this warning.\n",
      "  for obj in iterable:\n",
      "100%|██████████| 1662/1662 [00:04<00:00, 400.53it/s]\n"
     ]
    },
    {
     "name": "stdout",
     "output_type": "stream",
     "text": [
      "train_d size : (33890, 3)\n",
      "train_t size : (8739, 3)\n"
     ]
    },
    {
     "name": "stderr",
     "output_type": "stream",
     "text": [
      "c:\\Users\\david\\anaconda3\\envs\\test_env\\lib\\site-packages\\tqdm\\std.py:1180: FutureWarning: In a future version of pandas, a length 1 tuple will be returned when iterating over a groupby with a grouper equal to a list of length 1. Don't supply a list with a single grouper to avoid this warning.\n",
      "  for obj in iterable:\n",
      "100%|██████████| 6420/6420 [00:01<00:00, 4182.52it/s]\n"
     ]
    },
    {
     "name": "stdout",
     "output_type": "stream",
     "text": [
      "knn k : 3\n"
     ]
    },
    {
     "name": "stderr",
     "output_type": "stream",
     "text": [
      "c:\\Users\\david\\anaconda3\\envs\\test_env\\lib\\site-packages\\tqdm\\std.py:1180: FutureWarning: In a future version of pandas, a length 1 tuple will be returned when iterating over a groupby with a grouper equal to a list of length 1. Don't supply a list with a single grouper to avoid this warning.\n",
      "  for obj in iterable:\n",
      "100%|██████████| 1607/1607 [00:00<00:00, 9703.73it/s]\n",
      "c:\\Users\\david\\anaconda3\\envs\\test_env\\lib\\site-packages\\tqdm\\std.py:1180: FutureWarning: In a future version of pandas, a length 1 tuple will be returned when iterating over a groupby with a grouper equal to a list of length 1. Don't supply a list with a single grouper to avoid this warning.\n",
      "  for obj in iterable:\n",
      "100%|██████████| 1607/1607 [00:00<00:00, 5192.94it/s]\n",
      "c:\\Users\\david\\anaconda3\\envs\\test_env\\lib\\site-packages\\tqdm\\std.py:1180: FutureWarning: In a future version of pandas, a length 1 tuple will be returned when iterating over a groupby with a grouper equal to a list of length 1. Don't supply a list with a single grouper to avoid this warning.\n",
      "  for obj in iterable:\n",
      "100%|██████████| 1607/1607 [00:03<00:00, 479.81it/s]\n"
     ]
    },
    {
     "name": "stdout",
     "output_type": "stream",
     "text": [
      "train_d size : (34384, 3)\n",
      "train_t size : (8245, 3)\n"
     ]
    },
    {
     "name": "stderr",
     "output_type": "stream",
     "text": [
      "c:\\Users\\david\\anaconda3\\envs\\test_env\\lib\\site-packages\\tqdm\\std.py:1180: FutureWarning: In a future version of pandas, a length 1 tuple will be returned when iterating over a groupby with a grouper equal to a list of length 1. Don't supply a list with a single grouper to avoid this warning.\n",
      "  for obj in iterable:\n",
      "100%|██████████| 6507/6507 [00:01<00:00, 4484.38it/s]\n"
     ]
    },
    {
     "name": "stdout",
     "output_type": "stream",
     "text": [
      "knn k : 3\n"
     ]
    },
    {
     "name": "stderr",
     "output_type": "stream",
     "text": [
      "c:\\Users\\david\\anaconda3\\envs\\test_env\\lib\\site-packages\\tqdm\\std.py:1180: FutureWarning: In a future version of pandas, a length 1 tuple will be returned when iterating over a groupby with a grouper equal to a list of length 1. Don't supply a list with a single grouper to avoid this warning.\n",
      "  for obj in iterable:\n",
      "100%|██████████| 1520/1520 [00:00<00:00, 9816.16it/s] \n",
      "c:\\Users\\david\\anaconda3\\envs\\test_env\\lib\\site-packages\\tqdm\\std.py:1180: FutureWarning: In a future version of pandas, a length 1 tuple will be returned when iterating over a groupby with a grouper equal to a list of length 1. Don't supply a list with a single grouper to avoid this warning.\n",
      "  for obj in iterable:\n",
      "100%|██████████| 1520/1520 [00:00<00:00, 5203.19it/s]\n",
      "c:\\Users\\david\\anaconda3\\envs\\test_env\\lib\\site-packages\\tqdm\\std.py:1180: FutureWarning: In a future version of pandas, a length 1 tuple will be returned when iterating over a groupby with a grouper equal to a list of length 1. Don't supply a list with a single grouper to avoid this warning.\n",
      "  for obj in iterable:\n",
      "100%|██████████| 1520/1520 [00:03<00:00, 406.40it/s]\n"
     ]
    },
    {
     "name": "stdout",
     "output_type": "stream",
     "text": [
      "train_d size : (34254, 3)\n",
      "train_t size : (8375, 3)\n"
     ]
    },
    {
     "name": "stderr",
     "output_type": "stream",
     "text": [
      "c:\\Users\\david\\anaconda3\\envs\\test_env\\lib\\site-packages\\tqdm\\std.py:1180: FutureWarning: In a future version of pandas, a length 1 tuple will be returned when iterating over a groupby with a grouper equal to a list of length 1. Don't supply a list with a single grouper to avoid this warning.\n",
      "  for obj in iterable:\n",
      "100%|██████████| 6457/6457 [00:01<00:00, 4505.60it/s]\n"
     ]
    },
    {
     "name": "stdout",
     "output_type": "stream",
     "text": [
      "knn k : 11\n"
     ]
    },
    {
     "name": "stderr",
     "output_type": "stream",
     "text": [
      "c:\\Users\\david\\anaconda3\\envs\\test_env\\lib\\site-packages\\tqdm\\std.py:1180: FutureWarning: In a future version of pandas, a length 1 tuple will be returned when iterating over a groupby with a grouper equal to a list of length 1. Don't supply a list with a single grouper to avoid this warning.\n",
      "  for obj in iterable:\n",
      "100%|██████████| 1570/1570 [00:00<00:00, 8680.76it/s]\n",
      "c:\\Users\\david\\anaconda3\\envs\\test_env\\lib\\site-packages\\tqdm\\std.py:1180: FutureWarning: In a future version of pandas, a length 1 tuple will be returned when iterating over a groupby with a grouper equal to a list of length 1. Don't supply a list with a single grouper to avoid this warning.\n",
      "  for obj in iterable:\n",
      "100%|██████████| 1570/1570 [00:00<00:00, 4197.73it/s]\n",
      "c:\\Users\\david\\anaconda3\\envs\\test_env\\lib\\site-packages\\tqdm\\std.py:1180: FutureWarning: In a future version of pandas, a length 1 tuple will be returned when iterating over a groupby with a grouper equal to a list of length 1. Don't supply a list with a single grouper to avoid this warning.\n",
      "  for obj in iterable:\n",
      "100%|██████████| 1570/1570 [00:03<00:00, 394.56it/s]\n"
     ]
    },
    {
     "name": "stdout",
     "output_type": "stream",
     "text": [
      "train_d size : (34034, 3)\n",
      "train_t size : (8595, 3)\n"
     ]
    },
    {
     "name": "stderr",
     "output_type": "stream",
     "text": [
      "c:\\Users\\david\\anaconda3\\envs\\test_env\\lib\\site-packages\\tqdm\\std.py:1180: FutureWarning: In a future version of pandas, a length 1 tuple will be returned when iterating over a groupby with a grouper equal to a list of length 1. Don't supply a list with a single grouper to avoid this warning.\n",
      "  for obj in iterable:\n",
      "100%|██████████| 6416/6416 [00:01<00:00, 3943.66it/s]\n"
     ]
    },
    {
     "name": "stdout",
     "output_type": "stream",
     "text": [
      "knn k : 11\n"
     ]
    },
    {
     "name": "stderr",
     "output_type": "stream",
     "text": [
      "c:\\Users\\david\\anaconda3\\envs\\test_env\\lib\\site-packages\\tqdm\\std.py:1180: FutureWarning: In a future version of pandas, a length 1 tuple will be returned when iterating over a groupby with a grouper equal to a list of length 1. Don't supply a list with a single grouper to avoid this warning.\n",
      "  for obj in iterable:\n",
      "100%|██████████| 1611/1611 [00:00<00:00, 12203.62it/s]\n",
      "c:\\Users\\david\\anaconda3\\envs\\test_env\\lib\\site-packages\\tqdm\\std.py:1180: FutureWarning: In a future version of pandas, a length 1 tuple will be returned when iterating over a groupby with a grouper equal to a list of length 1. Don't supply a list with a single grouper to avoid this warning.\n",
      "  for obj in iterable:\n",
      "100%|██████████| 1611/1611 [00:00<00:00, 5479.60it/s]\n",
      "c:\\Users\\david\\anaconda3\\envs\\test_env\\lib\\site-packages\\tqdm\\std.py:1180: FutureWarning: In a future version of pandas, a length 1 tuple will be returned when iterating over a groupby with a grouper equal to a list of length 1. Don't supply a list with a single grouper to avoid this warning.\n",
      "  for obj in iterable:\n",
      "100%|██████████| 1611/1611 [00:03<00:00, 498.29it/s]\n"
     ]
    },
    {
     "name": "stdout",
     "output_type": "stream",
     "text": [
      "train_d size : (34228, 3)\n",
      "train_t size : (8401, 3)\n"
     ]
    },
    {
     "name": "stderr",
     "output_type": "stream",
     "text": [
      "c:\\Users\\david\\anaconda3\\envs\\test_env\\lib\\site-packages\\tqdm\\std.py:1180: FutureWarning: In a future version of pandas, a length 1 tuple will be returned when iterating over a groupby with a grouper equal to a list of length 1. Don't supply a list with a single grouper to avoid this warning.\n",
      "  for obj in iterable:\n",
      "100%|██████████| 6432/6432 [00:01<00:00, 3704.49it/s]\n"
     ]
    },
    {
     "name": "stdout",
     "output_type": "stream",
     "text": [
      "knn k : 11\n"
     ]
    },
    {
     "name": "stderr",
     "output_type": "stream",
     "text": [
      "c:\\Users\\david\\anaconda3\\envs\\test_env\\lib\\site-packages\\tqdm\\std.py:1180: FutureWarning: In a future version of pandas, a length 1 tuple will be returned when iterating over a groupby with a grouper equal to a list of length 1. Don't supply a list with a single grouper to avoid this warning.\n",
      "  for obj in iterable:\n",
      "100%|██████████| 1595/1595 [00:00<00:00, 10803.79it/s]\n",
      "c:\\Users\\david\\anaconda3\\envs\\test_env\\lib\\site-packages\\tqdm\\std.py:1180: FutureWarning: In a future version of pandas, a length 1 tuple will be returned when iterating over a groupby with a grouper equal to a list of length 1. Don't supply a list with a single grouper to avoid this warning.\n",
      "  for obj in iterable:\n",
      "100%|██████████| 1595/1595 [00:00<00:00, 5319.31it/s]\n",
      "c:\\Users\\david\\anaconda3\\envs\\test_env\\lib\\site-packages\\tqdm\\std.py:1180: FutureWarning: In a future version of pandas, a length 1 tuple will be returned when iterating over a groupby with a grouper equal to a list of length 1. Don't supply a list with a single grouper to avoid this warning.\n",
      "  for obj in iterable:\n",
      "100%|██████████| 1595/1595 [00:02<00:00, 535.49it/s]\n"
     ]
    },
    {
     "name": "stdout",
     "output_type": "stream",
     "text": [
      "train_d size : (33876, 3)\n",
      "train_t size : (8753, 3)\n"
     ]
    },
    {
     "name": "stderr",
     "output_type": "stream",
     "text": [
      "c:\\Users\\david\\anaconda3\\envs\\test_env\\lib\\site-packages\\tqdm\\std.py:1180: FutureWarning: In a future version of pandas, a length 1 tuple will be returned when iterating over a groupby with a grouper equal to a list of length 1. Don't supply a list with a single grouper to avoid this warning.\n",
      "  for obj in iterable:\n",
      "100%|██████████| 6444/6444 [00:01<00:00, 5129.19it/s]\n"
     ]
    },
    {
     "name": "stdout",
     "output_type": "stream",
     "text": [
      "knn k : 11\n"
     ]
    },
    {
     "name": "stderr",
     "output_type": "stream",
     "text": [
      "c:\\Users\\david\\anaconda3\\envs\\test_env\\lib\\site-packages\\tqdm\\std.py:1180: FutureWarning: In a future version of pandas, a length 1 tuple will be returned when iterating over a groupby with a grouper equal to a list of length 1. Don't supply a list with a single grouper to avoid this warning.\n",
      "  for obj in iterable:\n",
      "100%|██████████| 1583/1583 [00:00<00:00, 6328.98it/s]\n",
      "c:\\Users\\david\\anaconda3\\envs\\test_env\\lib\\site-packages\\tqdm\\std.py:1180: FutureWarning: In a future version of pandas, a length 1 tuple will be returned when iterating over a groupby with a grouper equal to a list of length 1. Don't supply a list with a single grouper to avoid this warning.\n",
      "  for obj in iterable:\n",
      "100%|██████████| 1583/1583 [00:00<00:00, 5624.99it/s]\n",
      "c:\\Users\\david\\anaconda3\\envs\\test_env\\lib\\site-packages\\tqdm\\std.py:1180: FutureWarning: In a future version of pandas, a length 1 tuple will be returned when iterating over a groupby with a grouper equal to a list of length 1. Don't supply a list with a single grouper to avoid this warning.\n",
      "  for obj in iterable:\n",
      "100%|██████████| 1583/1583 [00:03<00:00, 479.46it/s]\n"
     ]
    },
    {
     "name": "stdout",
     "output_type": "stream",
     "text": [
      "train_d size : (34124, 3)\n",
      "train_t size : (8505, 3)\n"
     ]
    },
    {
     "name": "stderr",
     "output_type": "stream",
     "text": [
      "c:\\Users\\david\\anaconda3\\envs\\test_env\\lib\\site-packages\\tqdm\\std.py:1180: FutureWarning: In a future version of pandas, a length 1 tuple will be returned when iterating over a groupby with a grouper equal to a list of length 1. Don't supply a list with a single grouper to avoid this warning.\n",
      "  for obj in iterable:\n",
      "100%|██████████| 6359/6359 [00:02<00:00, 3026.22it/s]\n"
     ]
    },
    {
     "name": "stdout",
     "output_type": "stream",
     "text": [
      "knn k : 11\n"
     ]
    },
    {
     "name": "stderr",
     "output_type": "stream",
     "text": [
      "c:\\Users\\david\\anaconda3\\envs\\test_env\\lib\\site-packages\\tqdm\\std.py:1180: FutureWarning: In a future version of pandas, a length 1 tuple will be returned when iterating over a groupby with a grouper equal to a list of length 1. Don't supply a list with a single grouper to avoid this warning.\n",
      "  for obj in iterable:\n",
      "100%|██████████| 1668/1668 [00:00<00:00, 4137.61it/s]\n",
      "c:\\Users\\david\\anaconda3\\envs\\test_env\\lib\\site-packages\\tqdm\\std.py:1180: FutureWarning: In a future version of pandas, a length 1 tuple will be returned when iterating over a groupby with a grouper equal to a list of length 1. Don't supply a list with a single grouper to avoid this warning.\n",
      "  for obj in iterable:\n",
      "100%|██████████| 1668/1668 [00:00<00:00, 3132.55it/s]\n",
      "c:\\Users\\david\\anaconda3\\envs\\test_env\\lib\\site-packages\\tqdm\\std.py:1180: FutureWarning: In a future version of pandas, a length 1 tuple will be returned when iterating over a groupby with a grouper equal to a list of length 1. Don't supply a list with a single grouper to avoid this warning.\n",
      "  for obj in iterable:\n",
      "100%|██████████| 1668/1668 [00:04<00:00, 373.07it/s]\n"
     ]
    },
    {
     "name": "stdout",
     "output_type": "stream",
     "text": [
      "train_d size : (34225, 3)\n",
      "train_t size : (8404, 3)\n"
     ]
    },
    {
     "name": "stderr",
     "output_type": "stream",
     "text": [
      "c:\\Users\\david\\anaconda3\\envs\\test_env\\lib\\site-packages\\tqdm\\std.py:1180: FutureWarning: In a future version of pandas, a length 1 tuple will be returned when iterating over a groupby with a grouper equal to a list of length 1. Don't supply a list with a single grouper to avoid this warning.\n",
      "  for obj in iterable:\n",
      "100%|██████████| 6464/6464 [00:01<00:00, 3239.69it/s]\n"
     ]
    },
    {
     "name": "stdout",
     "output_type": "stream",
     "text": [
      "knn k : 25\n"
     ]
    },
    {
     "name": "stderr",
     "output_type": "stream",
     "text": [
      "c:\\Users\\david\\anaconda3\\envs\\test_env\\lib\\site-packages\\tqdm\\std.py:1180: FutureWarning: In a future version of pandas, a length 1 tuple will be returned when iterating over a groupby with a grouper equal to a list of length 1. Don't supply a list with a single grouper to avoid this warning.\n",
      "  for obj in iterable:\n",
      "100%|██████████| 1563/1563 [00:00<00:00, 4246.51it/s]\n",
      "c:\\Users\\david\\anaconda3\\envs\\test_env\\lib\\site-packages\\tqdm\\std.py:1180: FutureWarning: In a future version of pandas, a length 1 tuple will be returned when iterating over a groupby with a grouper equal to a list of length 1. Don't supply a list with a single grouper to avoid this warning.\n",
      "  for obj in iterable:\n",
      "100%|██████████| 1563/1563 [00:00<00:00, 4238.94it/s]\n",
      "c:\\Users\\david\\anaconda3\\envs\\test_env\\lib\\site-packages\\tqdm\\std.py:1180: FutureWarning: In a future version of pandas, a length 1 tuple will be returned when iterating over a groupby with a grouper equal to a list of length 1. Don't supply a list with a single grouper to avoid this warning.\n",
      "  for obj in iterable:\n",
      "100%|██████████| 1563/1563 [00:03<00:00, 418.66it/s]\n"
     ]
    },
    {
     "name": "stdout",
     "output_type": "stream",
     "text": [
      "train_d size : (34556, 3)\n",
      "train_t size : (8073, 3)\n"
     ]
    },
    {
     "name": "stderr",
     "output_type": "stream",
     "text": [
      "c:\\Users\\david\\anaconda3\\envs\\test_env\\lib\\site-packages\\tqdm\\std.py:1180: FutureWarning: In a future version of pandas, a length 1 tuple will be returned when iterating over a groupby with a grouper equal to a list of length 1. Don't supply a list with a single grouper to avoid this warning.\n",
      "  for obj in iterable:\n",
      "100%|██████████| 6463/6463 [00:01<00:00, 4738.38it/s]\n"
     ]
    },
    {
     "name": "stdout",
     "output_type": "stream",
     "text": [
      "knn k : 25\n"
     ]
    },
    {
     "name": "stderr",
     "output_type": "stream",
     "text": [
      "c:\\Users\\david\\anaconda3\\envs\\test_env\\lib\\site-packages\\tqdm\\std.py:1180: FutureWarning: In a future version of pandas, a length 1 tuple will be returned when iterating over a groupby with a grouper equal to a list of length 1. Don't supply a list with a single grouper to avoid this warning.\n",
      "  for obj in iterable:\n",
      "100%|██████████| 1564/1564 [00:00<00:00, 10609.90it/s]\n",
      "c:\\Users\\david\\anaconda3\\envs\\test_env\\lib\\site-packages\\tqdm\\std.py:1180: FutureWarning: In a future version of pandas, a length 1 tuple will be returned when iterating over a groupby with a grouper equal to a list of length 1. Don't supply a list with a single grouper to avoid this warning.\n",
      "  for obj in iterable:\n",
      "100%|██████████| 1564/1564 [00:00<00:00, 5296.88it/s]\n",
      "c:\\Users\\david\\anaconda3\\envs\\test_env\\lib\\site-packages\\tqdm\\std.py:1180: FutureWarning: In a future version of pandas, a length 1 tuple will be returned when iterating over a groupby with a grouper equal to a list of length 1. Don't supply a list with a single grouper to avoid this warning.\n",
      "  for obj in iterable:\n",
      "100%|██████████| 1564/1564 [00:03<00:00, 507.89it/s]\n"
     ]
    },
    {
     "name": "stdout",
     "output_type": "stream",
     "text": [
      "train_d size : (33826, 3)\n",
      "train_t size : (8803, 3)\n"
     ]
    },
    {
     "name": "stderr",
     "output_type": "stream",
     "text": [
      "c:\\Users\\david\\anaconda3\\envs\\test_env\\lib\\site-packages\\tqdm\\std.py:1180: FutureWarning: In a future version of pandas, a length 1 tuple will be returned when iterating over a groupby with a grouper equal to a list of length 1. Don't supply a list with a single grouper to avoid this warning.\n",
      "  for obj in iterable:\n",
      "100%|██████████| 6381/6381 [00:01<00:00, 5114.01it/s]\n"
     ]
    },
    {
     "name": "stdout",
     "output_type": "stream",
     "text": [
      "knn k : 25\n"
     ]
    },
    {
     "name": "stderr",
     "output_type": "stream",
     "text": [
      "c:\\Users\\david\\anaconda3\\envs\\test_env\\lib\\site-packages\\tqdm\\std.py:1180: FutureWarning: In a future version of pandas, a length 1 tuple will be returned when iterating over a groupby with a grouper equal to a list of length 1. Don't supply a list with a single grouper to avoid this warning.\n",
      "  for obj in iterable:\n",
      "100%|██████████| 1646/1646 [00:00<00:00, 10062.75it/s]\n",
      "c:\\Users\\david\\anaconda3\\envs\\test_env\\lib\\site-packages\\tqdm\\std.py:1180: FutureWarning: In a future version of pandas, a length 1 tuple will be returned when iterating over a groupby with a grouper equal to a list of length 1. Don't supply a list with a single grouper to avoid this warning.\n",
      "  for obj in iterable:\n",
      "100%|██████████| 1646/1646 [00:00<00:00, 3984.41it/s]\n",
      "c:\\Users\\david\\anaconda3\\envs\\test_env\\lib\\site-packages\\tqdm\\std.py:1180: FutureWarning: In a future version of pandas, a length 1 tuple will be returned when iterating over a groupby with a grouper equal to a list of length 1. Don't supply a list with a single grouper to avoid this warning.\n",
      "  for obj in iterable:\n",
      "100%|██████████| 1646/1646 [00:03<00:00, 420.71it/s]\n"
     ]
    },
    {
     "name": "stdout",
     "output_type": "stream",
     "text": [
      "train_d size : (33680, 3)\n",
      "train_t size : (8949, 3)\n"
     ]
    },
    {
     "name": "stderr",
     "output_type": "stream",
     "text": [
      "c:\\Users\\david\\anaconda3\\envs\\test_env\\lib\\site-packages\\tqdm\\std.py:1180: FutureWarning: In a future version of pandas, a length 1 tuple will be returned when iterating over a groupby with a grouper equal to a list of length 1. Don't supply a list with a single grouper to avoid this warning.\n",
      "  for obj in iterable:\n",
      "100%|██████████| 6365/6365 [00:01<00:00, 4159.39it/s]\n"
     ]
    },
    {
     "name": "stdout",
     "output_type": "stream",
     "text": [
      "knn k : 25\n"
     ]
    },
    {
     "name": "stderr",
     "output_type": "stream",
     "text": [
      "c:\\Users\\david\\anaconda3\\envs\\test_env\\lib\\site-packages\\tqdm\\std.py:1180: FutureWarning: In a future version of pandas, a length 1 tuple will be returned when iterating over a groupby with a grouper equal to a list of length 1. Don't supply a list with a single grouper to avoid this warning.\n",
      "  for obj in iterable:\n",
      "100%|██████████| 1662/1662 [00:00<00:00, 11639.39it/s]\n",
      "c:\\Users\\david\\anaconda3\\envs\\test_env\\lib\\site-packages\\tqdm\\std.py:1180: FutureWarning: In a future version of pandas, a length 1 tuple will be returned when iterating over a groupby with a grouper equal to a list of length 1. Don't supply a list with a single grouper to avoid this warning.\n",
      "  for obj in iterable:\n",
      "100%|██████████| 1662/1662 [00:00<00:00, 4091.97it/s]\n",
      "c:\\Users\\david\\anaconda3\\envs\\test_env\\lib\\site-packages\\tqdm\\std.py:1180: FutureWarning: In a future version of pandas, a length 1 tuple will be returned when iterating over a groupby with a grouper equal to a list of length 1. Don't supply a list with a single grouper to avoid this warning.\n",
      "  for obj in iterable:\n",
      "100%|██████████| 1662/1662 [00:04<00:00, 370.11it/s]\n"
     ]
    },
    {
     "name": "stdout",
     "output_type": "stream",
     "text": [
      "train_d size : (34229, 3)\n",
      "train_t size : (8400, 3)\n"
     ]
    },
    {
     "name": "stderr",
     "output_type": "stream",
     "text": [
      "c:\\Users\\david\\anaconda3\\envs\\test_env\\lib\\site-packages\\tqdm\\std.py:1180: FutureWarning: In a future version of pandas, a length 1 tuple will be returned when iterating over a groupby with a grouper equal to a list of length 1. Don't supply a list with a single grouper to avoid this warning.\n",
      "  for obj in iterable:\n",
      "100%|██████████| 6435/6435 [00:01<00:00, 4539.15it/s]\n"
     ]
    },
    {
     "name": "stdout",
     "output_type": "stream",
     "text": [
      "knn k : 25\n"
     ]
    },
    {
     "name": "stderr",
     "output_type": "stream",
     "text": [
      "c:\\Users\\david\\anaconda3\\envs\\test_env\\lib\\site-packages\\tqdm\\std.py:1180: FutureWarning: In a future version of pandas, a length 1 tuple will be returned when iterating over a groupby with a grouper equal to a list of length 1. Don't supply a list with a single grouper to avoid this warning.\n",
      "  for obj in iterable:\n",
      "100%|██████████| 1592/1592 [00:00<00:00, 11303.91it/s]\n",
      "c:\\Users\\david\\anaconda3\\envs\\test_env\\lib\\site-packages\\tqdm\\std.py:1180: FutureWarning: In a future version of pandas, a length 1 tuple will be returned when iterating over a groupby with a grouper equal to a list of length 1. Don't supply a list with a single grouper to avoid this warning.\n",
      "  for obj in iterable:\n",
      "100%|██████████| 1592/1592 [00:00<00:00, 4803.55it/s]\n",
      "c:\\Users\\david\\anaconda3\\envs\\test_env\\lib\\site-packages\\tqdm\\std.py:1180: FutureWarning: In a future version of pandas, a length 1 tuple will be returned when iterating over a groupby with a grouper equal to a list of length 1. Don't supply a list with a single grouper to avoid this warning.\n",
      "  for obj in iterable:\n",
      "100%|██████████| 1592/1592 [00:03<00:00, 421.91it/s]\n"
     ]
    },
    {
     "name": "stdout",
     "output_type": "stream",
     "text": [
      "train_d size : (34190, 3)\n",
      "train_t size : (8439, 3)\n"
     ]
    },
    {
     "name": "stderr",
     "output_type": "stream",
     "text": [
      "c:\\Users\\david\\anaconda3\\envs\\test_env\\lib\\site-packages\\tqdm\\std.py:1180: FutureWarning: In a future version of pandas, a length 1 tuple will be returned when iterating over a groupby with a grouper equal to a list of length 1. Don't supply a list with a single grouper to avoid this warning.\n",
      "  for obj in iterable:\n",
      "100%|██████████| 6416/6416 [00:01<00:00, 4359.52it/s]\n"
     ]
    },
    {
     "name": "stdout",
     "output_type": "stream",
     "text": [
      "knn k : 35\n"
     ]
    },
    {
     "name": "stderr",
     "output_type": "stream",
     "text": [
      "c:\\Users\\david\\anaconda3\\envs\\test_env\\lib\\site-packages\\tqdm\\std.py:1180: FutureWarning: In a future version of pandas, a length 1 tuple will be returned when iterating over a groupby with a grouper equal to a list of length 1. Don't supply a list with a single grouper to avoid this warning.\n",
      "  for obj in iterable:\n",
      "100%|██████████| 1611/1611 [00:00<00:00, 9770.56it/s]\n",
      "c:\\Users\\david\\anaconda3\\envs\\test_env\\lib\\site-packages\\tqdm\\std.py:1180: FutureWarning: In a future version of pandas, a length 1 tuple will be returned when iterating over a groupby with a grouper equal to a list of length 1. Don't supply a list with a single grouper to avoid this warning.\n",
      "  for obj in iterable:\n",
      "100%|██████████| 1611/1611 [00:00<00:00, 4486.82it/s]\n",
      "c:\\Users\\david\\anaconda3\\envs\\test_env\\lib\\site-packages\\tqdm\\std.py:1180: FutureWarning: In a future version of pandas, a length 1 tuple will be returned when iterating over a groupby with a grouper equal to a list of length 1. Don't supply a list with a single grouper to avoid this warning.\n",
      "  for obj in iterable:\n",
      "100%|██████████| 1611/1611 [00:04<00:00, 397.67it/s]\n"
     ]
    },
    {
     "name": "stdout",
     "output_type": "stream",
     "text": [
      "train_d size : (34228, 3)\n",
      "train_t size : (8401, 3)\n"
     ]
    },
    {
     "name": "stderr",
     "output_type": "stream",
     "text": [
      "c:\\Users\\david\\anaconda3\\envs\\test_env\\lib\\site-packages\\tqdm\\std.py:1180: FutureWarning: In a future version of pandas, a length 1 tuple will be returned when iterating over a groupby with a grouper equal to a list of length 1. Don't supply a list with a single grouper to avoid this warning.\n",
      "  for obj in iterable:\n",
      "100%|██████████| 6408/6408 [00:01<00:00, 3489.47it/s]\n"
     ]
    },
    {
     "name": "stdout",
     "output_type": "stream",
     "text": [
      "knn k : 35\n"
     ]
    },
    {
     "name": "stderr",
     "output_type": "stream",
     "text": [
      "c:\\Users\\david\\anaconda3\\envs\\test_env\\lib\\site-packages\\tqdm\\std.py:1180: FutureWarning: In a future version of pandas, a length 1 tuple will be returned when iterating over a groupby with a grouper equal to a list of length 1. Don't supply a list with a single grouper to avoid this warning.\n",
      "  for obj in iterable:\n",
      "100%|██████████| 1619/1619 [00:00<00:00, 10066.59it/s]\n",
      "c:\\Users\\david\\anaconda3\\envs\\test_env\\lib\\site-packages\\tqdm\\std.py:1180: FutureWarning: In a future version of pandas, a length 1 tuple will be returned when iterating over a groupby with a grouper equal to a list of length 1. Don't supply a list with a single grouper to avoid this warning.\n",
      "  for obj in iterable:\n",
      "100%|██████████| 1619/1619 [00:00<00:00, 4960.64it/s]\n",
      "c:\\Users\\david\\anaconda3\\envs\\test_env\\lib\\site-packages\\tqdm\\std.py:1180: FutureWarning: In a future version of pandas, a length 1 tuple will be returned when iterating over a groupby with a grouper equal to a list of length 1. Don't supply a list with a single grouper to avoid this warning.\n",
      "  for obj in iterable:\n",
      "100%|██████████| 1619/1619 [00:03<00:00, 470.39it/s]\n"
     ]
    },
    {
     "name": "stdout",
     "output_type": "stream",
     "text": [
      "train_d size : (34333, 3)\n",
      "train_t size : (8296, 3)\n"
     ]
    },
    {
     "name": "stderr",
     "output_type": "stream",
     "text": [
      "c:\\Users\\david\\anaconda3\\envs\\test_env\\lib\\site-packages\\tqdm\\std.py:1180: FutureWarning: In a future version of pandas, a length 1 tuple will be returned when iterating over a groupby with a grouper equal to a list of length 1. Don't supply a list with a single grouper to avoid this warning.\n",
      "  for obj in iterable:\n",
      "100%|██████████| 6502/6502 [00:01<00:00, 4628.45it/s]\n"
     ]
    },
    {
     "name": "stdout",
     "output_type": "stream",
     "text": [
      "knn k : 35\n"
     ]
    },
    {
     "name": "stderr",
     "output_type": "stream",
     "text": [
      "c:\\Users\\david\\anaconda3\\envs\\test_env\\lib\\site-packages\\tqdm\\std.py:1180: FutureWarning: In a future version of pandas, a length 1 tuple will be returned when iterating over a groupby with a grouper equal to a list of length 1. Don't supply a list with a single grouper to avoid this warning.\n",
      "  for obj in iterable:\n",
      "100%|██████████| 1525/1525 [00:00<00:00, 5942.56it/s]\n",
      "c:\\Users\\david\\anaconda3\\envs\\test_env\\lib\\site-packages\\tqdm\\std.py:1180: FutureWarning: In a future version of pandas, a length 1 tuple will be returned when iterating over a groupby with a grouper equal to a list of length 1. Don't supply a list with a single grouper to avoid this warning.\n",
      "  for obj in iterable:\n",
      "100%|██████████| 1525/1525 [00:00<00:00, 5595.71it/s]\n",
      "c:\\Users\\david\\anaconda3\\envs\\test_env\\lib\\site-packages\\tqdm\\std.py:1180: FutureWarning: In a future version of pandas, a length 1 tuple will be returned when iterating over a groupby with a grouper equal to a list of length 1. Don't supply a list with a single grouper to avoid this warning.\n",
      "  for obj in iterable:\n",
      "100%|██████████| 1525/1525 [00:03<00:00, 389.03it/s]\n"
     ]
    },
    {
     "name": "stdout",
     "output_type": "stream",
     "text": [
      "train_d size : (33827, 3)\n",
      "train_t size : (8802, 3)\n"
     ]
    },
    {
     "name": "stderr",
     "output_type": "stream",
     "text": [
      "c:\\Users\\david\\anaconda3\\envs\\test_env\\lib\\site-packages\\tqdm\\std.py:1180: FutureWarning: In a future version of pandas, a length 1 tuple will be returned when iterating over a groupby with a grouper equal to a list of length 1. Don't supply a list with a single grouper to avoid this warning.\n",
      "  for obj in iterable:\n",
      "100%|██████████| 6418/6418 [00:01<00:00, 4577.44it/s]\n"
     ]
    },
    {
     "name": "stdout",
     "output_type": "stream",
     "text": [
      "knn k : 35\n"
     ]
    },
    {
     "name": "stderr",
     "output_type": "stream",
     "text": [
      "c:\\Users\\david\\anaconda3\\envs\\test_env\\lib\\site-packages\\tqdm\\std.py:1180: FutureWarning: In a future version of pandas, a length 1 tuple will be returned when iterating over a groupby with a grouper equal to a list of length 1. Don't supply a list with a single grouper to avoid this warning.\n",
      "  for obj in iterable:\n",
      "100%|██████████| 1609/1609 [00:00<00:00, 4940.97it/s]\n",
      "c:\\Users\\david\\anaconda3\\envs\\test_env\\lib\\site-packages\\tqdm\\std.py:1180: FutureWarning: In a future version of pandas, a length 1 tuple will be returned when iterating over a groupby with a grouper equal to a list of length 1. Don't supply a list with a single grouper to avoid this warning.\n",
      "  for obj in iterable:\n",
      "100%|██████████| 1609/1609 [00:00<00:00, 4790.46it/s]\n",
      "c:\\Users\\david\\anaconda3\\envs\\test_env\\lib\\site-packages\\tqdm\\std.py:1180: FutureWarning: In a future version of pandas, a length 1 tuple will be returned when iterating over a groupby with a grouper equal to a list of length 1. Don't supply a list with a single grouper to avoid this warning.\n",
      "  for obj in iterable:\n",
      "100%|██████████| 1609/1609 [00:05<00:00, 274.59it/s]\n"
     ]
    },
    {
     "name": "stdout",
     "output_type": "stream",
     "text": [
      "train_d size : (33938, 3)\n",
      "train_t size : (8691, 3)\n"
     ]
    },
    {
     "name": "stderr",
     "output_type": "stream",
     "text": [
      "c:\\Users\\david\\anaconda3\\envs\\test_env\\lib\\site-packages\\tqdm\\std.py:1180: FutureWarning: In a future version of pandas, a length 1 tuple will be returned when iterating over a groupby with a grouper equal to a list of length 1. Don't supply a list with a single grouper to avoid this warning.\n",
      "  for obj in iterable:\n",
      "100%|██████████| 6364/6364 [00:02<00:00, 2819.70it/s]\n"
     ]
    },
    {
     "name": "stdout",
     "output_type": "stream",
     "text": [
      "knn k : 35\n"
     ]
    },
    {
     "name": "stderr",
     "output_type": "stream",
     "text": [
      "c:\\Users\\david\\anaconda3\\envs\\test_env\\lib\\site-packages\\tqdm\\std.py:1180: FutureWarning: In a future version of pandas, a length 1 tuple will be returned when iterating over a groupby with a grouper equal to a list of length 1. Don't supply a list with a single grouper to avoid this warning.\n",
      "  for obj in iterable:\n",
      "100%|██████████| 1663/1663 [00:00<00:00, 5769.91it/s]\n",
      "c:\\Users\\david\\anaconda3\\envs\\test_env\\lib\\site-packages\\tqdm\\std.py:1180: FutureWarning: In a future version of pandas, a length 1 tuple will be returned when iterating over a groupby with a grouper equal to a list of length 1. Don't supply a list with a single grouper to avoid this warning.\n",
      "  for obj in iterable:\n",
      "100%|██████████| 1663/1663 [00:00<00:00, 4415.72it/s]\n",
      "c:\\Users\\david\\anaconda3\\envs\\test_env\\lib\\site-packages\\tqdm\\std.py:1180: FutureWarning: In a future version of pandas, a length 1 tuple will be returned when iterating over a groupby with a grouper equal to a list of length 1. Don't supply a list with a single grouper to avoid this warning.\n",
      "  for obj in iterable:\n",
      "100%|██████████| 1663/1663 [00:06<00:00, 275.61it/s]\n"
     ]
    },
    {
     "name": "stdout",
     "output_type": "stream",
     "text": [
      "train_d size : (33677, 3)\n",
      "train_t size : (8952, 3)\n"
     ]
    },
    {
     "name": "stderr",
     "output_type": "stream",
     "text": [
      "c:\\Users\\david\\anaconda3\\envs\\test_env\\lib\\site-packages\\tqdm\\std.py:1180: FutureWarning: In a future version of pandas, a length 1 tuple will be returned when iterating over a groupby with a grouper equal to a list of length 1. Don't supply a list with a single grouper to avoid this warning.\n",
      "  for obj in iterable:\n",
      "100%|██████████| 6346/6346 [00:01<00:00, 4587.72it/s]\n"
     ]
    },
    {
     "name": "stdout",
     "output_type": "stream",
     "text": [
      "knn k : 75\n"
     ]
    },
    {
     "name": "stderr",
     "output_type": "stream",
     "text": [
      "c:\\Users\\david\\anaconda3\\envs\\test_env\\lib\\site-packages\\tqdm\\std.py:1180: FutureWarning: In a future version of pandas, a length 1 tuple will be returned when iterating over a groupby with a grouper equal to a list of length 1. Don't supply a list with a single grouper to avoid this warning.\n",
      "  for obj in iterable:\n",
      "100%|██████████| 1681/1681 [00:00<00:00, 5850.14it/s] \n",
      "c:\\Users\\david\\anaconda3\\envs\\test_env\\lib\\site-packages\\tqdm\\std.py:1180: FutureWarning: In a future version of pandas, a length 1 tuple will be returned when iterating over a groupby with a grouper equal to a list of length 1. Don't supply a list with a single grouper to avoid this warning.\n",
      "  for obj in iterable:\n",
      "100%|██████████| 1681/1681 [00:00<00:00, 5094.80it/s]\n",
      "c:\\Users\\david\\anaconda3\\envs\\test_env\\lib\\site-packages\\tqdm\\std.py:1180: FutureWarning: In a future version of pandas, a length 1 tuple will be returned when iterating over a groupby with a grouper equal to a list of length 1. Don't supply a list with a single grouper to avoid this warning.\n",
      "  for obj in iterable:\n",
      "100%|██████████| 1681/1681 [00:03<00:00, 528.06it/s]\n"
     ]
    },
    {
     "name": "stdout",
     "output_type": "stream",
     "text": [
      "train_d size : (34431, 3)\n",
      "train_t size : (8198, 3)\n"
     ]
    },
    {
     "name": "stderr",
     "output_type": "stream",
     "text": [
      "c:\\Users\\david\\anaconda3\\envs\\test_env\\lib\\site-packages\\tqdm\\std.py:1180: FutureWarning: In a future version of pandas, a length 1 tuple will be returned when iterating over a groupby with a grouper equal to a list of length 1. Don't supply a list with a single grouper to avoid this warning.\n",
      "  for obj in iterable:\n",
      "100%|██████████| 6443/6443 [00:01<00:00, 4811.77it/s]\n"
     ]
    },
    {
     "name": "stdout",
     "output_type": "stream",
     "text": [
      "knn k : 75\n"
     ]
    },
    {
     "name": "stderr",
     "output_type": "stream",
     "text": [
      "c:\\Users\\david\\anaconda3\\envs\\test_env\\lib\\site-packages\\tqdm\\std.py:1180: FutureWarning: In a future version of pandas, a length 1 tuple will be returned when iterating over a groupby with a grouper equal to a list of length 1. Don't supply a list with a single grouper to avoid this warning.\n",
      "  for obj in iterable:\n",
      "100%|██████████| 1584/1584 [00:00<00:00, 7918.41it/s] \n",
      "c:\\Users\\david\\anaconda3\\envs\\test_env\\lib\\site-packages\\tqdm\\std.py:1180: FutureWarning: In a future version of pandas, a length 1 tuple will be returned when iterating over a groupby with a grouper equal to a list of length 1. Don't supply a list with a single grouper to avoid this warning.\n",
      "  for obj in iterable:\n",
      "100%|██████████| 1584/1584 [00:00<00:00, 5308.84it/s]\n",
      "c:\\Users\\david\\anaconda3\\envs\\test_env\\lib\\site-packages\\tqdm\\std.py:1180: FutureWarning: In a future version of pandas, a length 1 tuple will be returned when iterating over a groupby with a grouper equal to a list of length 1. Don't supply a list with a single grouper to avoid this warning.\n",
      "  for obj in iterable:\n",
      "100%|██████████| 1584/1584 [00:03<00:00, 476.61it/s]\n"
     ]
    },
    {
     "name": "stdout",
     "output_type": "stream",
     "text": [
      "train_d size : (33721, 3)\n",
      "train_t size : (8908, 3)\n"
     ]
    },
    {
     "name": "stderr",
     "output_type": "stream",
     "text": [
      "c:\\Users\\david\\anaconda3\\envs\\test_env\\lib\\site-packages\\tqdm\\std.py:1180: FutureWarning: In a future version of pandas, a length 1 tuple will be returned when iterating over a groupby with a grouper equal to a list of length 1. Don't supply a list with a single grouper to avoid this warning.\n",
      "  for obj in iterable:\n",
      "100%|██████████| 6411/6411 [00:01<00:00, 4111.91it/s]\n"
     ]
    },
    {
     "name": "stdout",
     "output_type": "stream",
     "text": [
      "knn k : 75\n"
     ]
    },
    {
     "name": "stderr",
     "output_type": "stream",
     "text": [
      "c:\\Users\\david\\anaconda3\\envs\\test_env\\lib\\site-packages\\tqdm\\std.py:1180: FutureWarning: In a future version of pandas, a length 1 tuple will be returned when iterating over a groupby with a grouper equal to a list of length 1. Don't supply a list with a single grouper to avoid this warning.\n",
      "  for obj in iterable:\n",
      "100%|██████████| 1616/1616 [00:00<00:00, 10306.50it/s]\n",
      "c:\\Users\\david\\anaconda3\\envs\\test_env\\lib\\site-packages\\tqdm\\std.py:1180: FutureWarning: In a future version of pandas, a length 1 tuple will be returned when iterating over a groupby with a grouper equal to a list of length 1. Don't supply a list with a single grouper to avoid this warning.\n",
      "  for obj in iterable:\n",
      "100%|██████████| 1616/1616 [00:00<00:00, 5425.78it/s]\n",
      "c:\\Users\\david\\anaconda3\\envs\\test_env\\lib\\site-packages\\tqdm\\std.py:1180: FutureWarning: In a future version of pandas, a length 1 tuple will be returned when iterating over a groupby with a grouper equal to a list of length 1. Don't supply a list with a single grouper to avoid this warning.\n",
      "  for obj in iterable:\n",
      "100%|██████████| 1616/1616 [00:03<00:00, 437.84it/s]\n"
     ]
    },
    {
     "name": "stdout",
     "output_type": "stream",
     "text": [
      "train_d size : (34163, 3)\n",
      "train_t size : (8466, 3)\n"
     ]
    },
    {
     "name": "stderr",
     "output_type": "stream",
     "text": [
      "c:\\Users\\david\\anaconda3\\envs\\test_env\\lib\\site-packages\\tqdm\\std.py:1180: FutureWarning: In a future version of pandas, a length 1 tuple will be returned when iterating over a groupby with a grouper equal to a list of length 1. Don't supply a list with a single grouper to avoid this warning.\n",
      "  for obj in iterable:\n",
      "100%|██████████| 6444/6444 [00:01<00:00, 4429.92it/s]\n"
     ]
    },
    {
     "name": "stdout",
     "output_type": "stream",
     "text": [
      "knn k : 75\n"
     ]
    },
    {
     "name": "stderr",
     "output_type": "stream",
     "text": [
      "c:\\Users\\david\\anaconda3\\envs\\test_env\\lib\\site-packages\\tqdm\\std.py:1180: FutureWarning: In a future version of pandas, a length 1 tuple will be returned when iterating over a groupby with a grouper equal to a list of length 1. Don't supply a list with a single grouper to avoid this warning.\n",
      "  for obj in iterable:\n",
      "100%|██████████| 1583/1583 [00:00<00:00, 9119.13it/s]\n",
      "c:\\Users\\david\\anaconda3\\envs\\test_env\\lib\\site-packages\\tqdm\\std.py:1180: FutureWarning: In a future version of pandas, a length 1 tuple will be returned when iterating over a groupby with a grouper equal to a list of length 1. Don't supply a list with a single grouper to avoid this warning.\n",
      "  for obj in iterable:\n",
      "100%|██████████| 1583/1583 [00:00<00:00, 3465.34it/s]\n",
      "c:\\Users\\david\\anaconda3\\envs\\test_env\\lib\\site-packages\\tqdm\\std.py:1180: FutureWarning: In a future version of pandas, a length 1 tuple will be returned when iterating over a groupby with a grouper equal to a list of length 1. Don't supply a list with a single grouper to avoid this warning.\n",
      "  for obj in iterable:\n",
      "100%|██████████| 1583/1583 [00:03<00:00, 405.75it/s]\n"
     ]
    },
    {
     "name": "stdout",
     "output_type": "stream",
     "text": [
      "train_d size : (34524, 3)\n",
      "train_t size : (8105, 3)\n"
     ]
    },
    {
     "name": "stderr",
     "output_type": "stream",
     "text": [
      "c:\\Users\\david\\anaconda3\\envs\\test_env\\lib\\site-packages\\tqdm\\std.py:1180: FutureWarning: In a future version of pandas, a length 1 tuple will be returned when iterating over a groupby with a grouper equal to a list of length 1. Don't supply a list with a single grouper to avoid this warning.\n",
      "  for obj in iterable:\n",
      "100%|██████████| 6464/6464 [00:01<00:00, 4526.67it/s]\n"
     ]
    },
    {
     "name": "stdout",
     "output_type": "stream",
     "text": [
      "knn k : 75\n"
     ]
    },
    {
     "name": "stderr",
     "output_type": "stream",
     "text": [
      "c:\\Users\\david\\anaconda3\\envs\\test_env\\lib\\site-packages\\tqdm\\std.py:1180: FutureWarning: In a future version of pandas, a length 1 tuple will be returned when iterating over a groupby with a grouper equal to a list of length 1. Don't supply a list with a single grouper to avoid this warning.\n",
      "  for obj in iterable:\n",
      "100%|██████████| 1563/1563 [00:00<00:00, 8956.64it/s]\n",
      "c:\\Users\\david\\anaconda3\\envs\\test_env\\lib\\site-packages\\tqdm\\std.py:1180: FutureWarning: In a future version of pandas, a length 1 tuple will be returned when iterating over a groupby with a grouper equal to a list of length 1. Don't supply a list with a single grouper to avoid this warning.\n",
      "  for obj in iterable:\n",
      "100%|██████████| 1563/1563 [00:00<00:00, 3407.41it/s]\n",
      "c:\\Users\\david\\anaconda3\\envs\\test_env\\lib\\site-packages\\tqdm\\std.py:1180: FutureWarning: In a future version of pandas, a length 1 tuple will be returned when iterating over a groupby with a grouper equal to a list of length 1. Don't supply a list with a single grouper to avoid this warning.\n",
      "  for obj in iterable:\n",
      "100%|██████████| 1563/1563 [00:04<00:00, 367.63it/s]\n"
     ]
    },
    {
     "name": "stdout",
     "output_type": "stream",
     "text": [
      "train_d size : (34094, 3)\n",
      "train_t size : (8535, 3)\n"
     ]
    },
    {
     "name": "stderr",
     "output_type": "stream",
     "text": [
      "c:\\Users\\david\\anaconda3\\envs\\test_env\\lib\\site-packages\\tqdm\\std.py:1180: FutureWarning: In a future version of pandas, a length 1 tuple will be returned when iterating over a groupby with a grouper equal to a list of length 1. Don't supply a list with a single grouper to avoid this warning.\n",
      "  for obj in iterable:\n",
      "100%|██████████| 6434/6434 [00:01<00:00, 4423.53it/s]\n"
     ]
    },
    {
     "name": "stdout",
     "output_type": "stream",
     "text": [
      "knn k : 3\n"
     ]
    },
    {
     "name": "stderr",
     "output_type": "stream",
     "text": [
      "c:\\Users\\david\\anaconda3\\envs\\test_env\\lib\\site-packages\\tqdm\\std.py:1180: FutureWarning: In a future version of pandas, a length 1 tuple will be returned when iterating over a groupby with a grouper equal to a list of length 1. Don't supply a list with a single grouper to avoid this warning.\n",
      "  for obj in iterable:\n",
      "100%|██████████| 1593/1593 [00:00<00:00, 12233.93it/s]\n",
      "c:\\Users\\david\\anaconda3\\envs\\test_env\\lib\\site-packages\\tqdm\\std.py:1180: FutureWarning: In a future version of pandas, a length 1 tuple will be returned when iterating over a groupby with a grouper equal to a list of length 1. Don't supply a list with a single grouper to avoid this warning.\n",
      "  for obj in iterable:\n",
      "100%|██████████| 1593/1593 [00:00<00:00, 5070.24it/s]\n",
      "c:\\Users\\david\\anaconda3\\envs\\test_env\\lib\\site-packages\\tqdm\\std.py:1180: FutureWarning: In a future version of pandas, a length 1 tuple will be returned when iterating over a groupby with a grouper equal to a list of length 1. Don't supply a list with a single grouper to avoid this warning.\n",
      "  for obj in iterable:\n",
      "100%|██████████| 1593/1593 [00:03<00:00, 456.07it/s]\n"
     ]
    },
    {
     "name": "stdout",
     "output_type": "stream",
     "text": [
      "train_d size : (33749, 3)\n",
      "train_t size : (8880, 3)\n"
     ]
    },
    {
     "name": "stderr",
     "output_type": "stream",
     "text": [
      "c:\\Users\\david\\anaconda3\\envs\\test_env\\lib\\site-packages\\tqdm\\std.py:1180: FutureWarning: In a future version of pandas, a length 1 tuple will be returned when iterating over a groupby with a grouper equal to a list of length 1. Don't supply a list with a single grouper to avoid this warning.\n",
      "  for obj in iterable:\n",
      "100%|██████████| 6376/6376 [00:01<00:00, 4650.20it/s]\n"
     ]
    },
    {
     "name": "stdout",
     "output_type": "stream",
     "text": [
      "knn k : 3\n"
     ]
    },
    {
     "name": "stderr",
     "output_type": "stream",
     "text": [
      "c:\\Users\\david\\anaconda3\\envs\\test_env\\lib\\site-packages\\tqdm\\std.py:1180: FutureWarning: In a future version of pandas, a length 1 tuple will be returned when iterating over a groupby with a grouper equal to a list of length 1. Don't supply a list with a single grouper to avoid this warning.\n",
      "  for obj in iterable:\n",
      "100%|██████████| 1651/1651 [00:00<00:00, 5937.40it/s]\n",
      "c:\\Users\\david\\anaconda3\\envs\\test_env\\lib\\site-packages\\tqdm\\std.py:1180: FutureWarning: In a future version of pandas, a length 1 tuple will be returned when iterating over a groupby with a grouper equal to a list of length 1. Don't supply a list with a single grouper to avoid this warning.\n",
      "  for obj in iterable:\n",
      "100%|██████████| 1651/1651 [00:00<00:00, 4683.15it/s]\n",
      "c:\\Users\\david\\anaconda3\\envs\\test_env\\lib\\site-packages\\tqdm\\std.py:1180: FutureWarning: In a future version of pandas, a length 1 tuple will be returned when iterating over a groupby with a grouper equal to a list of length 1. Don't supply a list with a single grouper to avoid this warning.\n",
      "  for obj in iterable:\n",
      "100%|██████████| 1651/1651 [00:03<00:00, 514.91it/s]\n"
     ]
    },
    {
     "name": "stdout",
     "output_type": "stream",
     "text": [
      "train_d size : (33963, 3)\n",
      "train_t size : (8666, 3)\n"
     ]
    },
    {
     "name": "stderr",
     "output_type": "stream",
     "text": [
      "c:\\Users\\david\\anaconda3\\envs\\test_env\\lib\\site-packages\\tqdm\\std.py:1180: FutureWarning: In a future version of pandas, a length 1 tuple will be returned when iterating over a groupby with a grouper equal to a list of length 1. Don't supply a list with a single grouper to avoid this warning.\n",
      "  for obj in iterable:\n",
      "100%|██████████| 6391/6391 [00:01<00:00, 4436.40it/s]\n"
     ]
    },
    {
     "name": "stdout",
     "output_type": "stream",
     "text": [
      "knn k : 3\n"
     ]
    },
    {
     "name": "stderr",
     "output_type": "stream",
     "text": [
      "c:\\Users\\david\\anaconda3\\envs\\test_env\\lib\\site-packages\\tqdm\\std.py:1180: FutureWarning: In a future version of pandas, a length 1 tuple will be returned when iterating over a groupby with a grouper equal to a list of length 1. Don't supply a list with a single grouper to avoid this warning.\n",
      "  for obj in iterable:\n",
      "100%|██████████| 1636/1636 [00:00<00:00, 4961.63it/s]\n",
      "c:\\Users\\david\\anaconda3\\envs\\test_env\\lib\\site-packages\\tqdm\\std.py:1180: FutureWarning: In a future version of pandas, a length 1 tuple will be returned when iterating over a groupby with a grouper equal to a list of length 1. Don't supply a list with a single grouper to avoid this warning.\n",
      "  for obj in iterable:\n",
      "100%|██████████| 1636/1636 [00:00<00:00, 4059.33it/s]\n",
      "c:\\Users\\david\\anaconda3\\envs\\test_env\\lib\\site-packages\\tqdm\\std.py:1180: FutureWarning: In a future version of pandas, a length 1 tuple will be returned when iterating over a groupby with a grouper equal to a list of length 1. Don't supply a list with a single grouper to avoid this warning.\n",
      "  for obj in iterable:\n",
      "100%|██████████| 1636/1636 [00:03<00:00, 468.74it/s]\n"
     ]
    },
    {
     "name": "stdout",
     "output_type": "stream",
     "text": [
      "train_d size : (34187, 3)\n",
      "train_t size : (8442, 3)\n"
     ]
    },
    {
     "name": "stderr",
     "output_type": "stream",
     "text": [
      "c:\\Users\\david\\anaconda3\\envs\\test_env\\lib\\site-packages\\tqdm\\std.py:1180: FutureWarning: In a future version of pandas, a length 1 tuple will be returned when iterating over a groupby with a grouper equal to a list of length 1. Don't supply a list with a single grouper to avoid this warning.\n",
      "  for obj in iterable:\n",
      "100%|██████████| 6432/6432 [00:01<00:00, 4119.94it/s]\n"
     ]
    },
    {
     "name": "stdout",
     "output_type": "stream",
     "text": [
      "knn k : 3\n"
     ]
    },
    {
     "name": "stderr",
     "output_type": "stream",
     "text": [
      "c:\\Users\\david\\anaconda3\\envs\\test_env\\lib\\site-packages\\tqdm\\std.py:1180: FutureWarning: In a future version of pandas, a length 1 tuple will be returned when iterating over a groupby with a grouper equal to a list of length 1. Don't supply a list with a single grouper to avoid this warning.\n",
      "  for obj in iterable:\n",
      "100%|██████████| 1595/1595 [00:00<00:00, 5834.99it/s]\n",
      "c:\\Users\\david\\anaconda3\\envs\\test_env\\lib\\site-packages\\tqdm\\std.py:1180: FutureWarning: In a future version of pandas, a length 1 tuple will be returned when iterating over a groupby with a grouper equal to a list of length 1. Don't supply a list with a single grouper to avoid this warning.\n",
      "  for obj in iterable:\n",
      "100%|██████████| 1595/1595 [00:00<00:00, 5001.21it/s]\n",
      "c:\\Users\\david\\anaconda3\\envs\\test_env\\lib\\site-packages\\tqdm\\std.py:1180: FutureWarning: In a future version of pandas, a length 1 tuple will be returned when iterating over a groupby with a grouper equal to a list of length 1. Don't supply a list with a single grouper to avoid this warning.\n",
      "  for obj in iterable:\n",
      "100%|██████████| 1595/1595 [00:03<00:00, 492.14it/s]\n"
     ]
    },
    {
     "name": "stdout",
     "output_type": "stream",
     "text": [
      "train_d size : (34523, 3)\n",
      "train_t size : (8106, 3)\n"
     ]
    },
    {
     "name": "stderr",
     "output_type": "stream",
     "text": [
      "c:\\Users\\david\\anaconda3\\envs\\test_env\\lib\\site-packages\\tqdm\\std.py:1180: FutureWarning: In a future version of pandas, a length 1 tuple will be returned when iterating over a groupby with a grouper equal to a list of length 1. Don't supply a list with a single grouper to avoid this warning.\n",
      "  for obj in iterable:\n",
      "100%|██████████| 6475/6475 [00:01<00:00, 4553.66it/s]\n"
     ]
    },
    {
     "name": "stdout",
     "output_type": "stream",
     "text": [
      "knn k : 3\n"
     ]
    },
    {
     "name": "stderr",
     "output_type": "stream",
     "text": [
      "c:\\Users\\david\\anaconda3\\envs\\test_env\\lib\\site-packages\\tqdm\\std.py:1180: FutureWarning: In a future version of pandas, a length 1 tuple will be returned when iterating over a groupby with a grouper equal to a list of length 1. Don't supply a list with a single grouper to avoid this warning.\n",
      "  for obj in iterable:\n",
      "100%|██████████| 1552/1552 [00:00<00:00, 8846.28it/s]\n",
      "c:\\Users\\david\\anaconda3\\envs\\test_env\\lib\\site-packages\\tqdm\\std.py:1180: FutureWarning: In a future version of pandas, a length 1 tuple will be returned when iterating over a groupby with a grouper equal to a list of length 1. Don't supply a list with a single grouper to avoid this warning.\n",
      "  for obj in iterable:\n",
      "100%|██████████| 1552/1552 [00:00<00:00, 3799.75it/s]\n",
      "c:\\Users\\david\\anaconda3\\envs\\test_env\\lib\\site-packages\\tqdm\\std.py:1180: FutureWarning: In a future version of pandas, a length 1 tuple will be returned when iterating over a groupby with a grouper equal to a list of length 1. Don't supply a list with a single grouper to avoid this warning.\n",
      "  for obj in iterable:\n",
      "100%|██████████| 1552/1552 [00:04<00:00, 377.38it/s]\n"
     ]
    },
    {
     "name": "stdout",
     "output_type": "stream",
     "text": [
      "train_d size : (34141, 3)\n",
      "train_t size : (8488, 3)\n"
     ]
    },
    {
     "name": "stderr",
     "output_type": "stream",
     "text": [
      "c:\\Users\\david\\anaconda3\\envs\\test_env\\lib\\site-packages\\tqdm\\std.py:1180: FutureWarning: In a future version of pandas, a length 1 tuple will be returned when iterating over a groupby with a grouper equal to a list of length 1. Don't supply a list with a single grouper to avoid this warning.\n",
      "  for obj in iterable:\n",
      "100%|██████████| 6432/6432 [00:01<00:00, 4157.59it/s]\n"
     ]
    },
    {
     "name": "stdout",
     "output_type": "stream",
     "text": [
      "knn k : 11\n"
     ]
    },
    {
     "name": "stderr",
     "output_type": "stream",
     "text": [
      "c:\\Users\\david\\anaconda3\\envs\\test_env\\lib\\site-packages\\tqdm\\std.py:1180: FutureWarning: In a future version of pandas, a length 1 tuple will be returned when iterating over a groupby with a grouper equal to a list of length 1. Don't supply a list with a single grouper to avoid this warning.\n",
      "  for obj in iterable:\n",
      "100%|██████████| 1595/1595 [00:00<00:00, 9705.60it/s]\n",
      "c:\\Users\\david\\anaconda3\\envs\\test_env\\lib\\site-packages\\tqdm\\std.py:1180: FutureWarning: In a future version of pandas, a length 1 tuple will be returned when iterating over a groupby with a grouper equal to a list of length 1. Don't supply a list with a single grouper to avoid this warning.\n",
      "  for obj in iterable:\n",
      "100%|██████████| 1595/1595 [00:00<00:00, 5371.71it/s]\n",
      "c:\\Users\\david\\anaconda3\\envs\\test_env\\lib\\site-packages\\tqdm\\std.py:1180: FutureWarning: In a future version of pandas, a length 1 tuple will be returned when iterating over a groupby with a grouper equal to a list of length 1. Don't supply a list with a single grouper to avoid this warning.\n",
      "  for obj in iterable:\n",
      "100%|██████████| 1595/1595 [00:03<00:00, 520.32it/s]\n"
     ]
    },
    {
     "name": "stdout",
     "output_type": "stream",
     "text": [
      "train_d size : (33702, 3)\n",
      "train_t size : (8927, 3)\n"
     ]
    },
    {
     "name": "stderr",
     "output_type": "stream",
     "text": [
      "c:\\Users\\david\\anaconda3\\envs\\test_env\\lib\\site-packages\\tqdm\\std.py:1180: FutureWarning: In a future version of pandas, a length 1 tuple will be returned when iterating over a groupby with a grouper equal to a list of length 1. Don't supply a list with a single grouper to avoid this warning.\n",
      "  for obj in iterable:\n",
      "100%|██████████| 6395/6395 [00:01<00:00, 4773.46it/s]\n"
     ]
    },
    {
     "name": "stdout",
     "output_type": "stream",
     "text": [
      "knn k : 11\n"
     ]
    },
    {
     "name": "stderr",
     "output_type": "stream",
     "text": [
      "c:\\Users\\david\\anaconda3\\envs\\test_env\\lib\\site-packages\\tqdm\\std.py:1180: FutureWarning: In a future version of pandas, a length 1 tuple will be returned when iterating over a groupby with a grouper equal to a list of length 1. Don't supply a list with a single grouper to avoid this warning.\n",
      "  for obj in iterable:\n",
      "100%|██████████| 1632/1632 [00:00<00:00, 9771.35it/s]\n",
      "c:\\Users\\david\\anaconda3\\envs\\test_env\\lib\\site-packages\\tqdm\\std.py:1180: FutureWarning: In a future version of pandas, a length 1 tuple will be returned when iterating over a groupby with a grouper equal to a list of length 1. Don't supply a list with a single grouper to avoid this warning.\n",
      "  for obj in iterable:\n",
      "100%|██████████| 1632/1632 [00:00<00:00, 4318.24it/s]\n",
      "c:\\Users\\david\\anaconda3\\envs\\test_env\\lib\\site-packages\\tqdm\\std.py:1180: FutureWarning: In a future version of pandas, a length 1 tuple will be returned when iterating over a groupby with a grouper equal to a list of length 1. Don't supply a list with a single grouper to avoid this warning.\n",
      "  for obj in iterable:\n",
      "100%|██████████| 1632/1632 [00:03<00:00, 507.87it/s]\n"
     ]
    },
    {
     "name": "stdout",
     "output_type": "stream",
     "text": [
      "train_d size : (34465, 3)\n",
      "train_t size : (8164, 3)\n"
     ]
    },
    {
     "name": "stderr",
     "output_type": "stream",
     "text": [
      "c:\\Users\\david\\anaconda3\\envs\\test_env\\lib\\site-packages\\tqdm\\std.py:1180: FutureWarning: In a future version of pandas, a length 1 tuple will be returned when iterating over a groupby with a grouper equal to a list of length 1. Don't supply a list with a single grouper to avoid this warning.\n",
      "  for obj in iterable:\n",
      "100%|██████████| 6479/6479 [00:01<00:00, 4979.67it/s]\n"
     ]
    },
    {
     "name": "stdout",
     "output_type": "stream",
     "text": [
      "knn k : 11\n"
     ]
    },
    {
     "name": "stderr",
     "output_type": "stream",
     "text": [
      "c:\\Users\\david\\anaconda3\\envs\\test_env\\lib\\site-packages\\tqdm\\std.py:1180: FutureWarning: In a future version of pandas, a length 1 tuple will be returned when iterating over a groupby with a grouper equal to a list of length 1. Don't supply a list with a single grouper to avoid this warning.\n",
      "  for obj in iterable:\n",
      "100%|██████████| 1548/1548 [00:00<00:00, 10669.81it/s]\n",
      "c:\\Users\\david\\anaconda3\\envs\\test_env\\lib\\site-packages\\tqdm\\std.py:1180: FutureWarning: In a future version of pandas, a length 1 tuple will be returned when iterating over a groupby with a grouper equal to a list of length 1. Don't supply a list with a single grouper to avoid this warning.\n",
      "  for obj in iterable:\n",
      "100%|██████████| 1548/1548 [00:00<00:00, 4926.12it/s]\n",
      "c:\\Users\\david\\anaconda3\\envs\\test_env\\lib\\site-packages\\tqdm\\std.py:1180: FutureWarning: In a future version of pandas, a length 1 tuple will be returned when iterating over a groupby with a grouper equal to a list of length 1. Don't supply a list with a single grouper to avoid this warning.\n",
      "  for obj in iterable:\n",
      "100%|██████████| 1548/1548 [00:03<00:00, 480.26it/s]\n"
     ]
    },
    {
     "name": "stdout",
     "output_type": "stream",
     "text": [
      "train_d size : (34497, 3)\n",
      "train_t size : (8132, 3)\n"
     ]
    },
    {
     "name": "stderr",
     "output_type": "stream",
     "text": [
      "c:\\Users\\david\\anaconda3\\envs\\test_env\\lib\\site-packages\\tqdm\\std.py:1180: FutureWarning: In a future version of pandas, a length 1 tuple will be returned when iterating over a groupby with a grouper equal to a list of length 1. Don't supply a list with a single grouper to avoid this warning.\n",
      "  for obj in iterable:\n",
      "100%|██████████| 6417/6417 [00:01<00:00, 4695.96it/s]\n"
     ]
    },
    {
     "name": "stdout",
     "output_type": "stream",
     "text": [
      "knn k : 11\n"
     ]
    },
    {
     "name": "stderr",
     "output_type": "stream",
     "text": [
      "c:\\Users\\david\\anaconda3\\envs\\test_env\\lib\\site-packages\\tqdm\\std.py:1180: FutureWarning: In a future version of pandas, a length 1 tuple will be returned when iterating over a groupby with a grouper equal to a list of length 1. Don't supply a list with a single grouper to avoid this warning.\n",
      "  for obj in iterable:\n",
      "100%|██████████| 1610/1610 [00:00<00:00, 11370.93it/s]\n",
      "c:\\Users\\david\\anaconda3\\envs\\test_env\\lib\\site-packages\\tqdm\\std.py:1180: FutureWarning: In a future version of pandas, a length 1 tuple will be returned when iterating over a groupby with a grouper equal to a list of length 1. Don't supply a list with a single grouper to avoid this warning.\n",
      "  for obj in iterable:\n",
      "100%|██████████| 1610/1610 [00:00<00:00, 5056.99it/s]\n",
      "c:\\Users\\david\\anaconda3\\envs\\test_env\\lib\\site-packages\\tqdm\\std.py:1180: FutureWarning: In a future version of pandas, a length 1 tuple will be returned when iterating over a groupby with a grouper equal to a list of length 1. Don't supply a list with a single grouper to avoid this warning.\n",
      "  for obj in iterable:\n",
      "100%|██████████| 1610/1610 [00:03<00:00, 519.68it/s]\n"
     ]
    },
    {
     "name": "stdout",
     "output_type": "stream",
     "text": [
      "train_d size : (33711, 3)\n",
      "train_t size : (8918, 3)\n"
     ]
    },
    {
     "name": "stderr",
     "output_type": "stream",
     "text": [
      "c:\\Users\\david\\anaconda3\\envs\\test_env\\lib\\site-packages\\tqdm\\std.py:1180: FutureWarning: In a future version of pandas, a length 1 tuple will be returned when iterating over a groupby with a grouper equal to a list of length 1. Don't supply a list with a single grouper to avoid this warning.\n",
      "  for obj in iterable:\n",
      "100%|██████████| 6385/6385 [00:01<00:00, 4914.16it/s]\n"
     ]
    },
    {
     "name": "stdout",
     "output_type": "stream",
     "text": [
      "knn k : 11\n"
     ]
    },
    {
     "name": "stderr",
     "output_type": "stream",
     "text": [
      "c:\\Users\\david\\anaconda3\\envs\\test_env\\lib\\site-packages\\tqdm\\std.py:1180: FutureWarning: In a future version of pandas, a length 1 tuple will be returned when iterating over a groupby with a grouper equal to a list of length 1. Don't supply a list with a single grouper to avoid this warning.\n",
      "  for obj in iterable:\n",
      "100%|██████████| 1642/1642 [00:00<00:00, 10448.23it/s]\n",
      "c:\\Users\\david\\anaconda3\\envs\\test_env\\lib\\site-packages\\tqdm\\std.py:1180: FutureWarning: In a future version of pandas, a length 1 tuple will be returned when iterating over a groupby with a grouper equal to a list of length 1. Don't supply a list with a single grouper to avoid this warning.\n",
      "  for obj in iterable:\n",
      "100%|██████████| 1642/1642 [00:00<00:00, 4416.94it/s]\n",
      "c:\\Users\\david\\anaconda3\\envs\\test_env\\lib\\site-packages\\tqdm\\std.py:1180: FutureWarning: In a future version of pandas, a length 1 tuple will be returned when iterating over a groupby with a grouper equal to a list of length 1. Don't supply a list with a single grouper to avoid this warning.\n",
      "  for obj in iterable:\n",
      "100%|██████████| 1642/1642 [00:04<00:00, 353.27it/s]\n"
     ]
    },
    {
     "name": "stdout",
     "output_type": "stream",
     "text": [
      "train_d size : (34162, 3)\n",
      "train_t size : (8467, 3)\n"
     ]
    },
    {
     "name": "stderr",
     "output_type": "stream",
     "text": [
      "c:\\Users\\david\\anaconda3\\envs\\test_env\\lib\\site-packages\\tqdm\\std.py:1180: FutureWarning: In a future version of pandas, a length 1 tuple will be returned when iterating over a groupby with a grouper equal to a list of length 1. Don't supply a list with a single grouper to avoid this warning.\n",
      "  for obj in iterable:\n",
      "100%|██████████| 6428/6428 [00:01<00:00, 3294.87it/s]\n"
     ]
    },
    {
     "name": "stdout",
     "output_type": "stream",
     "text": [
      "knn k : 25\n"
     ]
    },
    {
     "name": "stderr",
     "output_type": "stream",
     "text": [
      "c:\\Users\\david\\anaconda3\\envs\\test_env\\lib\\site-packages\\tqdm\\std.py:1180: FutureWarning: In a future version of pandas, a length 1 tuple will be returned when iterating over a groupby with a grouper equal to a list of length 1. Don't supply a list with a single grouper to avoid this warning.\n",
      "  for obj in iterable:\n",
      "100%|██████████| 1599/1599 [00:00<00:00, 4381.00it/s]\n",
      "c:\\Users\\david\\anaconda3\\envs\\test_env\\lib\\site-packages\\tqdm\\std.py:1180: FutureWarning: In a future version of pandas, a length 1 tuple will be returned when iterating over a groupby with a grouper equal to a list of length 1. Don't supply a list with a single grouper to avoid this warning.\n",
      "  for obj in iterable:\n",
      "100%|██████████| 1599/1599 [00:00<00:00, 2870.49it/s]\n",
      "c:\\Users\\david\\anaconda3\\envs\\test_env\\lib\\site-packages\\tqdm\\std.py:1180: FutureWarning: In a future version of pandas, a length 1 tuple will be returned when iterating over a groupby with a grouper equal to a list of length 1. Don't supply a list with a single grouper to avoid this warning.\n",
      "  for obj in iterable:\n",
      "100%|██████████| 1599/1599 [00:04<00:00, 320.43it/s]\n"
     ]
    },
    {
     "name": "stdout",
     "output_type": "stream",
     "text": [
      "train_d size : (34153, 3)\n",
      "train_t size : (8476, 3)\n"
     ]
    },
    {
     "name": "stderr",
     "output_type": "stream",
     "text": [
      "c:\\Users\\david\\anaconda3\\envs\\test_env\\lib\\site-packages\\tqdm\\std.py:1180: FutureWarning: In a future version of pandas, a length 1 tuple will be returned when iterating over a groupby with a grouper equal to a list of length 1. Don't supply a list with a single grouper to avoid this warning.\n",
      "  for obj in iterable:\n",
      "100%|██████████| 6402/6402 [00:01<00:00, 4556.99it/s]\n"
     ]
    },
    {
     "name": "stdout",
     "output_type": "stream",
     "text": [
      "knn k : 25\n"
     ]
    },
    {
     "name": "stderr",
     "output_type": "stream",
     "text": [
      "c:\\Users\\david\\anaconda3\\envs\\test_env\\lib\\site-packages\\tqdm\\std.py:1180: FutureWarning: In a future version of pandas, a length 1 tuple will be returned when iterating over a groupby with a grouper equal to a list of length 1. Don't supply a list with a single grouper to avoid this warning.\n",
      "  for obj in iterable:\n",
      "100%|██████████| 1625/1625 [00:00<00:00, 5723.90it/s]\n",
      "c:\\Users\\david\\anaconda3\\envs\\test_env\\lib\\site-packages\\tqdm\\std.py:1180: FutureWarning: In a future version of pandas, a length 1 tuple will be returned when iterating over a groupby with a grouper equal to a list of length 1. Don't supply a list with a single grouper to avoid this warning.\n",
      "  for obj in iterable:\n",
      "100%|██████████| 1625/1625 [00:00<00:00, 4700.78it/s]\n",
      "c:\\Users\\david\\anaconda3\\envs\\test_env\\lib\\site-packages\\tqdm\\std.py:1180: FutureWarning: In a future version of pandas, a length 1 tuple will be returned when iterating over a groupby with a grouper equal to a list of length 1. Don't supply a list with a single grouper to avoid this warning.\n",
      "  for obj in iterable:\n",
      "100%|██████████| 1625/1625 [00:03<00:00, 446.20it/s]\n"
     ]
    },
    {
     "name": "stdout",
     "output_type": "stream",
     "text": [
      "train_d size : (34496, 3)\n",
      "train_t size : (8133, 3)\n"
     ]
    },
    {
     "name": "stderr",
     "output_type": "stream",
     "text": [
      "c:\\Users\\david\\anaconda3\\envs\\test_env\\lib\\site-packages\\tqdm\\std.py:1180: FutureWarning: In a future version of pandas, a length 1 tuple will be returned when iterating over a groupby with a grouper equal to a list of length 1. Don't supply a list with a single grouper to avoid this warning.\n",
      "  for obj in iterable:\n",
      "100%|██████████| 6498/6498 [00:01<00:00, 4203.35it/s]\n"
     ]
    },
    {
     "name": "stdout",
     "output_type": "stream",
     "text": [
      "knn k : 25\n"
     ]
    },
    {
     "name": "stderr",
     "output_type": "stream",
     "text": [
      "c:\\Users\\david\\anaconda3\\envs\\test_env\\lib\\site-packages\\tqdm\\std.py:1180: FutureWarning: In a future version of pandas, a length 1 tuple will be returned when iterating over a groupby with a grouper equal to a list of length 1. Don't supply a list with a single grouper to avoid this warning.\n",
      "  for obj in iterable:\n",
      "100%|██████████| 1529/1529 [00:00<00:00, 5289.45it/s] \n",
      "c:\\Users\\david\\anaconda3\\envs\\test_env\\lib\\site-packages\\tqdm\\std.py:1180: FutureWarning: In a future version of pandas, a length 1 tuple will be returned when iterating over a groupby with a grouper equal to a list of length 1. Don't supply a list with a single grouper to avoid this warning.\n",
      "  for obj in iterable:\n",
      "100%|██████████| 1529/1529 [00:00<00:00, 4866.85it/s]\n",
      "c:\\Users\\david\\anaconda3\\envs\\test_env\\lib\\site-packages\\tqdm\\std.py:1180: FutureWarning: In a future version of pandas, a length 1 tuple will be returned when iterating over a groupby with a grouper equal to a list of length 1. Don't supply a list with a single grouper to avoid this warning.\n",
      "  for obj in iterable:\n",
      "100%|██████████| 1529/1529 [00:03<00:00, 424.88it/s]\n"
     ]
    },
    {
     "name": "stdout",
     "output_type": "stream",
     "text": [
      "train_d size : (33973, 3)\n",
      "train_t size : (8656, 3)\n"
     ]
    },
    {
     "name": "stderr",
     "output_type": "stream",
     "text": [
      "c:\\Users\\david\\anaconda3\\envs\\test_env\\lib\\site-packages\\tqdm\\std.py:1180: FutureWarning: In a future version of pandas, a length 1 tuple will be returned when iterating over a groupby with a grouper equal to a list of length 1. Don't supply a list with a single grouper to avoid this warning.\n",
      "  for obj in iterable:\n",
      "100%|██████████| 6411/6411 [00:01<00:00, 5798.26it/s]\n"
     ]
    },
    {
     "name": "stdout",
     "output_type": "stream",
     "text": [
      "knn k : 25\n"
     ]
    },
    {
     "name": "stderr",
     "output_type": "stream",
     "text": [
      "c:\\Users\\david\\anaconda3\\envs\\test_env\\lib\\site-packages\\tqdm\\std.py:1180: FutureWarning: In a future version of pandas, a length 1 tuple will be returned when iterating over a groupby with a grouper equal to a list of length 1. Don't supply a list with a single grouper to avoid this warning.\n",
      "  for obj in iterable:\n",
      "100%|██████████| 1616/1616 [00:00<00:00, 13856.34it/s]\n",
      "c:\\Users\\david\\anaconda3\\envs\\test_env\\lib\\site-packages\\tqdm\\std.py:1180: FutureWarning: In a future version of pandas, a length 1 tuple will be returned when iterating over a groupby with a grouper equal to a list of length 1. Don't supply a list with a single grouper to avoid this warning.\n",
      "  for obj in iterable:\n",
      "100%|██████████| 1616/1616 [00:00<00:00, 6300.40it/s]\n",
      "c:\\Users\\david\\anaconda3\\envs\\test_env\\lib\\site-packages\\tqdm\\std.py:1180: FutureWarning: In a future version of pandas, a length 1 tuple will be returned when iterating over a groupby with a grouper equal to a list of length 1. Don't supply a list with a single grouper to avoid this warning.\n",
      "  for obj in iterable:\n",
      "100%|██████████| 1616/1616 [00:02<00:00, 618.19it/s]\n"
     ]
    },
    {
     "name": "stdout",
     "output_type": "stream",
     "text": [
      "train_d size : (33732, 3)\n",
      "train_t size : (8897, 3)\n"
     ]
    },
    {
     "name": "stderr",
     "output_type": "stream",
     "text": [
      "c:\\Users\\david\\anaconda3\\envs\\test_env\\lib\\site-packages\\tqdm\\std.py:1180: FutureWarning: In a future version of pandas, a length 1 tuple will be returned when iterating over a groupby with a grouper equal to a list of length 1. Don't supply a list with a single grouper to avoid this warning.\n",
      "  for obj in iterable:\n",
      "100%|██████████| 6369/6369 [00:01<00:00, 5679.73it/s]\n"
     ]
    },
    {
     "name": "stdout",
     "output_type": "stream",
     "text": [
      "knn k : 25\n"
     ]
    },
    {
     "name": "stderr",
     "output_type": "stream",
     "text": [
      "c:\\Users\\david\\anaconda3\\envs\\test_env\\lib\\site-packages\\tqdm\\std.py:1180: FutureWarning: In a future version of pandas, a length 1 tuple will be returned when iterating over a groupby with a grouper equal to a list of length 1. Don't supply a list with a single grouper to avoid this warning.\n",
      "  for obj in iterable:\n",
      "100%|██████████| 1658/1658 [00:00<00:00, 14925.07it/s]\n",
      "c:\\Users\\david\\anaconda3\\envs\\test_env\\lib\\site-packages\\tqdm\\std.py:1180: FutureWarning: In a future version of pandas, a length 1 tuple will be returned when iterating over a groupby with a grouper equal to a list of length 1. Don't supply a list with a single grouper to avoid this warning.\n",
      "  for obj in iterable:\n",
      "100%|██████████| 1658/1658 [00:00<00:00, 6447.06it/s]\n",
      "c:\\Users\\david\\anaconda3\\envs\\test_env\\lib\\site-packages\\tqdm\\std.py:1180: FutureWarning: In a future version of pandas, a length 1 tuple will be returned when iterating over a groupby with a grouper equal to a list of length 1. Don't supply a list with a single grouper to avoid this warning.\n",
      "  for obj in iterable:\n",
      "100%|██████████| 1658/1658 [00:02<00:00, 609.45it/s]\n"
     ]
    },
    {
     "name": "stdout",
     "output_type": "stream",
     "text": [
      "train_d size : (33747, 3)\n",
      "train_t size : (8882, 3)\n"
     ]
    },
    {
     "name": "stderr",
     "output_type": "stream",
     "text": [
      "c:\\Users\\david\\anaconda3\\envs\\test_env\\lib\\site-packages\\tqdm\\std.py:1180: FutureWarning: In a future version of pandas, a length 1 tuple will be returned when iterating over a groupby with a grouper equal to a list of length 1. Don't supply a list with a single grouper to avoid this warning.\n",
      "  for obj in iterable:\n",
      "100%|██████████| 6375/6375 [00:01<00:00, 5696.28it/s]\n"
     ]
    },
    {
     "name": "stdout",
     "output_type": "stream",
     "text": [
      "knn k : 35\n"
     ]
    },
    {
     "name": "stderr",
     "output_type": "stream",
     "text": [
      "c:\\Users\\david\\anaconda3\\envs\\test_env\\lib\\site-packages\\tqdm\\std.py:1180: FutureWarning: In a future version of pandas, a length 1 tuple will be returned when iterating over a groupby with a grouper equal to a list of length 1. Don't supply a list with a single grouper to avoid this warning.\n",
      "  for obj in iterable:\n",
      "100%|██████████| 1652/1652 [00:00<00:00, 13164.83it/s]\n",
      "c:\\Users\\david\\anaconda3\\envs\\test_env\\lib\\site-packages\\tqdm\\std.py:1180: FutureWarning: In a future version of pandas, a length 1 tuple will be returned when iterating over a groupby with a grouper equal to a list of length 1. Don't supply a list with a single grouper to avoid this warning.\n",
      "  for obj in iterable:\n",
      "100%|██████████| 1652/1652 [00:00<00:00, 6569.99it/s]\n",
      "c:\\Users\\david\\anaconda3\\envs\\test_env\\lib\\site-packages\\tqdm\\std.py:1180: FutureWarning: In a future version of pandas, a length 1 tuple will be returned when iterating over a groupby with a grouper equal to a list of length 1. Don't supply a list with a single grouper to avoid this warning.\n",
      "  for obj in iterable:\n",
      "100%|██████████| 1652/1652 [00:02<00:00, 600.11it/s]\n"
     ]
    },
    {
     "name": "stdout",
     "output_type": "stream",
     "text": [
      "train_d size : (33436, 3)\n",
      "train_t size : (9193, 3)\n"
     ]
    },
    {
     "name": "stderr",
     "output_type": "stream",
     "text": [
      "c:\\Users\\david\\anaconda3\\envs\\test_env\\lib\\site-packages\\tqdm\\std.py:1180: FutureWarning: In a future version of pandas, a length 1 tuple will be returned when iterating over a groupby with a grouper equal to a list of length 1. Don't supply a list with a single grouper to avoid this warning.\n",
      "  for obj in iterable:\n",
      "100%|██████████| 6396/6396 [00:01<00:00, 5485.74it/s]\n"
     ]
    },
    {
     "name": "stdout",
     "output_type": "stream",
     "text": [
      "knn k : 35\n"
     ]
    },
    {
     "name": "stderr",
     "output_type": "stream",
     "text": [
      "c:\\Users\\david\\anaconda3\\envs\\test_env\\lib\\site-packages\\tqdm\\std.py:1180: FutureWarning: In a future version of pandas, a length 1 tuple will be returned when iterating over a groupby with a grouper equal to a list of length 1. Don't supply a list with a single grouper to avoid this warning.\n",
      "  for obj in iterable:\n",
      "100%|██████████| 1631/1631 [00:00<00:00, 10384.54it/s]\n",
      "c:\\Users\\david\\anaconda3\\envs\\test_env\\lib\\site-packages\\tqdm\\std.py:1180: FutureWarning: In a future version of pandas, a length 1 tuple will be returned when iterating over a groupby with a grouper equal to a list of length 1. Don't supply a list with a single grouper to avoid this warning.\n",
      "  for obj in iterable:\n",
      "100%|██████████| 1631/1631 [00:00<00:00, 4571.92it/s]\n",
      "c:\\Users\\david\\anaconda3\\envs\\test_env\\lib\\site-packages\\tqdm\\std.py:1180: FutureWarning: In a future version of pandas, a length 1 tuple will be returned when iterating over a groupby with a grouper equal to a list of length 1. Don't supply a list with a single grouper to avoid this warning.\n",
      "  for obj in iterable:\n",
      "100%|██████████| 1631/1631 [00:02<00:00, 598.29it/s]\n"
     ]
    },
    {
     "name": "stdout",
     "output_type": "stream",
     "text": [
      "train_d size : (34545, 3)\n",
      "train_t size : (8084, 3)\n"
     ]
    },
    {
     "name": "stderr",
     "output_type": "stream",
     "text": [
      "c:\\Users\\david\\anaconda3\\envs\\test_env\\lib\\site-packages\\tqdm\\std.py:1180: FutureWarning: In a future version of pandas, a length 1 tuple will be returned when iterating over a groupby with a grouper equal to a list of length 1. Don't supply a list with a single grouper to avoid this warning.\n",
      "  for obj in iterable:\n",
      "100%|██████████| 6446/6446 [00:01<00:00, 5878.28it/s]\n"
     ]
    },
    {
     "name": "stdout",
     "output_type": "stream",
     "text": [
      "knn k : 35\n"
     ]
    },
    {
     "name": "stderr",
     "output_type": "stream",
     "text": [
      "c:\\Users\\david\\anaconda3\\envs\\test_env\\lib\\site-packages\\tqdm\\std.py:1180: FutureWarning: In a future version of pandas, a length 1 tuple will be returned when iterating over a groupby with a grouper equal to a list of length 1. Don't supply a list with a single grouper to avoid this warning.\n",
      "  for obj in iterable:\n",
      "100%|██████████| 1581/1581 [00:00<00:00, 12567.74it/s]\n",
      "c:\\Users\\david\\anaconda3\\envs\\test_env\\lib\\site-packages\\tqdm\\std.py:1180: FutureWarning: In a future version of pandas, a length 1 tuple will be returned when iterating over a groupby with a grouper equal to a list of length 1. Don't supply a list with a single grouper to avoid this warning.\n",
      "  for obj in iterable:\n",
      "100%|██████████| 1581/1581 [00:00<00:00, 6593.69it/s]\n",
      "c:\\Users\\david\\anaconda3\\envs\\test_env\\lib\\site-packages\\tqdm\\std.py:1180: FutureWarning: In a future version of pandas, a length 1 tuple will be returned when iterating over a groupby with a grouper equal to a list of length 1. Don't supply a list with a single grouper to avoid this warning.\n",
      "  for obj in iterable:\n",
      "100%|██████████| 1581/1581 [00:02<00:00, 608.95it/s]\n"
     ]
    },
    {
     "name": "stdout",
     "output_type": "stream",
     "text": [
      "train_d size : (34434, 3)\n",
      "train_t size : (8195, 3)\n"
     ]
    },
    {
     "name": "stderr",
     "output_type": "stream",
     "text": [
      "c:\\Users\\david\\anaconda3\\envs\\test_env\\lib\\site-packages\\tqdm\\std.py:1180: FutureWarning: In a future version of pandas, a length 1 tuple will be returned when iterating over a groupby with a grouper equal to a list of length 1. Don't supply a list with a single grouper to avoid this warning.\n",
      "  for obj in iterable:\n",
      "100%|██████████| 6465/6465 [00:01<00:00, 5881.54it/s]\n"
     ]
    },
    {
     "name": "stdout",
     "output_type": "stream",
     "text": [
      "knn k : 35\n"
     ]
    },
    {
     "name": "stderr",
     "output_type": "stream",
     "text": [
      "c:\\Users\\david\\anaconda3\\envs\\test_env\\lib\\site-packages\\tqdm\\std.py:1180: FutureWarning: In a future version of pandas, a length 1 tuple will be returned when iterating over a groupby with a grouper equal to a list of length 1. Don't supply a list with a single grouper to avoid this warning.\n",
      "  for obj in iterable:\n",
      "100%|██████████| 1562/1562 [00:00<00:00, 12504.49it/s]\n",
      "c:\\Users\\david\\anaconda3\\envs\\test_env\\lib\\site-packages\\tqdm\\std.py:1180: FutureWarning: In a future version of pandas, a length 1 tuple will be returned when iterating over a groupby with a grouper equal to a list of length 1. Don't supply a list with a single grouper to avoid this warning.\n",
      "  for obj in iterable:\n",
      "100%|██████████| 1562/1562 [00:00<00:00, 6225.06it/s]\n",
      "c:\\Users\\david\\anaconda3\\envs\\test_env\\lib\\site-packages\\tqdm\\std.py:1180: FutureWarning: In a future version of pandas, a length 1 tuple will be returned when iterating over a groupby with a grouper equal to a list of length 1. Don't supply a list with a single grouper to avoid this warning.\n",
      "  for obj in iterable:\n",
      "100%|██████████| 1562/1562 [00:02<00:00, 620.95it/s]\n"
     ]
    },
    {
     "name": "stdout",
     "output_type": "stream",
     "text": [
      "train_d size : (34354, 3)\n",
      "train_t size : (8275, 3)\n"
     ]
    },
    {
     "name": "stderr",
     "output_type": "stream",
     "text": [
      "c:\\Users\\david\\anaconda3\\envs\\test_env\\lib\\site-packages\\tqdm\\std.py:1180: FutureWarning: In a future version of pandas, a length 1 tuple will be returned when iterating over a groupby with a grouper equal to a list of length 1. Don't supply a list with a single grouper to avoid this warning.\n",
      "  for obj in iterable:\n",
      "100%|██████████| 6426/6426 [00:01<00:00, 5640.44it/s]\n"
     ]
    },
    {
     "name": "stdout",
     "output_type": "stream",
     "text": [
      "knn k : 35\n"
     ]
    },
    {
     "name": "stderr",
     "output_type": "stream",
     "text": [
      "c:\\Users\\david\\anaconda3\\envs\\test_env\\lib\\site-packages\\tqdm\\std.py:1180: FutureWarning: In a future version of pandas, a length 1 tuple will be returned when iterating over a groupby with a grouper equal to a list of length 1. Don't supply a list with a single grouper to avoid this warning.\n",
      "  for obj in iterable:\n",
      "100%|██████████| 1601/1601 [00:00<00:00, 5601.98it/s]\n",
      "c:\\Users\\david\\anaconda3\\envs\\test_env\\lib\\site-packages\\tqdm\\std.py:1180: FutureWarning: In a future version of pandas, a length 1 tuple will be returned when iterating over a groupby with a grouper equal to a list of length 1. Don't supply a list with a single grouper to avoid this warning.\n",
      "  for obj in iterable:\n",
      "100%|██████████| 1601/1601 [00:00<00:00, 5998.48it/s]\n",
      "c:\\Users\\david\\anaconda3\\envs\\test_env\\lib\\site-packages\\tqdm\\std.py:1180: FutureWarning: In a future version of pandas, a length 1 tuple will be returned when iterating over a groupby with a grouper equal to a list of length 1. Don't supply a list with a single grouper to avoid this warning.\n",
      "  for obj in iterable:\n",
      "100%|██████████| 1601/1601 [00:02<00:00, 544.65it/s]\n"
     ]
    },
    {
     "name": "stdout",
     "output_type": "stream",
     "text": [
      "train_d size : (34233, 3)\n",
      "train_t size : (8396, 3)\n"
     ]
    },
    {
     "name": "stderr",
     "output_type": "stream",
     "text": [
      "c:\\Users\\david\\anaconda3\\envs\\test_env\\lib\\site-packages\\tqdm\\std.py:1180: FutureWarning: In a future version of pandas, a length 1 tuple will be returned when iterating over a groupby with a grouper equal to a list of length 1. Don't supply a list with a single grouper to avoid this warning.\n",
      "  for obj in iterable:\n",
      "100%|██████████| 6432/6432 [00:01<00:00, 5540.28it/s]\n"
     ]
    },
    {
     "name": "stdout",
     "output_type": "stream",
     "text": [
      "knn k : 75\n"
     ]
    },
    {
     "name": "stderr",
     "output_type": "stream",
     "text": [
      "c:\\Users\\david\\anaconda3\\envs\\test_env\\lib\\site-packages\\tqdm\\std.py:1180: FutureWarning: In a future version of pandas, a length 1 tuple will be returned when iterating over a groupby with a grouper equal to a list of length 1. Don't supply a list with a single grouper to avoid this warning.\n",
      "  for obj in iterable:\n",
      "100%|██████████| 1595/1595 [00:00<00:00, 6768.83it/s]\n",
      "c:\\Users\\david\\anaconda3\\envs\\test_env\\lib\\site-packages\\tqdm\\std.py:1180: FutureWarning: In a future version of pandas, a length 1 tuple will be returned when iterating over a groupby with a grouper equal to a list of length 1. Don't supply a list with a single grouper to avoid this warning.\n",
      "  for obj in iterable:\n",
      "100%|██████████| 1595/1595 [00:00<00:00, 6347.55it/s]\n",
      "c:\\Users\\david\\anaconda3\\envs\\test_env\\lib\\site-packages\\tqdm\\std.py:1180: FutureWarning: In a future version of pandas, a length 1 tuple will be returned when iterating over a groupby with a grouper equal to a list of length 1. Don't supply a list with a single grouper to avoid this warning.\n",
      "  for obj in iterable:\n",
      "100%|██████████| 1595/1595 [00:02<00:00, 580.86it/s]\n"
     ]
    },
    {
     "name": "stdout",
     "output_type": "stream",
     "text": [
      "train_d size : (34117, 3)\n",
      "train_t size : (8512, 3)\n"
     ]
    },
    {
     "name": "stderr",
     "output_type": "stream",
     "text": [
      "c:\\Users\\david\\anaconda3\\envs\\test_env\\lib\\site-packages\\tqdm\\std.py:1180: FutureWarning: In a future version of pandas, a length 1 tuple will be returned when iterating over a groupby with a grouper equal to a list of length 1. Don't supply a list with a single grouper to avoid this warning.\n",
      "  for obj in iterable:\n",
      "100%|██████████| 6423/6423 [00:01<00:00, 5681.45it/s]\n"
     ]
    },
    {
     "name": "stdout",
     "output_type": "stream",
     "text": [
      "knn k : 75\n"
     ]
    },
    {
     "name": "stderr",
     "output_type": "stream",
     "text": [
      "c:\\Users\\david\\anaconda3\\envs\\test_env\\lib\\site-packages\\tqdm\\std.py:1180: FutureWarning: In a future version of pandas, a length 1 tuple will be returned when iterating over a groupby with a grouper equal to a list of length 1. Don't supply a list with a single grouper to avoid this warning.\n",
      "  for obj in iterable:\n",
      "100%|██████████| 1604/1604 [00:00<00:00, 6697.24it/s]\n",
      "c:\\Users\\david\\anaconda3\\envs\\test_env\\lib\\site-packages\\tqdm\\std.py:1180: FutureWarning: In a future version of pandas, a length 1 tuple will be returned when iterating over a groupby with a grouper equal to a list of length 1. Don't supply a list with a single grouper to avoid this warning.\n",
      "  for obj in iterable:\n",
      "100%|██████████| 1604/1604 [00:00<00:00, 6009.28it/s]\n",
      "c:\\Users\\david\\anaconda3\\envs\\test_env\\lib\\site-packages\\tqdm\\std.py:1180: FutureWarning: In a future version of pandas, a length 1 tuple will be returned when iterating over a groupby with a grouper equal to a list of length 1. Don't supply a list with a single grouper to avoid this warning.\n",
      "  for obj in iterable:\n",
      "100%|██████████| 1604/1604 [00:02<00:00, 589.42it/s]\n"
     ]
    },
    {
     "name": "stdout",
     "output_type": "stream",
     "text": [
      "train_d size : (33862, 3)\n",
      "train_t size : (8767, 3)\n"
     ]
    },
    {
     "name": "stderr",
     "output_type": "stream",
     "text": [
      "c:\\Users\\david\\anaconda3\\envs\\test_env\\lib\\site-packages\\tqdm\\std.py:1180: FutureWarning: In a future version of pandas, a length 1 tuple will be returned when iterating over a groupby with a grouper equal to a list of length 1. Don't supply a list with a single grouper to avoid this warning.\n",
      "  for obj in iterable:\n",
      "100%|██████████| 6445/6445 [00:01<00:00, 5673.30it/s]\n"
     ]
    },
    {
     "name": "stdout",
     "output_type": "stream",
     "text": [
      "knn k : 75\n"
     ]
    },
    {
     "name": "stderr",
     "output_type": "stream",
     "text": [
      "c:\\Users\\david\\anaconda3\\envs\\test_env\\lib\\site-packages\\tqdm\\std.py:1180: FutureWarning: In a future version of pandas, a length 1 tuple will be returned when iterating over a groupby with a grouper equal to a list of length 1. Don't supply a list with a single grouper to avoid this warning.\n",
      "  for obj in iterable:\n",
      "100%|██████████| 1582/1582 [00:00<00:00, 7369.13it/s] \n",
      "c:\\Users\\david\\anaconda3\\envs\\test_env\\lib\\site-packages\\tqdm\\std.py:1180: FutureWarning: In a future version of pandas, a length 1 tuple will be returned when iterating over a groupby with a grouper equal to a list of length 1. Don't supply a list with a single grouper to avoid this warning.\n",
      "  for obj in iterable:\n",
      "100%|██████████| 1582/1582 [00:00<00:00, 6496.56it/s]\n",
      "c:\\Users\\david\\anaconda3\\envs\\test_env\\lib\\site-packages\\tqdm\\std.py:1180: FutureWarning: In a future version of pandas, a length 1 tuple will be returned when iterating over a groupby with a grouper equal to a list of length 1. Don't supply a list with a single grouper to avoid this warning.\n",
      "  for obj in iterable:\n",
      "100%|██████████| 1582/1582 [00:02<00:00, 620.64it/s]\n"
     ]
    },
    {
     "name": "stdout",
     "output_type": "stream",
     "text": [
      "train_d size : (34014, 3)\n",
      "train_t size : (8615, 3)\n"
     ]
    },
    {
     "name": "stderr",
     "output_type": "stream",
     "text": [
      "c:\\Users\\david\\anaconda3\\envs\\test_env\\lib\\site-packages\\tqdm\\std.py:1180: FutureWarning: In a future version of pandas, a length 1 tuple will be returned when iterating over a groupby with a grouper equal to a list of length 1. Don't supply a list with a single grouper to avoid this warning.\n",
      "  for obj in iterable:\n",
      "100%|██████████| 6414/6414 [00:01<00:00, 5816.60it/s]\n"
     ]
    },
    {
     "name": "stdout",
     "output_type": "stream",
     "text": [
      "knn k : 75\n"
     ]
    },
    {
     "name": "stderr",
     "output_type": "stream",
     "text": [
      "c:\\Users\\david\\anaconda3\\envs\\test_env\\lib\\site-packages\\tqdm\\std.py:1180: FutureWarning: In a future version of pandas, a length 1 tuple will be returned when iterating over a groupby with a grouper equal to a list of length 1. Don't supply a list with a single grouper to avoid this warning.\n",
      "  for obj in iterable:\n",
      "100%|██████████| 1613/1613 [00:00<00:00, 12854.38it/s]\n",
      "c:\\Users\\david\\anaconda3\\envs\\test_env\\lib\\site-packages\\tqdm\\std.py:1180: FutureWarning: In a future version of pandas, a length 1 tuple will be returned when iterating over a groupby with a grouper equal to a list of length 1. Don't supply a list with a single grouper to avoid this warning.\n",
      "  for obj in iterable:\n",
      "100%|██████████| 1613/1613 [00:00<00:00, 4886.51it/s]\n",
      "c:\\Users\\david\\anaconda3\\envs\\test_env\\lib\\site-packages\\tqdm\\std.py:1180: FutureWarning: In a future version of pandas, a length 1 tuple will be returned when iterating over a groupby with a grouper equal to a list of length 1. Don't supply a list with a single grouper to avoid this warning.\n",
      "  for obj in iterable:\n",
      "100%|██████████| 1613/1613 [00:02<00:00, 575.05it/s]\n"
     ]
    },
    {
     "name": "stdout",
     "output_type": "stream",
     "text": [
      "train_d size : (34290, 3)\n",
      "train_t size : (8339, 3)\n"
     ]
    },
    {
     "name": "stderr",
     "output_type": "stream",
     "text": [
      "c:\\Users\\david\\anaconda3\\envs\\test_env\\lib\\site-packages\\tqdm\\std.py:1180: FutureWarning: In a future version of pandas, a length 1 tuple will be returned when iterating over a groupby with a grouper equal to a list of length 1. Don't supply a list with a single grouper to avoid this warning.\n",
      "  for obj in iterable:\n",
      "100%|██████████| 6394/6394 [00:01<00:00, 6050.52it/s]\n"
     ]
    },
    {
     "name": "stdout",
     "output_type": "stream",
     "text": [
      "knn k : 75\n"
     ]
    },
    {
     "name": "stderr",
     "output_type": "stream",
     "text": [
      "c:\\Users\\david\\anaconda3\\envs\\test_env\\lib\\site-packages\\tqdm\\std.py:1180: FutureWarning: In a future version of pandas, a length 1 tuple will be returned when iterating over a groupby with a grouper equal to a list of length 1. Don't supply a list with a single grouper to avoid this warning.\n",
      "  for obj in iterable:\n",
      "100%|██████████| 1633/1633 [00:00<00:00, 14859.99it/s]\n",
      "c:\\Users\\david\\anaconda3\\envs\\test_env\\lib\\site-packages\\tqdm\\std.py:1180: FutureWarning: In a future version of pandas, a length 1 tuple will be returned when iterating over a groupby with a grouper equal to a list of length 1. Don't supply a list with a single grouper to avoid this warning.\n",
      "  for obj in iterable:\n",
      "100%|██████████| 1633/1633 [00:00<00:00, 6499.38it/s]\n",
      "c:\\Users\\david\\anaconda3\\envs\\test_env\\lib\\site-packages\\tqdm\\std.py:1180: FutureWarning: In a future version of pandas, a length 1 tuple will be returned when iterating over a groupby with a grouper equal to a list of length 1. Don't supply a list with a single grouper to avoid this warning.\n",
      "  for obj in iterable:\n",
      "100%|██████████| 1633/1633 [00:02<00:00, 616.88it/s]\n"
     ]
    },
    {
     "name": "stdout",
     "output_type": "stream",
     "text": [
      "train_d size : (33614, 3)\n",
      "train_t size : (9015, 3)\n"
     ]
    },
    {
     "name": "stderr",
     "output_type": "stream",
     "text": [
      "c:\\Users\\david\\anaconda3\\envs\\test_env\\lib\\site-packages\\tqdm\\std.py:1180: FutureWarning: In a future version of pandas, a length 1 tuple will be returned when iterating over a groupby with a grouper equal to a list of length 1. Don't supply a list with a single grouper to avoid this warning.\n",
      "  for obj in iterable:\n",
      "100%|██████████| 6358/6358 [00:01<00:00, 6044.45it/s]\n"
     ]
    },
    {
     "name": "stdout",
     "output_type": "stream",
     "text": [
      "knn k : 3\n"
     ]
    },
    {
     "name": "stderr",
     "output_type": "stream",
     "text": [
      "c:\\Users\\david\\anaconda3\\envs\\test_env\\lib\\site-packages\\tqdm\\std.py:1180: FutureWarning: In a future version of pandas, a length 1 tuple will be returned when iterating over a groupby with a grouper equal to a list of length 1. Don't supply a list with a single grouper to avoid this warning.\n",
      "  for obj in iterable:\n",
      "100%|██████████| 1669/1669 [00:00<00:00, 15188.84it/s]\n",
      "c:\\Users\\david\\anaconda3\\envs\\test_env\\lib\\site-packages\\tqdm\\std.py:1180: FutureWarning: In a future version of pandas, a length 1 tuple will be returned when iterating over a groupby with a grouper equal to a list of length 1. Don't supply a list with a single grouper to avoid this warning.\n",
      "  for obj in iterable:\n",
      "100%|██████████| 1669/1669 [00:00<00:00, 6522.43it/s]\n",
      "c:\\Users\\david\\anaconda3\\envs\\test_env\\lib\\site-packages\\tqdm\\std.py:1180: FutureWarning: In a future version of pandas, a length 1 tuple will be returned when iterating over a groupby with a grouper equal to a list of length 1. Don't supply a list with a single grouper to avoid this warning.\n",
      "  for obj in iterable:\n",
      "100%|██████████| 1669/1669 [00:02<00:00, 623.99it/s]\n"
     ]
    },
    {
     "name": "stdout",
     "output_type": "stream",
     "text": [
      "train_d size : (34032, 3)\n",
      "train_t size : (8597, 3)\n"
     ]
    },
    {
     "name": "stderr",
     "output_type": "stream",
     "text": [
      "c:\\Users\\david\\anaconda3\\envs\\test_env\\lib\\site-packages\\tqdm\\std.py:1180: FutureWarning: In a future version of pandas, a length 1 tuple will be returned when iterating over a groupby with a grouper equal to a list of length 1. Don't supply a list with a single grouper to avoid this warning.\n",
      "  for obj in iterable:\n",
      "100%|██████████| 6419/6419 [00:01<00:00, 5654.93it/s]\n"
     ]
    },
    {
     "name": "stdout",
     "output_type": "stream",
     "text": [
      "knn k : 3\n"
     ]
    },
    {
     "name": "stderr",
     "output_type": "stream",
     "text": [
      "c:\\Users\\david\\anaconda3\\envs\\test_env\\lib\\site-packages\\tqdm\\std.py:1180: FutureWarning: In a future version of pandas, a length 1 tuple will be returned when iterating over a groupby with a grouper equal to a list of length 1. Don't supply a list with a single grouper to avoid this warning.\n",
      "  for obj in iterable:\n",
      "100%|██████████| 1608/1608 [00:00<00:00, 14639.87it/s]\n",
      "c:\\Users\\david\\anaconda3\\envs\\test_env\\lib\\site-packages\\tqdm\\std.py:1180: FutureWarning: In a future version of pandas, a length 1 tuple will be returned when iterating over a groupby with a grouper equal to a list of length 1. Don't supply a list with a single grouper to avoid this warning.\n",
      "  for obj in iterable:\n",
      "100%|██████████| 1608/1608 [00:00<00:00, 5889.68it/s]\n",
      "c:\\Users\\david\\anaconda3\\envs\\test_env\\lib\\site-packages\\tqdm\\std.py:1180: FutureWarning: In a future version of pandas, a length 1 tuple will be returned when iterating over a groupby with a grouper equal to a list of length 1. Don't supply a list with a single grouper to avoid this warning.\n",
      "  for obj in iterable:\n",
      "100%|██████████| 1608/1608 [00:02<00:00, 583.94it/s]\n"
     ]
    },
    {
     "name": "stdout",
     "output_type": "stream",
     "text": [
      "train_d size : (34279, 3)\n",
      "train_t size : (8350, 3)\n"
     ]
    },
    {
     "name": "stderr",
     "output_type": "stream",
     "text": [
      "c:\\Users\\david\\anaconda3\\envs\\test_env\\lib\\site-packages\\tqdm\\std.py:1180: FutureWarning: In a future version of pandas, a length 1 tuple will be returned when iterating over a groupby with a grouper equal to a list of length 1. Don't supply a list with a single grouper to avoid this warning.\n",
      "  for obj in iterable:\n",
      "100%|██████████| 6431/6431 [00:01<00:00, 5661.61it/s]\n"
     ]
    },
    {
     "name": "stdout",
     "output_type": "stream",
     "text": [
      "knn k : 3\n"
     ]
    },
    {
     "name": "stderr",
     "output_type": "stream",
     "text": [
      "c:\\Users\\david\\anaconda3\\envs\\test_env\\lib\\site-packages\\tqdm\\std.py:1180: FutureWarning: In a future version of pandas, a length 1 tuple will be returned when iterating over a groupby with a grouper equal to a list of length 1. Don't supply a list with a single grouper to avoid this warning.\n",
      "  for obj in iterable:\n",
      "100%|██████████| 1596/1596 [00:00<00:00, 12717.84it/s]\n",
      "c:\\Users\\david\\anaconda3\\envs\\test_env\\lib\\site-packages\\tqdm\\std.py:1180: FutureWarning: In a future version of pandas, a length 1 tuple will be returned when iterating over a groupby with a grouper equal to a list of length 1. Don't supply a list with a single grouper to avoid this warning.\n",
      "  for obj in iterable:\n",
      "100%|██████████| 1596/1596 [00:00<00:00, 5980.28it/s]\n",
      "c:\\Users\\david\\anaconda3\\envs\\test_env\\lib\\site-packages\\tqdm\\std.py:1180: FutureWarning: In a future version of pandas, a length 1 tuple will be returned when iterating over a groupby with a grouper equal to a list of length 1. Don't supply a list with a single grouper to avoid this warning.\n",
      "  for obj in iterable:\n",
      "100%|██████████| 1596/1596 [00:02<00:00, 618.33it/s]\n"
     ]
    },
    {
     "name": "stdout",
     "output_type": "stream",
     "text": [
      "train_d size : (34121, 3)\n",
      "train_t size : (8508, 3)\n"
     ]
    },
    {
     "name": "stderr",
     "output_type": "stream",
     "text": [
      "c:\\Users\\david\\anaconda3\\envs\\test_env\\lib\\site-packages\\tqdm\\std.py:1180: FutureWarning: In a future version of pandas, a length 1 tuple will be returned when iterating over a groupby with a grouper equal to a list of length 1. Don't supply a list with a single grouper to avoid this warning.\n",
      "  for obj in iterable:\n",
      "100%|██████████| 6431/6431 [00:01<00:00, 6113.78it/s]\n"
     ]
    },
    {
     "name": "stdout",
     "output_type": "stream",
     "text": [
      "knn k : 3\n"
     ]
    },
    {
     "name": "stderr",
     "output_type": "stream",
     "text": [
      "c:\\Users\\david\\anaconda3\\envs\\test_env\\lib\\site-packages\\tqdm\\std.py:1180: FutureWarning: In a future version of pandas, a length 1 tuple will be returned when iterating over a groupby with a grouper equal to a list of length 1. Don't supply a list with a single grouper to avoid this warning.\n",
      "  for obj in iterable:\n",
      "100%|██████████| 1596/1596 [00:00<00:00, 7263.06it/s]\n",
      "c:\\Users\\david\\anaconda3\\envs\\test_env\\lib\\site-packages\\tqdm\\std.py:1180: FutureWarning: In a future version of pandas, a length 1 tuple will be returned when iterating over a groupby with a grouper equal to a list of length 1. Don't supply a list with a single grouper to avoid this warning.\n",
      "  for obj in iterable:\n",
      "100%|██████████| 1596/1596 [00:00<00:00, 6239.10it/s]\n",
      "c:\\Users\\david\\anaconda3\\envs\\test_env\\lib\\site-packages\\tqdm\\std.py:1180: FutureWarning: In a future version of pandas, a length 1 tuple will be returned when iterating over a groupby with a grouper equal to a list of length 1. Don't supply a list with a single grouper to avoid this warning.\n",
      "  for obj in iterable:\n",
      "100%|██████████| 1596/1596 [00:02<00:00, 629.06it/s]\n"
     ]
    },
    {
     "name": "stdout",
     "output_type": "stream",
     "text": [
      "train_d size : (34470, 3)\n",
      "train_t size : (8159, 3)\n"
     ]
    },
    {
     "name": "stderr",
     "output_type": "stream",
     "text": [
      "c:\\Users\\david\\anaconda3\\envs\\test_env\\lib\\site-packages\\tqdm\\std.py:1180: FutureWarning: In a future version of pandas, a length 1 tuple will be returned when iterating over a groupby with a grouper equal to a list of length 1. Don't supply a list with a single grouper to avoid this warning.\n",
      "  for obj in iterable:\n",
      "100%|██████████| 6469/6469 [00:01<00:00, 5968.94it/s]\n"
     ]
    },
    {
     "name": "stdout",
     "output_type": "stream",
     "text": [
      "knn k : 3\n"
     ]
    },
    {
     "name": "stderr",
     "output_type": "stream",
     "text": [
      "c:\\Users\\david\\anaconda3\\envs\\test_env\\lib\\site-packages\\tqdm\\std.py:1180: FutureWarning: In a future version of pandas, a length 1 tuple will be returned when iterating over a groupby with a grouper equal to a list of length 1. Don't supply a list with a single grouper to avoid this warning.\n",
      "  for obj in iterable:\n",
      "100%|██████████| 1558/1558 [00:00<00:00, 7088.36it/s]\n",
      "c:\\Users\\david\\anaconda3\\envs\\test_env\\lib\\site-packages\\tqdm\\std.py:1180: FutureWarning: In a future version of pandas, a length 1 tuple will be returned when iterating over a groupby with a grouper equal to a list of length 1. Don't supply a list with a single grouper to avoid this warning.\n",
      "  for obj in iterable:\n",
      "100%|██████████| 1558/1558 [00:00<00:00, 6211.59it/s]\n",
      "c:\\Users\\david\\anaconda3\\envs\\test_env\\lib\\site-packages\\tqdm\\std.py:1180: FutureWarning: In a future version of pandas, a length 1 tuple will be returned when iterating over a groupby with a grouper equal to a list of length 1. Don't supply a list with a single grouper to avoid this warning.\n",
      "  for obj in iterable:\n",
      "100%|██████████| 1558/1558 [00:02<00:00, 590.06it/s]\n"
     ]
    },
    {
     "name": "stdout",
     "output_type": "stream",
     "text": [
      "train_d size : (33829, 3)\n",
      "train_t size : (8800, 3)\n"
     ]
    },
    {
     "name": "stderr",
     "output_type": "stream",
     "text": [
      "c:\\Users\\david\\anaconda3\\envs\\test_env\\lib\\site-packages\\tqdm\\std.py:1180: FutureWarning: In a future version of pandas, a length 1 tuple will be returned when iterating over a groupby with a grouper equal to a list of length 1. Don't supply a list with a single grouper to avoid this warning.\n",
      "  for obj in iterable:\n",
      "100%|██████████| 6426/6426 [00:01<00:00, 5763.16it/s]\n"
     ]
    },
    {
     "name": "stdout",
     "output_type": "stream",
     "text": [
      "knn k : 11\n"
     ]
    },
    {
     "name": "stderr",
     "output_type": "stream",
     "text": [
      "c:\\Users\\david\\anaconda3\\envs\\test_env\\lib\\site-packages\\tqdm\\std.py:1180: FutureWarning: In a future version of pandas, a length 1 tuple will be returned when iterating over a groupby with a grouper equal to a list of length 1. Don't supply a list with a single grouper to avoid this warning.\n",
      "  for obj in iterable:\n",
      "100%|██████████| 1601/1601 [00:00<00:00, 6671.46it/s]\n",
      "c:\\Users\\david\\anaconda3\\envs\\test_env\\lib\\site-packages\\tqdm\\std.py:1180: FutureWarning: In a future version of pandas, a length 1 tuple will be returned when iterating over a groupby with a grouper equal to a list of length 1. Don't supply a list with a single grouper to avoid this warning.\n",
      "  for obj in iterable:\n",
      "100%|██████████| 1601/1601 [00:00<00:00, 5995.21it/s]\n",
      "c:\\Users\\david\\anaconda3\\envs\\test_env\\lib\\site-packages\\tqdm\\std.py:1180: FutureWarning: In a future version of pandas, a length 1 tuple will be returned when iterating over a groupby with a grouper equal to a list of length 1. Don't supply a list with a single grouper to avoid this warning.\n",
      "  for obj in iterable:\n",
      "100%|██████████| 1601/1601 [00:02<00:00, 558.86it/s]\n"
     ]
    },
    {
     "name": "stdout",
     "output_type": "stream",
     "text": [
      "train_d size : (34348, 3)\n",
      "train_t size : (8281, 3)\n"
     ]
    },
    {
     "name": "stderr",
     "output_type": "stream",
     "text": [
      "c:\\Users\\david\\anaconda3\\envs\\test_env\\lib\\site-packages\\tqdm\\std.py:1180: FutureWarning: In a future version of pandas, a length 1 tuple will be returned when iterating over a groupby with a grouper equal to a list of length 1. Don't supply a list with a single grouper to avoid this warning.\n",
      "  for obj in iterable:\n",
      "100%|██████████| 6460/6460 [00:01<00:00, 5771.46it/s]\n"
     ]
    },
    {
     "name": "stdout",
     "output_type": "stream",
     "text": [
      "knn k : 11\n"
     ]
    },
    {
     "name": "stderr",
     "output_type": "stream",
     "text": [
      "c:\\Users\\david\\anaconda3\\envs\\test_env\\lib\\site-packages\\tqdm\\std.py:1180: FutureWarning: In a future version of pandas, a length 1 tuple will be returned when iterating over a groupby with a grouper equal to a list of length 1. Don't supply a list with a single grouper to avoid this warning.\n",
      "  for obj in iterable:\n",
      "100%|██████████| 1567/1567 [00:00<00:00, 7119.13it/s]\n",
      "c:\\Users\\david\\anaconda3\\envs\\test_env\\lib\\site-packages\\tqdm\\std.py:1180: FutureWarning: In a future version of pandas, a length 1 tuple will be returned when iterating over a groupby with a grouper equal to a list of length 1. Don't supply a list with a single grouper to avoid this warning.\n",
      "  for obj in iterable:\n",
      "100%|██████████| 1567/1567 [00:00<00:00, 6232.94it/s]\n",
      "c:\\Users\\david\\anaconda3\\envs\\test_env\\lib\\site-packages\\tqdm\\std.py:1180: FutureWarning: In a future version of pandas, a length 1 tuple will be returned when iterating over a groupby with a grouper equal to a list of length 1. Don't supply a list with a single grouper to avoid this warning.\n",
      "  for obj in iterable:\n",
      "100%|██████████| 1567/1567 [00:02<00:00, 589.28it/s]\n"
     ]
    },
    {
     "name": "stdout",
     "output_type": "stream",
     "text": [
      "train_d size : (33777, 3)\n",
      "train_t size : (8852, 3)\n"
     ]
    },
    {
     "name": "stderr",
     "output_type": "stream",
     "text": [
      "c:\\Users\\david\\anaconda3\\envs\\test_env\\lib\\site-packages\\tqdm\\std.py:1180: FutureWarning: In a future version of pandas, a length 1 tuple will be returned when iterating over a groupby with a grouper equal to a list of length 1. Don't supply a list with a single grouper to avoid this warning.\n",
      "  for obj in iterable:\n",
      "100%|██████████| 6385/6385 [00:01<00:00, 5786.41it/s]\n"
     ]
    },
    {
     "name": "stdout",
     "output_type": "stream",
     "text": [
      "knn k : 11\n"
     ]
    },
    {
     "name": "stderr",
     "output_type": "stream",
     "text": [
      "c:\\Users\\david\\anaconda3\\envs\\test_env\\lib\\site-packages\\tqdm\\std.py:1180: FutureWarning: In a future version of pandas, a length 1 tuple will be returned when iterating over a groupby with a grouper equal to a list of length 1. Don't supply a list with a single grouper to avoid this warning.\n",
      "  for obj in iterable:\n",
      "100%|██████████| 1642/1642 [00:00<00:00, 6717.43it/s] \n",
      "c:\\Users\\david\\anaconda3\\envs\\test_env\\lib\\site-packages\\tqdm\\std.py:1180: FutureWarning: In a future version of pandas, a length 1 tuple will be returned when iterating over a groupby with a grouper equal to a list of length 1. Don't supply a list with a single grouper to avoid this warning.\n",
      "  for obj in iterable:\n",
      "100%|██████████| 1642/1642 [00:00<00:00, 6147.97it/s]\n",
      "c:\\Users\\david\\anaconda3\\envs\\test_env\\lib\\site-packages\\tqdm\\std.py:1180: FutureWarning: In a future version of pandas, a length 1 tuple will be returned when iterating over a groupby with a grouper equal to a list of length 1. Don't supply a list with a single grouper to avoid this warning.\n",
      "  for obj in iterable:\n",
      "100%|██████████| 1642/1642 [00:02<00:00, 631.22it/s]\n"
     ]
    },
    {
     "name": "stdout",
     "output_type": "stream",
     "text": [
      "train_d size : (34236, 3)\n",
      "train_t size : (8393, 3)\n"
     ]
    },
    {
     "name": "stderr",
     "output_type": "stream",
     "text": [
      "c:\\Users\\david\\anaconda3\\envs\\test_env\\lib\\site-packages\\tqdm\\std.py:1180: FutureWarning: In a future version of pandas, a length 1 tuple will be returned when iterating over a groupby with a grouper equal to a list of length 1. Don't supply a list with a single grouper to avoid this warning.\n",
      "  for obj in iterable:\n",
      "100%|██████████| 6424/6424 [00:01<00:00, 5681.03it/s]\n"
     ]
    },
    {
     "name": "stdout",
     "output_type": "stream",
     "text": [
      "knn k : 11\n"
     ]
    },
    {
     "name": "stderr",
     "output_type": "stream",
     "text": [
      "c:\\Users\\david\\anaconda3\\envs\\test_env\\lib\\site-packages\\tqdm\\std.py:1180: FutureWarning: In a future version of pandas, a length 1 tuple will be returned when iterating over a groupby with a grouper equal to a list of length 1. Don't supply a list with a single grouper to avoid this warning.\n",
      "  for obj in iterable:\n",
      "100%|██████████| 1603/1603 [00:00<00:00, 12754.38it/s]\n",
      "c:\\Users\\david\\anaconda3\\envs\\test_env\\lib\\site-packages\\tqdm\\std.py:1180: FutureWarning: In a future version of pandas, a length 1 tuple will be returned when iterating over a groupby with a grouper equal to a list of length 1. Don't supply a list with a single grouper to avoid this warning.\n",
      "  for obj in iterable:\n",
      "100%|██████████| 1603/1603 [00:00<00:00, 6391.63it/s]\n",
      "c:\\Users\\david\\anaconda3\\envs\\test_env\\lib\\site-packages\\tqdm\\std.py:1180: FutureWarning: In a future version of pandas, a length 1 tuple will be returned when iterating over a groupby with a grouper equal to a list of length 1. Don't supply a list with a single grouper to avoid this warning.\n",
      "  for obj in iterable:\n",
      "100%|██████████| 1603/1603 [00:02<00:00, 599.85it/s]\n"
     ]
    },
    {
     "name": "stdout",
     "output_type": "stream",
     "text": [
      "train_d size : (34326, 3)\n",
      "train_t size : (8303, 3)\n"
     ]
    },
    {
     "name": "stderr",
     "output_type": "stream",
     "text": [
      "c:\\Users\\david\\anaconda3\\envs\\test_env\\lib\\site-packages\\tqdm\\std.py:1180: FutureWarning: In a future version of pandas, a length 1 tuple will be returned when iterating over a groupby with a grouper equal to a list of length 1. Don't supply a list with a single grouper to avoid this warning.\n",
      "  for obj in iterable:\n",
      "100%|██████████| 6413/6413 [00:01<00:00, 4667.45it/s]\n"
     ]
    },
    {
     "name": "stdout",
     "output_type": "stream",
     "text": [
      "knn k : 11\n"
     ]
    },
    {
     "name": "stderr",
     "output_type": "stream",
     "text": [
      "c:\\Users\\david\\anaconda3\\envs\\test_env\\lib\\site-packages\\tqdm\\std.py:1180: FutureWarning: In a future version of pandas, a length 1 tuple will be returned when iterating over a groupby with a grouper equal to a list of length 1. Don't supply a list with a single grouper to avoid this warning.\n",
      "  for obj in iterable:\n",
      "100%|██████████| 1614/1614 [00:00<00:00, 11414.71it/s]\n",
      "c:\\Users\\david\\anaconda3\\envs\\test_env\\lib\\site-packages\\tqdm\\std.py:1180: FutureWarning: In a future version of pandas, a length 1 tuple will be returned when iterating over a groupby with a grouper equal to a list of length 1. Don't supply a list with a single grouper to avoid this warning.\n",
      "  for obj in iterable:\n",
      "100%|██████████| 1614/1614 [00:00<00:00, 5997.89it/s]\n",
      "c:\\Users\\david\\anaconda3\\envs\\test_env\\lib\\site-packages\\tqdm\\std.py:1180: FutureWarning: In a future version of pandas, a length 1 tuple will be returned when iterating over a groupby with a grouper equal to a list of length 1. Don't supply a list with a single grouper to avoid this warning.\n",
      "  for obj in iterable:\n",
      "100%|██████████| 1614/1614 [00:02<00:00, 633.09it/s]\n"
     ]
    },
    {
     "name": "stdout",
     "output_type": "stream",
     "text": [
      "train_d size : (33740, 3)\n",
      "train_t size : (8889, 3)\n"
     ]
    },
    {
     "name": "stderr",
     "output_type": "stream",
     "text": [
      "c:\\Users\\david\\anaconda3\\envs\\test_env\\lib\\site-packages\\tqdm\\std.py:1180: FutureWarning: In a future version of pandas, a length 1 tuple will be returned when iterating over a groupby with a grouper equal to a list of length 1. Don't supply a list with a single grouper to avoid this warning.\n",
      "  for obj in iterable:\n",
      "100%|██████████| 6422/6422 [00:01<00:00, 5740.99it/s]\n"
     ]
    },
    {
     "name": "stdout",
     "output_type": "stream",
     "text": [
      "knn k : 25\n"
     ]
    },
    {
     "name": "stderr",
     "output_type": "stream",
     "text": [
      "c:\\Users\\david\\anaconda3\\envs\\test_env\\lib\\site-packages\\tqdm\\std.py:1180: FutureWarning: In a future version of pandas, a length 1 tuple will be returned when iterating over a groupby with a grouper equal to a list of length 1. Don't supply a list with a single grouper to avoid this warning.\n",
      "  for obj in iterable:\n",
      "100%|██████████| 1605/1605 [00:00<00:00, 12742.68it/s]\n",
      "c:\\Users\\david\\anaconda3\\envs\\test_env\\lib\\site-packages\\tqdm\\std.py:1180: FutureWarning: In a future version of pandas, a length 1 tuple will be returned when iterating over a groupby with a grouper equal to a list of length 1. Don't supply a list with a single grouper to avoid this warning.\n",
      "  for obj in iterable:\n",
      "100%|██████████| 1605/1605 [00:00<00:00, 6173.43it/s]\n",
      "c:\\Users\\david\\anaconda3\\envs\\test_env\\lib\\site-packages\\tqdm\\std.py:1180: FutureWarning: In a future version of pandas, a length 1 tuple will be returned when iterating over a groupby with a grouper equal to a list of length 1. Don't supply a list with a single grouper to avoid this warning.\n",
      "  for obj in iterable:\n",
      "100%|██████████| 1605/1605 [00:02<00:00, 603.64it/s]\n"
     ]
    },
    {
     "name": "stdout",
     "output_type": "stream",
     "text": [
      "train_d size : (34260, 3)\n",
      "train_t size : (8369, 3)\n"
     ]
    },
    {
     "name": "stderr",
     "output_type": "stream",
     "text": [
      "c:\\Users\\david\\anaconda3\\envs\\test_env\\lib\\site-packages\\tqdm\\std.py:1180: FutureWarning: In a future version of pandas, a length 1 tuple will be returned when iterating over a groupby with a grouper equal to a list of length 1. Don't supply a list with a single grouper to avoid this warning.\n",
      "  for obj in iterable:\n",
      "100%|██████████| 6434/6434 [00:01<00:00, 5918.21it/s]\n"
     ]
    },
    {
     "name": "stdout",
     "output_type": "stream",
     "text": [
      "knn k : 25\n"
     ]
    },
    {
     "name": "stderr",
     "output_type": "stream",
     "text": [
      "c:\\Users\\david\\anaconda3\\envs\\test_env\\lib\\site-packages\\tqdm\\std.py:1180: FutureWarning: In a future version of pandas, a length 1 tuple will be returned when iterating over a groupby with a grouper equal to a list of length 1. Don't supply a list with a single grouper to avoid this warning.\n",
      "  for obj in iterable:\n",
      "100%|██████████| 1593/1593 [00:00<00:00, 12650.12it/s]\n",
      "c:\\Users\\david\\anaconda3\\envs\\test_env\\lib\\site-packages\\tqdm\\std.py:1180: FutureWarning: In a future version of pandas, a length 1 tuple will be returned when iterating over a groupby with a grouper equal to a list of length 1. Don't supply a list with a single grouper to avoid this warning.\n",
      "  for obj in iterable:\n",
      "100%|██████████| 1593/1593 [00:00<00:00, 5964.13it/s]\n",
      "c:\\Users\\david\\anaconda3\\envs\\test_env\\lib\\site-packages\\tqdm\\std.py:1180: FutureWarning: In a future version of pandas, a length 1 tuple will be returned when iterating over a groupby with a grouper equal to a list of length 1. Don't supply a list with a single grouper to avoid this warning.\n",
      "  for obj in iterable:\n",
      "100%|██████████| 1593/1593 [00:02<00:00, 625.11it/s]\n"
     ]
    },
    {
     "name": "stdout",
     "output_type": "stream",
     "text": [
      "train_d size : (34253, 3)\n",
      "train_t size : (8376, 3)\n"
     ]
    },
    {
     "name": "stderr",
     "output_type": "stream",
     "text": [
      "c:\\Users\\david\\anaconda3\\envs\\test_env\\lib\\site-packages\\tqdm\\std.py:1180: FutureWarning: In a future version of pandas, a length 1 tuple will be returned when iterating over a groupby with a grouper equal to a list of length 1. Don't supply a list with a single grouper to avoid this warning.\n",
      "  for obj in iterable:\n",
      "100%|██████████| 6416/6416 [00:01<00:00, 5265.80it/s]\n"
     ]
    },
    {
     "name": "stdout",
     "output_type": "stream",
     "text": [
      "knn k : 25\n"
     ]
    },
    {
     "name": "stderr",
     "output_type": "stream",
     "text": [
      "c:\\Users\\david\\anaconda3\\envs\\test_env\\lib\\site-packages\\tqdm\\std.py:1180: FutureWarning: In a future version of pandas, a length 1 tuple will be returned when iterating over a groupby with a grouper equal to a list of length 1. Don't supply a list with a single grouper to avoid this warning.\n",
      "  for obj in iterable:\n",
      "100%|██████████| 1611/1611 [00:00<00:00, 12827.91it/s]\n",
      "c:\\Users\\david\\anaconda3\\envs\\test_env\\lib\\site-packages\\tqdm\\std.py:1180: FutureWarning: In a future version of pandas, a length 1 tuple will be returned when iterating over a groupby with a grouper equal to a list of length 1. Don't supply a list with a single grouper to avoid this warning.\n",
      "  for obj in iterable:\n",
      "100%|██████████| 1611/1611 [00:00<00:00, 6030.91it/s]\n",
      "c:\\Users\\david\\anaconda3\\envs\\test_env\\lib\\site-packages\\tqdm\\std.py:1180: FutureWarning: In a future version of pandas, a length 1 tuple will be returned when iterating over a groupby with a grouper equal to a list of length 1. Don't supply a list with a single grouper to avoid this warning.\n",
      "  for obj in iterable:\n",
      "100%|██████████| 1611/1611 [00:02<00:00, 561.31it/s]\n"
     ]
    },
    {
     "name": "stdout",
     "output_type": "stream",
     "text": [
      "train_d size : (33799, 3)\n",
      "train_t size : (8830, 3)\n"
     ]
    },
    {
     "name": "stderr",
     "output_type": "stream",
     "text": [
      "c:\\Users\\david\\anaconda3\\envs\\test_env\\lib\\site-packages\\tqdm\\std.py:1180: FutureWarning: In a future version of pandas, a length 1 tuple will be returned when iterating over a groupby with a grouper equal to a list of length 1. Don't supply a list with a single grouper to avoid this warning.\n",
      "  for obj in iterable:\n",
      "100%|██████████| 6369/6369 [00:01<00:00, 5626.48it/s]\n"
     ]
    },
    {
     "name": "stdout",
     "output_type": "stream",
     "text": [
      "knn k : 25\n"
     ]
    },
    {
     "name": "stderr",
     "output_type": "stream",
     "text": [
      "c:\\Users\\david\\anaconda3\\envs\\test_env\\lib\\site-packages\\tqdm\\std.py:1180: FutureWarning: In a future version of pandas, a length 1 tuple will be returned when iterating over a groupby with a grouper equal to a list of length 1. Don't supply a list with a single grouper to avoid this warning.\n",
      "  for obj in iterable:\n",
      "100%|██████████| 1658/1658 [00:00<00:00, 6920.12it/s]\n",
      "c:\\Users\\david\\anaconda3\\envs\\test_env\\lib\\site-packages\\tqdm\\std.py:1180: FutureWarning: In a future version of pandas, a length 1 tuple will be returned when iterating over a groupby with a grouper equal to a list of length 1. Don't supply a list with a single grouper to avoid this warning.\n",
      "  for obj in iterable:\n",
      "100%|██████████| 1658/1658 [00:00<00:00, 6189.31it/s]\n",
      "c:\\Users\\david\\anaconda3\\envs\\test_env\\lib\\site-packages\\tqdm\\std.py:1180: FutureWarning: In a future version of pandas, a length 1 tuple will be returned when iterating over a groupby with a grouper equal to a list of length 1. Don't supply a list with a single grouper to avoid this warning.\n",
      "  for obj in iterable:\n",
      "100%|██████████| 1658/1658 [00:02<00:00, 598.88it/s]\n"
     ]
    },
    {
     "name": "stdout",
     "output_type": "stream",
     "text": [
      "train_d size : (34464, 3)\n",
      "train_t size : (8165, 3)\n"
     ]
    },
    {
     "name": "stderr",
     "output_type": "stream",
     "text": [
      "c:\\Users\\david\\anaconda3\\envs\\test_env\\lib\\site-packages\\tqdm\\std.py:1180: FutureWarning: In a future version of pandas, a length 1 tuple will be returned when iterating over a groupby with a grouper equal to a list of length 1. Don't supply a list with a single grouper to avoid this warning.\n",
      "  for obj in iterable:\n",
      "100%|██████████| 6467/6467 [00:01<00:00, 5624.77it/s]\n"
     ]
    },
    {
     "name": "stdout",
     "output_type": "stream",
     "text": [
      "knn k : 25\n"
     ]
    },
    {
     "name": "stderr",
     "output_type": "stream",
     "text": [
      "c:\\Users\\david\\anaconda3\\envs\\test_env\\lib\\site-packages\\tqdm\\std.py:1180: FutureWarning: In a future version of pandas, a length 1 tuple will be returned when iterating over a groupby with a grouper equal to a list of length 1. Don't supply a list with a single grouper to avoid this warning.\n",
      "  for obj in iterable:\n",
      "100%|██████████| 1560/1560 [00:00<00:00, 7115.53it/s]\n",
      "c:\\Users\\david\\anaconda3\\envs\\test_env\\lib\\site-packages\\tqdm\\std.py:1180: FutureWarning: In a future version of pandas, a length 1 tuple will be returned when iterating over a groupby with a grouper equal to a list of length 1. Don't supply a list with a single grouper to avoid this warning.\n",
      "  for obj in iterable:\n",
      "100%|██████████| 1560/1560 [00:00<00:00, 6217.08it/s]\n",
      "c:\\Users\\david\\anaconda3\\envs\\test_env\\lib\\site-packages\\tqdm\\std.py:1180: FutureWarning: In a future version of pandas, a length 1 tuple will be returned when iterating over a groupby with a grouper equal to a list of length 1. Don't supply a list with a single grouper to avoid this warning.\n",
      "  for obj in iterable:\n",
      "100%|██████████| 1560/1560 [00:02<00:00, 605.41it/s]\n"
     ]
    },
    {
     "name": "stdout",
     "output_type": "stream",
     "text": [
      "train_d size : (34130, 3)\n",
      "train_t size : (8499, 3)\n"
     ]
    },
    {
     "name": "stderr",
     "output_type": "stream",
     "text": [
      "c:\\Users\\david\\anaconda3\\envs\\test_env\\lib\\site-packages\\tqdm\\std.py:1180: FutureWarning: In a future version of pandas, a length 1 tuple will be returned when iterating over a groupby with a grouper equal to a list of length 1. Don't supply a list with a single grouper to avoid this warning.\n",
      "  for obj in iterable:\n",
      "100%|██████████| 6391/6391 [00:02<00:00, 2996.89it/s]\n"
     ]
    },
    {
     "name": "stdout",
     "output_type": "stream",
     "text": [
      "knn k : 35\n"
     ]
    },
    {
     "name": "stderr",
     "output_type": "stream",
     "text": [
      "c:\\Users\\david\\anaconda3\\envs\\test_env\\lib\\site-packages\\tqdm\\std.py:1180: FutureWarning: In a future version of pandas, a length 1 tuple will be returned when iterating over a groupby with a grouper equal to a list of length 1. Don't supply a list with a single grouper to avoid this warning.\n",
      "  for obj in iterable:\n",
      "100%|██████████| 1636/1636 [00:00<00:00, 4471.65it/s]\n",
      "c:\\Users\\david\\anaconda3\\envs\\test_env\\lib\\site-packages\\tqdm\\std.py:1180: FutureWarning: In a future version of pandas, a length 1 tuple will be returned when iterating over a groupby with a grouper equal to a list of length 1. Don't supply a list with a single grouper to avoid this warning.\n",
      "  for obj in iterable:\n",
      "100%|██████████| 1636/1636 [00:00<00:00, 4719.90it/s]\n",
      "c:\\Users\\david\\anaconda3\\envs\\test_env\\lib\\site-packages\\tqdm\\std.py:1180: FutureWarning: In a future version of pandas, a length 1 tuple will be returned when iterating over a groupby with a grouper equal to a list of length 1. Don't supply a list with a single grouper to avoid this warning.\n",
      "  for obj in iterable:\n",
      "100%|██████████| 1636/1636 [00:04<00:00, 403.72it/s]\n"
     ]
    },
    {
     "name": "stdout",
     "output_type": "stream",
     "text": [
      "train_d size : (33767, 3)\n",
      "train_t size : (8862, 3)\n"
     ]
    },
    {
     "name": "stderr",
     "output_type": "stream",
     "text": [
      "c:\\Users\\david\\anaconda3\\envs\\test_env\\lib\\site-packages\\tqdm\\std.py:1180: FutureWarning: In a future version of pandas, a length 1 tuple will be returned when iterating over a groupby with a grouper equal to a list of length 1. Don't supply a list with a single grouper to avoid this warning.\n",
      "  for obj in iterable:\n",
      "100%|██████████| 6419/6419 [00:02<00:00, 3094.04it/s]\n"
     ]
    },
    {
     "name": "stdout",
     "output_type": "stream",
     "text": [
      "knn k : 35\n"
     ]
    },
    {
     "name": "stderr",
     "output_type": "stream",
     "text": [
      "c:\\Users\\david\\anaconda3\\envs\\test_env\\lib\\site-packages\\tqdm\\std.py:1180: FutureWarning: In a future version of pandas, a length 1 tuple will be returned when iterating over a groupby with a grouper equal to a list of length 1. Don't supply a list with a single grouper to avoid this warning.\n",
      "  for obj in iterable:\n",
      "100%|██████████| 1608/1608 [00:00<00:00, 4697.59it/s]\n",
      "c:\\Users\\david\\anaconda3\\envs\\test_env\\lib\\site-packages\\tqdm\\std.py:1180: FutureWarning: In a future version of pandas, a length 1 tuple will be returned when iterating over a groupby with a grouper equal to a list of length 1. Don't supply a list with a single grouper to avoid this warning.\n",
      "  for obj in iterable:\n",
      "100%|██████████| 1608/1608 [00:00<00:00, 4558.72it/s]\n",
      "c:\\Users\\david\\anaconda3\\envs\\test_env\\lib\\site-packages\\tqdm\\std.py:1180: FutureWarning: In a future version of pandas, a length 1 tuple will be returned when iterating over a groupby with a grouper equal to a list of length 1. Don't supply a list with a single grouper to avoid this warning.\n",
      "  for obj in iterable:\n",
      "100%|██████████| 1608/1608 [00:04<00:00, 359.20it/s]\n"
     ]
    },
    {
     "name": "stdout",
     "output_type": "stream",
     "text": [
      "train_d size : (33571, 3)\n",
      "train_t size : (9058, 3)\n"
     ]
    },
    {
     "name": "stderr",
     "output_type": "stream",
     "text": [
      "c:\\Users\\david\\anaconda3\\envs\\test_env\\lib\\site-packages\\tqdm\\std.py:1180: FutureWarning: In a future version of pandas, a length 1 tuple will be returned when iterating over a groupby with a grouper equal to a list of length 1. Don't supply a list with a single grouper to avoid this warning.\n",
      "  for obj in iterable:\n",
      "100%|██████████| 6351/6351 [00:01<00:00, 3981.10it/s]\n"
     ]
    },
    {
     "name": "stdout",
     "output_type": "stream",
     "text": [
      "knn k : 35\n"
     ]
    },
    {
     "name": "stderr",
     "output_type": "stream",
     "text": [
      "c:\\Users\\david\\anaconda3\\envs\\test_env\\lib\\site-packages\\tqdm\\std.py:1180: FutureWarning: In a future version of pandas, a length 1 tuple will be returned when iterating over a groupby with a grouper equal to a list of length 1. Don't supply a list with a single grouper to avoid this warning.\n",
      "  for obj in iterable:\n",
      "100%|██████████| 1676/1676 [00:00<00:00, 5572.55it/s] \n",
      "c:\\Users\\david\\anaconda3\\envs\\test_env\\lib\\site-packages\\tqdm\\std.py:1180: FutureWarning: In a future version of pandas, a length 1 tuple will be returned when iterating over a groupby with a grouper equal to a list of length 1. Don't supply a list with a single grouper to avoid this warning.\n",
      "  for obj in iterable:\n",
      "100%|██████████| 1676/1676 [00:00<00:00, 5023.65it/s]\n",
      "c:\\Users\\david\\anaconda3\\envs\\test_env\\lib\\site-packages\\tqdm\\std.py:1180: FutureWarning: In a future version of pandas, a length 1 tuple will be returned when iterating over a groupby with a grouper equal to a list of length 1. Don't supply a list with a single grouper to avoid this warning.\n",
      "  for obj in iterable:\n",
      "100%|██████████| 1676/1676 [00:03<00:00, 479.52it/s]\n"
     ]
    },
    {
     "name": "stdout",
     "output_type": "stream",
     "text": [
      "train_d size : (34355, 3)\n",
      "train_t size : (8274, 3)\n"
     ]
    },
    {
     "name": "stderr",
     "output_type": "stream",
     "text": [
      "c:\\Users\\david\\anaconda3\\envs\\test_env\\lib\\site-packages\\tqdm\\std.py:1180: FutureWarning: In a future version of pandas, a length 1 tuple will be returned when iterating over a groupby with a grouper equal to a list of length 1. Don't supply a list with a single grouper to avoid this warning.\n",
      "  for obj in iterable:\n",
      "100%|██████████| 6460/6460 [00:01<00:00, 3749.51it/s]\n"
     ]
    },
    {
     "name": "stdout",
     "output_type": "stream",
     "text": [
      "knn k : 35\n"
     ]
    },
    {
     "name": "stderr",
     "output_type": "stream",
     "text": [
      "c:\\Users\\david\\anaconda3\\envs\\test_env\\lib\\site-packages\\tqdm\\std.py:1180: FutureWarning: In a future version of pandas, a length 1 tuple will be returned when iterating over a groupby with a grouper equal to a list of length 1. Don't supply a list with a single grouper to avoid this warning.\n",
      "  for obj in iterable:\n",
      "100%|██████████| 1567/1567 [00:00<00:00, 9830.62it/s]\n",
      "c:\\Users\\david\\anaconda3\\envs\\test_env\\lib\\site-packages\\tqdm\\std.py:1180: FutureWarning: In a future version of pandas, a length 1 tuple will be returned when iterating over a groupby with a grouper equal to a list of length 1. Don't supply a list with a single grouper to avoid this warning.\n",
      "  for obj in iterable:\n",
      "100%|██████████| 1567/1567 [00:00<00:00, 4945.47it/s]\n",
      "c:\\Users\\david\\anaconda3\\envs\\test_env\\lib\\site-packages\\tqdm\\std.py:1180: FutureWarning: In a future version of pandas, a length 1 tuple will be returned when iterating over a groupby with a grouper equal to a list of length 1. Don't supply a list with a single grouper to avoid this warning.\n",
      "  for obj in iterable:\n",
      "100%|██████████| 1567/1567 [00:03<00:00, 483.21it/s]\n"
     ]
    },
    {
     "name": "stdout",
     "output_type": "stream",
     "text": [
      "train_d size : (34693, 3)\n",
      "train_t size : (7936, 3)\n"
     ]
    },
    {
     "name": "stderr",
     "output_type": "stream",
     "text": [
      "c:\\Users\\david\\anaconda3\\envs\\test_env\\lib\\site-packages\\tqdm\\std.py:1180: FutureWarning: In a future version of pandas, a length 1 tuple will be returned when iterating over a groupby with a grouper equal to a list of length 1. Don't supply a list with a single grouper to avoid this warning.\n",
      "  for obj in iterable:\n",
      "100%|██████████| 6487/6487 [00:01<00:00, 4731.97it/s]\n"
     ]
    },
    {
     "name": "stdout",
     "output_type": "stream",
     "text": [
      "knn k : 35\n"
     ]
    },
    {
     "name": "stderr",
     "output_type": "stream",
     "text": [
      "c:\\Users\\david\\anaconda3\\envs\\test_env\\lib\\site-packages\\tqdm\\std.py:1180: FutureWarning: In a future version of pandas, a length 1 tuple will be returned when iterating over a groupby with a grouper equal to a list of length 1. Don't supply a list with a single grouper to avoid this warning.\n",
      "  for obj in iterable:\n",
      "100%|██████████| 1540/1540 [00:00<00:00, 11324.89it/s]\n",
      "c:\\Users\\david\\anaconda3\\envs\\test_env\\lib\\site-packages\\tqdm\\std.py:1180: FutureWarning: In a future version of pandas, a length 1 tuple will be returned when iterating over a groupby with a grouper equal to a list of length 1. Don't supply a list with a single grouper to avoid this warning.\n",
      "  for obj in iterable:\n",
      "100%|██████████| 1540/1540 [00:00<00:00, 4963.11it/s]\n",
      "c:\\Users\\david\\anaconda3\\envs\\test_env\\lib\\site-packages\\tqdm\\std.py:1180: FutureWarning: In a future version of pandas, a length 1 tuple will be returned when iterating over a groupby with a grouper equal to a list of length 1. Don't supply a list with a single grouper to avoid this warning.\n",
      "  for obj in iterable:\n",
      "100%|██████████| 1540/1540 [00:03<00:00, 457.84it/s]\n"
     ]
    },
    {
     "name": "stdout",
     "output_type": "stream",
     "text": [
      "train_d size : (34139, 3)\n",
      "train_t size : (8490, 3)\n"
     ]
    },
    {
     "name": "stderr",
     "output_type": "stream",
     "text": [
      "c:\\Users\\david\\anaconda3\\envs\\test_env\\lib\\site-packages\\tqdm\\std.py:1180: FutureWarning: In a future version of pandas, a length 1 tuple will be returned when iterating over a groupby with a grouper equal to a list of length 1. Don't supply a list with a single grouper to avoid this warning.\n",
      "  for obj in iterable:\n",
      "100%|██████████| 6440/6440 [00:01<00:00, 3851.92it/s]\n"
     ]
    },
    {
     "name": "stdout",
     "output_type": "stream",
     "text": [
      "knn k : 75\n"
     ]
    },
    {
     "name": "stderr",
     "output_type": "stream",
     "text": [
      "c:\\Users\\david\\anaconda3\\envs\\test_env\\lib\\site-packages\\tqdm\\std.py:1180: FutureWarning: In a future version of pandas, a length 1 tuple will be returned when iterating over a groupby with a grouper equal to a list of length 1. Don't supply a list with a single grouper to avoid this warning.\n",
      "  for obj in iterable:\n",
      "100%|██████████| 1587/1587 [00:00<00:00, 9270.08it/s]\n",
      "c:\\Users\\david\\anaconda3\\envs\\test_env\\lib\\site-packages\\tqdm\\std.py:1180: FutureWarning: In a future version of pandas, a length 1 tuple will be returned when iterating over a groupby with a grouper equal to a list of length 1. Don't supply a list with a single grouper to avoid this warning.\n",
      "  for obj in iterable:\n",
      "100%|██████████| 1587/1587 [00:00<00:00, 4556.83it/s]\n",
      "c:\\Users\\david\\anaconda3\\envs\\test_env\\lib\\site-packages\\tqdm\\std.py:1180: FutureWarning: In a future version of pandas, a length 1 tuple will be returned when iterating over a groupby with a grouper equal to a list of length 1. Don't supply a list with a single grouper to avoid this warning.\n",
      "  for obj in iterable:\n",
      "100%|██████████| 1587/1587 [00:03<00:00, 422.05it/s]\n"
     ]
    },
    {
     "name": "stdout",
     "output_type": "stream",
     "text": [
      "train_d size : (34523, 3)\n",
      "train_t size : (8106, 3)\n"
     ]
    },
    {
     "name": "stderr",
     "output_type": "stream",
     "text": [
      "c:\\Users\\david\\anaconda3\\envs\\test_env\\lib\\site-packages\\tqdm\\std.py:1180: FutureWarning: In a future version of pandas, a length 1 tuple will be returned when iterating over a groupby with a grouper equal to a list of length 1. Don't supply a list with a single grouper to avoid this warning.\n",
      "  for obj in iterable:\n",
      "100%|██████████| 6501/6501 [00:01<00:00, 4336.57it/s]\n"
     ]
    },
    {
     "name": "stdout",
     "output_type": "stream",
     "text": [
      "knn k : 75\n"
     ]
    },
    {
     "name": "stderr",
     "output_type": "stream",
     "text": [
      "c:\\Users\\david\\anaconda3\\envs\\test_env\\lib\\site-packages\\tqdm\\std.py:1180: FutureWarning: In a future version of pandas, a length 1 tuple will be returned when iterating over a groupby with a grouper equal to a list of length 1. Don't supply a list with a single grouper to avoid this warning.\n",
      "  for obj in iterable:\n",
      "100%|██████████| 1526/1526 [00:00<00:00, 9118.43it/s]\n",
      "c:\\Users\\david\\anaconda3\\envs\\test_env\\lib\\site-packages\\tqdm\\std.py:1180: FutureWarning: In a future version of pandas, a length 1 tuple will be returned when iterating over a groupby with a grouper equal to a list of length 1. Don't supply a list with a single grouper to avoid this warning.\n",
      "  for obj in iterable:\n",
      "100%|██████████| 1526/1526 [00:00<00:00, 4466.06it/s]\n",
      "c:\\Users\\david\\anaconda3\\envs\\test_env\\lib\\site-packages\\tqdm\\std.py:1180: FutureWarning: In a future version of pandas, a length 1 tuple will be returned when iterating over a groupby with a grouper equal to a list of length 1. Don't supply a list with a single grouper to avoid this warning.\n",
      "  for obj in iterable:\n",
      "100%|██████████| 1526/1526 [00:02<00:00, 514.88it/s]\n"
     ]
    },
    {
     "name": "stdout",
     "output_type": "stream",
     "text": [
      "train_d size : (34429, 3)\n",
      "train_t size : (8200, 3)\n"
     ]
    },
    {
     "name": "stderr",
     "output_type": "stream",
     "text": [
      "c:\\Users\\david\\anaconda3\\envs\\test_env\\lib\\site-packages\\tqdm\\std.py:1180: FutureWarning: In a future version of pandas, a length 1 tuple will be returned when iterating over a groupby with a grouper equal to a list of length 1. Don't supply a list with a single grouper to avoid this warning.\n",
      "  for obj in iterable:\n",
      "100%|██████████| 6424/6424 [00:01<00:00, 5332.10it/s]\n"
     ]
    },
    {
     "name": "stdout",
     "output_type": "stream",
     "text": [
      "knn k : 75\n"
     ]
    },
    {
     "name": "stderr",
     "output_type": "stream",
     "text": [
      "c:\\Users\\david\\anaconda3\\envs\\test_env\\lib\\site-packages\\tqdm\\std.py:1180: FutureWarning: In a future version of pandas, a length 1 tuple will be returned when iterating over a groupby with a grouper equal to a list of length 1. Don't supply a list with a single grouper to avoid this warning.\n",
      "  for obj in iterable:\n",
      "100%|██████████| 1603/1603 [00:00<00:00, 12167.22it/s]\n",
      "c:\\Users\\david\\anaconda3\\envs\\test_env\\lib\\site-packages\\tqdm\\std.py:1180: FutureWarning: In a future version of pandas, a length 1 tuple will be returned when iterating over a groupby with a grouper equal to a list of length 1. Don't supply a list with a single grouper to avoid this warning.\n",
      "  for obj in iterable:\n",
      "100%|██████████| 1603/1603 [00:00<00:00, 5946.28it/s]\n",
      "c:\\Users\\david\\anaconda3\\envs\\test_env\\lib\\site-packages\\tqdm\\std.py:1180: FutureWarning: In a future version of pandas, a length 1 tuple will be returned when iterating over a groupby with a grouper equal to a list of length 1. Don't supply a list with a single grouper to avoid this warning.\n",
      "  for obj in iterable:\n",
      "100%|██████████| 1603/1603 [00:02<00:00, 592.27it/s]\n"
     ]
    },
    {
     "name": "stdout",
     "output_type": "stream",
     "text": [
      "train_d size : (33556, 3)\n",
      "train_t size : (9073, 3)\n"
     ]
    },
    {
     "name": "stderr",
     "output_type": "stream",
     "text": [
      "c:\\Users\\david\\anaconda3\\envs\\test_env\\lib\\site-packages\\tqdm\\std.py:1180: FutureWarning: In a future version of pandas, a length 1 tuple will be returned when iterating over a groupby with a grouper equal to a list of length 1. Don't supply a list with a single grouper to avoid this warning.\n",
      "  for obj in iterable:\n",
      "100%|██████████| 6370/6370 [00:01<00:00, 4653.41it/s]\n"
     ]
    },
    {
     "name": "stdout",
     "output_type": "stream",
     "text": [
      "knn k : 75\n"
     ]
    },
    {
     "name": "stderr",
     "output_type": "stream",
     "text": [
      "c:\\Users\\david\\anaconda3\\envs\\test_env\\lib\\site-packages\\tqdm\\std.py:1180: FutureWarning: In a future version of pandas, a length 1 tuple will be returned when iterating over a groupby with a grouper equal to a list of length 1. Don't supply a list with a single grouper to avoid this warning.\n",
      "  for obj in iterable:\n",
      "100%|██████████| 1657/1657 [00:00<00:00, 7009.11it/s]\n",
      "c:\\Users\\david\\anaconda3\\envs\\test_env\\lib\\site-packages\\tqdm\\std.py:1180: FutureWarning: In a future version of pandas, a length 1 tuple will be returned when iterating over a groupby with a grouper equal to a list of length 1. Don't supply a list with a single grouper to avoid this warning.\n",
      "  for obj in iterable:\n",
      "100%|██████████| 1657/1657 [00:00<00:00, 5700.04it/s]\n",
      "c:\\Users\\david\\anaconda3\\envs\\test_env\\lib\\site-packages\\tqdm\\std.py:1180: FutureWarning: In a future version of pandas, a length 1 tuple will be returned when iterating over a groupby with a grouper equal to a list of length 1. Don't supply a list with a single grouper to avoid this warning.\n",
      "  for obj in iterable:\n",
      "100%|██████████| 1657/1657 [00:03<00:00, 445.58it/s]\n"
     ]
    },
    {
     "name": "stdout",
     "output_type": "stream",
     "text": [
      "train_d size : (33869, 3)\n",
      "train_t size : (8760, 3)\n"
     ]
    },
    {
     "name": "stderr",
     "output_type": "stream",
     "text": [
      "c:\\Users\\david\\anaconda3\\envs\\test_env\\lib\\site-packages\\tqdm\\std.py:1180: FutureWarning: In a future version of pandas, a length 1 tuple will be returned when iterating over a groupby with a grouper equal to a list of length 1. Don't supply a list with a single grouper to avoid this warning.\n",
      "  for obj in iterable:\n",
      "100%|██████████| 6373/6373 [00:01<00:00, 4612.64it/s]\n"
     ]
    },
    {
     "name": "stdout",
     "output_type": "stream",
     "text": [
      "knn k : 75\n"
     ]
    },
    {
     "name": "stderr",
     "output_type": "stream",
     "text": [
      "c:\\Users\\david\\anaconda3\\envs\\test_env\\lib\\site-packages\\tqdm\\std.py:1180: FutureWarning: In a future version of pandas, a length 1 tuple will be returned when iterating over a groupby with a grouper equal to a list of length 1. Don't supply a list with a single grouper to avoid this warning.\n",
      "  for obj in iterable:\n",
      "100%|██████████| 1654/1654 [00:00<00:00, 6910.96it/s]\n",
      "c:\\Users\\david\\anaconda3\\envs\\test_env\\lib\\site-packages\\tqdm\\std.py:1180: FutureWarning: In a future version of pandas, a length 1 tuple will be returned when iterating over a groupby with a grouper equal to a list of length 1. Don't supply a list with a single grouper to avoid this warning.\n",
      "  for obj in iterable:\n",
      "100%|██████████| 1654/1654 [00:00<00:00, 5176.12it/s]\n",
      "c:\\Users\\david\\anaconda3\\envs\\test_env\\lib\\site-packages\\tqdm\\std.py:1180: FutureWarning: In a future version of pandas, a length 1 tuple will be returned when iterating over a groupby with a grouper equal to a list of length 1. Don't supply a list with a single grouper to avoid this warning.\n",
      "  for obj in iterable:\n",
      "100%|██████████| 1654/1654 [00:02<00:00, 561.98it/s]\n"
     ]
    },
    {
     "data": {
      "image/png": "[encoded data removed]",
      "text/plain": [
       "<Figure size 640x480 with 1 Axes>"
      ]
     },
     "metadata": {},
     "output_type": "display_data"
    }
   ],
   "source": [
    "k_values = [3, 11, 25, 35, 75]\n",
    "prediction_numbers = [5,10,20]\n",
    "scores = [[],[],[]]\n",
    "count_p = 0\n",
    "data_train_fine, _, _ = data_manip.train_test_split(data_train, 80000, None)\n",
    "for p_numbers in prediction_numbers:\n",
    "    \n",
    "    for k in k_values:\n",
    "\n",
    "        knn = Knn(k, max_item + 1, p_numbers)\n",
    "\n",
    "        count = 0\n",
    "        train_acc, valid_acc = 0, 0\n",
    "        for train_d, train_t in data_manip.kFold_split(data_train_fine, 5):\n",
    "            print(f\"train_d size : {train_d.shape}\")\n",
    "            print(f\"train_t size : {train_t.shape}\")\n",
    "            knn.fit(train_d)\n",
    "            print(f\"knn k : {knn._k}\")\n",
    "\n",
    "            test_set, test_target = data_manip.prepare_data_for_test(train_t)\n",
    "            y_hat = knn.predict(test_set)\n",
    "            valid_acc += mean_reciprocal_rank(y_hat, test_target)\n",
    "            # valid_acc += knn.mrr_score(test_set, test_target)\n",
    "            count += 1\n",
    "        scores[count_p].append(valid_acc/count)\n",
    "    count_p += 1\n",
    "\n",
    "fig = pyplot.figure()\n",
    "ax = fig.add_subplot(111)\n",
    "\n",
    "ax.set_title('Session - K_nn avec des nombres de prédictions différents')  # À modifier / to be modified\n",
    "ax.plot(k_values, scores[0], 'r--', label=f\"Nombre de prédictions : {prediction_numbers[0]}\") # À compléter / to be completed\n",
    "ax.plot(k_values, scores[1], 'b--', label=f\"Nombre de prédictions : {prediction_numbers[1]}\") # À compléter / to be completed\n",
    "ax.plot(k_values, scores[2], 'y--', label=f\"Nombre de prédictions : {prediction_numbers[2]}\")\n",
    "ax.set_xticks(k_values, k_values)\n",
    "ax.grid(axis='x')\n",
    "ax.set_xlabel(\"Values of K\")\n",
    "ax.set_ylabel(\"MRR \")\n",
    "pyplot.legend()\n",
    "pyplot.show()"
   ]
  },
  {
   "cell_type": "code",
   "execution_count": 3,
   "metadata": {},
   "outputs": [
    {
     "name": "stderr",
     "output_type": "stream",
     "text": [
      "  0%|          | 0/601702 [00:00<?, ?it/s]c:\\Users\\david\\anaconda3\\envs\\test_env\\lib\\site-packages\\tqdm\\std.py:1180: FutureWarning: In a future version of pandas, a length 1 tuple will be returned when iterating over a groupby with a grouper equal to a list of length 1. Don't supply a list with a single grouper to avoid this warning.\n",
      "  for obj in iterable:\n",
      "100%|██████████| 601702/601702 [02:00<00:00, 4990.41it/s]\n",
      "  0%|          | 0/200568 [00:00<?, ?it/s]c:\\Users\\david\\anaconda3\\envs\\test_env\\lib\\site-packages\\tqdm\\std.py:1180: FutureWarning: In a future version of pandas, a length 1 tuple will be returned when iterating over a groupby with a grouper equal to a list of length 1. Don't supply a list with a single grouper to avoid this warning.\n",
      "  for obj in iterable:\n",
      "100%|██████████| 200568/200568 [00:23<00:00, 8676.41it/s] \n",
      "  0%|          | 0/200568 [00:00<?, ?it/s]c:\\Users\\david\\anaconda3\\envs\\test_env\\lib\\site-packages\\tqdm\\std.py:1180: FutureWarning: In a future version of pandas, a length 1 tuple will be returned when iterating over a groupby with a grouper equal to a list of length 1. Don't supply a list with a single grouper to avoid this warning.\n",
      "  for obj in iterable:\n",
      "100%|██████████| 200568/200568 [00:37<00:00, 5299.10it/s]\n",
      "  0%|          | 0/200568 [00:00<?, ?it/s]c:\\Users\\david\\anaconda3\\envs\\test_env\\lib\\site-packages\\tqdm\\std.py:1180: FutureWarning: In a future version of pandas, a length 1 tuple will be returned when iterating over a groupby with a grouper equal to a list of length 1. Don't supply a list with a single grouper to avoid this warning.\n",
      "  for obj in iterable:\n",
      " 44%|████▍     | 88189/200568 [1:14:37<1:35:05, 19.70it/s]\n"
     ]
    },
    {
     "ename": "MemoryError",
     "evalue": "Unable to allocate 4.59 MiB for an array with shape (601702,) and data type int64",
     "output_type": "error",
     "traceback": [
      "\u001b[1;31m---------------------------------------------------------------------------\u001b[0m",
      "\u001b[1;31mMemoryError\u001b[0m                               Traceback (most recent call last)",
      "Cell \u001b[1;32mIn[3], line 5\u001b[0m\n\u001b[0;32m      2\u001b[0m knn\u001b[39m.\u001b[39mfit(data_train)\n\u001b[0;32m      4\u001b[0m test_set, test_target \u001b[39m=\u001b[39m data_manip\u001b[39m.\u001b[39mprepare_data_for_test(data_test)\n\u001b[1;32m----> 5\u001b[0m y_hat \u001b[39m=\u001b[39m knn\u001b[39m.\u001b[39;49mpredict(test_set)\n\u001b[0;32m      6\u001b[0m mrr_20 \u001b[39m=\u001b[39m mean_reciprocal_rank(y_hat, test_target)\n\u001b[0;32m      7\u001b[0m \u001b[39mprint\u001b[39m(\u001b[39mf\u001b[39m\u001b[39m\"\u001b[39m\u001b[39mMrr 20 : \u001b[39m\u001b[39m{\u001b[39;00mmrr_20\u001b[39m}\u001b[39;00m\u001b[39m\"\u001b[39m)\n",
      "File \u001b[1;32mc:\\dev\\introml\\projet\\sessionrecintroml\\model\\knn.py:115\u001b[0m, in \u001b[0;36mKnn.predict\u001b[1;34m(self, data)\u001b[0m\n\u001b[0;32m    113\u001b[0m session_groups \u001b[39m=\u001b[39m data\u001b[39m.\u001b[39mgroupby([\u001b[39m\"\u001b[39m\u001b[39mSessionId\u001b[39m\u001b[39m\"\u001b[39m])\n\u001b[0;32m    114\u001b[0m \u001b[39mfor\u001b[39;00m name, group \u001b[39min\u001b[39;00m tqdm(session_groups):\n\u001b[1;32m--> 115\u001b[0m     rec \u001b[39m=\u001b[39m \u001b[39mself\u001b[39;49m\u001b[39m.\u001b[39;49meval(group)\n\u001b[0;32m    116\u001b[0m     \u001b[39mif\u001b[39;00m \u001b[39mlen\u001b[39m(rec) \u001b[39m<\u001b[39m \u001b[39mself\u001b[39m\u001b[39m.\u001b[39m_predictions:\n\u001b[0;32m    117\u001b[0m         zero_len \u001b[39m=\u001b[39m \u001b[39mself\u001b[39m\u001b[39m.\u001b[39m_predictions \u001b[39m-\u001b[39m \u001b[39mlen\u001b[39m(rec)\n",
      "File \u001b[1;32mc:\\dev\\introml\\projet\\sessionrecintroml\\model\\knn.py:90\u001b[0m, in \u001b[0;36mKnn.eval\u001b[1;34m(self, session_item_data)\u001b[0m\n\u001b[0;32m     87\u001b[0m \u001b[39mif\u001b[39;00m \u001b[39mlen\u001b[39m(filtered_candidates) \u001b[39m==\u001b[39m \u001b[39m0\u001b[39m:\n\u001b[0;32m     88\u001b[0m     \u001b[39mreturn\u001b[39;00m np\u001b[39m.\u001b[39mzeros(\u001b[39mself\u001b[39m\u001b[39m.\u001b[39m_predictions)\n\u001b[0;32m     89\u001b[0m relative_filtered_candidates \u001b[39m=\u001b[39m np\u001b[39m.\u001b[39margwhere(\n\u001b[1;32m---> 90\u001b[0m     np\u001b[39m.\u001b[39;49misin(\u001b[39mself\u001b[39;49m\u001b[39m.\u001b[39;49m_session_ids, filtered_candidates)\n\u001b[0;32m     91\u001b[0m )\u001b[39m.\u001b[39mflatten()\n\u001b[0;32m     93\u001b[0m candidate_sessions_bool \u001b[39m=\u001b[39m \u001b[39mself\u001b[39m\u001b[39m.\u001b[39m_session_item[relative_filtered_candidates]\n\u001b[0;32m     94\u001b[0m neighbors_similarity \u001b[39m=\u001b[39m cosine_similarity(\n\u001b[0;32m     95\u001b[0m     session_item_bool, candidate_sessions_bool\n\u001b[0;32m     96\u001b[0m )[\u001b[39m0\u001b[39m]\n",
      "File \u001b[1;32m<__array_function__ internals>:5\u001b[0m, in \u001b[0;36misin\u001b[1;34m(*args, **kwargs)\u001b[0m\n",
      "File \u001b[1;32mc:\\Users\\david\\anaconda3\\envs\\test_env\\lib\\site-packages\\numpy\\lib\\arraysetops.py:735\u001b[0m, in \u001b[0;36misin\u001b[1;34m(element, test_elements, assume_unique, invert)\u001b[0m\n\u001b[0;32m    642\u001b[0m \u001b[39m\"\"\"\u001b[39;00m\n\u001b[0;32m    643\u001b[0m \u001b[39mCalculates `element in test_elements`, broadcasting over `element` only.\u001b[39;00m\n\u001b[0;32m    644\u001b[0m \u001b[39mReturns a boolean array of the same shape as `element` that is True\u001b[39;00m\n\u001b[1;32m   (...)\u001b[0m\n\u001b[0;32m    732\u001b[0m \u001b[39m       [ True, False]])\u001b[39;00m\n\u001b[0;32m    733\u001b[0m \u001b[39m\"\"\"\u001b[39;00m\n\u001b[0;32m    734\u001b[0m element \u001b[39m=\u001b[39m np\u001b[39m.\u001b[39masarray(element)\n\u001b[1;32m--> 735\u001b[0m \u001b[39mreturn\u001b[39;00m in1d(element, test_elements, assume_unique\u001b[39m=\u001b[39;49massume_unique,\n\u001b[0;32m    736\u001b[0m             invert\u001b[39m=\u001b[39;49minvert)\u001b[39m.\u001b[39mreshape(element\u001b[39m.\u001b[39mshape)\n",
      "File \u001b[1;32m<__array_function__ internals>:5\u001b[0m, in \u001b[0;36min1d\u001b[1;34m(*args, **kwargs)\u001b[0m\n",
      "File \u001b[1;32mc:\\Users\\david\\anaconda3\\envs\\test_env\\lib\\site-packages\\numpy\\lib\\arraysetops.py:613\u001b[0m, in \u001b[0;36min1d\u001b[1;34m(ar1, ar2, assume_unique, invert)\u001b[0m\n\u001b[0;32m    611\u001b[0m \u001b[39m# Otherwise use sorting\u001b[39;00m\n\u001b[0;32m    612\u001b[0m \u001b[39mif\u001b[39;00m \u001b[39mnot\u001b[39;00m assume_unique:\n\u001b[1;32m--> 613\u001b[0m     ar1, rev_idx \u001b[39m=\u001b[39m np\u001b[39m.\u001b[39;49munique(ar1, return_inverse\u001b[39m=\u001b[39;49m\u001b[39mTrue\u001b[39;49;00m)\n\u001b[0;32m    614\u001b[0m     ar2 \u001b[39m=\u001b[39m np\u001b[39m.\u001b[39munique(ar2)\n\u001b[0;32m    616\u001b[0m ar \u001b[39m=\u001b[39m np\u001b[39m.\u001b[39mconcatenate((ar1, ar2))\n",
      "File \u001b[1;32m<__array_function__ internals>:5\u001b[0m, in \u001b[0;36munique\u001b[1;34m(*args, **kwargs)\u001b[0m\n",
      "File \u001b[1;32mc:\\Users\\david\\anaconda3\\envs\\test_env\\lib\\site-packages\\numpy\\lib\\arraysetops.py:272\u001b[0m, in \u001b[0;36munique\u001b[1;34m(ar, return_index, return_inverse, return_counts, axis)\u001b[0m\n\u001b[0;32m    270\u001b[0m ar \u001b[39m=\u001b[39m np\u001b[39m.\u001b[39masanyarray(ar)\n\u001b[0;32m    271\u001b[0m \u001b[39mif\u001b[39;00m axis \u001b[39mis\u001b[39;00m \u001b[39mNone\u001b[39;00m:\n\u001b[1;32m--> 272\u001b[0m     ret \u001b[39m=\u001b[39m _unique1d(ar, return_index, return_inverse, return_counts)\n\u001b[0;32m    273\u001b[0m     \u001b[39mreturn\u001b[39;00m _unpack_tuple(ret)\n\u001b[0;32m    275\u001b[0m \u001b[39m# axis was specified and not None\u001b[39;00m\n",
      "File \u001b[1;32mc:\\Users\\david\\anaconda3\\envs\\test_env\\lib\\site-packages\\numpy\\lib\\arraysetops.py:355\u001b[0m, in \u001b[0;36m_unique1d\u001b[1;34m(ar, return_index, return_inverse, return_counts)\u001b[0m\n\u001b[0;32m    353\u001b[0m \u001b[39mif\u001b[39;00m return_inverse:\n\u001b[0;32m    354\u001b[0m     imask \u001b[39m=\u001b[39m np\u001b[39m.\u001b[39mcumsum(mask) \u001b[39m-\u001b[39m \u001b[39m1\u001b[39m\n\u001b[1;32m--> 355\u001b[0m     inv_idx \u001b[39m=\u001b[39m np\u001b[39m.\u001b[39;49mempty(mask\u001b[39m.\u001b[39;49mshape, dtype\u001b[39m=\u001b[39;49mnp\u001b[39m.\u001b[39;49mintp)\n\u001b[0;32m    356\u001b[0m     inv_idx[perm] \u001b[39m=\u001b[39m imask\n\u001b[0;32m    357\u001b[0m     ret \u001b[39m+\u001b[39m\u001b[39m=\u001b[39m (inv_idx,)\n",
      "\u001b[1;31mMemoryError\u001b[0m: Unable to allocate 4.59 MiB for an array with shape (601702,) and data type int64"
     ]
    }
   ],
   "source": [
    "knn = Knn(75, max_item + 1, 20)\n",
    "knn.fit(data_train)\n",
    "\n",
    "test_set, test_target = data_manip.prepare_data_for_test(data_test)\n",
    "y_hat = knn.predict(test_set)\n",
    "mrr_20 = mean_reciprocal_rank(y_hat, test_target)\n",
    "print(f\"Mrr 20 : {mrr_20}\")\n",
    "hit_1 = hit_rate(y_hat, test_target, 1)\n",
    "hit_3 = hit_rate(y_hat, test_target, 3)\n",
    "hit_5 = hit_rate(y_hat, test_target, 5)\n",
    "print(f\"hit_1 : {hit_1}\")\n",
    "print(f\"hit_3 : {hit_3}\")\n",
    "print(f\"hit_5 : {hit_5}\")\n"
   ]
  },
  {
   "cell_type": "code",
   "execution_count": 3,
   "metadata": {},
   "outputs": [
    {
     "name": "stdout",
     "output_type": "stream",
     "text": [
      "(3163163, 3)\n",
      "train size was modified real train session size is 10000\n"
     ]
    },
    {
     "name": "stderr",
     "output_type": "stream",
     "text": [
      "6001it [00:03, 1694.80it/s]\n"
     ]
    },
    {
     "ename": "KeyboardInterrupt",
     "evalue": "",
     "output_type": "error",
     "traceback": [
      "\u001b[1;31m---------------------------------------------------------------------------\u001b[0m",
      "\u001b[1;31mKeyboardInterrupt\u001b[0m                         Traceback (most recent call last)",
      "Cell \u001b[1;32mIn[3], line 21\u001b[0m\n\u001b[0;32m     18\u001b[0m mrr_accuracy[train_size] \u001b[39m=\u001b[39m []\n\u001b[0;32m     20\u001b[0m t0 \u001b[39m=\u001b[39m time\u001b[39m.\u001b[39mtime()\n\u001b[1;32m---> 21\u001b[0m prd\u001b[39m.\u001b[39;49mfit(train_set)\n\u001b[0;32m     22\u001b[0m time_perf_train\u001b[39m.\u001b[39mappend(time\u001b[39m.\u001b[39mtime() \u001b[39m-\u001b[39m t0)\n\u001b[0;32m     23\u001b[0m test_set, test_target \u001b[39m=\u001b[39m data_manip\u001b[39m.\u001b[39mprepare_data_for_test(test_set)\n",
      "File \u001b[1;32mc:\\dev\\introml\\projet\\sessionrecintroml\\model\\knn.py:36\u001b[0m, in \u001b[0;36mKnn.fit\u001b[1;34m(self, data)\u001b[0m\n\u001b[0;32m     31\u001b[0m relative_session_ids \u001b[39m=\u001b[39m \u001b[39mrange\u001b[39m(\u001b[39mlen\u001b[39m(unique_ids))\n\u001b[0;32m     32\u001b[0m \u001b[39mfor\u001b[39;00m session_id, relative_session_id \u001b[39min\u001b[39;00m tqdm(\n\u001b[0;32m     33\u001b[0m     \u001b[39mzip\u001b[39m(unique_ids, relative_session_ids), disable\u001b[39m=\u001b[39m\u001b[39mFalse\u001b[39;00m\n\u001b[0;32m     34\u001b[0m ):\n\u001b[1;32m---> 36\u001b[0m     items_by_session \u001b[39m=\u001b[39m (data\u001b[39m.\u001b[39mloc[data[\u001b[39m\"\u001b[39;49m\u001b[39mSessionId\u001b[39;49m\u001b[39m\"\u001b[39;49m] \u001b[39m==\u001b[39;49m session_id])[\n\u001b[0;32m     37\u001b[0m         \u001b[39m\"\u001b[39m\u001b[39mItemId\u001b[39m\u001b[39m\"\u001b[39m\n\u001b[0;32m     38\u001b[0m     ]\u001b[39m.\u001b[39mto_numpy(copy\u001b[39m=\u001b[39m\u001b[39mTrue\u001b[39;00m)\n\u001b[0;32m     39\u001b[0m     items_by_session \u001b[39m=\u001b[39m np\u001b[39m.\u001b[39mreshape(items_by_session, (\u001b[39m1\u001b[39m, \u001b[39m-\u001b[39m\u001b[39m1\u001b[39m))\n\u001b[0;32m     40\u001b[0m     \u001b[39mself\u001b[39m\u001b[39m.\u001b[39m_session_item[relative_session_id][items_by_session] \u001b[39m=\u001b[39m \u001b[39m1\u001b[39m\n",
      "File \u001b[1;32mc:\\Users\\david\\anaconda3\\envs\\test_env\\lib\\site-packages\\pandas\\core\\ops\\common.py:72\u001b[0m, in \u001b[0;36m_unpack_zerodim_and_defer.<locals>.new_method\u001b[1;34m(self, other)\u001b[0m\n\u001b[0;32m     68\u001b[0m             \u001b[39mreturn\u001b[39;00m \u001b[39mNotImplemented\u001b[39m\n\u001b[0;32m     70\u001b[0m other \u001b[39m=\u001b[39m item_from_zerodim(other)\n\u001b[1;32m---> 72\u001b[0m \u001b[39mreturn\u001b[39;00m method(\u001b[39mself\u001b[39;49m, other)\n",
      "File \u001b[1;32mc:\\Users\\david\\anaconda3\\envs\\test_env\\lib\\site-packages\\pandas\\core\\arraylike.py:42\u001b[0m, in \u001b[0;36mOpsMixin.__eq__\u001b[1;34m(self, other)\u001b[0m\n\u001b[0;32m     40\u001b[0m \u001b[39m@unpack_zerodim_and_defer\u001b[39m(\u001b[39m\"\u001b[39m\u001b[39m__eq__\u001b[39m\u001b[39m\"\u001b[39m)\n\u001b[0;32m     41\u001b[0m \u001b[39mdef\u001b[39;00m \u001b[39m__eq__\u001b[39m(\u001b[39mself\u001b[39m, other):\n\u001b[1;32m---> 42\u001b[0m     \u001b[39mreturn\u001b[39;00m \u001b[39mself\u001b[39;49m\u001b[39m.\u001b[39;49m_cmp_method(other, operator\u001b[39m.\u001b[39;49meq)\n",
      "File \u001b[1;32mc:\\Users\\david\\anaconda3\\envs\\test_env\\lib\\site-packages\\pandas\\core\\series.py:6243\u001b[0m, in \u001b[0;36mSeries._cmp_method\u001b[1;34m(self, other, op)\u001b[0m\n\u001b[0;32m   6240\u001b[0m rvalues \u001b[39m=\u001b[39m extract_array(other, extract_numpy\u001b[39m=\u001b[39m\u001b[39mTrue\u001b[39;00m, extract_range\u001b[39m=\u001b[39m\u001b[39mTrue\u001b[39;00m)\n\u001b[0;32m   6242\u001b[0m \u001b[39mwith\u001b[39;00m np\u001b[39m.\u001b[39merrstate(\u001b[39mall\u001b[39m\u001b[39m=\u001b[39m\u001b[39m\"\u001b[39m\u001b[39mignore\u001b[39m\u001b[39m\"\u001b[39m):\n\u001b[1;32m-> 6243\u001b[0m     res_values \u001b[39m=\u001b[39m ops\u001b[39m.\u001b[39;49mcomparison_op(lvalues, rvalues, op)\n\u001b[0;32m   6245\u001b[0m \u001b[39mreturn\u001b[39;00m \u001b[39mself\u001b[39m\u001b[39m.\u001b[39m_construct_result(res_values, name\u001b[39m=\u001b[39mres_name)\n",
      "File \u001b[1;32mc:\\Users\\david\\anaconda3\\envs\\test_env\\lib\\site-packages\\pandas\\core\\ops\\array_ops.py:290\u001b[0m, in \u001b[0;36mcomparison_op\u001b[1;34m(left, right, op)\u001b[0m\n\u001b[0;32m    287\u001b[0m     res_values \u001b[39m=\u001b[39m comp_method_OBJECT_ARRAY(op, lvalues, rvalues)\n\u001b[0;32m    289\u001b[0m \u001b[39melse\u001b[39;00m:\n\u001b[1;32m--> 290\u001b[0m     res_values \u001b[39m=\u001b[39m _na_arithmetic_op(lvalues, rvalues, op, is_cmp\u001b[39m=\u001b[39;49m\u001b[39mTrue\u001b[39;49;00m)\n\u001b[0;32m    292\u001b[0m \u001b[39mreturn\u001b[39;00m res_values\n",
      "File \u001b[1;32mc:\\Users\\david\\anaconda3\\envs\\test_env\\lib\\site-packages\\pandas\\core\\ops\\array_ops.py:165\u001b[0m, in \u001b[0;36m_na_arithmetic_op\u001b[1;34m(left, right, op, is_cmp)\u001b[0m\n\u001b[0;32m    162\u001b[0m     func \u001b[39m=\u001b[39m partial(expressions\u001b[39m.\u001b[39mevaluate, op)\n\u001b[0;32m    164\u001b[0m \u001b[39mtry\u001b[39;00m:\n\u001b[1;32m--> 165\u001b[0m     result \u001b[39m=\u001b[39m func(left, right)\n\u001b[0;32m    166\u001b[0m \u001b[39mexcept\u001b[39;00m \u001b[39mTypeError\u001b[39;00m:\n\u001b[0;32m    167\u001b[0m     \u001b[39mif\u001b[39;00m \u001b[39mnot\u001b[39;00m is_cmp \u001b[39mand\u001b[39;00m (is_object_dtype(left\u001b[39m.\u001b[39mdtype) \u001b[39mor\u001b[39;00m is_object_dtype(right)):\n\u001b[0;32m    168\u001b[0m         \u001b[39m# For object dtype, fallback to a masked operation (only operating\u001b[39;00m\n\u001b[0;32m    169\u001b[0m         \u001b[39m#  on the non-missing values)\u001b[39;00m\n\u001b[0;32m    170\u001b[0m         \u001b[39m# Don't do this for comparisons, as that will handle complex numbers\u001b[39;00m\n\u001b[0;32m    171\u001b[0m         \u001b[39m#  incorrectly, see GH#32047\u001b[39;00m\n",
      "File \u001b[1;32mc:\\Users\\david\\anaconda3\\envs\\test_env\\lib\\site-packages\\pandas\\core\\computation\\expressions.py:241\u001b[0m, in \u001b[0;36mevaluate\u001b[1;34m(op, a, b, use_numexpr)\u001b[0m\n\u001b[0;32m    238\u001b[0m \u001b[39mif\u001b[39;00m op_str \u001b[39mis\u001b[39;00m \u001b[39mnot\u001b[39;00m \u001b[39mNone\u001b[39;00m:\n\u001b[0;32m    239\u001b[0m     \u001b[39mif\u001b[39;00m use_numexpr:\n\u001b[0;32m    240\u001b[0m         \u001b[39m# error: \"None\" not callable\u001b[39;00m\n\u001b[1;32m--> 241\u001b[0m         \u001b[39mreturn\u001b[39;00m _evaluate(op, op_str, a, b)  \u001b[39m# type: ignore[misc]\u001b[39;00m\n\u001b[0;32m    242\u001b[0m \u001b[39mreturn\u001b[39;00m _evaluate_standard(op, op_str, a, b)\n",
      "File \u001b[1;32mc:\\Users\\david\\anaconda3\\envs\\test_env\\lib\\site-packages\\pandas\\core\\computation\\expressions.py:70\u001b[0m, in \u001b[0;36m_evaluate_standard\u001b[1;34m(op, op_str, a, b)\u001b[0m\n\u001b[0;32m     68\u001b[0m \u001b[39mif\u001b[39;00m _TEST_MODE:\n\u001b[0;32m     69\u001b[0m     _store_test_result(\u001b[39mFalse\u001b[39;00m)\n\u001b[1;32m---> 70\u001b[0m \u001b[39mreturn\u001b[39;00m op(a, b)\n",
      "\u001b[1;31mKeyboardInterrupt\u001b[0m: "
     ]
    }
   ],
   "source": [
    "predictors = [Knn(5, max_item + 1, 20)]\n",
    "# training_size = [10000, 200000, 500000, 1000000]\n",
    "training_size = [10000, 50000, 10000, 200000, 300000]\n",
    "accuracy = dict()\n",
    "mrr_accuracy = dict()\n",
    "time_perf_train = []\n",
    "time_perf_test = dict()\n",
    "k_values = [3, 5, 10, 15, 20, 30, 50, 100]\n",
    "test_size = 10000\n",
    "\n",
    "# max_item = np.max(pd.unique(data[\"ItemId\"]))\n",
    "# prd._max_item_id = max_item + 1\n",
    "\n",
    "for prd in predictors:\n",
    "    for train_size in training_size:\n",
    "        print(data_train.shape)\n",
    "        train_set, test_set ,train_size= data_manip.train_test_split(data_train,train_size, test_size)\n",
    "        mrr_accuracy[train_size] = []\n",
    "\n",
    "        t0 = time.time()\n",
    "        prd.fit(train_set)\n",
    "        time_perf_train.append(time.time() - t0)\n",
    "        test_set, test_target = data_manip.prepare_data_for_test(test_set)\n",
    "        for k in k_values:\n",
    "            prd._k = k\n",
    "            predicted = prd.predict(test_set)\n",
    "            mrr_accuracy[train_size].append(mean_reciprocal_rank(predicted, test_target))\n",
    "\n",
    "pyplot.figure()\n",
    "for size in training_size:\n",
    "    pyplot.plot(k_values, mrr_accuracy[size], label=f\"t_size={size}\")\n",
    "pyplot.xlabel(\"k\")\n",
    "pyplot.ylabel(\"Accuracy\")\n",
    "pyplot.legend()\n",
    "pyplot.show()\n",
    "\n",
    "pyplot.figure()\n",
    "pyplot.plot(training_size, time_perf_train, label=\"time of train\")\n",
    "pyplot.xlabel('train session size')\n",
    "pyplot.ylabel('time')\n",
    "pyplot.legend()\n",
    "pyplot.show()\n"
   ]
  },
  {
   "cell_type": "code",
   "execution_count": null,
   "metadata": {},
   "outputs": [],
   "source": []
  }
 ],
 "metadata": {
  "kernelspec": {
   "display_name": "test_env",
   "language": "python",
   "name": "python3"
  },
  "language_info": {
   "codemirror_mode": {
    "name": "ipython",
    "version": 3
   },
   "file_extension": ".py",
   "mimetype": "text/x-python",
   "name": "python",
   "nbconvert_exporter": "python",
   "pygments_lexer": "ipython3",
   "version": "3.9.15 | packaged by conda-forge | (main, Nov 22 2022, 08:39:05) [MSC v.1929 64 bit (AMD64)]"
  },
  "orig_nbformat": 4,
  "vscode": {
   "interpreter": {
    "hash": "d6bace2615996ce0f9dd3fcc17ac4b8074ae39e72da190be0163d9cfbb115a62"
   }
  }
 },
 "nbformat": 4,
 "nbformat_minor": 2
}
