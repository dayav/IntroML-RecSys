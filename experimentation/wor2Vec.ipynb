{
 "cells": [
  {
   "attachments": {},
   "cell_type": "markdown",
   "metadata": {},
   "source": [
    "# Word2Vec Experimentation"
   ]
  },
  {
   "cell_type": "code",
   "execution_count": 1,
   "metadata": {},
   "outputs": [],
   "source": [
    "import pandas as pd\n",
    "import numpy as np\n",
    "import umap\n",
    "import matplotlib.pyplot as plt\n",
    "from gensim.models import Word2Vec\n",
    "\n",
    "df = pd.read_csv(\"../sigir_train_full.txt\")"
   ]
  },
  {
   "cell_type": "code",
   "execution_count": 2,
   "metadata": {},
   "outputs": [],
   "source": [
    "def construct_session_sequences(df, sessionID, itemID):\n",
    "    \"\"\"\n",
    "    Fonction qui construit une liste de séquence d'items pour chacune \n",
    "    des sessions du jeu de données.\n",
    "\n",
    "    Args:\n",
    "        df: Un dataframe constitué des données déjà pré-traitées.\n",
    "        sessionID: Le ID d'une Session d'un utilisateur.\n",
    "        itemID: Le ID d'un item.\n",
    "\n",
    "    Returns:\n",
    "        Une liste contenant tous les items groupés par session. \n",
    "    \"\"\"\n",
    "    session_groups = df.groupby([sessionID])\n",
    "    session_seq = []\n",
    "    for name, group in session_groups:\n",
    "        session_seq.append(list(group[itemID].values))\n",
    "\n",
    "    return session_seq\n",
    "\n",
    "sessions = construct_session_sequences(df, 'SessionId', 'ItemId')"
   ]
  },
  {
   "cell_type": "code",
   "execution_count": 3,
   "metadata": {},
   "outputs": [
    {
     "data": {
      "image/png": "[encoded data removed]",
      "text/plain": [
       "<Figure size 640x480 with 1 Axes>"
      ]
     },
     "metadata": {},
     "output_type": "display_data"
    }
   ],
   "source": [
    "# Histogramme des sessions\n",
    "# L’histogramme suivant illustre le nombre d’items par session.\n",
    "# On retrouve 801744 sessions. \n",
    "count_list_session = []\n",
    "for s in sessions:\n",
    "    count_list_session.append(len(s))\n",
    "    \n",
    "n, bins, patches = plt.hist(count_list_session, 25, facecolor='g', alpha=0.75)\n",
    "plt.xlabel(\"Nombre d'items\")\n",
    "plt.ylabel(\"Fréquence\")\n",
    "plt.title('Items par session')\n",
    "plt.xlim(2, 60)\n",
    "plt.grid(True)\n",
    "plt.show()\n"
   ]
  },
  {
   "cell_type": "code",
   "execution_count": 4,
   "metadata": {},
   "outputs": [],
   "source": [
    "# Entraînement :\n",
    "# D’abord, on construit le fichier d’entraînement en ne préservant que les n-1 items \n",
    "# d’une séquence pour une session de n items. \n",
    "\n",
    "# Exemple: Pour la session 0, on a les items [1567, 26843, 11503].\n",
    "# Ainsi, pour cette même session, on aura dans le fichier d'entraînement les items [1567, 26843]\n",
    "train_X = []\n",
    "for s in sessions:\n",
    "    train_X.append(s[:-1])\n",
    "\n",
    "# Validation\n",
    "# Ensuite, on construit les fichiers de test et de validation comportant des séquences \n",
    "# constituées des items n-1 et n. Par la suite, on utilise l’item n-1 afin de générer \n",
    "# les prédictions du prochain item et ainsi vérifier si l’item n est inclus dans les prédictions. \n",
    "# Les données présentes dans le fichier de validation ne sont pas dans le fichier de test.\n",
    "\n",
    "# Exemple: Pour la session 0, on a les items [1567, 26843, 11503].\n",
    "# Ainsi, pour cette même session, on aura dans les fichiers de validation/test les items [26843, 11503]\n",
    "validation = []\n",
    "for s in sessions:\n",
    "    validation.append(s[-2:])\n",
    "    \n",
    "# On génère des indexs aléatoires en validation et test    \n",
    "size_vect = round(0.20 * len(sessions))\n",
    "index = np.random.choice(range(len(validation)), size_vect * 2, replace=False)    \n",
    "\n",
    "valid_X = np.array(validation)[index[:size_vect]].tolist()\n",
    "test_X = np.array(validation)[index[size_vect:]].tolist()"
   ]
  },
  {
   "cell_type": "code",
   "execution_count": 5,
   "metadata": {},
   "outputs": [],
   "source": [
    "# Dictionnaire contenant les hyperparamètres choisis pour \n",
    "# entraîner le modèle Word2vec\n",
    "hyperparameters = {\"vector_size\" : 100, \n",
    "                   \"min_count\" : 1,\n",
    "                   \"epochs\" : 5,\n",
    "                   \"workers\" : 10,\n",
    "                   \"sg\" : 1\n",
    "                  }\n",
    "\n",
    "def training_model_word2vec(data, params : dict):\n",
    "    \"\"\"\n",
    "    Fonction entraînant un modèle Word2vec.\n",
    "    On peut imaginer une session comme une phrase et les items \n",
    "    comme les mots de cette phrase. On créé le vocabulaire (ensemble du corpus) \n",
    "    à partir de toutes les données d’entraînement. Le modèle Word2vec se sert \n",
    "    de ce corpus pour apprendre les relations entre les items d’une session.\n",
    "\n",
    "    Un modèle word2vec est un modèle de réseau de neurones simple comportant \n",
    "    qu’une seule couche cachée. À partir du fichier d’entraînement, on prend en \n",
    "    entrée un mot, et essaie de prédire le contexte des mots qui l’entourent \n",
    "    comme sortie. Dans notre cas, on utilise l’architecture CBOW \n",
    "    (Continuous Bag of Words)  pour construire notre modèle.\n",
    "\n",
    "    Args:\n",
    "        data: Une liste des sessions provenant du fichier d'entraînement.\n",
    "        params: Un dictionnaire constitué des hyperparamètres utilisés.\n",
    "\n",
    "    Returns:\n",
    "        Le modèle entraîné.\n",
    "    \"\"\"\n",
    "    model = Word2Vec(**params)\n",
    "    model.build_vocab(data)\n",
    "    model.train(data, \n",
    "                total_examples = model.corpus_count, \n",
    "                epochs = model.epochs, \n",
    "                compute_loss = True)\n",
    "    \n",
    "    return model\n",
    "\n",
    "model = training_model_word2vec(train_X, params = hyperparameters)"
   ]
  },
  {
   "cell_type": "code",
   "execution_count": 6,
   "metadata": {},
   "outputs": [
    {
     "data": {
      "text/plain": [
       "[(3751, 0.008274899),\n",
       " (22368, 0.007207536),\n",
       " (13745, 0.0054373797),\n",
       " (13510, 0.004423203),\n",
       " (19297, 0.0036915613),\n",
       " (4436, 0.0035465006),\n",
       " (7856, 0.003505795),\n",
       " (28077, 0.003035126),\n",
       " (14252, 0.0029822884),\n",
       " (5089, 0.002980184)]"
      ]
     },
     "execution_count": 6,
     "metadata": {},
     "output_type": "execute_result"
    }
   ],
   "source": [
    "# Exemple de sortie du top 10 des éléments suggérés en prenant \n",
    "# l’item n-1 (1567) du fichier de validation.\n",
    "model.predict_output_word([1567], topn=10)"
   ]
  },
  {
   "cell_type": "code",
   "execution_count": 7,
   "metadata": {},
   "outputs": [],
   "source": [
    "def produce_list_top10(item):\n",
    "    \"\"\"\n",
    "    Fonction produisant une liste de top 10 de meilleurs items\n",
    "    suggérés. À partir de la méthode predict_output_word() appliquée \n",
    "    au modèle, on vient extraire les 10 meilleurs éléments. \n",
    "\n",
    "    Args:\n",
    "        item: Le n-1 item provenant du fichier de validation.\n",
    "\n",
    "    Returns:\n",
    "        Une liste constituée des 10 meilleurs items suggérés pour\n",
    "        le n-1-ème item du fichier de validation.\n",
    "    \"\"\"\n",
    "    list_top10 = []\n",
    "    for item in model.predict_output_word([item], topn=10):\n",
    "        list_top10.append(item[0])\n",
    "    return list_top10\n",
    "\n",
    "def calculing_mrr(dataset):\n",
    "    \"\"\"\n",
    "    Fonction mesurant la performance du modèle en calculant \n",
    "    le mean reciprocal rank (MRR). \n",
    "    \n",
    "    Exemple: \n",
    "    Supposons que l’on ait une session comportant les items \n",
    "    suivants : [???, 10255, 5104] \n",
    "    On aurait donc une séquence d’items dans le fichier d’entraînement \n",
    "    telle que : [???, 10255] \n",
    "    On aurait donc une séquence d’items dans le fichier de validation \n",
    "    telle que : [10255, 5104] \n",
    "\n",
    "    On détermine le top 10 des éléments suggérés en prenant l’item n-1 (10255) \n",
    "    du fichier de validation. Ensuite, on vérifie si le dernier item (5104) \n",
    "    est présent dans ce top 10.  S’il est présent, on note son rang. \n",
    "    Dans cet exemple, puisque l’élément est en deuxième position, alors \n",
    "    on lui attribut un rang de 2. On procède de la sorte pour toutes les \n",
    "    sessions du fichier de validation. \n",
    "    \n",
    "    Formule du MRR: MRR = 1/𝑄 ∑(𝑖 = 1 à 𝑄) 1/rangi \n",
    "\n",
    "    Args:\n",
    "        dataset: Une liste de sessions des fichiers de validation et de test\n",
    "\n",
    "    Returns:\n",
    "        Un float. La mesure du mean reciprocal rank (MRR).\n",
    "    \"\"\"\n",
    "    sum_rank = 0\n",
    "    for i in dataset:\n",
    "        if i[1] in produce_list_top10(i[0]):\n",
    "            sum_rank += (1 / (produce_list_top10(i[0]).index(i[1])+1)) \n",
    "    MRR = sum_rank / len(dataset)      \n",
    "    return MRR"
   ]
  },
  {
   "cell_type": "code",
   "execution_count": 8,
   "metadata": {},
   "outputs": [
    {
     "name": "stdout",
     "output_type": "stream",
     "text": [
      "0.28223196441998083\n"
     ]
    }
   ],
   "source": [
    "print(calculing_mrr(valid_X))"
   ]
  },
  {
   "cell_type": "code",
   "execution_count": null,
   "metadata": {},
   "outputs": [],
   "source": [
    "print(calculing_mrr(test_X))"
   ]
  },
  {
   "cell_type": "code",
   "execution_count": null,
   "metadata": {},
   "outputs": [],
   "source": [
    "model.init_sims(replace=True)\n",
    "X = model.wv[model.wv.key_to_index]\n",
    "cluster_embedding = umap.UMAP(n_neighbors=30, min_dist=0.0,\n",
    "                              n_components=2, random_state=42).fit_transform(X)\n",
    "\n",
    "plt.figure(figsize=(10,9))\n",
    "plt.scatter(cluster_embedding[:, 0], cluster_embedding[:, 1], s=3, cmap='Spectral')"
   ]
  }
 ],
 "metadata": {
  "kernelspec": {
   "display_name": "test_env",
   "language": "python",
   "name": "python3"
  },
  "language_info": {
   "codemirror_mode": {
    "name": "ipython",
    "version": 3
   },
   "file_extension": ".py",
   "mimetype": "text/x-python",
   "name": "python",
   "nbconvert_exporter": "python",
   "pygments_lexer": "ipython3",
   "version": "3.9.15 | packaged by conda-forge | (main, Nov 22 2022, 08:39:05) [MSC v.1929 64 bit (AMD64)]"
  },
  "orig_nbformat": 4,
  "vscode": {
   "interpreter": {
    "hash": "d6bace2615996ce0f9dd3fcc17ac4b8074ae39e72da190be0163d9cfbb115a62"
   }
  }
 },
 "nbformat": 4,
 "nbformat_minor": 2
}
